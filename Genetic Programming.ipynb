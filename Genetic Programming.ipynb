{
 "cells": [
  {
   "cell_type": "markdown",
   "metadata": {
    "slideshow": {
     "slide_type": "slide"
    }
   },
   "source": [
    "# Genetic Programming"
   ]
  },
  {
   "cell_type": "markdown",
   "metadata": {
    "slideshow": {
     "slide_type": "skip"
    }
   },
   "source": [
    "This chapter introduces some very basic concepts about Genetic Programming. As usual, we will require a couple of imports:"
   ]
  },
  {
   "cell_type": "code",
   "execution_count": 1,
   "metadata": {
    "slideshow": {
     "slide_type": "skip"
    }
   },
   "outputs": [],
   "source": [
    "import random\n",
    "import sys\n",
    "import re\n",
    "import matplotlib.pyplot as plt\n",
    "from statistics import mean\n",
    "\n",
    "# For presenting as slides\n",
    "#plt.rcParams['figure.figsize'] = [12, 8]\n",
    "#plt.rcParams.update({'font.size': 22})\n",
    "#plt.rcParams['lines.linewidth'] = 3"
   ]
  },
  {
   "cell_type": "markdown",
   "metadata": {
    "slideshow": {
     "slide_type": "skip"
    }
   },
   "source": [
    "## Classic Genetic Programming"
   ]
  },
  {
   "cell_type": "markdown",
   "metadata": {
    "slideshow": {
     "slide_type": "skip"
    }
   },
   "source": [
    "The main difference between regular Genetic Algorithms and Genetic Programming lies in the representation: GAs tend to operate on the genotype, while GPs operate on the phenotype (programs); for this, the programs are traditionally represented as trees. Furthermore, GPs have a more open-ended nature in that the number of elements used in a solution as well as their interconnections must be open to evolution."
   ]
  },
  {
   "cell_type": "markdown",
   "metadata": {
    "slideshow": {
     "slide_type": "skip"
    }
   },
   "source": [
    "In a tree representation, programs are typically generated using two sets: A set of terminals (items of arity 0) and functions (items of arity > 0). The input to a function must be the result of any other function that can be defined, which leads to the important property of _type closure_: Each function must be able to handle all values it might ever receive as input, all terminals must be allowable inputs for all functions, and the output from any function must be a permitted input to any other function. "
   ]
  },
  {
   "cell_type": "markdown",
   "metadata": {
    "slideshow": {
     "slide_type": "skip"
    }
   },
   "source": [
    "The first step to evolving a suitable program for a given problem is thus to define the sets of functions and terminals:"
   ]
  },
  {
   "cell_type": "code",
   "execution_count": 2,
   "metadata": {
    "slideshow": {
     "slide_type": "slide"
    }
   },
   "outputs": [],
   "source": [
    "def add(x, y): return x + y\n",
    "def sub(x, y): return x - y\n",
    "def mul(x, y): return x * y\n",
    "def div(x, y): return 1 if not y else x/y"
   ]
  },
  {
   "cell_type": "code",
   "execution_count": 3,
   "metadata": {
    "slideshow": {
     "slide_type": "fragment"
    }
   },
   "outputs": [],
   "source": [
    "FUNCTIONS = [add, sub, mul, div]\n",
    "TERMINALS = ['A', 'B', 'C', 'D']"
   ]
  },
  {
   "cell_type": "markdown",
   "metadata": {
    "slideshow": {
     "slide_type": "slide"
    }
   },
   "source": [
    "### Initialisation"
   ]
  },
  {
   "cell_type": "markdown",
   "metadata": {
    "slideshow": {
     "slide_type": "skip"
    }
   },
   "source": [
    "Our usual approach to define the presentation is by introducing code that creates random instances. Let's do the same here, except that this time we need to use a tree representation. For this, we define a suitable datastructure:"
   ]
  },
  {
   "cell_type": "code",
   "execution_count": 4,
   "metadata": {
    "slideshow": {
     "slide_type": "fragment"
    }
   },
   "outputs": [],
   "source": [
    "class Node:\n",
    "    \n",
    "    def __init__(self, data=None, left=None, right=None):\n",
    "        self.data = data\n",
    "        self.left = left\n",
    "        self.right = right\n",
    "\n",
    "    def __str__(self):\n",
    "        if self.data in FUNCTIONS:\n",
    "            return self.data.__name__\n",
    "        else:\n",
    "            return str(self.data)\n",
    "        \n",
    "    def to_dot(self, dot):\n",
    "        dot.node(str(id(self)), str(self))\n",
    "        \n",
    "        if self.left:\n",
    "            left_dot = self.left.to_dot(dot)\n",
    "            dot.edge(str(id(self)), str(id(self.left)))\n",
    "\n",
    "        if self.right:\n",
    "            right_dot = self.right.to_dot(dot)\n",
    "            dot.edge(str(id(self)), str(id(self.right)))\n",
    "\n",
    "        return dot      "
   ]
  },
  {
   "cell_type": "markdown",
   "metadata": {
    "slideshow": {
     "slide_type": "skip"
    }
   },
   "source": [
    "The `to_dot` function is a helper function we will use in order to represent trees visually using GraphViz (which will need to be installed on your machine if you want to run this Jupyter notebook)."
   ]
  },
  {
   "cell_type": "code",
   "execution_count": 5,
   "metadata": {
    "slideshow": {
     "slide_type": "subslide"
    }
   },
   "outputs": [],
   "source": [
    "from graphviz import Digraph"
   ]
  },
  {
   "cell_type": "code",
   "execution_count": 6,
   "metadata": {
    "slideshow": {
     "slide_type": "fragment"
    }
   },
   "outputs": [],
   "source": [
    "def print_tree(tree):\n",
    "    dot = Digraph()\n",
    "    tree.to_dot(dot)\n",
    "    return dot"
   ]
  },
  {
   "cell_type": "markdown",
   "metadata": {
    "slideshow": {
     "slide_type": "slide"
    }
   },
   "source": [
    "#### Full Initialisation"
   ]
  },
  {
   "cell_type": "markdown",
   "metadata": {
    "slideshow": {
     "slide_type": "skip"
    }
   },
   "source": [
    "A basic approach to creating random trees is to grow full trees. We decide on a maximum depth for our tree, and then add non-terminal nodes until the depth limit is reached. Once we have reached it, we only add terminals as leaves. "
   ]
  },
  {
   "cell_type": "code",
   "execution_count": 7,
   "metadata": {
    "slideshow": {
     "slide_type": "fragment"
    }
   },
   "outputs": [],
   "source": [
    "MAX_DEPTH = 3"
   ]
  },
  {
   "cell_type": "code",
   "execution_count": 8,
   "metadata": {
    "slideshow": {
     "slide_type": "fragment"
    }
   },
   "outputs": [],
   "source": [
    "def get_random_terminal():\n",
    "    return random.choice(TERMINALS)"
   ]
  },
  {
   "cell_type": "code",
   "execution_count": 9,
   "metadata": {
    "slideshow": {
     "slide_type": "fragment"
    }
   },
   "outputs": [],
   "source": [
    "def get_random_function():\n",
    "    return random.choice(FUNCTIONS)"
   ]
  },
  {
   "cell_type": "code",
   "execution_count": 10,
   "metadata": {
    "slideshow": {
     "slide_type": "fragment"
    }
   },
   "outputs": [],
   "source": [
    "def fill_random_tree(depth=0):\n",
    "    tree = Node()\n",
    "    if depth < MAX_DEPTH:\n",
    "        tree.data = get_random_function()\n",
    "        tree.left  = fill_random_tree(depth + 1)\n",
    "        tree.right = fill_random_tree(depth + 1)\n",
    "    else:\n",
    "        tree.data = get_random_terminal()\n",
    "    return tree"
   ]
  },
  {
   "cell_type": "code",
   "execution_count": 11,
   "metadata": {
    "slideshow": {
     "slide_type": "slide"
    }
   },
   "outputs": [
    {
     "data": {
      "image/svg+xml": [
       "<?xml version=\"1.0\" encoding=\"UTF-8\" standalone=\"no\"?>\n",
       "<!DOCTYPE svg PUBLIC \"-//W3C//DTD SVG 1.1//EN\"\n",
       " \"http://www.w3.org/Graphics/SVG/1.1/DTD/svg11.dtd\">\n",
       "<!-- Generated by graphviz version 7.0.6 (20230106.0513)\n",
       " -->\n",
       "<!-- Pages: 1 -->\n",
       "<svg width=\"566pt\" height=\"260pt\"\n",
       " viewBox=\"0.00 0.00 566.00 260.00\" xmlns=\"http://www.w3.org/2000/svg\" xmlns:xlink=\"http://www.w3.org/1999/xlink\">\n",
       "<g id=\"graph0\" class=\"graph\" transform=\"scale(1 1) rotate(0) translate(4 256)\">\n",
       "<polygon fill=\"white\" stroke=\"none\" points=\"-4,4 -4,-256 562,-256 562,4 -4,4\"/>\n",
       "<!-- 4883831520 -->\n",
       "<g id=\"node1\" class=\"node\">\n",
       "<title>4883831520</title>\n",
       "<ellipse fill=\"none\" stroke=\"black\" cx=\"279\" cy=\"-234\" rx=\"27\" ry=\"18\"/>\n",
       "<text text-anchor=\"middle\" x=\"279\" y=\"-230.3\" font-family=\"Times,serif\" font-size=\"14.00\">add</text>\n",
       "</g>\n",
       "<!-- 4883833440 -->\n",
       "<g id=\"node2\" class=\"node\">\n",
       "<title>4883833440</title>\n",
       "<ellipse fill=\"none\" stroke=\"black\" cx=\"207\" cy=\"-162\" rx=\"27\" ry=\"18\"/>\n",
       "<text text-anchor=\"middle\" x=\"207\" y=\"-158.3\" font-family=\"Times,serif\" font-size=\"14.00\">div</text>\n",
       "</g>\n",
       "<!-- 4883831520&#45;&gt;4883833440 -->\n",
       "<g id=\"edge7\" class=\"edge\">\n",
       "<title>4883831520&#45;&gt;4883833440</title>\n",
       "<path fill=\"none\" stroke=\"black\" d=\"M264.08,-218.5C254.23,-208.92 241.14,-196.19 229.97,-185.34\"/>\n",
       "<polygon fill=\"black\" stroke=\"black\" points=\"232.59,-183 222.98,-178.54 227.71,-188.02 232.59,-183\"/>\n",
       "</g>\n",
       "<!-- 4883836128 -->\n",
       "<g id=\"node9\" class=\"node\">\n",
       "<title>4883836128</title>\n",
       "<ellipse fill=\"none\" stroke=\"black\" cx=\"351\" cy=\"-162\" rx=\"27\" ry=\"18\"/>\n",
       "<text text-anchor=\"middle\" x=\"351\" y=\"-158.3\" font-family=\"Times,serif\" font-size=\"14.00\">mul</text>\n",
       "</g>\n",
       "<!-- 4883831520&#45;&gt;4883836128 -->\n",
       "<g id=\"edge14\" class=\"edge\">\n",
       "<title>4883831520&#45;&gt;4883836128</title>\n",
       "<path fill=\"none\" stroke=\"black\" d=\"M293.92,-218.5C303.77,-208.92 316.86,-196.19 328.03,-185.34\"/>\n",
       "<polygon fill=\"black\" stroke=\"black\" points=\"330.29,-188.02 335.02,-178.54 325.41,-183 330.29,-188.02\"/>\n",
       "</g>\n",
       "<!-- 4883836272 -->\n",
       "<g id=\"node3\" class=\"node\">\n",
       "<title>4883836272</title>\n",
       "<ellipse fill=\"none\" stroke=\"black\" cx=\"99\" cy=\"-90\" rx=\"27\" ry=\"18\"/>\n",
       "<text text-anchor=\"middle\" x=\"99\" y=\"-86.3\" font-family=\"Times,serif\" font-size=\"14.00\">sub</text>\n",
       "</g>\n",
       "<!-- 4883833440&#45;&gt;4883836272 -->\n",
       "<g id=\"edge3\" class=\"edge\">\n",
       "<title>4883833440&#45;&gt;4883836272</title>\n",
       "<path fill=\"none\" stroke=\"black\" d=\"M188.19,-148.81C171.41,-137.93 146.61,-121.86 127.41,-109.42\"/>\n",
       "<polygon fill=\"black\" stroke=\"black\" points=\"129.52,-106.61 119.23,-104.11 125.72,-112.49 129.52,-106.61\"/>\n",
       "</g>\n",
       "<!-- 4883836080 -->\n",
       "<g id=\"node6\" class=\"node\">\n",
       "<title>4883836080</title>\n",
       "<ellipse fill=\"none\" stroke=\"black\" cx=\"207\" cy=\"-90\" rx=\"27\" ry=\"18\"/>\n",
       "<text text-anchor=\"middle\" x=\"207\" y=\"-86.3\" font-family=\"Times,serif\" font-size=\"14.00\">mul</text>\n",
       "</g>\n",
       "<!-- 4883833440&#45;&gt;4883836080 -->\n",
       "<g id=\"edge6\" class=\"edge\">\n",
       "<title>4883833440&#45;&gt;4883836080</title>\n",
       "<path fill=\"none\" stroke=\"black\" d=\"M207,-143.7C207,-136.41 207,-127.73 207,-119.54\"/>\n",
       "<polygon fill=\"black\" stroke=\"black\" points=\"210.5,-119.62 207,-109.62 203.5,-119.62 210.5,-119.62\"/>\n",
       "</g>\n",
       "<!-- 4883836416 -->\n",
       "<g id=\"node4\" class=\"node\">\n",
       "<title>4883836416</title>\n",
       "<ellipse fill=\"none\" stroke=\"black\" cx=\"27\" cy=\"-18\" rx=\"27\" ry=\"18\"/>\n",
       "<text text-anchor=\"middle\" x=\"27\" y=\"-14.3\" font-family=\"Times,serif\" font-size=\"14.00\">A</text>\n",
       "</g>\n",
       "<!-- 4883836272&#45;&gt;4883836416 -->\n",
       "<g id=\"edge1\" class=\"edge\">\n",
       "<title>4883836272&#45;&gt;4883836416</title>\n",
       "<path fill=\"none\" stroke=\"black\" d=\"M84.08,-74.5C74.23,-64.92 61.14,-52.19 49.97,-41.34\"/>\n",
       "<polygon fill=\"black\" stroke=\"black\" points=\"52.59,-39 42.98,-34.54 47.71,-44.02 52.59,-39\"/>\n",
       "</g>\n",
       "<!-- 4883836512 -->\n",
       "<g id=\"node5\" class=\"node\">\n",
       "<title>4883836512</title>\n",
       "<ellipse fill=\"none\" stroke=\"black\" cx=\"99\" cy=\"-18\" rx=\"27\" ry=\"18\"/>\n",
       "<text text-anchor=\"middle\" x=\"99\" y=\"-14.3\" font-family=\"Times,serif\" font-size=\"14.00\">B</text>\n",
       "</g>\n",
       "<!-- 4883836272&#45;&gt;4883836512 -->\n",
       "<g id=\"edge2\" class=\"edge\">\n",
       "<title>4883836272&#45;&gt;4883836512</title>\n",
       "<path fill=\"none\" stroke=\"black\" d=\"M99,-71.7C99,-64.41 99,-55.73 99,-47.54\"/>\n",
       "<polygon fill=\"black\" stroke=\"black\" points=\"102.5,-47.62 99,-37.62 95.5,-47.62 102.5,-47.62\"/>\n",
       "</g>\n",
       "<!-- 4883835888 -->\n",
       "<g id=\"node7\" class=\"node\">\n",
       "<title>4883835888</title>\n",
       "<ellipse fill=\"none\" stroke=\"black\" cx=\"171\" cy=\"-18\" rx=\"27\" ry=\"18\"/>\n",
       "<text text-anchor=\"middle\" x=\"171\" y=\"-14.3\" font-family=\"Times,serif\" font-size=\"14.00\">D</text>\n",
       "</g>\n",
       "<!-- 4883836080&#45;&gt;4883835888 -->\n",
       "<g id=\"edge4\" class=\"edge\">\n",
       "<title>4883836080&#45;&gt;4883835888</title>\n",
       "<path fill=\"none\" stroke=\"black\" d=\"M198.65,-72.76C194.42,-64.55 189.19,-54.37 184.42,-45.09\"/>\n",
       "<polygon fill=\"black\" stroke=\"black\" points=\"187.68,-43.79 180,-36.49 181.46,-46.99 187.68,-43.79\"/>\n",
       "</g>\n",
       "<!-- 4883836032 -->\n",
       "<g id=\"node8\" class=\"node\">\n",
       "<title>4883836032</title>\n",
       "<ellipse fill=\"none\" stroke=\"black\" cx=\"243\" cy=\"-18\" rx=\"27\" ry=\"18\"/>\n",
       "<text text-anchor=\"middle\" x=\"243\" y=\"-14.3\" font-family=\"Times,serif\" font-size=\"14.00\">D</text>\n",
       "</g>\n",
       "<!-- 4883836080&#45;&gt;4883836032 -->\n",
       "<g id=\"edge5\" class=\"edge\">\n",
       "<title>4883836080&#45;&gt;4883836032</title>\n",
       "<path fill=\"none\" stroke=\"black\" d=\"M215.35,-72.76C219.58,-64.55 224.81,-54.37 229.58,-45.09\"/>\n",
       "<polygon fill=\"black\" stroke=\"black\" points=\"232.54,-46.99 234,-36.49 226.32,-43.79 232.54,-46.99\"/>\n",
       "</g>\n",
       "<!-- 4883833392 -->\n",
       "<g id=\"node10\" class=\"node\">\n",
       "<title>4883833392</title>\n",
       "<ellipse fill=\"none\" stroke=\"black\" cx=\"351\" cy=\"-90\" rx=\"27\" ry=\"18\"/>\n",
       "<text text-anchor=\"middle\" x=\"351\" y=\"-86.3\" font-family=\"Times,serif\" font-size=\"14.00\">sub</text>\n",
       "</g>\n",
       "<!-- 4883836128&#45;&gt;4883833392 -->\n",
       "<g id=\"edge10\" class=\"edge\">\n",
       "<title>4883836128&#45;&gt;4883833392</title>\n",
       "<path fill=\"none\" stroke=\"black\" d=\"M351,-143.7C351,-136.41 351,-127.73 351,-119.54\"/>\n",
       "<polygon fill=\"black\" stroke=\"black\" points=\"354.5,-119.62 351,-109.62 347.5,-119.62 354.5,-119.62\"/>\n",
       "</g>\n",
       "<!-- 4883831568 -->\n",
       "<g id=\"node13\" class=\"node\">\n",
       "<title>4883831568</title>\n",
       "<ellipse fill=\"none\" stroke=\"black\" cx=\"459\" cy=\"-90\" rx=\"27\" ry=\"18\"/>\n",
       "<text text-anchor=\"middle\" x=\"459\" y=\"-86.3\" font-family=\"Times,serif\" font-size=\"14.00\">add</text>\n",
       "</g>\n",
       "<!-- 4883836128&#45;&gt;4883831568 -->\n",
       "<g id=\"edge13\" class=\"edge\">\n",
       "<title>4883836128&#45;&gt;4883831568</title>\n",
       "<path fill=\"none\" stroke=\"black\" d=\"M369.81,-148.81C386.59,-137.93 411.39,-121.86 430.59,-109.42\"/>\n",
       "<polygon fill=\"black\" stroke=\"black\" points=\"432.28,-112.49 438.77,-104.11 428.48,-106.61 432.28,-112.49\"/>\n",
       "</g>\n",
       "<!-- 4883835312 -->\n",
       "<g id=\"node11\" class=\"node\">\n",
       "<title>4883835312</title>\n",
       "<ellipse fill=\"none\" stroke=\"black\" cx=\"315\" cy=\"-18\" rx=\"27\" ry=\"18\"/>\n",
       "<text text-anchor=\"middle\" x=\"315\" y=\"-14.3\" font-family=\"Times,serif\" font-size=\"14.00\">D</text>\n",
       "</g>\n",
       "<!-- 4883833392&#45;&gt;4883835312 -->\n",
       "<g id=\"edge8\" class=\"edge\">\n",
       "<title>4883833392&#45;&gt;4883835312</title>\n",
       "<path fill=\"none\" stroke=\"black\" d=\"M342.65,-72.76C338.42,-64.55 333.19,-54.37 328.42,-45.09\"/>\n",
       "<polygon fill=\"black\" stroke=\"black\" points=\"331.68,-43.79 324,-36.49 325.46,-46.99 331.68,-43.79\"/>\n",
       "</g>\n",
       "<!-- 4883835264 -->\n",
       "<g id=\"node12\" class=\"node\">\n",
       "<title>4883835264</title>\n",
       "<ellipse fill=\"none\" stroke=\"black\" cx=\"387\" cy=\"-18\" rx=\"27\" ry=\"18\"/>\n",
       "<text text-anchor=\"middle\" x=\"387\" y=\"-14.3\" font-family=\"Times,serif\" font-size=\"14.00\">B</text>\n",
       "</g>\n",
       "<!-- 4883833392&#45;&gt;4883835264 -->\n",
       "<g id=\"edge9\" class=\"edge\">\n",
       "<title>4883833392&#45;&gt;4883835264</title>\n",
       "<path fill=\"none\" stroke=\"black\" d=\"M359.35,-72.76C363.58,-64.55 368.81,-54.37 373.58,-45.09\"/>\n",
       "<polygon fill=\"black\" stroke=\"black\" points=\"376.54,-46.99 378,-36.49 370.32,-43.79 376.54,-46.99\"/>\n",
       "</g>\n",
       "<!-- 4883830800 -->\n",
       "<g id=\"node14\" class=\"node\">\n",
       "<title>4883830800</title>\n",
       "<ellipse fill=\"none\" stroke=\"black\" cx=\"459\" cy=\"-18\" rx=\"27\" ry=\"18\"/>\n",
       "<text text-anchor=\"middle\" x=\"459\" y=\"-14.3\" font-family=\"Times,serif\" font-size=\"14.00\">A</text>\n",
       "</g>\n",
       "<!-- 4883831568&#45;&gt;4883830800 -->\n",
       "<g id=\"edge11\" class=\"edge\">\n",
       "<title>4883831568&#45;&gt;4883830800</title>\n",
       "<path fill=\"none\" stroke=\"black\" d=\"M459,-71.7C459,-64.41 459,-55.73 459,-47.54\"/>\n",
       "<polygon fill=\"black\" stroke=\"black\" points=\"462.5,-47.62 459,-37.62 455.5,-47.62 462.5,-47.62\"/>\n",
       "</g>\n",
       "<!-- 4883830224 -->\n",
       "<g id=\"node15\" class=\"node\">\n",
       "<title>4883830224</title>\n",
       "<ellipse fill=\"none\" stroke=\"black\" cx=\"531\" cy=\"-18\" rx=\"27\" ry=\"18\"/>\n",
       "<text text-anchor=\"middle\" x=\"531\" y=\"-14.3\" font-family=\"Times,serif\" font-size=\"14.00\">D</text>\n",
       "</g>\n",
       "<!-- 4883831568&#45;&gt;4883830224 -->\n",
       "<g id=\"edge12\" class=\"edge\">\n",
       "<title>4883831568&#45;&gt;4883830224</title>\n",
       "<path fill=\"none\" stroke=\"black\" d=\"M473.92,-74.5C483.77,-64.92 496.86,-52.19 508.03,-41.34\"/>\n",
       "<polygon fill=\"black\" stroke=\"black\" points=\"510.29,-44.02 515.02,-34.54 505.41,-39 510.29,-44.02\"/>\n",
       "</g>\n",
       "</g>\n",
       "</svg>\n"
      ],
      "text/plain": [
       "<graphviz.graphs.Digraph at 0x123196aa0>"
      ]
     },
     "execution_count": 11,
     "metadata": {},
     "output_type": "execute_result"
    }
   ],
   "source": [
    "root = fill_random_tree()\n",
    "print_tree(root)"
   ]
  },
  {
   "cell_type": "markdown",
   "metadata": {
    "slideshow": {
     "slide_type": "slide"
    }
   },
   "source": [
    "#### Grow Initialisation\n"
   ]
  },
  {
   "cell_type": "markdown",
   "metadata": {
    "slideshow": {
     "slide_type": "skip"
    }
   },
   "source": [
    "An alternative approach to filling entire trees up to their maximum depth is to grow trees of various sizes. For this we add random nodes while we haven't reached the depth limit. The resulting trees will be less bushy, but the ratio between terminals and non-terminals will bias the average size. "
   ]
  },
  {
   "cell_type": "code",
   "execution_count": 12,
   "metadata": {
    "slideshow": {
     "slide_type": "fragment"
    }
   },
   "outputs": [],
   "source": [
    "def grow_random_tree(depth=0):\n",
    "    tree = Node()\n",
    "    if depth >= MAX_DEPTH or random.random() > 0.5:\n",
    "        tree.data = get_random_terminal()\n",
    "    else:\n",
    "        tree.data = get_random_function()\n",
    "        tree.left  = grow_random_tree(depth + 1)\n",
    "        tree.right = grow_random_tree(depth + 1)\n",
    "    return tree"
   ]
  },
  {
   "cell_type": "code",
   "execution_count": 13,
   "metadata": {
    "scrolled": false,
    "slideshow": {
     "slide_type": "fragment"
    }
   },
   "outputs": [
    {
     "data": {
      "image/svg+xml": [
       "<?xml version=\"1.0\" encoding=\"UTF-8\" standalone=\"no\"?>\n",
       "<!DOCTYPE svg PUBLIC \"-//W3C//DTD SVG 1.1//EN\"\n",
       " \"http://www.w3.org/Graphics/SVG/1.1/DTD/svg11.dtd\">\n",
       "<!-- Generated by graphviz version 7.0.6 (20230106.0513)\n",
       " -->\n",
       "<!-- Pages: 1 -->\n",
       "<svg width=\"62pt\" height=\"44pt\"\n",
       " viewBox=\"0.00 0.00 62.00 44.00\" xmlns=\"http://www.w3.org/2000/svg\" xmlns:xlink=\"http://www.w3.org/1999/xlink\">\n",
       "<g id=\"graph0\" class=\"graph\" transform=\"scale(1 1) rotate(0) translate(4 40)\">\n",
       "<polygon fill=\"white\" stroke=\"none\" points=\"-4,4 -4,-40 58,-40 58,4 -4,4\"/>\n",
       "<!-- 4883838864 -->\n",
       "<g id=\"node1\" class=\"node\">\n",
       "<title>4883838864</title>\n",
       "<ellipse fill=\"none\" stroke=\"black\" cx=\"27\" cy=\"-18\" rx=\"27\" ry=\"18\"/>\n",
       "<text text-anchor=\"middle\" x=\"27\" y=\"-14.3\" font-family=\"Times,serif\" font-size=\"14.00\">D</text>\n",
       "</g>\n",
       "</g>\n",
       "</svg>\n"
      ],
      "text/plain": [
       "<graphviz.graphs.Digraph at 0x123196620>"
      ]
     },
     "execution_count": 13,
     "metadata": {},
     "output_type": "execute_result"
    }
   ],
   "source": [
    "root = grow_random_tree()\n",
    "print_tree(root)"
   ]
  },
  {
   "cell_type": "markdown",
   "metadata": {
    "slideshow": {
     "slide_type": "skip"
    }
   },
   "source": [
    "If the ratio of terminals to functions is high, then we might end up with many trees of size 1. To avoid this, we can define a minimum depth for the trees we want to generate, and only consider terminals once the minimum size has been reached:"
   ]
  },
  {
   "cell_type": "code",
   "execution_count": 14,
   "metadata": {
    "slideshow": {
     "slide_type": "slide"
    }
   },
   "outputs": [],
   "source": [
    "MIN_DEPTH = 2"
   ]
  },
  {
   "cell_type": "code",
   "execution_count": 15,
   "metadata": {
    "slideshow": {
     "slide_type": "fragment"
    }
   },
   "outputs": [],
   "source": [
    "def grow_random_tree(depth=0):\n",
    "    tree = Node()\n",
    "    if depth < MIN_DEPTH:\n",
    "        tree.data = get_random_function()\n",
    "    elif depth >= MAX_DEPTH:\n",
    "        tree.data = get_random_terminal()\n",
    "    else:\n",
    "        if random.random() > 0.5:\n",
    "            tree.data = get_random_terminal()\n",
    "        else:\n",
    "            tree.data = get_random_function()\n",
    "                \n",
    "    if tree.data in FUNCTIONS:\n",
    "        tree.left  = grow_random_tree(depth + 1)\n",
    "        tree.right = grow_random_tree(depth + 1)\n",
    "        \n",
    "    return tree"
   ]
  },
  {
   "cell_type": "code",
   "execution_count": 16,
   "metadata": {
    "slideshow": {
     "slide_type": "slide"
    }
   },
   "outputs": [
    {
     "data": {
      "image/svg+xml": [
       "<?xml version=\"1.0\" encoding=\"UTF-8\" standalone=\"no\"?>\n",
       "<!DOCTYPE svg PUBLIC \"-//W3C//DTD SVG 1.1//EN\"\n",
       " \"http://www.w3.org/Graphics/SVG/1.1/DTD/svg11.dtd\">\n",
       "<!-- Generated by graphviz version 7.0.6 (20230106.0513)\n",
       " -->\n",
       "<!-- Pages: 1 -->\n",
       "<svg width=\"314pt\" height=\"260pt\"\n",
       " viewBox=\"0.00 0.00 314.00 260.00\" xmlns=\"http://www.w3.org/2000/svg\" xmlns:xlink=\"http://www.w3.org/1999/xlink\">\n",
       "<g id=\"graph0\" class=\"graph\" transform=\"scale(1 1) rotate(0) translate(4 256)\">\n",
       "<polygon fill=\"white\" stroke=\"none\" points=\"-4,4 -4,-256 310,-256 310,4 -4,4\"/>\n",
       "<!-- 4883831280 -->\n",
       "<g id=\"node1\" class=\"node\">\n",
       "<title>4883831280</title>\n",
       "<ellipse fill=\"none\" stroke=\"black\" cx=\"171\" cy=\"-234\" rx=\"27\" ry=\"18\"/>\n",
       "<text text-anchor=\"middle\" x=\"171\" y=\"-230.3\" font-family=\"Times,serif\" font-size=\"14.00\">div</text>\n",
       "</g>\n",
       "<!-- 4883837760 -->\n",
       "<g id=\"node2\" class=\"node\">\n",
       "<title>4883837760</title>\n",
       "<ellipse fill=\"none\" stroke=\"black\" cx=\"135\" cy=\"-162\" rx=\"27\" ry=\"18\"/>\n",
       "<text text-anchor=\"middle\" x=\"135\" y=\"-158.3\" font-family=\"Times,serif\" font-size=\"14.00\">div</text>\n",
       "</g>\n",
       "<!-- 4883831280&#45;&gt;4883837760 -->\n",
       "<g id=\"edge5\" class=\"edge\">\n",
       "<title>4883831280&#45;&gt;4883837760</title>\n",
       "<path fill=\"none\" stroke=\"black\" d=\"M162.65,-216.76C158.42,-208.55 153.19,-198.37 148.42,-189.09\"/>\n",
       "<polygon fill=\"black\" stroke=\"black\" points=\"151.68,-187.79 144,-180.49 145.46,-190.99 151.68,-187.79\"/>\n",
       "</g>\n",
       "<!-- 4883832816 -->\n",
       "<g id=\"node7\" class=\"node\">\n",
       "<title>4883832816</title>\n",
       "<ellipse fill=\"none\" stroke=\"black\" cx=\"207\" cy=\"-162\" rx=\"27\" ry=\"18\"/>\n",
       "<text text-anchor=\"middle\" x=\"207\" y=\"-158.3\" font-family=\"Times,serif\" font-size=\"14.00\">add</text>\n",
       "</g>\n",
       "<!-- 4883831280&#45;&gt;4883832816 -->\n",
       "<g id=\"edge10\" class=\"edge\">\n",
       "<title>4883831280&#45;&gt;4883832816</title>\n",
       "<path fill=\"none\" stroke=\"black\" d=\"M179.35,-216.76C183.58,-208.55 188.81,-198.37 193.58,-189.09\"/>\n",
       "<polygon fill=\"black\" stroke=\"black\" points=\"196.54,-190.99 198,-180.49 190.32,-187.79 196.54,-190.99\"/>\n",
       "</g>\n",
       "<!-- 4883832288 -->\n",
       "<g id=\"node3\" class=\"node\">\n",
       "<title>4883832288</title>\n",
       "<ellipse fill=\"none\" stroke=\"black\" cx=\"63\" cy=\"-90\" rx=\"27\" ry=\"18\"/>\n",
       "<text text-anchor=\"middle\" x=\"63\" y=\"-86.3\" font-family=\"Times,serif\" font-size=\"14.00\">sub</text>\n",
       "</g>\n",
       "<!-- 4883837760&#45;&gt;4883832288 -->\n",
       "<g id=\"edge3\" class=\"edge\">\n",
       "<title>4883837760&#45;&gt;4883832288</title>\n",
       "<path fill=\"none\" stroke=\"black\" d=\"M120.08,-146.5C110.23,-136.92 97.14,-124.19 85.97,-113.34\"/>\n",
       "<polygon fill=\"black\" stroke=\"black\" points=\"88.59,-111 78.98,-106.54 83.71,-116.02 88.59,-111\"/>\n",
       "</g>\n",
       "<!-- 4883832864 -->\n",
       "<g id=\"node6\" class=\"node\">\n",
       "<title>4883832864</title>\n",
       "<ellipse fill=\"none\" stroke=\"black\" cx=\"135\" cy=\"-90\" rx=\"27\" ry=\"18\"/>\n",
       "<text text-anchor=\"middle\" x=\"135\" y=\"-86.3\" font-family=\"Times,serif\" font-size=\"14.00\">B</text>\n",
       "</g>\n",
       "<!-- 4883837760&#45;&gt;4883832864 -->\n",
       "<g id=\"edge4\" class=\"edge\">\n",
       "<title>4883837760&#45;&gt;4883832864</title>\n",
       "<path fill=\"none\" stroke=\"black\" d=\"M135,-143.7C135,-136.41 135,-127.73 135,-119.54\"/>\n",
       "<polygon fill=\"black\" stroke=\"black\" points=\"138.5,-119.62 135,-109.62 131.5,-119.62 138.5,-119.62\"/>\n",
       "</g>\n",
       "<!-- 4883832576 -->\n",
       "<g id=\"node4\" class=\"node\">\n",
       "<title>4883832576</title>\n",
       "<ellipse fill=\"none\" stroke=\"black\" cx=\"27\" cy=\"-18\" rx=\"27\" ry=\"18\"/>\n",
       "<text text-anchor=\"middle\" x=\"27\" y=\"-14.3\" font-family=\"Times,serif\" font-size=\"14.00\">B</text>\n",
       "</g>\n",
       "<!-- 4883832288&#45;&gt;4883832576 -->\n",
       "<g id=\"edge1\" class=\"edge\">\n",
       "<title>4883832288&#45;&gt;4883832576</title>\n",
       "<path fill=\"none\" stroke=\"black\" d=\"M54.65,-72.76C50.42,-64.55 45.19,-54.37 40.42,-45.09\"/>\n",
       "<polygon fill=\"black\" stroke=\"black\" points=\"43.68,-43.79 36,-36.49 37.46,-46.99 43.68,-43.79\"/>\n",
       "</g>\n",
       "<!-- 4883832672 -->\n",
       "<g id=\"node5\" class=\"node\">\n",
       "<title>4883832672</title>\n",
       "<ellipse fill=\"none\" stroke=\"black\" cx=\"99\" cy=\"-18\" rx=\"27\" ry=\"18\"/>\n",
       "<text text-anchor=\"middle\" x=\"99\" y=\"-14.3\" font-family=\"Times,serif\" font-size=\"14.00\">D</text>\n",
       "</g>\n",
       "<!-- 4883832288&#45;&gt;4883832672 -->\n",
       "<g id=\"edge2\" class=\"edge\">\n",
       "<title>4883832288&#45;&gt;4883832672</title>\n",
       "<path fill=\"none\" stroke=\"black\" d=\"M71.35,-72.76C75.58,-64.55 80.81,-54.37 85.58,-45.09\"/>\n",
       "<polygon fill=\"black\" stroke=\"black\" points=\"88.54,-46.99 90,-36.49 82.32,-43.79 88.54,-46.99\"/>\n",
       "</g>\n",
       "<!-- 4883836368 -->\n",
       "<g id=\"node8\" class=\"node\">\n",
       "<title>4883836368</title>\n",
       "<ellipse fill=\"none\" stroke=\"black\" cx=\"207\" cy=\"-90\" rx=\"27\" ry=\"18\"/>\n",
       "<text text-anchor=\"middle\" x=\"207\" y=\"-86.3\" font-family=\"Times,serif\" font-size=\"14.00\">mul</text>\n",
       "</g>\n",
       "<!-- 4883832816&#45;&gt;4883836368 -->\n",
       "<g id=\"edge8\" class=\"edge\">\n",
       "<title>4883832816&#45;&gt;4883836368</title>\n",
       "<path fill=\"none\" stroke=\"black\" d=\"M207,-143.7C207,-136.41 207,-127.73 207,-119.54\"/>\n",
       "<polygon fill=\"black\" stroke=\"black\" points=\"210.5,-119.62 207,-109.62 203.5,-119.62 210.5,-119.62\"/>\n",
       "</g>\n",
       "<!-- 4883836992 -->\n",
       "<g id=\"node11\" class=\"node\">\n",
       "<title>4883836992</title>\n",
       "<ellipse fill=\"none\" stroke=\"black\" cx=\"279\" cy=\"-90\" rx=\"27\" ry=\"18\"/>\n",
       "<text text-anchor=\"middle\" x=\"279\" y=\"-86.3\" font-family=\"Times,serif\" font-size=\"14.00\">B</text>\n",
       "</g>\n",
       "<!-- 4883832816&#45;&gt;4883836992 -->\n",
       "<g id=\"edge9\" class=\"edge\">\n",
       "<title>4883832816&#45;&gt;4883836992</title>\n",
       "<path fill=\"none\" stroke=\"black\" d=\"M221.92,-146.5C231.77,-136.92 244.86,-124.19 256.03,-113.34\"/>\n",
       "<polygon fill=\"black\" stroke=\"black\" points=\"258.29,-116.02 263.02,-106.54 253.41,-111 258.29,-116.02\"/>\n",
       "</g>\n",
       "<!-- 4883830608 -->\n",
       "<g id=\"node9\" class=\"node\">\n",
       "<title>4883830608</title>\n",
       "<ellipse fill=\"none\" stroke=\"black\" cx=\"189\" cy=\"-18\" rx=\"27\" ry=\"18\"/>\n",
       "<text text-anchor=\"middle\" x=\"189\" y=\"-14.3\" font-family=\"Times,serif\" font-size=\"14.00\">B</text>\n",
       "</g>\n",
       "<!-- 4883836368&#45;&gt;4883830608 -->\n",
       "<g id=\"edge6\" class=\"edge\">\n",
       "<title>4883836368&#45;&gt;4883830608</title>\n",
       "<path fill=\"none\" stroke=\"black\" d=\"M202.64,-72.05C200.7,-64.49 198.35,-55.37 196.16,-46.85\"/>\n",
       "<polygon fill=\"black\" stroke=\"black\" points=\"199.57,-46.07 193.69,-37.25 192.79,-47.81 199.57,-46.07\"/>\n",
       "</g>\n",
       "<!-- 4883835168 -->\n",
       "<g id=\"node10\" class=\"node\">\n",
       "<title>4883835168</title>\n",
       "<ellipse fill=\"none\" stroke=\"black\" cx=\"261\" cy=\"-18\" rx=\"27\" ry=\"18\"/>\n",
       "<text text-anchor=\"middle\" x=\"261\" y=\"-14.3\" font-family=\"Times,serif\" font-size=\"14.00\">D</text>\n",
       "</g>\n",
       "<!-- 4883836368&#45;&gt;4883835168 -->\n",
       "<g id=\"edge7\" class=\"edge\">\n",
       "<title>4883836368&#45;&gt;4883835168</title>\n",
       "<path fill=\"none\" stroke=\"black\" d=\"M218.98,-73.46C225.77,-64.67 234.4,-53.48 242.08,-43.53\"/>\n",
       "<polygon fill=\"black\" stroke=\"black\" points=\"244.79,-45.75 248.12,-35.69 239.25,-41.47 244.79,-45.75\"/>\n",
       "</g>\n",
       "</g>\n",
       "</svg>\n"
      ],
      "text/plain": [
       "<graphviz.graphs.Digraph at 0x1231956c0>"
      ]
     },
     "execution_count": 16,
     "metadata": {},
     "output_type": "execute_result"
    }
   ],
   "source": [
    "root = grow_random_tree()\n",
    "print_tree(root)"
   ]
  },
  {
   "cell_type": "markdown",
   "metadata": {
    "slideshow": {
     "slide_type": "slide"
    }
   },
   "source": [
    "#### Ramped Half and Half"
   ]
  },
  {
   "cell_type": "markdown",
   "metadata": {
    "slideshow": {
     "slide_type": "skip"
    }
   },
   "source": [
    "A common practice when creating the initial population is use a mix of filled and grown trees. For example, half the population may be initialised with the full method, and half with the grow method."
   ]
  },
  {
   "cell_type": "code",
   "execution_count": 17,
   "metadata": {
    "slideshow": {
     "slide_type": "fragment"
    }
   },
   "outputs": [],
   "source": [
    "population_size = 40"
   ]
  },
  {
   "cell_type": "code",
   "execution_count": 18,
   "metadata": {
    "slideshow": {
     "slide_type": "fragment"
    }
   },
   "outputs": [],
   "source": [
    "def get_initial_population():\n",
    "    population = []\n",
    "    while len(population) < population_size:\n",
    "        if random.random() < 0.5:\n",
    "            population.append(fill_random_tree())\n",
    "        else:\n",
    "            population.append(grow_random_tree())\n",
    "        \n",
    "    return population"
   ]
  },
  {
   "cell_type": "markdown",
   "metadata": {
    "slideshow": {
     "slide_type": "skip"
    }
   },
   "source": [
    "By defining a helper function that calculates the size of a tree, we can look at the distribution of tree sizes:"
   ]
  },
  {
   "cell_type": "code",
   "execution_count": 19,
   "metadata": {
    "slideshow": {
     "slide_type": "subslide"
    }
   },
   "outputs": [],
   "source": [
    "def size(tree):\n",
    "    if tree.data in FUNCTIONS:\n",
    "        l = size(tree.left) if tree.left else 0\n",
    "        r = size(tree.right) if tree.right else 0\n",
    "        return 1 + l + r\n",
    "    else:\n",
    "        return 1"
   ]
  },
  {
   "cell_type": "code",
   "execution_count": 20,
   "metadata": {
    "slideshow": {
     "slide_type": "fragment"
    }
   },
   "outputs": [
    {
     "data": {
      "text/plain": [
       "(array([ 1.,  0.,  4.,  0.,  0.,  9.,  0.,  3.,  0., 23.]),\n",
       " array([ 7. ,  7.8,  8.6,  9.4, 10.2, 11. , 11.8, 12.6, 13.4, 14.2, 15. ]),\n",
       " <BarContainer object of 10 artists>)"
      ]
     },
     "execution_count": 20,
     "metadata": {},
     "output_type": "execute_result"
    },
    {
     "data": {
      "image/png": "[encoded data removed]",
      "text/plain": [
       "<Figure size 640x480 with 1 Axes>"
      ]
     },
     "metadata": {},
     "output_type": "display_data"
    }
   ],
   "source": [
    "plt.hist([size(x) for x in get_initial_population()])"
   ]
  },
  {
   "cell_type": "markdown",
   "metadata": {
    "slideshow": {
     "slide_type": "skip"
    }
   },
   "source": [
    " Sometimes this is also done using a ramped approach, to generate trees of various sizes:"
   ]
  },
  {
   "cell_type": "code",
   "execution_count": 21,
   "metadata": {
    "slideshow": {
     "slide_type": "subslide"
    }
   },
   "outputs": [],
   "source": [
    "def get_initial_population():\n",
    "    population = []\n",
    "    stages = MAX_DEPTH - MIN_DEPTH + 1\n",
    "    for stage in range(MIN_DEPTH, MAX_DEPTH + 1):\n",
    "        for md in range(int(population_size/stages/2)):\n",
    "            population.append(grow_random_tree(MAX_DEPTH - stage))\n",
    "        for md in range(int(population_size/stages/2)):\n",
    "            population.append(fill_random_tree(MAX_DEPTH - stage))\n",
    "    return population"
   ]
  },
  {
   "cell_type": "code",
   "execution_count": 22,
   "metadata": {
    "slideshow": {
     "slide_type": "fragment"
    }
   },
   "outputs": [
    {
     "data": {
      "text/plain": [
       "(array([ 2.,  6.,  0., 14.,  0.,  1.,  4.,  0.,  1., 12.]),\n",
       " array([ 3. ,  4.2,  5.4,  6.6,  7.8,  9. , 10.2, 11.4, 12.6, 13.8, 15. ]),\n",
       " <BarContainer object of 10 artists>)"
      ]
     },
     "execution_count": 22,
     "metadata": {},
     "output_type": "execute_result"
    },
    {
     "data": {
      "image/png": "[encoded data removed]",
      "text/plain": [
       "<Figure size 640x480 with 1 Axes>"
      ]
     },
     "metadata": {},
     "output_type": "display_data"
    }
   ],
   "source": [
    "plt.hist([size(x) for x in get_initial_population()])"
   ]
  },
  {
   "cell_type": "markdown",
   "metadata": {
    "slideshow": {
     "slide_type": "slide"
    }
   },
   "source": [
    "### Ephemeral Random Constants"
   ]
  },
  {
   "cell_type": "markdown",
   "metadata": {
    "slideshow": {
     "slide_type": "skip"
    }
   },
   "source": [
    "Our terminals only include constants (`A` etc), but in practice we might also need actual values, such as numbers. Including all possible numbers in the set of terminals does not scale well. A common approach is therefore to include _ephemeral random constants_: A single terminal represents the choice of a random value; when the terminal is chosen then it is instantiated with an actual random value:"
   ]
  },
  {
   "cell_type": "code",
   "execution_count": 23,
   "metadata": {
    "slideshow": {
     "slide_type": "fragment"
    }
   },
   "outputs": [],
   "source": [
    "EPHEMERAL_CONSTANT = \"R\"\n",
    "TERMINALS = ['A', 'B', 'C', 'D', EPHEMERAL_CONSTANT]\n",
    "EPHEMERAL_RANGE = 5"
   ]
  },
  {
   "cell_type": "code",
   "execution_count": 24,
   "metadata": {
    "slideshow": {
     "slide_type": "slide"
    }
   },
   "outputs": [],
   "source": [
    "def get_random_terminal():\n",
    "    t = random.choice(TERMINALS)\n",
    "    if t == EPHEMERAL_CONSTANT:\n",
    "        t = random.randint(-EPHEMERAL_RANGE, EPHEMERAL_RANGE)\n",
    "    return t"
   ]
  },
  {
   "cell_type": "code",
   "execution_count": 25,
   "metadata": {
    "slideshow": {
     "slide_type": "fragment"
    }
   },
   "outputs": [
    {
     "data": {
      "image/svg+xml": [
       "<?xml version=\"1.0\" encoding=\"UTF-8\" standalone=\"no\"?>\n",
       "<!DOCTYPE svg PUBLIC \"-//W3C//DTD SVG 1.1//EN\"\n",
       " \"http://www.w3.org/Graphics/SVG/1.1/DTD/svg11.dtd\">\n",
       "<!-- Generated by graphviz version 7.0.6 (20230106.0513)\n",
       " -->\n",
       "<!-- Pages: 1 -->\n",
       "<svg width=\"314pt\" height=\"260pt\"\n",
       " viewBox=\"0.00 0.00 314.00 260.00\" xmlns=\"http://www.w3.org/2000/svg\" xmlns:xlink=\"http://www.w3.org/1999/xlink\">\n",
       "<g id=\"graph0\" class=\"graph\" transform=\"scale(1 1) rotate(0) translate(4 256)\">\n",
       "<polygon fill=\"white\" stroke=\"none\" points=\"-4,4 -4,-256 310,-256 310,4 -4,4\"/>\n",
       "<!-- 4884946400 -->\n",
       "<g id=\"node1\" class=\"node\">\n",
       "<title>4884946400</title>\n",
       "<ellipse fill=\"none\" stroke=\"black\" cx=\"171\" cy=\"-234\" rx=\"27\" ry=\"18\"/>\n",
       "<text text-anchor=\"middle\" x=\"171\" y=\"-230.3\" font-family=\"Times,serif\" font-size=\"14.00\">div</text>\n",
       "</g>\n",
       "<!-- 4884940304 -->\n",
       "<g id=\"node2\" class=\"node\">\n",
       "<title>4884940304</title>\n",
       "<ellipse fill=\"none\" stroke=\"black\" cx=\"135\" cy=\"-162\" rx=\"27\" ry=\"18\"/>\n",
       "<text text-anchor=\"middle\" x=\"135\" y=\"-158.3\" font-family=\"Times,serif\" font-size=\"14.00\">sub</text>\n",
       "</g>\n",
       "<!-- 4884946400&#45;&gt;4884940304 -->\n",
       "<g id=\"edge5\" class=\"edge\">\n",
       "<title>4884946400&#45;&gt;4884940304</title>\n",
       "<path fill=\"none\" stroke=\"black\" d=\"M162.65,-216.76C158.42,-208.55 153.19,-198.37 148.42,-189.09\"/>\n",
       "<polygon fill=\"black\" stroke=\"black\" points=\"151.68,-187.79 144,-180.49 145.46,-190.99 151.68,-187.79\"/>\n",
       "</g>\n",
       "<!-- 4886682768 -->\n",
       "<g id=\"node7\" class=\"node\">\n",
       "<title>4886682768</title>\n",
       "<ellipse fill=\"none\" stroke=\"black\" cx=\"207\" cy=\"-162\" rx=\"27\" ry=\"18\"/>\n",
       "<text text-anchor=\"middle\" x=\"207\" y=\"-158.3\" font-family=\"Times,serif\" font-size=\"14.00\">div</text>\n",
       "</g>\n",
       "<!-- 4884946400&#45;&gt;4886682768 -->\n",
       "<g id=\"edge8\" class=\"edge\">\n",
       "<title>4884946400&#45;&gt;4886682768</title>\n",
       "<path fill=\"none\" stroke=\"black\" d=\"M179.35,-216.76C183.58,-208.55 188.81,-198.37 193.58,-189.09\"/>\n",
       "<polygon fill=\"black\" stroke=\"black\" points=\"196.54,-190.99 198,-180.49 190.32,-187.79 196.54,-190.99\"/>\n",
       "</g>\n",
       "<!-- 4886683632 -->\n",
       "<g id=\"node3\" class=\"node\">\n",
       "<title>4886683632</title>\n",
       "<ellipse fill=\"none\" stroke=\"black\" cx=\"63\" cy=\"-90\" rx=\"27\" ry=\"18\"/>\n",
       "<text text-anchor=\"middle\" x=\"63\" y=\"-86.3\" font-family=\"Times,serif\" font-size=\"14.00\">sub</text>\n",
       "</g>\n",
       "<!-- 4884940304&#45;&gt;4886683632 -->\n",
       "<g id=\"edge3\" class=\"edge\">\n",
       "<title>4884940304&#45;&gt;4886683632</title>\n",
       "<path fill=\"none\" stroke=\"black\" d=\"M120.08,-146.5C110.23,-136.92 97.14,-124.19 85.97,-113.34\"/>\n",
       "<polygon fill=\"black\" stroke=\"black\" points=\"88.59,-111 78.98,-106.54 83.71,-116.02 88.59,-111\"/>\n",
       "</g>\n",
       "<!-- 4886682240 -->\n",
       "<g id=\"node6\" class=\"node\">\n",
       "<title>4886682240</title>\n",
       "<ellipse fill=\"none\" stroke=\"black\" cx=\"135\" cy=\"-90\" rx=\"27\" ry=\"18\"/>\n",
       "<text text-anchor=\"middle\" x=\"135\" y=\"-86.3\" font-family=\"Times,serif\" font-size=\"14.00\">B</text>\n",
       "</g>\n",
       "<!-- 4884940304&#45;&gt;4886682240 -->\n",
       "<g id=\"edge4\" class=\"edge\">\n",
       "<title>4884940304&#45;&gt;4886682240</title>\n",
       "<path fill=\"none\" stroke=\"black\" d=\"M135,-143.7C135,-136.41 135,-127.73 135,-119.54\"/>\n",
       "<polygon fill=\"black\" stroke=\"black\" points=\"138.5,-119.62 135,-109.62 131.5,-119.62 138.5,-119.62\"/>\n",
       "</g>\n",
       "<!-- 4886682576 -->\n",
       "<g id=\"node4\" class=\"node\">\n",
       "<title>4886682576</title>\n",
       "<ellipse fill=\"none\" stroke=\"black\" cx=\"27\" cy=\"-18\" rx=\"27\" ry=\"18\"/>\n",
       "<text text-anchor=\"middle\" x=\"27\" y=\"-14.3\" font-family=\"Times,serif\" font-size=\"14.00\">&#45;3</text>\n",
       "</g>\n",
       "<!-- 4886683632&#45;&gt;4886682576 -->\n",
       "<g id=\"edge1\" class=\"edge\">\n",
       "<title>4886683632&#45;&gt;4886682576</title>\n",
       "<path fill=\"none\" stroke=\"black\" d=\"M54.65,-72.76C50.42,-64.55 45.19,-54.37 40.42,-45.09\"/>\n",
       "<polygon fill=\"black\" stroke=\"black\" points=\"43.68,-43.79 36,-36.49 37.46,-46.99 43.68,-43.79\"/>\n",
       "</g>\n",
       "<!-- 4886686896 -->\n",
       "<g id=\"node5\" class=\"node\">\n",
       "<title>4886686896</title>\n",
       "<ellipse fill=\"none\" stroke=\"black\" cx=\"99\" cy=\"-18\" rx=\"27\" ry=\"18\"/>\n",
       "<text text-anchor=\"middle\" x=\"99\" y=\"-14.3\" font-family=\"Times,serif\" font-size=\"14.00\">B</text>\n",
       "</g>\n",
       "<!-- 4886683632&#45;&gt;4886686896 -->\n",
       "<g id=\"edge2\" class=\"edge\">\n",
       "<title>4886683632&#45;&gt;4886686896</title>\n",
       "<path fill=\"none\" stroke=\"black\" d=\"M71.35,-72.76C75.58,-64.55 80.81,-54.37 85.58,-45.09\"/>\n",
       "<polygon fill=\"black\" stroke=\"black\" points=\"88.54,-46.99 90,-36.49 82.32,-43.79 88.54,-46.99\"/>\n",
       "</g>\n",
       "<!-- 4886682624 -->\n",
       "<g id=\"node8\" class=\"node\">\n",
       "<title>4886682624</title>\n",
       "<ellipse fill=\"none\" stroke=\"black\" cx=\"207\" cy=\"-90\" rx=\"27\" ry=\"18\"/>\n",
       "<text text-anchor=\"middle\" x=\"207\" y=\"-86.3\" font-family=\"Times,serif\" font-size=\"14.00\">D</text>\n",
       "</g>\n",
       "<!-- 4886682768&#45;&gt;4886682624 -->\n",
       "<g id=\"edge6\" class=\"edge\">\n",
       "<title>4886682768&#45;&gt;4886682624</title>\n",
       "<path fill=\"none\" stroke=\"black\" d=\"M207,-143.7C207,-136.41 207,-127.73 207,-119.54\"/>\n",
       "<polygon fill=\"black\" stroke=\"black\" points=\"210.5,-119.62 207,-109.62 203.5,-119.62 210.5,-119.62\"/>\n",
       "</g>\n",
       "<!-- 4886841232 -->\n",
       "<g id=\"node9\" class=\"node\">\n",
       "<title>4886841232</title>\n",
       "<ellipse fill=\"none\" stroke=\"black\" cx=\"279\" cy=\"-90\" rx=\"27\" ry=\"18\"/>\n",
       "<text text-anchor=\"middle\" x=\"279\" y=\"-86.3\" font-family=\"Times,serif\" font-size=\"14.00\">C</text>\n",
       "</g>\n",
       "<!-- 4886682768&#45;&gt;4886841232 -->\n",
       "<g id=\"edge7\" class=\"edge\">\n",
       "<title>4886682768&#45;&gt;4886841232</title>\n",
       "<path fill=\"none\" stroke=\"black\" d=\"M221.92,-146.5C231.77,-136.92 244.86,-124.19 256.03,-113.34\"/>\n",
       "<polygon fill=\"black\" stroke=\"black\" points=\"258.29,-116.02 263.02,-106.54 253.41,-111 258.29,-116.02\"/>\n",
       "</g>\n",
       "</g>\n",
       "</svg>\n"
      ],
      "text/plain": [
       "<graphviz.graphs.Digraph at 0x1232a5180>"
      ]
     },
     "execution_count": 25,
     "metadata": {},
     "output_type": "execute_result"
    }
   ],
   "source": [
    "root = grow_random_tree()\n",
    "print_tree(root)"
   ]
  },
  {
   "cell_type": "markdown",
   "metadata": {
    "slideshow": {
     "slide_type": "skip"
    }
   },
   "source": [
    "### Search Operators"
   ]
  },
  {
   "cell_type": "markdown",
   "metadata": {
    "slideshow": {
     "slide_type": "skip"
    }
   },
   "source": [
    "Since we have a different representation to what we used in the past (which was mainly list-based), we need to adapt our search operators."
   ]
  },
  {
   "cell_type": "markdown",
   "metadata": {
    "slideshow": {
     "slide_type": "slide"
    }
   },
   "source": [
    "#### Crossover"
   ]
  },
  {
   "cell_type": "markdown",
   "metadata": {
    "slideshow": {
     "slide_type": "skip"
    }
   },
   "source": [
    "A basic approach to crossing over two trees is to randomly choose two crossover points in the parent trees, and then to cut and swap subtrees below the crossover points. We first need a function with which we can create copies of trees:"
   ]
  },
  {
   "cell_type": "code",
   "execution_count": 26,
   "metadata": {
    "slideshow": {
     "slide_type": "fragment"
    }
   },
   "outputs": [],
   "source": [
    "def copy(tree):\n",
    "    t = Node()\n",
    "    t.data = tree.data\n",
    "    if tree.left:  t.left = copy(tree.left)\n",
    "    if tree.right: t.right = copy(tree.right)\n",
    "    return t "
   ]
  },
  {
   "cell_type": "markdown",
   "metadata": {
    "slideshow": {
     "slide_type": "skip"
    }
   },
   "source": [
    "We need a couple further helper functions in order to find subtrees at chosen crossover points. First, here's a helper class that allows us to count up or down while (hackily) traversing a tree:"
   ]
  },
  {
   "cell_type": "code",
   "execution_count": 27,
   "metadata": {
    "slideshow": {
     "slide_type": "slide"
    }
   },
   "outputs": [],
   "source": [
    "class Counter:\n",
    "    def __init__(self, num):\n",
    "        self.num = num\n",
    "    \n",
    "    def reduce(self):\n",
    "        self.num -= 1\n",
    "        \n",
    "    def increase(self):\n",
    "        self.num += 1\n",
    "    \n",
    "    def is_target(self):\n",
    "        return self.num == 0\n",
    "    \n",
    "    def greater_zero(self):\n",
    "        return self.num > 0\n",
    "    \n",
    "    def get_value(self):\n",
    "        return self.num"
   ]
  },
  {
   "cell_type": "markdown",
   "metadata": {
    "slideshow": {
     "slide_type": "skip"
    }
   },
   "source": [
    "Using this helper class, we can now traverse the tree and return a copy of the subtree whenever the counter has reached the target:"
   ]
  },
  {
   "cell_type": "code",
   "execution_count": 28,
   "metadata": {
    "slideshow": {
     "slide_type": "slide"
    }
   },
   "outputs": [],
   "source": [
    "def get_subtree_at(tree, counter):\n",
    "    counter.reduce()\n",
    "    if counter.is_target():\n",
    "        return copy(tree)\n",
    "    else:\n",
    "        ret = None\n",
    "        if tree.left and counter.greater_zero(): \n",
    "            ret = get_subtree_at(tree.left, counter)\n",
    "        if not ret and tree.right and counter.greater_zero(): \n",
    "            ret = get_subtree_at(tree.right, counter)\n",
    "        return ret"
   ]
  },
  {
   "cell_type": "markdown",
   "metadata": {
    "slideshow": {
     "slide_type": "skip"
    }
   },
   "source": [
    "Similarly, we can replace a target node with an entirely different subtree given a counter that tells us when we've reached the target node:"
   ]
  },
  {
   "cell_type": "code",
   "execution_count": 29,
   "metadata": {
    "slideshow": {
     "slide_type": "slide"
    }
   },
   "outputs": [],
   "source": [
    "def insert_subtree_at(tree, subtree, counter):\n",
    "    counter.reduce()\n",
    "    if counter.is_target():\n",
    "        tree.data  = subtree.data\n",
    "        tree.left  = subtree.left\n",
    "        tree.right = subtree.right\n",
    "    else:\n",
    "        if tree.left and counter.greater_zero(): \n",
    "            insert_subtree_at(tree.left, subtree, counter)\n",
    "        if tree.right and counter.greater_zero(): \n",
    "            insert_subtree_at(tree.right, subtree, counter)"
   ]
  },
  {
   "cell_type": "markdown",
   "metadata": {
    "slideshow": {
     "slide_type": "skip"
    }
   },
   "source": [
    "Using these two functions we can now define a simple crossover function that picks a random subtree from one parent (`parent1`) and inserts it at a random position in the other parent (`parent2`):"
   ]
  },
  {
   "cell_type": "code",
   "execution_count": 30,
   "metadata": {
    "slideshow": {
     "slide_type": "slide"
    }
   },
   "outputs": [],
   "source": [
    "def subtree_crossover(parent1, parent2):\n",
    "    pos1 = random.randint(1, size(parent1))\n",
    "    pos2 = random.randint(1, size(parent2))\n",
    "    \n",
    "    if size(parent1) == 1:\n",
    "        subtree = copy(parent1)\n",
    "    else:\n",
    "        subtree = get_subtree_at(parent1, Counter(pos1))\n",
    "    offspring = copy(parent2)\n",
    "    insert_subtree_at(offspring, subtree, Counter(pos2))\n",
    "    \n",
    "    return offspring"
   ]
  },
  {
   "cell_type": "markdown",
   "metadata": {
    "slideshow": {
     "slide_type": "skip"
    }
   },
   "source": [
    "Let's create some example parents to cross over:"
   ]
  },
  {
   "cell_type": "code",
   "execution_count": 31,
   "metadata": {
    "slideshow": {
     "slide_type": "slide"
    }
   },
   "outputs": [
    {
     "data": {
      "image/svg+xml": [
       "<?xml version=\"1.0\" encoding=\"UTF-8\" standalone=\"no\"?>\n",
       "<!DOCTYPE svg PUBLIC \"-//W3C//DTD SVG 1.1//EN\"\n",
       " \"http://www.w3.org/Graphics/SVG/1.1/DTD/svg11.dtd\">\n",
       "<!-- Generated by graphviz version 7.0.6 (20230106.0513)\n",
       " -->\n",
       "<!-- Pages: 1 -->\n",
       "<svg width=\"422pt\" height=\"260pt\"\n",
       " viewBox=\"0.00 0.00 422.00 260.00\" xmlns=\"http://www.w3.org/2000/svg\" xmlns:xlink=\"http://www.w3.org/1999/xlink\">\n",
       "<g id=\"graph0\" class=\"graph\" transform=\"scale(1 1) rotate(0) translate(4 256)\">\n",
       "<polygon fill=\"white\" stroke=\"none\" points=\"-4,4 -4,-256 418,-256 418,4 -4,4\"/>\n",
       "<!-- 4883836752 -->\n",
       "<g id=\"node1\" class=\"node\">\n",
       "<title>4883836752</title>\n",
       "<ellipse fill=\"none\" stroke=\"black\" cx=\"207\" cy=\"-234\" rx=\"27\" ry=\"18\"/>\n",
       "<text text-anchor=\"middle\" x=\"207\" y=\"-230.3\" font-family=\"Times,serif\" font-size=\"14.00\">add</text>\n",
       "</g>\n",
       "<!-- 4883829744 -->\n",
       "<g id=\"node2\" class=\"node\">\n",
       "<title>4883829744</title>\n",
       "<ellipse fill=\"none\" stroke=\"black\" cx=\"171\" cy=\"-162\" rx=\"27\" ry=\"18\"/>\n",
       "<text text-anchor=\"middle\" x=\"171\" y=\"-158.3\" font-family=\"Times,serif\" font-size=\"14.00\">div</text>\n",
       "</g>\n",
       "<!-- 4883836752&#45;&gt;4883829744 -->\n",
       "<g id=\"edge7\" class=\"edge\">\n",
       "<title>4883836752&#45;&gt;4883829744</title>\n",
       "<path fill=\"none\" stroke=\"black\" d=\"M198.65,-216.76C194.42,-208.55 189.19,-198.37 184.42,-189.09\"/>\n",
       "<polygon fill=\"black\" stroke=\"black\" points=\"187.68,-187.79 180,-180.49 181.46,-190.99 187.68,-187.79\"/>\n",
       "</g>\n",
       "<!-- 4886847232 -->\n",
       "<g id=\"node9\" class=\"node\">\n",
       "<title>4886847232</title>\n",
       "<ellipse fill=\"none\" stroke=\"black\" cx=\"243\" cy=\"-162\" rx=\"27\" ry=\"18\"/>\n",
       "<text text-anchor=\"middle\" x=\"243\" y=\"-158.3\" font-family=\"Times,serif\" font-size=\"14.00\">mul</text>\n",
       "</g>\n",
       "<!-- 4883836752&#45;&gt;4886847232 -->\n",
       "<g id=\"edge12\" class=\"edge\">\n",
       "<title>4883836752&#45;&gt;4886847232</title>\n",
       "<path fill=\"none\" stroke=\"black\" d=\"M215.35,-216.76C219.58,-208.55 224.81,-198.37 229.58,-189.09\"/>\n",
       "<polygon fill=\"black\" stroke=\"black\" points=\"232.54,-190.99 234,-180.49 226.32,-187.79 232.54,-190.99\"/>\n",
       "</g>\n",
       "<!-- 4886846368 -->\n",
       "<g id=\"node3\" class=\"node\">\n",
       "<title>4886846368</title>\n",
       "<ellipse fill=\"none\" stroke=\"black\" cx=\"99\" cy=\"-90\" rx=\"27\" ry=\"18\"/>\n",
       "<text text-anchor=\"middle\" x=\"99\" y=\"-86.3\" font-family=\"Times,serif\" font-size=\"14.00\">div</text>\n",
       "</g>\n",
       "<!-- 4883829744&#45;&gt;4886846368 -->\n",
       "<g id=\"edge3\" class=\"edge\">\n",
       "<title>4883829744&#45;&gt;4886846368</title>\n",
       "<path fill=\"none\" stroke=\"black\" d=\"M156.08,-146.5C146.23,-136.92 133.14,-124.19 121.97,-113.34\"/>\n",
       "<polygon fill=\"black\" stroke=\"black\" points=\"124.59,-111 114.98,-106.54 119.71,-116.02 124.59,-111\"/>\n",
       "</g>\n",
       "<!-- 4886855152 -->\n",
       "<g id=\"node6\" class=\"node\">\n",
       "<title>4886855152</title>\n",
       "<ellipse fill=\"none\" stroke=\"black\" cx=\"171\" cy=\"-90\" rx=\"27\" ry=\"18\"/>\n",
       "<text text-anchor=\"middle\" x=\"171\" y=\"-86.3\" font-family=\"Times,serif\" font-size=\"14.00\">mul</text>\n",
       "</g>\n",
       "<!-- 4883829744&#45;&gt;4886855152 -->\n",
       "<g id=\"edge6\" class=\"edge\">\n",
       "<title>4883829744&#45;&gt;4886855152</title>\n",
       "<path fill=\"none\" stroke=\"black\" d=\"M171,-143.7C171,-136.41 171,-127.73 171,-119.54\"/>\n",
       "<polygon fill=\"black\" stroke=\"black\" points=\"174.5,-119.62 171,-109.62 167.5,-119.62 174.5,-119.62\"/>\n",
       "</g>\n",
       "<!-- 4886849584 -->\n",
       "<g id=\"node4\" class=\"node\">\n",
       "<title>4886849584</title>\n",
       "<ellipse fill=\"none\" stroke=\"black\" cx=\"27\" cy=\"-18\" rx=\"27\" ry=\"18\"/>\n",
       "<text text-anchor=\"middle\" x=\"27\" y=\"-14.3\" font-family=\"Times,serif\" font-size=\"14.00\">B</text>\n",
       "</g>\n",
       "<!-- 4886846368&#45;&gt;4886849584 -->\n",
       "<g id=\"edge1\" class=\"edge\">\n",
       "<title>4886846368&#45;&gt;4886849584</title>\n",
       "<path fill=\"none\" stroke=\"black\" d=\"M84.08,-74.5C74.23,-64.92 61.14,-52.19 49.97,-41.34\"/>\n",
       "<polygon fill=\"black\" stroke=\"black\" points=\"52.59,-39 42.98,-34.54 47.71,-44.02 52.59,-39\"/>\n",
       "</g>\n",
       "<!-- 4886852512 -->\n",
       "<g id=\"node5\" class=\"node\">\n",
       "<title>4886852512</title>\n",
       "<ellipse fill=\"none\" stroke=\"black\" cx=\"99\" cy=\"-18\" rx=\"27\" ry=\"18\"/>\n",
       "<text text-anchor=\"middle\" x=\"99\" y=\"-14.3\" font-family=\"Times,serif\" font-size=\"14.00\">4</text>\n",
       "</g>\n",
       "<!-- 4886846368&#45;&gt;4886852512 -->\n",
       "<g id=\"edge2\" class=\"edge\">\n",
       "<title>4886846368&#45;&gt;4886852512</title>\n",
       "<path fill=\"none\" stroke=\"black\" d=\"M99,-71.7C99,-64.41 99,-55.73 99,-47.54\"/>\n",
       "<polygon fill=\"black\" stroke=\"black\" points=\"102.5,-47.62 99,-37.62 95.5,-47.62 102.5,-47.62\"/>\n",
       "</g>\n",
       "<!-- 4886855392 -->\n",
       "<g id=\"node7\" class=\"node\">\n",
       "<title>4886855392</title>\n",
       "<ellipse fill=\"none\" stroke=\"black\" cx=\"171\" cy=\"-18\" rx=\"27\" ry=\"18\"/>\n",
       "<text text-anchor=\"middle\" x=\"171\" y=\"-14.3\" font-family=\"Times,serif\" font-size=\"14.00\">D</text>\n",
       "</g>\n",
       "<!-- 4886855152&#45;&gt;4886855392 -->\n",
       "<g id=\"edge4\" class=\"edge\">\n",
       "<title>4886855152&#45;&gt;4886855392</title>\n",
       "<path fill=\"none\" stroke=\"black\" d=\"M171,-71.7C171,-64.41 171,-55.73 171,-47.54\"/>\n",
       "<polygon fill=\"black\" stroke=\"black\" points=\"174.5,-47.62 171,-37.62 167.5,-47.62 174.5,-47.62\"/>\n",
       "</g>\n",
       "<!-- 4886854912 -->\n",
       "<g id=\"node8\" class=\"node\">\n",
       "<title>4886854912</title>\n",
       "<ellipse fill=\"none\" stroke=\"black\" cx=\"243\" cy=\"-18\" rx=\"27\" ry=\"18\"/>\n",
       "<text text-anchor=\"middle\" x=\"243\" y=\"-14.3\" font-family=\"Times,serif\" font-size=\"14.00\">B</text>\n",
       "</g>\n",
       "<!-- 4886855152&#45;&gt;4886854912 -->\n",
       "<g id=\"edge5\" class=\"edge\">\n",
       "<title>4886855152&#45;&gt;4886854912</title>\n",
       "<path fill=\"none\" stroke=\"black\" d=\"M185.92,-74.5C195.77,-64.92 208.86,-52.19 220.03,-41.34\"/>\n",
       "<polygon fill=\"black\" stroke=\"black\" points=\"222.29,-44.02 227.02,-34.54 217.41,-39 222.29,-44.02\"/>\n",
       "</g>\n",
       "<!-- 4886850592 -->\n",
       "<g id=\"node10\" class=\"node\">\n",
       "<title>4886850592</title>\n",
       "<ellipse fill=\"none\" stroke=\"black\" cx=\"243\" cy=\"-90\" rx=\"27\" ry=\"18\"/>\n",
       "<text text-anchor=\"middle\" x=\"243\" y=\"-86.3\" font-family=\"Times,serif\" font-size=\"14.00\">B</text>\n",
       "</g>\n",
       "<!-- 4886847232&#45;&gt;4886850592 -->\n",
       "<g id=\"edge8\" class=\"edge\">\n",
       "<title>4886847232&#45;&gt;4886850592</title>\n",
       "<path fill=\"none\" stroke=\"black\" d=\"M243,-143.7C243,-136.41 243,-127.73 243,-119.54\"/>\n",
       "<polygon fill=\"black\" stroke=\"black\" points=\"246.5,-119.62 243,-109.62 239.5,-119.62 246.5,-119.62\"/>\n",
       "</g>\n",
       "<!-- 4886851072 -->\n",
       "<g id=\"node11\" class=\"node\">\n",
       "<title>4886851072</title>\n",
       "<ellipse fill=\"none\" stroke=\"black\" cx=\"315\" cy=\"-90\" rx=\"27\" ry=\"18\"/>\n",
       "<text text-anchor=\"middle\" x=\"315\" y=\"-86.3\" font-family=\"Times,serif\" font-size=\"14.00\">div</text>\n",
       "</g>\n",
       "<!-- 4886847232&#45;&gt;4886851072 -->\n",
       "<g id=\"edge11\" class=\"edge\">\n",
       "<title>4886847232&#45;&gt;4886851072</title>\n",
       "<path fill=\"none\" stroke=\"black\" d=\"M257.92,-146.5C267.77,-136.92 280.86,-124.19 292.03,-113.34\"/>\n",
       "<polygon fill=\"black\" stroke=\"black\" points=\"294.29,-116.02 299.02,-106.54 289.41,-111 294.29,-116.02\"/>\n",
       "</g>\n",
       "<!-- 4886839360 -->\n",
       "<g id=\"node12\" class=\"node\">\n",
       "<title>4886839360</title>\n",
       "<ellipse fill=\"none\" stroke=\"black\" cx=\"315\" cy=\"-18\" rx=\"27\" ry=\"18\"/>\n",
       "<text text-anchor=\"middle\" x=\"315\" y=\"-14.3\" font-family=\"Times,serif\" font-size=\"14.00\">D</text>\n",
       "</g>\n",
       "<!-- 4886851072&#45;&gt;4886839360 -->\n",
       "<g id=\"edge9\" class=\"edge\">\n",
       "<title>4886851072&#45;&gt;4886839360</title>\n",
       "<path fill=\"none\" stroke=\"black\" d=\"M315,-71.7C315,-64.41 315,-55.73 315,-47.54\"/>\n",
       "<polygon fill=\"black\" stroke=\"black\" points=\"318.5,-47.62 315,-37.62 311.5,-47.62 318.5,-47.62\"/>\n",
       "</g>\n",
       "<!-- 4886849536 -->\n",
       "<g id=\"node13\" class=\"node\">\n",
       "<title>4886849536</title>\n",
       "<ellipse fill=\"none\" stroke=\"black\" cx=\"387\" cy=\"-18\" rx=\"27\" ry=\"18\"/>\n",
       "<text text-anchor=\"middle\" x=\"387\" y=\"-14.3\" font-family=\"Times,serif\" font-size=\"14.00\">C</text>\n",
       "</g>\n",
       "<!-- 4886851072&#45;&gt;4886849536 -->\n",
       "<g id=\"edge10\" class=\"edge\">\n",
       "<title>4886851072&#45;&gt;4886849536</title>\n",
       "<path fill=\"none\" stroke=\"black\" d=\"M329.92,-74.5C339.77,-64.92 352.86,-52.19 364.03,-41.34\"/>\n",
       "<polygon fill=\"black\" stroke=\"black\" points=\"366.29,-44.02 371.02,-34.54 361.41,-39 366.29,-44.02\"/>\n",
       "</g>\n",
       "</g>\n",
       "</svg>\n"
      ],
      "text/plain": [
       "<graphviz.graphs.Digraph at 0x1231959f0>"
      ]
     },
     "execution_count": 31,
     "metadata": {},
     "output_type": "execute_result"
    }
   ],
   "source": [
    "parent1 = grow_random_tree()\n",
    "print_tree(parent1)"
   ]
  },
  {
   "cell_type": "code",
   "execution_count": 32,
   "metadata": {
    "scrolled": true,
    "slideshow": {
     "slide_type": "subslide"
    }
   },
   "outputs": [
    {
     "data": {
      "image/svg+xml": [
       "<?xml version=\"1.0\" encoding=\"UTF-8\" standalone=\"no\"?>\n",
       "<!DOCTYPE svg PUBLIC \"-//W3C//DTD SVG 1.1//EN\"\n",
       " \"http://www.w3.org/Graphics/SVG/1.1/DTD/svg11.dtd\">\n",
       "<!-- Generated by graphviz version 7.0.6 (20230106.0513)\n",
       " -->\n",
       "<!-- Pages: 1 -->\n",
       "<svg width=\"422pt\" height=\"260pt\"\n",
       " viewBox=\"0.00 0.00 422.00 260.00\" xmlns=\"http://www.w3.org/2000/svg\" xmlns:xlink=\"http://www.w3.org/1999/xlink\">\n",
       "<g id=\"graph0\" class=\"graph\" transform=\"scale(1 1) rotate(0) translate(4 256)\">\n",
       "<polygon fill=\"white\" stroke=\"none\" points=\"-4,4 -4,-256 418,-256 418,4 -4,4\"/>\n",
       "<!-- 4886855632 -->\n",
       "<g id=\"node1\" class=\"node\">\n",
       "<title>4886855632</title>\n",
       "<ellipse fill=\"none\" stroke=\"black\" cx=\"207\" cy=\"-234\" rx=\"27\" ry=\"18\"/>\n",
       "<text text-anchor=\"middle\" x=\"207\" y=\"-230.3\" font-family=\"Times,serif\" font-size=\"14.00\">add</text>\n",
       "</g>\n",
       "<!-- 4886855488 -->\n",
       "<g id=\"node2\" class=\"node\">\n",
       "<title>4886855488</title>\n",
       "<ellipse fill=\"none\" stroke=\"black\" cx=\"171\" cy=\"-162\" rx=\"27\" ry=\"18\"/>\n",
       "<text text-anchor=\"middle\" x=\"171\" y=\"-158.3\" font-family=\"Times,serif\" font-size=\"14.00\">add</text>\n",
       "</g>\n",
       "<!-- 4886855632&#45;&gt;4886855488 -->\n",
       "<g id=\"edge5\" class=\"edge\">\n",
       "<title>4886855632&#45;&gt;4886855488</title>\n",
       "<path fill=\"none\" stroke=\"black\" d=\"M198.65,-216.76C194.42,-208.55 189.19,-198.37 184.42,-189.09\"/>\n",
       "<polygon fill=\"black\" stroke=\"black\" points=\"187.68,-187.79 180,-180.49 181.46,-190.99 187.68,-187.79\"/>\n",
       "</g>\n",
       "<!-- 4886853952 -->\n",
       "<g id=\"node7\" class=\"node\">\n",
       "<title>4886853952</title>\n",
       "<ellipse fill=\"none\" stroke=\"black\" cx=\"243\" cy=\"-162\" rx=\"27\" ry=\"18\"/>\n",
       "<text text-anchor=\"middle\" x=\"243\" y=\"-158.3\" font-family=\"Times,serif\" font-size=\"14.00\">div</text>\n",
       "</g>\n",
       "<!-- 4886855632&#45;&gt;4886853952 -->\n",
       "<g id=\"edge12\" class=\"edge\">\n",
       "<title>4886855632&#45;&gt;4886853952</title>\n",
       "<path fill=\"none\" stroke=\"black\" d=\"M215.35,-216.76C219.58,-208.55 224.81,-198.37 229.58,-189.09\"/>\n",
       "<polygon fill=\"black\" stroke=\"black\" points=\"232.54,-190.99 234,-180.49 226.32,-187.79 232.54,-190.99\"/>\n",
       "</g>\n",
       "<!-- 4886846416 -->\n",
       "<g id=\"node3\" class=\"node\">\n",
       "<title>4886846416</title>\n",
       "<ellipse fill=\"none\" stroke=\"black\" cx=\"99\" cy=\"-90\" rx=\"27\" ry=\"18\"/>\n",
       "<text text-anchor=\"middle\" x=\"99\" y=\"-86.3\" font-family=\"Times,serif\" font-size=\"14.00\">div</text>\n",
       "</g>\n",
       "<!-- 4886855488&#45;&gt;4886846416 -->\n",
       "<g id=\"edge3\" class=\"edge\">\n",
       "<title>4886855488&#45;&gt;4886846416</title>\n",
       "<path fill=\"none\" stroke=\"black\" d=\"M156.08,-146.5C146.23,-136.92 133.14,-124.19 121.97,-113.34\"/>\n",
       "<polygon fill=\"black\" stroke=\"black\" points=\"124.59,-111 114.98,-106.54 119.71,-116.02 124.59,-111\"/>\n",
       "</g>\n",
       "<!-- 4886849824 -->\n",
       "<g id=\"node6\" class=\"node\">\n",
       "<title>4886849824</title>\n",
       "<ellipse fill=\"none\" stroke=\"black\" cx=\"171\" cy=\"-90\" rx=\"27\" ry=\"18\"/>\n",
       "<text text-anchor=\"middle\" x=\"171\" y=\"-86.3\" font-family=\"Times,serif\" font-size=\"14.00\">D</text>\n",
       "</g>\n",
       "<!-- 4886855488&#45;&gt;4886849824 -->\n",
       "<g id=\"edge4\" class=\"edge\">\n",
       "<title>4886855488&#45;&gt;4886849824</title>\n",
       "<path fill=\"none\" stroke=\"black\" d=\"M171,-143.7C171,-136.41 171,-127.73 171,-119.54\"/>\n",
       "<polygon fill=\"black\" stroke=\"black\" points=\"174.5,-119.62 171,-109.62 167.5,-119.62 174.5,-119.62\"/>\n",
       "</g>\n",
       "<!-- 4886855536 -->\n",
       "<g id=\"node4\" class=\"node\">\n",
       "<title>4886855536</title>\n",
       "<ellipse fill=\"none\" stroke=\"black\" cx=\"27\" cy=\"-18\" rx=\"27\" ry=\"18\"/>\n",
       "<text text-anchor=\"middle\" x=\"27\" y=\"-14.3\" font-family=\"Times,serif\" font-size=\"14.00\">A</text>\n",
       "</g>\n",
       "<!-- 4886846416&#45;&gt;4886855536 -->\n",
       "<g id=\"edge1\" class=\"edge\">\n",
       "<title>4886846416&#45;&gt;4886855536</title>\n",
       "<path fill=\"none\" stroke=\"black\" d=\"M84.08,-74.5C74.23,-64.92 61.14,-52.19 49.97,-41.34\"/>\n",
       "<polygon fill=\"black\" stroke=\"black\" points=\"52.59,-39 42.98,-34.54 47.71,-44.02 52.59,-39\"/>\n",
       "</g>\n",
       "<!-- 4886844496 -->\n",
       "<g id=\"node5\" class=\"node\">\n",
       "<title>4886844496</title>\n",
       "<ellipse fill=\"none\" stroke=\"black\" cx=\"99\" cy=\"-18\" rx=\"27\" ry=\"18\"/>\n",
       "<text text-anchor=\"middle\" x=\"99\" y=\"-14.3\" font-family=\"Times,serif\" font-size=\"14.00\">B</text>\n",
       "</g>\n",
       "<!-- 4886846416&#45;&gt;4886844496 -->\n",
       "<g id=\"edge2\" class=\"edge\">\n",
       "<title>4886846416&#45;&gt;4886844496</title>\n",
       "<path fill=\"none\" stroke=\"black\" d=\"M99,-71.7C99,-64.41 99,-55.73 99,-47.54\"/>\n",
       "<polygon fill=\"black\" stroke=\"black\" points=\"102.5,-47.62 99,-37.62 95.5,-47.62 102.5,-47.62\"/>\n",
       "</g>\n",
       "<!-- 4886854000 -->\n",
       "<g id=\"node8\" class=\"node\">\n",
       "<title>4886854000</title>\n",
       "<ellipse fill=\"none\" stroke=\"black\" cx=\"243\" cy=\"-90\" rx=\"27\" ry=\"18\"/>\n",
       "<text text-anchor=\"middle\" x=\"243\" y=\"-86.3\" font-family=\"Times,serif\" font-size=\"14.00\">sub</text>\n",
       "</g>\n",
       "<!-- 4886853952&#45;&gt;4886854000 -->\n",
       "<g id=\"edge8\" class=\"edge\">\n",
       "<title>4886853952&#45;&gt;4886854000</title>\n",
       "<path fill=\"none\" stroke=\"black\" d=\"M243,-143.7C243,-136.41 243,-127.73 243,-119.54\"/>\n",
       "<polygon fill=\"black\" stroke=\"black\" points=\"246.5,-119.62 243,-109.62 239.5,-119.62 246.5,-119.62\"/>\n",
       "</g>\n",
       "<!-- 4886850160 -->\n",
       "<g id=\"node11\" class=\"node\">\n",
       "<title>4886850160</title>\n",
       "<ellipse fill=\"none\" stroke=\"black\" cx=\"315\" cy=\"-90\" rx=\"27\" ry=\"18\"/>\n",
       "<text text-anchor=\"middle\" x=\"315\" y=\"-86.3\" font-family=\"Times,serif\" font-size=\"14.00\">add</text>\n",
       "</g>\n",
       "<!-- 4886853952&#45;&gt;4886850160 -->\n",
       "<g id=\"edge11\" class=\"edge\">\n",
       "<title>4886853952&#45;&gt;4886850160</title>\n",
       "<path fill=\"none\" stroke=\"black\" d=\"M257.92,-146.5C267.77,-136.92 280.86,-124.19 292.03,-113.34\"/>\n",
       "<polygon fill=\"black\" stroke=\"black\" points=\"294.29,-116.02 299.02,-106.54 289.41,-111 294.29,-116.02\"/>\n",
       "</g>\n",
       "<!-- 4886841040 -->\n",
       "<g id=\"node9\" class=\"node\">\n",
       "<title>4886841040</title>\n",
       "<ellipse fill=\"none\" stroke=\"black\" cx=\"171\" cy=\"-18\" rx=\"27\" ry=\"18\"/>\n",
       "<text text-anchor=\"middle\" x=\"171\" y=\"-14.3\" font-family=\"Times,serif\" font-size=\"14.00\">D</text>\n",
       "</g>\n",
       "<!-- 4886854000&#45;&gt;4886841040 -->\n",
       "<g id=\"edge6\" class=\"edge\">\n",
       "<title>4886854000&#45;&gt;4886841040</title>\n",
       "<path fill=\"none\" stroke=\"black\" d=\"M228.08,-74.5C218.23,-64.92 205.14,-52.19 193.97,-41.34\"/>\n",
       "<polygon fill=\"black\" stroke=\"black\" points=\"196.59,-39 186.98,-34.54 191.71,-44.02 196.59,-39\"/>\n",
       "</g>\n",
       "<!-- 4886848000 -->\n",
       "<g id=\"node10\" class=\"node\">\n",
       "<title>4886848000</title>\n",
       "<ellipse fill=\"none\" stroke=\"black\" cx=\"243\" cy=\"-18\" rx=\"27\" ry=\"18\"/>\n",
       "<text text-anchor=\"middle\" x=\"243\" y=\"-14.3\" font-family=\"Times,serif\" font-size=\"14.00\">A</text>\n",
       "</g>\n",
       "<!-- 4886854000&#45;&gt;4886848000 -->\n",
       "<g id=\"edge7\" class=\"edge\">\n",
       "<title>4886854000&#45;&gt;4886848000</title>\n",
       "<path fill=\"none\" stroke=\"black\" d=\"M243,-71.7C243,-64.41 243,-55.73 243,-47.54\"/>\n",
       "<polygon fill=\"black\" stroke=\"black\" points=\"246.5,-47.62 243,-37.62 239.5,-47.62 246.5,-47.62\"/>\n",
       "</g>\n",
       "<!-- 4886853568 -->\n",
       "<g id=\"node12\" class=\"node\">\n",
       "<title>4886853568</title>\n",
       "<ellipse fill=\"none\" stroke=\"black\" cx=\"315\" cy=\"-18\" rx=\"27\" ry=\"18\"/>\n",
       "<text text-anchor=\"middle\" x=\"315\" y=\"-14.3\" font-family=\"Times,serif\" font-size=\"14.00\">B</text>\n",
       "</g>\n",
       "<!-- 4886850160&#45;&gt;4886853568 -->\n",
       "<g id=\"edge9\" class=\"edge\">\n",
       "<title>4886850160&#45;&gt;4886853568</title>\n",
       "<path fill=\"none\" stroke=\"black\" d=\"M315,-71.7C315,-64.41 315,-55.73 315,-47.54\"/>\n",
       "<polygon fill=\"black\" stroke=\"black\" points=\"318.5,-47.62 315,-37.62 311.5,-47.62 318.5,-47.62\"/>\n",
       "</g>\n",
       "<!-- 4886849872 -->\n",
       "<g id=\"node13\" class=\"node\">\n",
       "<title>4886849872</title>\n",
       "<ellipse fill=\"none\" stroke=\"black\" cx=\"387\" cy=\"-18\" rx=\"27\" ry=\"18\"/>\n",
       "<text text-anchor=\"middle\" x=\"387\" y=\"-14.3\" font-family=\"Times,serif\" font-size=\"14.00\">B</text>\n",
       "</g>\n",
       "<!-- 4886850160&#45;&gt;4886849872 -->\n",
       "<g id=\"edge10\" class=\"edge\">\n",
       "<title>4886850160&#45;&gt;4886849872</title>\n",
       "<path fill=\"none\" stroke=\"black\" d=\"M329.92,-74.5C339.77,-64.92 352.86,-52.19 364.03,-41.34\"/>\n",
       "<polygon fill=\"black\" stroke=\"black\" points=\"366.29,-44.02 371.02,-34.54 361.41,-39 366.29,-44.02\"/>\n",
       "</g>\n",
       "</g>\n",
       "</svg>\n"
      ],
      "text/plain": [
       "<graphviz.graphs.Digraph at 0x1232a5510>"
      ]
     },
     "execution_count": 32,
     "metadata": {},
     "output_type": "execute_result"
    }
   ],
   "source": [
    "parent2 = grow_random_tree()\n",
    "print_tree(parent2)"
   ]
  },
  {
   "cell_type": "markdown",
   "metadata": {
    "slideshow": {
     "slide_type": "skip"
    }
   },
   "source": [
    "Now we can produce an offspring by calling our `crossover` function with these two parents:"
   ]
  },
  {
   "cell_type": "code",
   "execution_count": 34,
   "metadata": {
    "slideshow": {
     "slide_type": "fragment"
    }
   },
   "outputs": [
    {
     "data": {
      "image/svg+xml": [
       "<?xml version=\"1.0\" encoding=\"UTF-8\" standalone=\"no\"?>\n",
       "<!DOCTYPE svg PUBLIC \"-//W3C//DTD SVG 1.1//EN\"\n",
       " \"http://www.w3.org/Graphics/SVG/1.1/DTD/svg11.dtd\">\n",
       "<!-- Generated by graphviz version 7.0.6 (20230106.0513)\n",
       " -->\n",
       "<!-- Pages: 1 -->\n",
       "<svg width=\"314pt\" height=\"260pt\"\n",
       " viewBox=\"0.00 0.00 314.00 260.00\" xmlns=\"http://www.w3.org/2000/svg\" xmlns:xlink=\"http://www.w3.org/1999/xlink\">\n",
       "<g id=\"graph0\" class=\"graph\" transform=\"scale(1 1) rotate(0) translate(4 256)\">\n",
       "<polygon fill=\"white\" stroke=\"none\" points=\"-4,4 -4,-256 310,-256 310,4 -4,4\"/>\n",
       "<!-- 4883831712 -->\n",
       "<g id=\"node1\" class=\"node\">\n",
       "<title>4883831712</title>\n",
       "<ellipse fill=\"none\" stroke=\"black\" cx=\"135\" cy=\"-234\" rx=\"27\" ry=\"18\"/>\n",
       "<text text-anchor=\"middle\" x=\"135\" y=\"-230.3\" font-family=\"Times,serif\" font-size=\"14.00\">add</text>\n",
       "</g>\n",
       "<!-- 4887069216 -->\n",
       "<g id=\"node2\" class=\"node\">\n",
       "<title>4887069216</title>\n",
       "<ellipse fill=\"none\" stroke=\"black\" cx=\"99\" cy=\"-162\" rx=\"27\" ry=\"18\"/>\n",
       "<text text-anchor=\"middle\" x=\"99\" y=\"-158.3\" font-family=\"Times,serif\" font-size=\"14.00\">add</text>\n",
       "</g>\n",
       "<!-- 4883831712&#45;&gt;4887069216 -->\n",
       "<g id=\"edge5\" class=\"edge\">\n",
       "<title>4883831712&#45;&gt;4887069216</title>\n",
       "<path fill=\"none\" stroke=\"black\" d=\"M126.65,-216.76C122.42,-208.55 117.19,-198.37 112.42,-189.09\"/>\n",
       "<polygon fill=\"black\" stroke=\"black\" points=\"115.68,-187.79 108,-180.49 109.46,-190.99 115.68,-187.79\"/>\n",
       "</g>\n",
       "<!-- 4887069648 -->\n",
       "<g id=\"node7\" class=\"node\">\n",
       "<title>4887069648</title>\n",
       "<ellipse fill=\"none\" stroke=\"black\" cx=\"171\" cy=\"-162\" rx=\"27\" ry=\"18\"/>\n",
       "<text text-anchor=\"middle\" x=\"171\" y=\"-158.3\" font-family=\"Times,serif\" font-size=\"14.00\">div</text>\n",
       "</g>\n",
       "<!-- 4883831712&#45;&gt;4887069648 -->\n",
       "<g id=\"edge10\" class=\"edge\">\n",
       "<title>4883831712&#45;&gt;4887069648</title>\n",
       "<path fill=\"none\" stroke=\"black\" d=\"M143.35,-216.76C147.58,-208.55 152.81,-198.37 157.58,-189.09\"/>\n",
       "<polygon fill=\"black\" stroke=\"black\" points=\"160.54,-190.99 162,-180.49 154.32,-187.79 160.54,-190.99\"/>\n",
       "</g>\n",
       "<!-- 4887069312 -->\n",
       "<g id=\"node3\" class=\"node\">\n",
       "<title>4887069312</title>\n",
       "<ellipse fill=\"none\" stroke=\"black\" cx=\"27\" cy=\"-90\" rx=\"27\" ry=\"18\"/>\n",
       "<text text-anchor=\"middle\" x=\"27\" y=\"-86.3\" font-family=\"Times,serif\" font-size=\"14.00\">div</text>\n",
       "</g>\n",
       "<!-- 4887069216&#45;&gt;4887069312 -->\n",
       "<g id=\"edge3\" class=\"edge\">\n",
       "<title>4887069216&#45;&gt;4887069312</title>\n",
       "<path fill=\"none\" stroke=\"black\" d=\"M84.08,-146.5C74.23,-136.92 61.14,-124.19 49.97,-113.34\"/>\n",
       "<polygon fill=\"black\" stroke=\"black\" points=\"52.59,-111 42.98,-106.54 47.71,-116.02 52.59,-111\"/>\n",
       "</g>\n",
       "<!-- 4887069696 -->\n",
       "<g id=\"node6\" class=\"node\">\n",
       "<title>4887069696</title>\n",
       "<ellipse fill=\"none\" stroke=\"black\" cx=\"99\" cy=\"-90\" rx=\"27\" ry=\"18\"/>\n",
       "<text text-anchor=\"middle\" x=\"99\" y=\"-86.3\" font-family=\"Times,serif\" font-size=\"14.00\">D</text>\n",
       "</g>\n",
       "<!-- 4887069216&#45;&gt;4887069696 -->\n",
       "<g id=\"edge4\" class=\"edge\">\n",
       "<title>4887069216&#45;&gt;4887069696</title>\n",
       "<path fill=\"none\" stroke=\"black\" d=\"M99,-143.7C99,-136.41 99,-127.73 99,-119.54\"/>\n",
       "<polygon fill=\"black\" stroke=\"black\" points=\"102.5,-119.62 99,-109.62 95.5,-119.62 102.5,-119.62\"/>\n",
       "</g>\n",
       "<!-- 4887069360 -->\n",
       "<g id=\"node4\" class=\"node\">\n",
       "<title>4887069360</title>\n",
       "<ellipse fill=\"none\" stroke=\"black\" cx=\"27\" cy=\"-18\" rx=\"27\" ry=\"18\"/>\n",
       "<text text-anchor=\"middle\" x=\"27\" y=\"-14.3\" font-family=\"Times,serif\" font-size=\"14.00\">A</text>\n",
       "</g>\n",
       "<!-- 4887069312&#45;&gt;4887069360 -->\n",
       "<g id=\"edge1\" class=\"edge\">\n",
       "<title>4887069312&#45;&gt;4887069360</title>\n",
       "<path fill=\"none\" stroke=\"black\" d=\"M27,-71.7C27,-64.41 27,-55.73 27,-47.54\"/>\n",
       "<polygon fill=\"black\" stroke=\"black\" points=\"30.5,-47.62 27,-37.62 23.5,-47.62 30.5,-47.62\"/>\n",
       "</g>\n",
       "<!-- 4887069456 -->\n",
       "<g id=\"node5\" class=\"node\">\n",
       "<title>4887069456</title>\n",
       "<ellipse fill=\"none\" stroke=\"black\" cx=\"99\" cy=\"-18\" rx=\"27\" ry=\"18\"/>\n",
       "<text text-anchor=\"middle\" x=\"99\" y=\"-14.3\" font-family=\"Times,serif\" font-size=\"14.00\">B</text>\n",
       "</g>\n",
       "<!-- 4887069312&#45;&gt;4887069456 -->\n",
       "<g id=\"edge2\" class=\"edge\">\n",
       "<title>4887069312&#45;&gt;4887069456</title>\n",
       "<path fill=\"none\" stroke=\"black\" d=\"M41.92,-74.5C51.77,-64.92 64.86,-52.19 76.03,-41.34\"/>\n",
       "<polygon fill=\"black\" stroke=\"black\" points=\"78.29,-44.02 83.02,-34.54 73.41,-39 78.29,-44.02\"/>\n",
       "</g>\n",
       "<!-- 4887069600 -->\n",
       "<g id=\"node8\" class=\"node\">\n",
       "<title>4887069600</title>\n",
       "<ellipse fill=\"none\" stroke=\"black\" cx=\"171\" cy=\"-90\" rx=\"27\" ry=\"18\"/>\n",
       "<text text-anchor=\"middle\" x=\"171\" y=\"-86.3\" font-family=\"Times,serif\" font-size=\"14.00\">D</text>\n",
       "</g>\n",
       "<!-- 4887069648&#45;&gt;4887069600 -->\n",
       "<g id=\"edge6\" class=\"edge\">\n",
       "<title>4887069648&#45;&gt;4887069600</title>\n",
       "<path fill=\"none\" stroke=\"black\" d=\"M171,-143.7C171,-136.41 171,-127.73 171,-119.54\"/>\n",
       "<polygon fill=\"black\" stroke=\"black\" points=\"174.5,-119.62 171,-109.62 167.5,-119.62 174.5,-119.62\"/>\n",
       "</g>\n",
       "<!-- 4887070320 -->\n",
       "<g id=\"node9\" class=\"node\">\n",
       "<title>4887070320</title>\n",
       "<ellipse fill=\"none\" stroke=\"black\" cx=\"243\" cy=\"-90\" rx=\"27\" ry=\"18\"/>\n",
       "<text text-anchor=\"middle\" x=\"243\" y=\"-86.3\" font-family=\"Times,serif\" font-size=\"14.00\">add</text>\n",
       "</g>\n",
       "<!-- 4887069648&#45;&gt;4887070320 -->\n",
       "<g id=\"edge9\" class=\"edge\">\n",
       "<title>4887069648&#45;&gt;4887070320</title>\n",
       "<path fill=\"none\" stroke=\"black\" d=\"M185.92,-146.5C195.77,-136.92 208.86,-124.19 220.03,-113.34\"/>\n",
       "<polygon fill=\"black\" stroke=\"black\" points=\"222.29,-116.02 227.02,-106.54 217.41,-111 222.29,-116.02\"/>\n",
       "</g>\n",
       "<!-- 4887070032 -->\n",
       "<g id=\"node10\" class=\"node\">\n",
       "<title>4887070032</title>\n",
       "<ellipse fill=\"none\" stroke=\"black\" cx=\"207\" cy=\"-18\" rx=\"27\" ry=\"18\"/>\n",
       "<text text-anchor=\"middle\" x=\"207\" y=\"-14.3\" font-family=\"Times,serif\" font-size=\"14.00\">B</text>\n",
       "</g>\n",
       "<!-- 4887070320&#45;&gt;4887070032 -->\n",
       "<g id=\"edge7\" class=\"edge\">\n",
       "<title>4887070320&#45;&gt;4887070032</title>\n",
       "<path fill=\"none\" stroke=\"black\" d=\"M234.65,-72.76C230.42,-64.55 225.19,-54.37 220.42,-45.09\"/>\n",
       "<polygon fill=\"black\" stroke=\"black\" points=\"223.68,-43.79 216,-36.49 217.46,-46.99 223.68,-43.79\"/>\n",
       "</g>\n",
       "<!-- 4887070080 -->\n",
       "<g id=\"node11\" class=\"node\">\n",
       "<title>4887070080</title>\n",
       "<ellipse fill=\"none\" stroke=\"black\" cx=\"279\" cy=\"-18\" rx=\"27\" ry=\"18\"/>\n",
       "<text text-anchor=\"middle\" x=\"279\" y=\"-14.3\" font-family=\"Times,serif\" font-size=\"14.00\">B</text>\n",
       "</g>\n",
       "<!-- 4887070320&#45;&gt;4887070080 -->\n",
       "<g id=\"edge8\" class=\"edge\">\n",
       "<title>4887070320&#45;&gt;4887070080</title>\n",
       "<path fill=\"none\" stroke=\"black\" d=\"M251.35,-72.76C255.58,-64.55 260.81,-54.37 265.58,-45.09\"/>\n",
       "<polygon fill=\"black\" stroke=\"black\" points=\"268.54,-46.99 270,-36.49 262.32,-43.79 268.54,-46.99\"/>\n",
       "</g>\n",
       "</g>\n",
       "</svg>\n"
      ],
      "text/plain": [
       "<graphviz.graphs.Digraph at 0x1232a5f30>"
      ]
     },
     "execution_count": 34,
     "metadata": {},
     "output_type": "execute_result"
    }
   ],
   "source": [
    "offspring = subtree_crossover(parent1, parent2)\n",
    "print_tree(offspring)"
   ]
  },
  {
   "cell_type": "markdown",
   "metadata": {
    "slideshow": {
     "slide_type": "skip"
    }
   },
   "source": [
    "Often crossover points are not actually sampled with a uniform random distribution though: Given a tree with branching factor 2 or more, the majority of nodes will be leaves, which crossover will mostly cut a single leaf. A common alternative is to apply a 90% probability of choosing a function node, and only a 10% chance of choosing a terminal node."
   ]
  },
  {
   "cell_type": "markdown",
   "metadata": {
    "slideshow": {
     "slide_type": "slide"
    }
   },
   "source": [
    "#### Mutation"
   ]
  },
  {
   "cell_type": "markdown",
   "metadata": {
    "slideshow": {
     "slide_type": "skip"
    }
   },
   "source": [
    "\n",
    "Subtree mutation (a.k.a. headless chicken mutation) is a simple mutation where we pick a random subtree, and replace it with a randomly generated subtree:"
   ]
  },
  {
   "cell_type": "code",
   "execution_count": 35,
   "metadata": {
    "slideshow": {
     "slide_type": "fragment"
    }
   },
   "outputs": [],
   "source": [
    "P_mutate = 0.2"
   ]
  },
  {
   "cell_type": "code",
   "execution_count": 36,
   "metadata": {
    "slideshow": {
     "slide_type": "fragment"
    }
   },
   "outputs": [],
   "source": [
    "def subtree_mutation(tree):\n",
    "    mutation_point = random.randint(1, size(tree))\n",
    "    random_subtree = grow_random_tree(MAX_DEPTH - 2)\n",
    "    insert_subtree_at(tree, random_subtree, Counter(mutation_point))"
   ]
  },
  {
   "cell_type": "code",
   "execution_count": 37,
   "metadata": {
    "slideshow": {
     "slide_type": "subslide"
    }
   },
   "outputs": [
    {
     "data": {
      "image/svg+xml": [
       "<?xml version=\"1.0\" encoding=\"UTF-8\" standalone=\"no\"?>\n",
       "<!DOCTYPE svg PUBLIC \"-//W3C//DTD SVG 1.1//EN\"\n",
       " \"http://www.w3.org/Graphics/SVG/1.1/DTD/svg11.dtd\">\n",
       "<!-- Generated by graphviz version 7.0.6 (20230106.0513)\n",
       " -->\n",
       "<!-- Pages: 1 -->\n",
       "<svg width=\"422pt\" height=\"260pt\"\n",
       " viewBox=\"0.00 0.00 422.00 260.00\" xmlns=\"http://www.w3.org/2000/svg\" xmlns:xlink=\"http://www.w3.org/1999/xlink\">\n",
       "<g id=\"graph0\" class=\"graph\" transform=\"scale(1 1) rotate(0) translate(4 256)\">\n",
       "<polygon fill=\"white\" stroke=\"none\" points=\"-4,4 -4,-256 418,-256 418,4 -4,4\"/>\n",
       "<!-- 4883836752 -->\n",
       "<g id=\"node1\" class=\"node\">\n",
       "<title>4883836752</title>\n",
       "<ellipse fill=\"none\" stroke=\"black\" cx=\"207\" cy=\"-234\" rx=\"27\" ry=\"18\"/>\n",
       "<text text-anchor=\"middle\" x=\"207\" y=\"-230.3\" font-family=\"Times,serif\" font-size=\"14.00\">add</text>\n",
       "</g>\n",
       "<!-- 4883829744 -->\n",
       "<g id=\"node2\" class=\"node\">\n",
       "<title>4883829744</title>\n",
       "<ellipse fill=\"none\" stroke=\"black\" cx=\"171\" cy=\"-162\" rx=\"27\" ry=\"18\"/>\n",
       "<text text-anchor=\"middle\" x=\"171\" y=\"-158.3\" font-family=\"Times,serif\" font-size=\"14.00\">div</text>\n",
       "</g>\n",
       "<!-- 4883836752&#45;&gt;4883829744 -->\n",
       "<g id=\"edge7\" class=\"edge\">\n",
       "<title>4883836752&#45;&gt;4883829744</title>\n",
       "<path fill=\"none\" stroke=\"black\" d=\"M198.65,-216.76C194.42,-208.55 189.19,-198.37 184.42,-189.09\"/>\n",
       "<polygon fill=\"black\" stroke=\"black\" points=\"187.68,-187.79 180,-180.49 181.46,-190.99 187.68,-187.79\"/>\n",
       "</g>\n",
       "<!-- 4886847232 -->\n",
       "<g id=\"node9\" class=\"node\">\n",
       "<title>4886847232</title>\n",
       "<ellipse fill=\"none\" stroke=\"black\" cx=\"243\" cy=\"-162\" rx=\"27\" ry=\"18\"/>\n",
       "<text text-anchor=\"middle\" x=\"243\" y=\"-158.3\" font-family=\"Times,serif\" font-size=\"14.00\">mul</text>\n",
       "</g>\n",
       "<!-- 4883836752&#45;&gt;4886847232 -->\n",
       "<g id=\"edge12\" class=\"edge\">\n",
       "<title>4883836752&#45;&gt;4886847232</title>\n",
       "<path fill=\"none\" stroke=\"black\" d=\"M215.35,-216.76C219.58,-208.55 224.81,-198.37 229.58,-189.09\"/>\n",
       "<polygon fill=\"black\" stroke=\"black\" points=\"232.54,-190.99 234,-180.49 226.32,-187.79 232.54,-190.99\"/>\n",
       "</g>\n",
       "<!-- 4886846368 -->\n",
       "<g id=\"node3\" class=\"node\">\n",
       "<title>4886846368</title>\n",
       "<ellipse fill=\"none\" stroke=\"black\" cx=\"99\" cy=\"-90\" rx=\"27\" ry=\"18\"/>\n",
       "<text text-anchor=\"middle\" x=\"99\" y=\"-86.3\" font-family=\"Times,serif\" font-size=\"14.00\">div</text>\n",
       "</g>\n",
       "<!-- 4883829744&#45;&gt;4886846368 -->\n",
       "<g id=\"edge3\" class=\"edge\">\n",
       "<title>4883829744&#45;&gt;4886846368</title>\n",
       "<path fill=\"none\" stroke=\"black\" d=\"M156.08,-146.5C146.23,-136.92 133.14,-124.19 121.97,-113.34\"/>\n",
       "<polygon fill=\"black\" stroke=\"black\" points=\"124.59,-111 114.98,-106.54 119.71,-116.02 124.59,-111\"/>\n",
       "</g>\n",
       "<!-- 4886855152 -->\n",
       "<g id=\"node6\" class=\"node\">\n",
       "<title>4886855152</title>\n",
       "<ellipse fill=\"none\" stroke=\"black\" cx=\"171\" cy=\"-90\" rx=\"27\" ry=\"18\"/>\n",
       "<text text-anchor=\"middle\" x=\"171\" y=\"-86.3\" font-family=\"Times,serif\" font-size=\"14.00\">mul</text>\n",
       "</g>\n",
       "<!-- 4883829744&#45;&gt;4886855152 -->\n",
       "<g id=\"edge6\" class=\"edge\">\n",
       "<title>4883829744&#45;&gt;4886855152</title>\n",
       "<path fill=\"none\" stroke=\"black\" d=\"M171,-143.7C171,-136.41 171,-127.73 171,-119.54\"/>\n",
       "<polygon fill=\"black\" stroke=\"black\" points=\"174.5,-119.62 171,-109.62 167.5,-119.62 174.5,-119.62\"/>\n",
       "</g>\n",
       "<!-- 4886849584 -->\n",
       "<g id=\"node4\" class=\"node\">\n",
       "<title>4886849584</title>\n",
       "<ellipse fill=\"none\" stroke=\"black\" cx=\"27\" cy=\"-18\" rx=\"27\" ry=\"18\"/>\n",
       "<text text-anchor=\"middle\" x=\"27\" y=\"-14.3\" font-family=\"Times,serif\" font-size=\"14.00\">B</text>\n",
       "</g>\n",
       "<!-- 4886846368&#45;&gt;4886849584 -->\n",
       "<g id=\"edge1\" class=\"edge\">\n",
       "<title>4886846368&#45;&gt;4886849584</title>\n",
       "<path fill=\"none\" stroke=\"black\" d=\"M84.08,-74.5C74.23,-64.92 61.14,-52.19 49.97,-41.34\"/>\n",
       "<polygon fill=\"black\" stroke=\"black\" points=\"52.59,-39 42.98,-34.54 47.71,-44.02 52.59,-39\"/>\n",
       "</g>\n",
       "<!-- 4886852512 -->\n",
       "<g id=\"node5\" class=\"node\">\n",
       "<title>4886852512</title>\n",
       "<ellipse fill=\"none\" stroke=\"black\" cx=\"99\" cy=\"-18\" rx=\"27\" ry=\"18\"/>\n",
       "<text text-anchor=\"middle\" x=\"99\" y=\"-14.3\" font-family=\"Times,serif\" font-size=\"14.00\">4</text>\n",
       "</g>\n",
       "<!-- 4886846368&#45;&gt;4886852512 -->\n",
       "<g id=\"edge2\" class=\"edge\">\n",
       "<title>4886846368&#45;&gt;4886852512</title>\n",
       "<path fill=\"none\" stroke=\"black\" d=\"M99,-71.7C99,-64.41 99,-55.73 99,-47.54\"/>\n",
       "<polygon fill=\"black\" stroke=\"black\" points=\"102.5,-47.62 99,-37.62 95.5,-47.62 102.5,-47.62\"/>\n",
       "</g>\n",
       "<!-- 4886855392 -->\n",
       "<g id=\"node7\" class=\"node\">\n",
       "<title>4886855392</title>\n",
       "<ellipse fill=\"none\" stroke=\"black\" cx=\"171\" cy=\"-18\" rx=\"27\" ry=\"18\"/>\n",
       "<text text-anchor=\"middle\" x=\"171\" y=\"-14.3\" font-family=\"Times,serif\" font-size=\"14.00\">D</text>\n",
       "</g>\n",
       "<!-- 4886855152&#45;&gt;4886855392 -->\n",
       "<g id=\"edge4\" class=\"edge\">\n",
       "<title>4886855152&#45;&gt;4886855392</title>\n",
       "<path fill=\"none\" stroke=\"black\" d=\"M171,-71.7C171,-64.41 171,-55.73 171,-47.54\"/>\n",
       "<polygon fill=\"black\" stroke=\"black\" points=\"174.5,-47.62 171,-37.62 167.5,-47.62 174.5,-47.62\"/>\n",
       "</g>\n",
       "<!-- 4886854912 -->\n",
       "<g id=\"node8\" class=\"node\">\n",
       "<title>4886854912</title>\n",
       "<ellipse fill=\"none\" stroke=\"black\" cx=\"243\" cy=\"-18\" rx=\"27\" ry=\"18\"/>\n",
       "<text text-anchor=\"middle\" x=\"243\" y=\"-14.3\" font-family=\"Times,serif\" font-size=\"14.00\">B</text>\n",
       "</g>\n",
       "<!-- 4886855152&#45;&gt;4886854912 -->\n",
       "<g id=\"edge5\" class=\"edge\">\n",
       "<title>4886855152&#45;&gt;4886854912</title>\n",
       "<path fill=\"none\" stroke=\"black\" d=\"M185.92,-74.5C195.77,-64.92 208.86,-52.19 220.03,-41.34\"/>\n",
       "<polygon fill=\"black\" stroke=\"black\" points=\"222.29,-44.02 227.02,-34.54 217.41,-39 222.29,-44.02\"/>\n",
       "</g>\n",
       "<!-- 4886850592 -->\n",
       "<g id=\"node10\" class=\"node\">\n",
       "<title>4886850592</title>\n",
       "<ellipse fill=\"none\" stroke=\"black\" cx=\"243\" cy=\"-90\" rx=\"27\" ry=\"18\"/>\n",
       "<text text-anchor=\"middle\" x=\"243\" y=\"-86.3\" font-family=\"Times,serif\" font-size=\"14.00\">B</text>\n",
       "</g>\n",
       "<!-- 4886847232&#45;&gt;4886850592 -->\n",
       "<g id=\"edge8\" class=\"edge\">\n",
       "<title>4886847232&#45;&gt;4886850592</title>\n",
       "<path fill=\"none\" stroke=\"black\" d=\"M243,-143.7C243,-136.41 243,-127.73 243,-119.54\"/>\n",
       "<polygon fill=\"black\" stroke=\"black\" points=\"246.5,-119.62 243,-109.62 239.5,-119.62 246.5,-119.62\"/>\n",
       "</g>\n",
       "<!-- 4886851072 -->\n",
       "<g id=\"node11\" class=\"node\">\n",
       "<title>4886851072</title>\n",
       "<ellipse fill=\"none\" stroke=\"black\" cx=\"315\" cy=\"-90\" rx=\"27\" ry=\"18\"/>\n",
       "<text text-anchor=\"middle\" x=\"315\" y=\"-86.3\" font-family=\"Times,serif\" font-size=\"14.00\">div</text>\n",
       "</g>\n",
       "<!-- 4886847232&#45;&gt;4886851072 -->\n",
       "<g id=\"edge11\" class=\"edge\">\n",
       "<title>4886847232&#45;&gt;4886851072</title>\n",
       "<path fill=\"none\" stroke=\"black\" d=\"M257.92,-146.5C267.77,-136.92 280.86,-124.19 292.03,-113.34\"/>\n",
       "<polygon fill=\"black\" stroke=\"black\" points=\"294.29,-116.02 299.02,-106.54 289.41,-111 294.29,-116.02\"/>\n",
       "</g>\n",
       "<!-- 4886839360 -->\n",
       "<g id=\"node12\" class=\"node\">\n",
       "<title>4886839360</title>\n",
       "<ellipse fill=\"none\" stroke=\"black\" cx=\"315\" cy=\"-18\" rx=\"27\" ry=\"18\"/>\n",
       "<text text-anchor=\"middle\" x=\"315\" y=\"-14.3\" font-family=\"Times,serif\" font-size=\"14.00\">D</text>\n",
       "</g>\n",
       "<!-- 4886851072&#45;&gt;4886839360 -->\n",
       "<g id=\"edge9\" class=\"edge\">\n",
       "<title>4886851072&#45;&gt;4886839360</title>\n",
       "<path fill=\"none\" stroke=\"black\" d=\"M315,-71.7C315,-64.41 315,-55.73 315,-47.54\"/>\n",
       "<polygon fill=\"black\" stroke=\"black\" points=\"318.5,-47.62 315,-37.62 311.5,-47.62 318.5,-47.62\"/>\n",
       "</g>\n",
       "<!-- 4886849536 -->\n",
       "<g id=\"node13\" class=\"node\">\n",
       "<title>4886849536</title>\n",
       "<ellipse fill=\"none\" stroke=\"black\" cx=\"387\" cy=\"-18\" rx=\"27\" ry=\"18\"/>\n",
       "<text text-anchor=\"middle\" x=\"387\" y=\"-14.3\" font-family=\"Times,serif\" font-size=\"14.00\">C</text>\n",
       "</g>\n",
       "<!-- 4886851072&#45;&gt;4886849536 -->\n",
       "<g id=\"edge10\" class=\"edge\">\n",
       "<title>4886851072&#45;&gt;4886849536</title>\n",
       "<path fill=\"none\" stroke=\"black\" d=\"M329.92,-74.5C339.77,-64.92 352.86,-52.19 364.03,-41.34\"/>\n",
       "<polygon fill=\"black\" stroke=\"black\" points=\"366.29,-44.02 371.02,-34.54 361.41,-39 366.29,-44.02\"/>\n",
       "</g>\n",
       "</g>\n",
       "</svg>\n"
      ],
      "text/plain": [
       "<graphviz.graphs.Digraph at 0x123196dd0>"
      ]
     },
     "execution_count": 37,
     "metadata": {},
     "output_type": "execute_result"
    }
   ],
   "source": [
    "print_tree(parent1)"
   ]
  },
  {
   "cell_type": "code",
   "execution_count": 38,
   "metadata": {
    "slideshow": {
     "slide_type": "fragment"
    }
   },
   "outputs": [
    {
     "data": {
      "image/svg+xml": [
       "<?xml version=\"1.0\" encoding=\"UTF-8\" standalone=\"no\"?>\n",
       "<!DOCTYPE svg PUBLIC \"-//W3C//DTD SVG 1.1//EN\"\n",
       " \"http://www.w3.org/Graphics/SVG/1.1/DTD/svg11.dtd\">\n",
       "<!-- Generated by graphviz version 7.0.6 (20230106.0513)\n",
       " -->\n",
       "<!-- Pages: 1 -->\n",
       "<svg width=\"422pt\" height=\"332pt\"\n",
       " viewBox=\"0.00 0.00 422.00 332.00\" xmlns=\"http://www.w3.org/2000/svg\" xmlns:xlink=\"http://www.w3.org/1999/xlink\">\n",
       "<g id=\"graph0\" class=\"graph\" transform=\"scale(1 1) rotate(0) translate(4 328)\">\n",
       "<polygon fill=\"white\" stroke=\"none\" points=\"-4,4 -4,-328 418,-328 418,4 -4,4\"/>\n",
       "<!-- 4884820560 -->\n",
       "<g id=\"node1\" class=\"node\">\n",
       "<title>4884820560</title>\n",
       "<ellipse fill=\"none\" stroke=\"black\" cx=\"207\" cy=\"-306\" rx=\"27\" ry=\"18\"/>\n",
       "<text text-anchor=\"middle\" x=\"207\" y=\"-302.3\" font-family=\"Times,serif\" font-size=\"14.00\">add</text>\n",
       "</g>\n",
       "<!-- 4886844160 -->\n",
       "<g id=\"node2\" class=\"node\">\n",
       "<title>4886844160</title>\n",
       "<ellipse fill=\"none\" stroke=\"black\" cx=\"171\" cy=\"-234\" rx=\"27\" ry=\"18\"/>\n",
       "<text text-anchor=\"middle\" x=\"171\" y=\"-230.3\" font-family=\"Times,serif\" font-size=\"14.00\">div</text>\n",
       "</g>\n",
       "<!-- 4884820560&#45;&gt;4886844160 -->\n",
       "<g id=\"edge9\" class=\"edge\">\n",
       "<title>4884820560&#45;&gt;4886844160</title>\n",
       "<path fill=\"none\" stroke=\"black\" d=\"M198.65,-288.76C194.42,-280.55 189.19,-270.37 184.42,-261.09\"/>\n",
       "<polygon fill=\"black\" stroke=\"black\" points=\"187.68,-259.79 180,-252.49 181.46,-262.99 187.68,-259.79\"/>\n",
       "</g>\n",
       "<!-- 4887071616 -->\n",
       "<g id=\"node11\" class=\"node\">\n",
       "<title>4887071616</title>\n",
       "<ellipse fill=\"none\" stroke=\"black\" cx=\"243\" cy=\"-234\" rx=\"27\" ry=\"18\"/>\n",
       "<text text-anchor=\"middle\" x=\"243\" y=\"-230.3\" font-family=\"Times,serif\" font-size=\"14.00\">mul</text>\n",
       "</g>\n",
       "<!-- 4884820560&#45;&gt;4887071616 -->\n",
       "<g id=\"edge14\" class=\"edge\">\n",
       "<title>4884820560&#45;&gt;4887071616</title>\n",
       "<path fill=\"none\" stroke=\"black\" d=\"M215.35,-288.76C219.58,-280.55 224.81,-270.37 229.58,-261.09\"/>\n",
       "<polygon fill=\"black\" stroke=\"black\" points=\"232.54,-262.99 234,-252.49 226.32,-259.79 232.54,-262.99\"/>\n",
       "</g>\n",
       "<!-- 4886853760 -->\n",
       "<g id=\"node3\" class=\"node\">\n",
       "<title>4886853760</title>\n",
       "<ellipse fill=\"none\" stroke=\"black\" cx=\"99\" cy=\"-162\" rx=\"27\" ry=\"18\"/>\n",
       "<text text-anchor=\"middle\" x=\"99\" y=\"-158.3\" font-family=\"Times,serif\" font-size=\"14.00\">div</text>\n",
       "</g>\n",
       "<!-- 4886844160&#45;&gt;4886853760 -->\n",
       "<g id=\"edge3\" class=\"edge\">\n",
       "<title>4886844160&#45;&gt;4886853760</title>\n",
       "<path fill=\"none\" stroke=\"black\" d=\"M156.08,-218.5C146.23,-208.92 133.14,-196.19 121.97,-185.34\"/>\n",
       "<polygon fill=\"black\" stroke=\"black\" points=\"124.59,-183 114.98,-178.54 119.71,-188.02 124.59,-183\"/>\n",
       "</g>\n",
       "<!-- 4886855248 -->\n",
       "<g id=\"node6\" class=\"node\">\n",
       "<title>4886855248</title>\n",
       "<ellipse fill=\"none\" stroke=\"black\" cx=\"171\" cy=\"-162\" rx=\"27\" ry=\"18\"/>\n",
       "<text text-anchor=\"middle\" x=\"171\" y=\"-158.3\" font-family=\"Times,serif\" font-size=\"14.00\">mul</text>\n",
       "</g>\n",
       "<!-- 4886844160&#45;&gt;4886855248 -->\n",
       "<g id=\"edge8\" class=\"edge\">\n",
       "<title>4886844160&#45;&gt;4886855248</title>\n",
       "<path fill=\"none\" stroke=\"black\" d=\"M171,-215.7C171,-208.41 171,-199.73 171,-191.54\"/>\n",
       "<polygon fill=\"black\" stroke=\"black\" points=\"174.5,-191.62 171,-181.62 167.5,-191.62 174.5,-191.62\"/>\n",
       "</g>\n",
       "<!-- 4886850688 -->\n",
       "<g id=\"node4\" class=\"node\">\n",
       "<title>4886850688</title>\n",
       "<ellipse fill=\"none\" stroke=\"black\" cx=\"27\" cy=\"-90\" rx=\"27\" ry=\"18\"/>\n",
       "<text text-anchor=\"middle\" x=\"27\" y=\"-86.3\" font-family=\"Times,serif\" font-size=\"14.00\">B</text>\n",
       "</g>\n",
       "<!-- 4886853760&#45;&gt;4886850688 -->\n",
       "<g id=\"edge1\" class=\"edge\">\n",
       "<title>4886853760&#45;&gt;4886850688</title>\n",
       "<path fill=\"none\" stroke=\"black\" d=\"M84.08,-146.5C74.23,-136.92 61.14,-124.19 49.97,-113.34\"/>\n",
       "<polygon fill=\"black\" stroke=\"black\" points=\"52.59,-111 42.98,-106.54 47.71,-116.02 52.59,-111\"/>\n",
       "</g>\n",
       "<!-- 4886844208 -->\n",
       "<g id=\"node5\" class=\"node\">\n",
       "<title>4886844208</title>\n",
       "<ellipse fill=\"none\" stroke=\"black\" cx=\"99\" cy=\"-90\" rx=\"27\" ry=\"18\"/>\n",
       "<text text-anchor=\"middle\" x=\"99\" y=\"-86.3\" font-family=\"Times,serif\" font-size=\"14.00\">4</text>\n",
       "</g>\n",
       "<!-- 4886853760&#45;&gt;4886844208 -->\n",
       "<g id=\"edge2\" class=\"edge\">\n",
       "<title>4886853760&#45;&gt;4886844208</title>\n",
       "<path fill=\"none\" stroke=\"black\" d=\"M99,-143.7C99,-136.41 99,-127.73 99,-119.54\"/>\n",
       "<polygon fill=\"black\" stroke=\"black\" points=\"102.5,-119.62 99,-109.62 95.5,-119.62 102.5,-119.62\"/>\n",
       "</g>\n",
       "<!-- 4887071520 -->\n",
       "<g id=\"node7\" class=\"node\">\n",
       "<title>4887071520</title>\n",
       "<ellipse fill=\"none\" stroke=\"black\" cx=\"171\" cy=\"-90\" rx=\"27\" ry=\"18\"/>\n",
       "<text text-anchor=\"middle\" x=\"171\" y=\"-86.3\" font-family=\"Times,serif\" font-size=\"14.00\">D</text>\n",
       "</g>\n",
       "<!-- 4886855248&#45;&gt;4887071520 -->\n",
       "<g id=\"edge4\" class=\"edge\">\n",
       "<title>4886855248&#45;&gt;4887071520</title>\n",
       "<path fill=\"none\" stroke=\"black\" d=\"M171,-143.7C171,-136.41 171,-127.73 171,-119.54\"/>\n",
       "<polygon fill=\"black\" stroke=\"black\" points=\"174.5,-119.62 171,-109.62 167.5,-119.62 174.5,-119.62\"/>\n",
       "</g>\n",
       "<!-- 4887071424 -->\n",
       "<g id=\"node8\" class=\"node\">\n",
       "<title>4887071424</title>\n",
       "<ellipse fill=\"none\" stroke=\"black\" cx=\"243\" cy=\"-90\" rx=\"27\" ry=\"18\"/>\n",
       "<text text-anchor=\"middle\" x=\"243\" y=\"-86.3\" font-family=\"Times,serif\" font-size=\"14.00\">mul</text>\n",
       "</g>\n",
       "<!-- 4886855248&#45;&gt;4887071424 -->\n",
       "<g id=\"edge7\" class=\"edge\">\n",
       "<title>4886855248&#45;&gt;4887071424</title>\n",
       "<path fill=\"none\" stroke=\"black\" d=\"M185.92,-146.5C195.77,-136.92 208.86,-124.19 220.03,-113.34\"/>\n",
       "<polygon fill=\"black\" stroke=\"black\" points=\"222.29,-116.02 227.02,-106.54 217.41,-111 222.29,-116.02\"/>\n",
       "</g>\n",
       "<!-- 4886855584 -->\n",
       "<g id=\"node9\" class=\"node\">\n",
       "<title>4886855584</title>\n",
       "<ellipse fill=\"none\" stroke=\"black\" cx=\"207\" cy=\"-18\" rx=\"27\" ry=\"18\"/>\n",
       "<text text-anchor=\"middle\" x=\"207\" y=\"-14.3\" font-family=\"Times,serif\" font-size=\"14.00\">&#45;3</text>\n",
       "</g>\n",
       "<!-- 4887071424&#45;&gt;4886855584 -->\n",
       "<g id=\"edge5\" class=\"edge\">\n",
       "<title>4887071424&#45;&gt;4886855584</title>\n",
       "<path fill=\"none\" stroke=\"black\" d=\"M234.65,-72.76C230.42,-64.55 225.19,-54.37 220.42,-45.09\"/>\n",
       "<polygon fill=\"black\" stroke=\"black\" points=\"223.68,-43.79 216,-36.49 217.46,-46.99 223.68,-43.79\"/>\n",
       "</g>\n",
       "<!-- 4887070320 -->\n",
       "<g id=\"node10\" class=\"node\">\n",
       "<title>4887070320</title>\n",
       "<ellipse fill=\"none\" stroke=\"black\" cx=\"279\" cy=\"-18\" rx=\"27\" ry=\"18\"/>\n",
       "<text text-anchor=\"middle\" x=\"279\" y=\"-14.3\" font-family=\"Times,serif\" font-size=\"14.00\">1</text>\n",
       "</g>\n",
       "<!-- 4887071424&#45;&gt;4887070320 -->\n",
       "<g id=\"edge6\" class=\"edge\">\n",
       "<title>4887071424&#45;&gt;4887070320</title>\n",
       "<path fill=\"none\" stroke=\"black\" d=\"M251.35,-72.76C255.58,-64.55 260.81,-54.37 265.58,-45.09\"/>\n",
       "<polygon fill=\"black\" stroke=\"black\" points=\"268.54,-46.99 270,-36.49 262.32,-43.79 268.54,-46.99\"/>\n",
       "</g>\n",
       "<!-- 4887071712 -->\n",
       "<g id=\"node12\" class=\"node\">\n",
       "<title>4887071712</title>\n",
       "<ellipse fill=\"none\" stroke=\"black\" cx=\"243\" cy=\"-162\" rx=\"27\" ry=\"18\"/>\n",
       "<text text-anchor=\"middle\" x=\"243\" y=\"-158.3\" font-family=\"Times,serif\" font-size=\"14.00\">B</text>\n",
       "</g>\n",
       "<!-- 4887071616&#45;&gt;4887071712 -->\n",
       "<g id=\"edge10\" class=\"edge\">\n",
       "<title>4887071616&#45;&gt;4887071712</title>\n",
       "<path fill=\"none\" stroke=\"black\" d=\"M243,-215.7C243,-208.41 243,-199.73 243,-191.54\"/>\n",
       "<polygon fill=\"black\" stroke=\"black\" points=\"246.5,-191.62 243,-181.62 239.5,-191.62 246.5,-191.62\"/>\n",
       "</g>\n",
       "<!-- 4887071088 -->\n",
       "<g id=\"node13\" class=\"node\">\n",
       "<title>4887071088</title>\n",
       "<ellipse fill=\"none\" stroke=\"black\" cx=\"315\" cy=\"-162\" rx=\"27\" ry=\"18\"/>\n",
       "<text text-anchor=\"middle\" x=\"315\" y=\"-158.3\" font-family=\"Times,serif\" font-size=\"14.00\">div</text>\n",
       "</g>\n",
       "<!-- 4887071616&#45;&gt;4887071088 -->\n",
       "<g id=\"edge13\" class=\"edge\">\n",
       "<title>4887071616&#45;&gt;4887071088</title>\n",
       "<path fill=\"none\" stroke=\"black\" d=\"M257.92,-218.5C267.77,-208.92 280.86,-196.19 292.03,-185.34\"/>\n",
       "<polygon fill=\"black\" stroke=\"black\" points=\"294.29,-188.02 299.02,-178.54 289.41,-183 294.29,-188.02\"/>\n",
       "</g>\n",
       "<!-- 4887070992 -->\n",
       "<g id=\"node14\" class=\"node\">\n",
       "<title>4887070992</title>\n",
       "<ellipse fill=\"none\" stroke=\"black\" cx=\"315\" cy=\"-90\" rx=\"27\" ry=\"18\"/>\n",
       "<text text-anchor=\"middle\" x=\"315\" y=\"-86.3\" font-family=\"Times,serif\" font-size=\"14.00\">D</text>\n",
       "</g>\n",
       "<!-- 4887071088&#45;&gt;4887070992 -->\n",
       "<g id=\"edge11\" class=\"edge\">\n",
       "<title>4887071088&#45;&gt;4887070992</title>\n",
       "<path fill=\"none\" stroke=\"black\" d=\"M315,-143.7C315,-136.41 315,-127.73 315,-119.54\"/>\n",
       "<polygon fill=\"black\" stroke=\"black\" points=\"318.5,-119.62 315,-109.62 311.5,-119.62 318.5,-119.62\"/>\n",
       "</g>\n",
       "<!-- 4887070896 -->\n",
       "<g id=\"node15\" class=\"node\">\n",
       "<title>4887070896</title>\n",
       "<ellipse fill=\"none\" stroke=\"black\" cx=\"387\" cy=\"-90\" rx=\"27\" ry=\"18\"/>\n",
       "<text text-anchor=\"middle\" x=\"387\" y=\"-86.3\" font-family=\"Times,serif\" font-size=\"14.00\">C</text>\n",
       "</g>\n",
       "<!-- 4887071088&#45;&gt;4887070896 -->\n",
       "<g id=\"edge12\" class=\"edge\">\n",
       "<title>4887071088&#45;&gt;4887070896</title>\n",
       "<path fill=\"none\" stroke=\"black\" d=\"M329.92,-146.5C339.77,-136.92 352.86,-124.19 364.03,-113.34\"/>\n",
       "<polygon fill=\"black\" stroke=\"black\" points=\"366.29,-116.02 371.02,-106.54 361.41,-111 366.29,-116.02\"/>\n",
       "</g>\n",
       "</g>\n",
       "</svg>\n"
      ],
      "text/plain": [
       "<graphviz.graphs.Digraph at 0x123195ba0>"
      ]
     },
     "execution_count": 38,
     "metadata": {},
     "output_type": "execute_result"
    }
   ],
   "source": [
    "offspring = copy(parent1)\n",
    "subtree_mutation(offspring)\n",
    "print_tree(offspring)"
   ]
  },
  {
   "cell_type": "markdown",
   "metadata": {
    "slideshow": {
     "slide_type": "skip"
    }
   },
   "source": [
    "An alternative mutation operator is _point mutation_ where, for each node, we replace the node with a certain probability with another node of the same arity."
   ]
  },
  {
   "cell_type": "code",
   "execution_count": 39,
   "metadata": {
    "slideshow": {
     "slide_type": "slide"
    }
   },
   "outputs": [],
   "source": [
    "def point_mutation(tree):\n",
    "    if random.random() < P_mutate:\n",
    "        if tree.data in FUNCTIONS: \n",
    "            tree.data = random.choice(FUNCTIONS)\n",
    "        else:\n",
    "            tree.data = get_random_terminal()\n",
    "    \n",
    "    if tree.left:\n",
    "        point_mutation(tree.left)\n",
    "    if tree.right:\n",
    "        point_mutation(tree.right)"
   ]
  },
  {
   "cell_type": "code",
   "execution_count": 40,
   "metadata": {
    "slideshow": {
     "slide_type": "slide"
    }
   },
   "outputs": [
    {
     "data": {
      "image/svg+xml": [
       "<?xml version=\"1.0\" encoding=\"UTF-8\" standalone=\"no\"?>\n",
       "<!DOCTYPE svg PUBLIC \"-//W3C//DTD SVG 1.1//EN\"\n",
       " \"http://www.w3.org/Graphics/SVG/1.1/DTD/svg11.dtd\">\n",
       "<!-- Generated by graphviz version 7.0.6 (20230106.0513)\n",
       " -->\n",
       "<!-- Pages: 1 -->\n",
       "<svg width=\"422pt\" height=\"260pt\"\n",
       " viewBox=\"0.00 0.00 422.00 260.00\" xmlns=\"http://www.w3.org/2000/svg\" xmlns:xlink=\"http://www.w3.org/1999/xlink\">\n",
       "<g id=\"graph0\" class=\"graph\" transform=\"scale(1 1) rotate(0) translate(4 256)\">\n",
       "<polygon fill=\"white\" stroke=\"none\" points=\"-4,4 -4,-256 418,-256 418,4 -4,4\"/>\n",
       "<!-- 4883836752 -->\n",
       "<g id=\"node1\" class=\"node\">\n",
       "<title>4883836752</title>\n",
       "<ellipse fill=\"none\" stroke=\"black\" cx=\"207\" cy=\"-234\" rx=\"27\" ry=\"18\"/>\n",
       "<text text-anchor=\"middle\" x=\"207\" y=\"-230.3\" font-family=\"Times,serif\" font-size=\"14.00\">add</text>\n",
       "</g>\n",
       "<!-- 4883829744 -->\n",
       "<g id=\"node2\" class=\"node\">\n",
       "<title>4883829744</title>\n",
       "<ellipse fill=\"none\" stroke=\"black\" cx=\"171\" cy=\"-162\" rx=\"27\" ry=\"18\"/>\n",
       "<text text-anchor=\"middle\" x=\"171\" y=\"-158.3\" font-family=\"Times,serif\" font-size=\"14.00\">div</text>\n",
       "</g>\n",
       "<!-- 4883836752&#45;&gt;4883829744 -->\n",
       "<g id=\"edge7\" class=\"edge\">\n",
       "<title>4883836752&#45;&gt;4883829744</title>\n",
       "<path fill=\"none\" stroke=\"black\" d=\"M198.65,-216.76C194.42,-208.55 189.19,-198.37 184.42,-189.09\"/>\n",
       "<polygon fill=\"black\" stroke=\"black\" points=\"187.68,-187.79 180,-180.49 181.46,-190.99 187.68,-187.79\"/>\n",
       "</g>\n",
       "<!-- 4886847232 -->\n",
       "<g id=\"node9\" class=\"node\">\n",
       "<title>4886847232</title>\n",
       "<ellipse fill=\"none\" stroke=\"black\" cx=\"243\" cy=\"-162\" rx=\"27\" ry=\"18\"/>\n",
       "<text text-anchor=\"middle\" x=\"243\" y=\"-158.3\" font-family=\"Times,serif\" font-size=\"14.00\">mul</text>\n",
       "</g>\n",
       "<!-- 4883836752&#45;&gt;4886847232 -->\n",
       "<g id=\"edge12\" class=\"edge\">\n",
       "<title>4883836752&#45;&gt;4886847232</title>\n",
       "<path fill=\"none\" stroke=\"black\" d=\"M215.35,-216.76C219.58,-208.55 224.81,-198.37 229.58,-189.09\"/>\n",
       "<polygon fill=\"black\" stroke=\"black\" points=\"232.54,-190.99 234,-180.49 226.32,-187.79 232.54,-190.99\"/>\n",
       "</g>\n",
       "<!-- 4886846368 -->\n",
       "<g id=\"node3\" class=\"node\">\n",
       "<title>4886846368</title>\n",
       "<ellipse fill=\"none\" stroke=\"black\" cx=\"99\" cy=\"-90\" rx=\"27\" ry=\"18\"/>\n",
       "<text text-anchor=\"middle\" x=\"99\" y=\"-86.3\" font-family=\"Times,serif\" font-size=\"14.00\">div</text>\n",
       "</g>\n",
       "<!-- 4883829744&#45;&gt;4886846368 -->\n",
       "<g id=\"edge3\" class=\"edge\">\n",
       "<title>4883829744&#45;&gt;4886846368</title>\n",
       "<path fill=\"none\" stroke=\"black\" d=\"M156.08,-146.5C146.23,-136.92 133.14,-124.19 121.97,-113.34\"/>\n",
       "<polygon fill=\"black\" stroke=\"black\" points=\"124.59,-111 114.98,-106.54 119.71,-116.02 124.59,-111\"/>\n",
       "</g>\n",
       "<!-- 4886855152 -->\n",
       "<g id=\"node6\" class=\"node\">\n",
       "<title>4886855152</title>\n",
       "<ellipse fill=\"none\" stroke=\"black\" cx=\"171\" cy=\"-90\" rx=\"27\" ry=\"18\"/>\n",
       "<text text-anchor=\"middle\" x=\"171\" y=\"-86.3\" font-family=\"Times,serif\" font-size=\"14.00\">mul</text>\n",
       "</g>\n",
       "<!-- 4883829744&#45;&gt;4886855152 -->\n",
       "<g id=\"edge6\" class=\"edge\">\n",
       "<title>4883829744&#45;&gt;4886855152</title>\n",
       "<path fill=\"none\" stroke=\"black\" d=\"M171,-143.7C171,-136.41 171,-127.73 171,-119.54\"/>\n",
       "<polygon fill=\"black\" stroke=\"black\" points=\"174.5,-119.62 171,-109.62 167.5,-119.62 174.5,-119.62\"/>\n",
       "</g>\n",
       "<!-- 4886849584 -->\n",
       "<g id=\"node4\" class=\"node\">\n",
       "<title>4886849584</title>\n",
       "<ellipse fill=\"none\" stroke=\"black\" cx=\"27\" cy=\"-18\" rx=\"27\" ry=\"18\"/>\n",
       "<text text-anchor=\"middle\" x=\"27\" y=\"-14.3\" font-family=\"Times,serif\" font-size=\"14.00\">B</text>\n",
       "</g>\n",
       "<!-- 4886846368&#45;&gt;4886849584 -->\n",
       "<g id=\"edge1\" class=\"edge\">\n",
       "<title>4886846368&#45;&gt;4886849584</title>\n",
       "<path fill=\"none\" stroke=\"black\" d=\"M84.08,-74.5C74.23,-64.92 61.14,-52.19 49.97,-41.34\"/>\n",
       "<polygon fill=\"black\" stroke=\"black\" points=\"52.59,-39 42.98,-34.54 47.71,-44.02 52.59,-39\"/>\n",
       "</g>\n",
       "<!-- 4886852512 -->\n",
       "<g id=\"node5\" class=\"node\">\n",
       "<title>4886852512</title>\n",
       "<ellipse fill=\"none\" stroke=\"black\" cx=\"99\" cy=\"-18\" rx=\"27\" ry=\"18\"/>\n",
       "<text text-anchor=\"middle\" x=\"99\" y=\"-14.3\" font-family=\"Times,serif\" font-size=\"14.00\">4</text>\n",
       "</g>\n",
       "<!-- 4886846368&#45;&gt;4886852512 -->\n",
       "<g id=\"edge2\" class=\"edge\">\n",
       "<title>4886846368&#45;&gt;4886852512</title>\n",
       "<path fill=\"none\" stroke=\"black\" d=\"M99,-71.7C99,-64.41 99,-55.73 99,-47.54\"/>\n",
       "<polygon fill=\"black\" stroke=\"black\" points=\"102.5,-47.62 99,-37.62 95.5,-47.62 102.5,-47.62\"/>\n",
       "</g>\n",
       "<!-- 4886855392 -->\n",
       "<g id=\"node7\" class=\"node\">\n",
       "<title>4886855392</title>\n",
       "<ellipse fill=\"none\" stroke=\"black\" cx=\"171\" cy=\"-18\" rx=\"27\" ry=\"18\"/>\n",
       "<text text-anchor=\"middle\" x=\"171\" y=\"-14.3\" font-family=\"Times,serif\" font-size=\"14.00\">D</text>\n",
       "</g>\n",
       "<!-- 4886855152&#45;&gt;4886855392 -->\n",
       "<g id=\"edge4\" class=\"edge\">\n",
       "<title>4886855152&#45;&gt;4886855392</title>\n",
       "<path fill=\"none\" stroke=\"black\" d=\"M171,-71.7C171,-64.41 171,-55.73 171,-47.54\"/>\n",
       "<polygon fill=\"black\" stroke=\"black\" points=\"174.5,-47.62 171,-37.62 167.5,-47.62 174.5,-47.62\"/>\n",
       "</g>\n",
       "<!-- 4886854912 -->\n",
       "<g id=\"node8\" class=\"node\">\n",
       "<title>4886854912</title>\n",
       "<ellipse fill=\"none\" stroke=\"black\" cx=\"243\" cy=\"-18\" rx=\"27\" ry=\"18\"/>\n",
       "<text text-anchor=\"middle\" x=\"243\" y=\"-14.3\" font-family=\"Times,serif\" font-size=\"14.00\">B</text>\n",
       "</g>\n",
       "<!-- 4886855152&#45;&gt;4886854912 -->\n",
       "<g id=\"edge5\" class=\"edge\">\n",
       "<title>4886855152&#45;&gt;4886854912</title>\n",
       "<path fill=\"none\" stroke=\"black\" d=\"M185.92,-74.5C195.77,-64.92 208.86,-52.19 220.03,-41.34\"/>\n",
       "<polygon fill=\"black\" stroke=\"black\" points=\"222.29,-44.02 227.02,-34.54 217.41,-39 222.29,-44.02\"/>\n",
       "</g>\n",
       "<!-- 4886850592 -->\n",
       "<g id=\"node10\" class=\"node\">\n",
       "<title>4886850592</title>\n",
       "<ellipse fill=\"none\" stroke=\"black\" cx=\"243\" cy=\"-90\" rx=\"27\" ry=\"18\"/>\n",
       "<text text-anchor=\"middle\" x=\"243\" y=\"-86.3\" font-family=\"Times,serif\" font-size=\"14.00\">B</text>\n",
       "</g>\n",
       "<!-- 4886847232&#45;&gt;4886850592 -->\n",
       "<g id=\"edge8\" class=\"edge\">\n",
       "<title>4886847232&#45;&gt;4886850592</title>\n",
       "<path fill=\"none\" stroke=\"black\" d=\"M243,-143.7C243,-136.41 243,-127.73 243,-119.54\"/>\n",
       "<polygon fill=\"black\" stroke=\"black\" points=\"246.5,-119.62 243,-109.62 239.5,-119.62 246.5,-119.62\"/>\n",
       "</g>\n",
       "<!-- 4886851072 -->\n",
       "<g id=\"node11\" class=\"node\">\n",
       "<title>4886851072</title>\n",
       "<ellipse fill=\"none\" stroke=\"black\" cx=\"315\" cy=\"-90\" rx=\"27\" ry=\"18\"/>\n",
       "<text text-anchor=\"middle\" x=\"315\" y=\"-86.3\" font-family=\"Times,serif\" font-size=\"14.00\">div</text>\n",
       "</g>\n",
       "<!-- 4886847232&#45;&gt;4886851072 -->\n",
       "<g id=\"edge11\" class=\"edge\">\n",
       "<title>4886847232&#45;&gt;4886851072</title>\n",
       "<path fill=\"none\" stroke=\"black\" d=\"M257.92,-146.5C267.77,-136.92 280.86,-124.19 292.03,-113.34\"/>\n",
       "<polygon fill=\"black\" stroke=\"black\" points=\"294.29,-116.02 299.02,-106.54 289.41,-111 294.29,-116.02\"/>\n",
       "</g>\n",
       "<!-- 4886839360 -->\n",
       "<g id=\"node12\" class=\"node\">\n",
       "<title>4886839360</title>\n",
       "<ellipse fill=\"none\" stroke=\"black\" cx=\"315\" cy=\"-18\" rx=\"27\" ry=\"18\"/>\n",
       "<text text-anchor=\"middle\" x=\"315\" y=\"-14.3\" font-family=\"Times,serif\" font-size=\"14.00\">D</text>\n",
       "</g>\n",
       "<!-- 4886851072&#45;&gt;4886839360 -->\n",
       "<g id=\"edge9\" class=\"edge\">\n",
       "<title>4886851072&#45;&gt;4886839360</title>\n",
       "<path fill=\"none\" stroke=\"black\" d=\"M315,-71.7C315,-64.41 315,-55.73 315,-47.54\"/>\n",
       "<polygon fill=\"black\" stroke=\"black\" points=\"318.5,-47.62 315,-37.62 311.5,-47.62 318.5,-47.62\"/>\n",
       "</g>\n",
       "<!-- 4886849536 -->\n",
       "<g id=\"node13\" class=\"node\">\n",
       "<title>4886849536</title>\n",
       "<ellipse fill=\"none\" stroke=\"black\" cx=\"387\" cy=\"-18\" rx=\"27\" ry=\"18\"/>\n",
       "<text text-anchor=\"middle\" x=\"387\" y=\"-14.3\" font-family=\"Times,serif\" font-size=\"14.00\">C</text>\n",
       "</g>\n",
       "<!-- 4886851072&#45;&gt;4886849536 -->\n",
       "<g id=\"edge10\" class=\"edge\">\n",
       "<title>4886851072&#45;&gt;4886849536</title>\n",
       "<path fill=\"none\" stroke=\"black\" d=\"M329.92,-74.5C339.77,-64.92 352.86,-52.19 364.03,-41.34\"/>\n",
       "<polygon fill=\"black\" stroke=\"black\" points=\"366.29,-44.02 371.02,-34.54 361.41,-39 366.29,-44.02\"/>\n",
       "</g>\n",
       "</g>\n",
       "</svg>\n"
      ],
      "text/plain": [
       "<graphviz.graphs.Digraph at 0x1231962f0>"
      ]
     },
     "execution_count": 40,
     "metadata": {},
     "output_type": "execute_result"
    }
   ],
   "source": [
    "print_tree(parent1)"
   ]
  },
  {
   "cell_type": "code",
   "execution_count": 41,
   "metadata": {
    "slideshow": {
     "slide_type": "fragment"
    }
   },
   "outputs": [
    {
     "data": {
      "image/svg+xml": [
       "<?xml version=\"1.0\" encoding=\"UTF-8\" standalone=\"no\"?>\n",
       "<!DOCTYPE svg PUBLIC \"-//W3C//DTD SVG 1.1//EN\"\n",
       " \"http://www.w3.org/Graphics/SVG/1.1/DTD/svg11.dtd\">\n",
       "<!-- Generated by graphviz version 7.0.6 (20230106.0513)\n",
       " -->\n",
       "<!-- Pages: 1 -->\n",
       "<svg width=\"422pt\" height=\"260pt\"\n",
       " viewBox=\"0.00 0.00 422.00 260.00\" xmlns=\"http://www.w3.org/2000/svg\" xmlns:xlink=\"http://www.w3.org/1999/xlink\">\n",
       "<g id=\"graph0\" class=\"graph\" transform=\"scale(1 1) rotate(0) translate(4 256)\">\n",
       "<polygon fill=\"white\" stroke=\"none\" points=\"-4,4 -4,-256 418,-256 418,4 -4,4\"/>\n",
       "<!-- 4884943568 -->\n",
       "<g id=\"node1\" class=\"node\">\n",
       "<title>4884943568</title>\n",
       "<ellipse fill=\"none\" stroke=\"black\" cx=\"207\" cy=\"-234\" rx=\"27\" ry=\"18\"/>\n",
       "<text text-anchor=\"middle\" x=\"207\" y=\"-230.3\" font-family=\"Times,serif\" font-size=\"14.00\">add</text>\n",
       "</g>\n",
       "<!-- 4887075504 -->\n",
       "<g id=\"node2\" class=\"node\">\n",
       "<title>4887075504</title>\n",
       "<ellipse fill=\"none\" stroke=\"black\" cx=\"171\" cy=\"-162\" rx=\"27\" ry=\"18\"/>\n",
       "<text text-anchor=\"middle\" x=\"171\" y=\"-158.3\" font-family=\"Times,serif\" font-size=\"14.00\">div</text>\n",
       "</g>\n",
       "<!-- 4884943568&#45;&gt;4887075504 -->\n",
       "<g id=\"edge7\" class=\"edge\">\n",
       "<title>4884943568&#45;&gt;4887075504</title>\n",
       "<path fill=\"none\" stroke=\"black\" d=\"M198.65,-216.76C194.42,-208.55 189.19,-198.37 184.42,-189.09\"/>\n",
       "<polygon fill=\"black\" stroke=\"black\" points=\"187.68,-187.79 180,-180.49 181.46,-190.99 187.68,-187.79\"/>\n",
       "</g>\n",
       "<!-- 4887069456 -->\n",
       "<g id=\"node9\" class=\"node\">\n",
       "<title>4887069456</title>\n",
       "<ellipse fill=\"none\" stroke=\"black\" cx=\"243\" cy=\"-162\" rx=\"27\" ry=\"18\"/>\n",
       "<text text-anchor=\"middle\" x=\"243\" y=\"-158.3\" font-family=\"Times,serif\" font-size=\"14.00\">sub</text>\n",
       "</g>\n",
       "<!-- 4884943568&#45;&gt;4887069456 -->\n",
       "<g id=\"edge12\" class=\"edge\">\n",
       "<title>4884943568&#45;&gt;4887069456</title>\n",
       "<path fill=\"none\" stroke=\"black\" d=\"M215.35,-216.76C219.58,-208.55 224.81,-198.37 229.58,-189.09\"/>\n",
       "<polygon fill=\"black\" stroke=\"black\" points=\"232.54,-190.99 234,-180.49 226.32,-187.79 232.54,-190.99\"/>\n",
       "</g>\n",
       "<!-- 4887075936 -->\n",
       "<g id=\"node3\" class=\"node\">\n",
       "<title>4887075936</title>\n",
       "<ellipse fill=\"none\" stroke=\"black\" cx=\"99\" cy=\"-90\" rx=\"27\" ry=\"18\"/>\n",
       "<text text-anchor=\"middle\" x=\"99\" y=\"-86.3\" font-family=\"Times,serif\" font-size=\"14.00\">div</text>\n",
       "</g>\n",
       "<!-- 4887075504&#45;&gt;4887075936 -->\n",
       "<g id=\"edge3\" class=\"edge\">\n",
       "<title>4887075504&#45;&gt;4887075936</title>\n",
       "<path fill=\"none\" stroke=\"black\" d=\"M156.08,-146.5C146.23,-136.92 133.14,-124.19 121.97,-113.34\"/>\n",
       "<polygon fill=\"black\" stroke=\"black\" points=\"124.59,-111 114.98,-106.54 119.71,-116.02 124.59,-111\"/>\n",
       "</g>\n",
       "<!-- 4887072192 -->\n",
       "<g id=\"node6\" class=\"node\">\n",
       "<title>4887072192</title>\n",
       "<ellipse fill=\"none\" stroke=\"black\" cx=\"171\" cy=\"-90\" rx=\"27\" ry=\"18\"/>\n",
       "<text text-anchor=\"middle\" x=\"171\" y=\"-86.3\" font-family=\"Times,serif\" font-size=\"14.00\">mul</text>\n",
       "</g>\n",
       "<!-- 4887075504&#45;&gt;4887072192 -->\n",
       "<g id=\"edge6\" class=\"edge\">\n",
       "<title>4887075504&#45;&gt;4887072192</title>\n",
       "<path fill=\"none\" stroke=\"black\" d=\"M171,-143.7C171,-136.41 171,-127.73 171,-119.54\"/>\n",
       "<polygon fill=\"black\" stroke=\"black\" points=\"174.5,-119.62 171,-109.62 167.5,-119.62 174.5,-119.62\"/>\n",
       "</g>\n",
       "<!-- 4887075408 -->\n",
       "<g id=\"node4\" class=\"node\">\n",
       "<title>4887075408</title>\n",
       "<ellipse fill=\"none\" stroke=\"black\" cx=\"27\" cy=\"-18\" rx=\"27\" ry=\"18\"/>\n",
       "<text text-anchor=\"middle\" x=\"27\" y=\"-14.3\" font-family=\"Times,serif\" font-size=\"14.00\">B</text>\n",
       "</g>\n",
       "<!-- 4887075936&#45;&gt;4887075408 -->\n",
       "<g id=\"edge1\" class=\"edge\">\n",
       "<title>4887075936&#45;&gt;4887075408</title>\n",
       "<path fill=\"none\" stroke=\"black\" d=\"M84.08,-74.5C74.23,-64.92 61.14,-52.19 49.97,-41.34\"/>\n",
       "<polygon fill=\"black\" stroke=\"black\" points=\"52.59,-39 42.98,-34.54 47.71,-44.02 52.59,-39\"/>\n",
       "</g>\n",
       "<!-- 4887070560 -->\n",
       "<g id=\"node5\" class=\"node\">\n",
       "<title>4887070560</title>\n",
       "<ellipse fill=\"none\" stroke=\"black\" cx=\"99\" cy=\"-18\" rx=\"27\" ry=\"18\"/>\n",
       "<text text-anchor=\"middle\" x=\"99\" y=\"-14.3\" font-family=\"Times,serif\" font-size=\"14.00\">4</text>\n",
       "</g>\n",
       "<!-- 4887075936&#45;&gt;4887070560 -->\n",
       "<g id=\"edge2\" class=\"edge\">\n",
       "<title>4887075936&#45;&gt;4887070560</title>\n",
       "<path fill=\"none\" stroke=\"black\" d=\"M99,-71.7C99,-64.41 99,-55.73 99,-47.54\"/>\n",
       "<polygon fill=\"black\" stroke=\"black\" points=\"102.5,-47.62 99,-37.62 95.5,-47.62 102.5,-47.62\"/>\n",
       "</g>\n",
       "<!-- 4887072144 -->\n",
       "<g id=\"node7\" class=\"node\">\n",
       "<title>4887072144</title>\n",
       "<ellipse fill=\"none\" stroke=\"black\" cx=\"171\" cy=\"-18\" rx=\"27\" ry=\"18\"/>\n",
       "<text text-anchor=\"middle\" x=\"171\" y=\"-14.3\" font-family=\"Times,serif\" font-size=\"14.00\">D</text>\n",
       "</g>\n",
       "<!-- 4887072192&#45;&gt;4887072144 -->\n",
       "<g id=\"edge4\" class=\"edge\">\n",
       "<title>4887072192&#45;&gt;4887072144</title>\n",
       "<path fill=\"none\" stroke=\"black\" d=\"M171,-71.7C171,-64.41 171,-55.73 171,-47.54\"/>\n",
       "<polygon fill=\"black\" stroke=\"black\" points=\"174.5,-47.62 171,-37.62 167.5,-47.62 174.5,-47.62\"/>\n",
       "</g>\n",
       "<!-- 4887074928 -->\n",
       "<g id=\"node8\" class=\"node\">\n",
       "<title>4887074928</title>\n",
       "<ellipse fill=\"none\" stroke=\"black\" cx=\"243\" cy=\"-18\" rx=\"27\" ry=\"18\"/>\n",
       "<text text-anchor=\"middle\" x=\"243\" y=\"-14.3\" font-family=\"Times,serif\" font-size=\"14.00\">B</text>\n",
       "</g>\n",
       "<!-- 4887072192&#45;&gt;4887074928 -->\n",
       "<g id=\"edge5\" class=\"edge\">\n",
       "<title>4887072192&#45;&gt;4887074928</title>\n",
       "<path fill=\"none\" stroke=\"black\" d=\"M185.92,-74.5C195.77,-64.92 208.86,-52.19 220.03,-41.34\"/>\n",
       "<polygon fill=\"black\" stroke=\"black\" points=\"222.29,-44.02 227.02,-34.54 217.41,-39 222.29,-44.02\"/>\n",
       "</g>\n",
       "<!-- 4887075840 -->\n",
       "<g id=\"node10\" class=\"node\">\n",
       "<title>4887075840</title>\n",
       "<ellipse fill=\"none\" stroke=\"black\" cx=\"243\" cy=\"-90\" rx=\"27\" ry=\"18\"/>\n",
       "<text text-anchor=\"middle\" x=\"243\" y=\"-86.3\" font-family=\"Times,serif\" font-size=\"14.00\">B</text>\n",
       "</g>\n",
       "<!-- 4887069456&#45;&gt;4887075840 -->\n",
       "<g id=\"edge8\" class=\"edge\">\n",
       "<title>4887069456&#45;&gt;4887075840</title>\n",
       "<path fill=\"none\" stroke=\"black\" d=\"M243,-143.7C243,-136.41 243,-127.73 243,-119.54\"/>\n",
       "<polygon fill=\"black\" stroke=\"black\" points=\"246.5,-119.62 243,-109.62 239.5,-119.62 246.5,-119.62\"/>\n",
       "</g>\n",
       "<!-- 4887075360 -->\n",
       "<g id=\"node11\" class=\"node\">\n",
       "<title>4887075360</title>\n",
       "<ellipse fill=\"none\" stroke=\"black\" cx=\"315\" cy=\"-90\" rx=\"27\" ry=\"18\"/>\n",
       "<text text-anchor=\"middle\" x=\"315\" y=\"-86.3\" font-family=\"Times,serif\" font-size=\"14.00\">div</text>\n",
       "</g>\n",
       "<!-- 4887069456&#45;&gt;4887075360 -->\n",
       "<g id=\"edge11\" class=\"edge\">\n",
       "<title>4887069456&#45;&gt;4887075360</title>\n",
       "<path fill=\"none\" stroke=\"black\" d=\"M257.92,-146.5C267.77,-136.92 280.86,-124.19 292.03,-113.34\"/>\n",
       "<polygon fill=\"black\" stroke=\"black\" points=\"294.29,-116.02 299.02,-106.54 289.41,-111 294.29,-116.02\"/>\n",
       "</g>\n",
       "<!-- 4887074976 -->\n",
       "<g id=\"node12\" class=\"node\">\n",
       "<title>4887074976</title>\n",
       "<ellipse fill=\"none\" stroke=\"black\" cx=\"315\" cy=\"-18\" rx=\"27\" ry=\"18\"/>\n",
       "<text text-anchor=\"middle\" x=\"315\" y=\"-14.3\" font-family=\"Times,serif\" font-size=\"14.00\">D</text>\n",
       "</g>\n",
       "<!-- 4887075360&#45;&gt;4887074976 -->\n",
       "<g id=\"edge9\" class=\"edge\">\n",
       "<title>4887075360&#45;&gt;4887074976</title>\n",
       "<path fill=\"none\" stroke=\"black\" d=\"M315,-71.7C315,-64.41 315,-55.73 315,-47.54\"/>\n",
       "<polygon fill=\"black\" stroke=\"black\" points=\"318.5,-47.62 315,-37.62 311.5,-47.62 318.5,-47.62\"/>\n",
       "</g>\n",
       "<!-- 4887075072 -->\n",
       "<g id=\"node13\" class=\"node\">\n",
       "<title>4887075072</title>\n",
       "<ellipse fill=\"none\" stroke=\"black\" cx=\"387\" cy=\"-18\" rx=\"27\" ry=\"18\"/>\n",
       "<text text-anchor=\"middle\" x=\"387\" y=\"-14.3\" font-family=\"Times,serif\" font-size=\"14.00\">C</text>\n",
       "</g>\n",
       "<!-- 4887075360&#45;&gt;4887075072 -->\n",
       "<g id=\"edge10\" class=\"edge\">\n",
       "<title>4887075360&#45;&gt;4887075072</title>\n",
       "<path fill=\"none\" stroke=\"black\" d=\"M329.92,-74.5C339.77,-64.92 352.86,-52.19 364.03,-41.34\"/>\n",
       "<polygon fill=\"black\" stroke=\"black\" points=\"366.29,-44.02 371.02,-34.54 361.41,-39 366.29,-44.02\"/>\n",
       "</g>\n",
       "</g>\n",
       "</svg>\n"
      ],
      "text/plain": [
       "<graphviz.graphs.Digraph at 0x123287250>"
      ]
     },
     "execution_count": 41,
     "metadata": {},
     "output_type": "execute_result"
    }
   ],
   "source": [
    "offspring = copy(parent1)\n",
    "point_mutation(offspring)\n",
    "print_tree(offspring)"
   ]
  },
  {
   "cell_type": "markdown",
   "metadata": {
    "slideshow": {
     "slide_type": "subslide"
    }
   },
   "source": [
    "#### Selection"
   ]
  },
  {
   "cell_type": "markdown",
   "metadata": {
    "slideshow": {
     "slide_type": "skip"
    }
   },
   "source": [
    "\n",
    "Since selection is independent of the representation, we don't need any adaptations. Since we use a variable size representation, we will include the size as one of the selection criteria."
   ]
  },
  {
   "cell_type": "code",
   "execution_count": 42,
   "metadata": {
    "slideshow": {
     "slide_type": "fragment"
    }
   },
   "outputs": [],
   "source": [
    "tournament_size = 3\n",
    "def tournament_selection(population):\n",
    "    candidates = random.sample(population, tournament_size)        \n",
    "    winner = min(candidates, key=lambda x: (get_fitness(x), size(x)))\n",
    "    return winner"
   ]
  },
  {
   "cell_type": "markdown",
   "metadata": {
    "slideshow": {
     "slide_type": "skip"
    }
   },
   "source": [
    "An evolution step of our GA now just needs to integrate these operators:"
   ]
  },
  {
   "cell_type": "code",
   "execution_count": 43,
   "metadata": {
    "slideshow": {
     "slide_type": "slide"
    }
   },
   "outputs": [],
   "source": [
    "def evolution_step(population):\n",
    "    new_population = []\n",
    "    while len(new_population) < len(population):\n",
    "        parent1 = copy(selection(population))\n",
    "        parent2 = copy(selection(population))\n",
    "\n",
    "        if random.random() < P_xover:\n",
    "            offspring = crossover(parent1, parent2)\n",
    "        else:\n",
    "            offspring = random.choice([parent1, parent2])\n",
    "\n",
    "        if random.random() < 0.5:\n",
    "            point_mutation(offspring)\n",
    "        else:\n",
    "            subtree_mutation(offspring)\n",
    "\n",
    "        new_population.append(offspring)\n",
    "\n",
    "    population.clear()\n",
    "    population.extend(new_population)\n",
    "\n",
    "    best_fitness = min([get_fitness(k) for k in population])\n",
    "    return best_fitness"
   ]
  },
  {
   "cell_type": "markdown",
   "metadata": {
    "slideshow": {
     "slide_type": "skip"
    }
   },
   "source": [
    "Similarly, the overall GA is also the same as always:"
   ]
  },
  {
   "cell_type": "code",
   "execution_count": 44,
   "metadata": {
    "slideshow": {
     "slide_type": "skip"
    }
   },
   "outputs": [],
   "source": [
    "fitness_values = []\n",
    "size_values = []"
   ]
  },
  {
   "cell_type": "code",
   "execution_count": 45,
   "metadata": {
    "slideshow": {
     "slide_type": "slide"
    }
   },
   "outputs": [],
   "source": [
    "def ga():\n",
    "    population = get_initial_population()\n",
    "    best_fitness = sys.maxsize\n",
    "    for p in population:\n",
    "        fitness = get_fitness(p)\n",
    "        if fitness < best_fitness or (fitness == best_fitness and size(p) < size(best_solution)):\n",
    "            best_fitness = fitness\n",
    "            best_solution = copy(p)\n",
    "\n",
    "    iteration = 0\n",
    "    while iteration < max_iterations and best_fitness > 0.000001:\n",
    "        fitness_values.append(best_fitness)\n",
    "        size_values.append(mean([size(x) for x in population]))\n",
    "        print(f\"GA Iteration {iteration}, best fitness: {best_fitness}, average size: {size_values[-1]}\")\n",
    "        iteration += 1\n",
    "        evolution_step(population)\n",
    "\n",
    "        for p in population:\n",
    "            fitness = get_fitness(p)\n",
    "            if fitness < best_fitness or (fitness == best_fitness and size(p) < size(best_solution)):\n",
    "                best_fitness = fitness\n",
    "                best_solution = copy(p)\n",
    "\n",
    "    print(f\"GA solution after {iteration} iterations, best fitness: {best_fitness}\")\n",
    "    return best_solution\n"
   ]
  },
  {
   "cell_type": "markdown",
   "metadata": {
    "slideshow": {
     "slide_type": "slide"
    }
   },
   "source": [
    "### Example Problem: Symbolic Regression"
   ]
  },
  {
   "cell_type": "markdown",
   "metadata": {
    "slideshow": {
     "slide_type": "skip"
    }
   },
   "source": [
    "We will use symbolic regression as a first example problem. Given a set of points, we would like to come up with a symbolic expression that represents a function approximating the points. As example equation, we will use $x^2 + x + 1$."
   ]
  },
  {
   "cell_type": "markdown",
   "metadata": {
    "slideshow": {
     "slide_type": "skip"
    }
   },
   "source": [
    "We only have one terminal `x` for this problem, but can also include ephemeral constants:"
   ]
  },
  {
   "cell_type": "code",
   "execution_count": 46,
   "metadata": {
    "slideshow": {
     "slide_type": "fragment"
    }
   },
   "outputs": [],
   "source": [
    "TERMINALS = [\"x\", EPHEMERAL_CONSTANT]"
   ]
  },
  {
   "cell_type": "markdown",
   "metadata": {
    "slideshow": {
     "slide_type": "skip"
    }
   },
   "source": [
    "As fitness function for how close we are to approximating a set of points we use the sum of absolute errors for all points at different values of `x` in the range [−1.0, +1.0]. Thus, a smaller fitness value is better; a fitness of zero indicates a perfect fit. In order to calculate the error for any given point, we need a helper function that evaluates a tree for a given value of `x`:"
   ]
  },
  {
   "cell_type": "code",
   "execution_count": 47,
   "metadata": {
    "slideshow": {
     "slide_type": "fragment"
    }
   },
   "outputs": [],
   "source": [
    "def evaluate(tree, assignment):\n",
    "    if tree.data in FUNCTIONS:\n",
    "        return tree.data(evaluate(tree.left, assignment), evaluate(tree.right, assignment))\n",
    "    elif tree.data in assignment:\n",
    "        return assignment[tree.data]\n",
    "    else:\n",
    "        return tree.data"
   ]
  },
  {
   "cell_type": "markdown",
   "metadata": {
    "slideshow": {
     "slide_type": "skip"
    }
   },
   "source": [
    "The dictionary `assignment` will map all terminals to actual values during the evaluation. We sample a number of points for measuring the error:"
   ]
  },
  {
   "cell_type": "code",
   "execution_count": 48,
   "metadata": {
    "slideshow": {
     "slide_type": "fragment"
    }
   },
   "outputs": [],
   "source": [
    "test_data = {}\n",
    "for value in [x/10 for x in range(-10, 10)]:\n",
    "    test_data[value] = value*value + value + 1"
   ]
  },
  {
   "cell_type": "code",
   "execution_count": 49,
   "metadata": {
    "slideshow": {
     "slide_type": "fragment"
    }
   },
   "outputs": [
    {
     "data": {
      "text/plain": [
       "{-1.0: 1.0,\n",
       " -0.9: 0.91,\n",
       " -0.8: 0.8400000000000001,\n",
       " -0.7: 0.79,\n",
       " -0.6: 0.76,\n",
       " -0.5: 0.75,\n",
       " -0.4: 0.76,\n",
       " -0.3: 0.79,\n",
       " -0.2: 0.84,\n",
       " -0.1: 0.91,\n",
       " 0.0: 1.0,\n",
       " 0.1: 1.11,\n",
       " 0.2: 1.24,\n",
       " 0.3: 1.3900000000000001,\n",
       " 0.4: 1.56,\n",
       " 0.5: 1.75,\n",
       " 0.6: 1.96,\n",
       " 0.7: 2.19,\n",
       " 0.8: 2.4400000000000004,\n",
       " 0.9: 2.71}"
      ]
     },
     "execution_count": 49,
     "metadata": {},
     "output_type": "execute_result"
    }
   ],
   "source": [
    "test_data"
   ]
  },
  {
   "cell_type": "markdown",
   "metadata": {
    "slideshow": {
     "slide_type": "skip"
    }
   },
   "source": [
    "Now calculating the fitness function reduces to calling the `evaluate` function for each points in our test set, and summing up the differences:"
   ]
  },
  {
   "cell_type": "code",
   "execution_count": 50,
   "metadata": {
    "slideshow": {
     "slide_type": "slide"
    }
   },
   "outputs": [],
   "source": [
    "def get_fitness(tree):\n",
    "    fitness = 0.0\n",
    "    \n",
    "    for (x, expected_result) in test_data.items():\n",
    "        assignment = {\"x\": x}\n",
    "        result = evaluate(tree, assignment)\n",
    "        fitness += (result - expected_result) * (result - expected_result)\n",
    "    fitness /= len(test_data)\n",
    "    \n",
    "    return fitness"
   ]
  },
  {
   "cell_type": "markdown",
   "metadata": {
    "slideshow": {
     "slide_type": "skip"
    }
   },
   "source": [
    "With this, we can finally call our genetic algorithm:"
   ]
  },
  {
   "cell_type": "code",
   "execution_count": 51,
   "metadata": {
    "slideshow": {
     "slide_type": "slide"
    }
   },
   "outputs": [
    {
     "name": "stdout",
     "output_type": "stream",
     "text": [
      "GA Iteration 0, best fitness: 0.20333000000000007, average size: 9.6\n",
      "GA Iteration 1, best fitness: 0.20333000000000007, average size: 9.1\n",
      "GA Iteration 2, best fitness: 0.16426750000000007, average size: 9.85\n",
      "GA Iteration 3, best fitness: 0.16426750000000007, average size: 11.15\n",
      "GA Iteration 4, best fitness: 0.16426750000000007, average size: 11.9\n",
      "GA Iteration 5, best fitness: 0.16426750000000007, average size: 15.4\n",
      "GA Iteration 6, best fitness: 0.16426750000000007, average size: 17.9\n",
      "GA Iteration 7, best fitness: 0.16426750000000007, average size: 18.35\n",
      "GA Iteration 8, best fitness: 0.16426750000000007, average size: 17.5\n",
      "GA Iteration 9, best fitness: 0.16426750000000007, average size: 16.8\n",
      "GA Iteration 10, best fitness: 0.16426750000000007, average size: 15.35\n",
      "GA Iteration 11, best fitness: 0.16426750000000007, average size: 16.35\n",
      "GA Iteration 12, best fitness: 0.16426750000000007, average size: 14.55\n",
      "GA Iteration 13, best fitness: 0.16426750000000007, average size: 14.75\n",
      "GA Iteration 14, best fitness: 0.16426750000000007, average size: 17\n",
      "GA Iteration 15, best fitness: 0.16426750000000007, average size: 16.3\n",
      "GA Iteration 16, best fitness: 0.16426750000000007, average size: 13.6\n",
      "GA Iteration 17, best fitness: 0.16426750000000007, average size: 14.1\n",
      "GA Iteration 18, best fitness: 0.16426750000000007, average size: 15\n",
      "GA Iteration 19, best fitness: 0.16426750000000007, average size: 16.2\n",
      "GA Iteration 20, best fitness: 0.16426750000000007, average size: 15.75\n",
      "GA Iteration 21, best fitness: 0.16426750000000007, average size: 15.55\n",
      "GA Iteration 22, best fitness: 0.16426750000000007, average size: 20.65\n",
      "GA Iteration 23, best fitness: 0.16426750000000007, average size: 20.8\n",
      "GA Iteration 24, best fitness: 0.16426750000000007, average size: 21.15\n",
      "GA Iteration 25, best fitness: 0.16426750000000007, average size: 17.95\n",
      "GA Iteration 26, best fitness: 0.16426750000000007, average size: 16.9\n",
      "GA Iteration 27, best fitness: 0.16426750000000007, average size: 14.4\n",
      "GA Iteration 28, best fitness: 0.16426750000000007, average size: 14.55\n",
      "GA Iteration 29, best fitness: 0.16426750000000007, average size: 13.85\n",
      "GA Iteration 30, best fitness: 0.16426750000000007, average size: 16.8\n",
      "GA Iteration 31, best fitness: 0.16426750000000007, average size: 16.1\n",
      "GA Iteration 32, best fitness: 0.16426750000000007, average size: 14.95\n",
      "GA Iteration 33, best fitness: 0.16426750000000007, average size: 14.55\n",
      "GA Iteration 34, best fitness: 0.16426750000000007, average size: 14.2\n",
      "GA Iteration 35, best fitness: 0.16426750000000007, average size: 13.45\n",
      "GA Iteration 36, best fitness: 0.16426750000000007, average size: 11.35\n",
      "GA Iteration 37, best fitness: 0.16426750000000007, average size: 12.3\n",
      "GA Iteration 38, best fitness: 0.16426750000000007, average size: 12.6\n",
      "GA Iteration 39, best fitness: 0.16426750000000007, average size: 11.8\n",
      "GA Iteration 40, best fitness: 0.16426750000000007, average size: 13.9\n",
      "GA Iteration 41, best fitness: 0.16426750000000007, average size: 14.85\n",
      "GA Iteration 42, best fitness: 0.16426750000000007, average size: 14.55\n",
      "GA Iteration 43, best fitness: 0.16426750000000007, average size: 13.3\n",
      "GA Iteration 44, best fitness: 0.16426750000000007, average size: 16.65\n",
      "GA Iteration 45, best fitness: 0.0508325, average size: 16.8\n",
      "GA Iteration 46, best fitness: 0.0508325, average size: 15\n",
      "GA Iteration 47, best fitness: 0.0508325, average size: 17\n",
      "GA Iteration 48, best fitness: 0.0508325, average size: 15.95\n",
      "GA Iteration 49, best fitness: 0.0508325, average size: 14.55\n",
      "GA Iteration 50, best fitness: 0.0508325, average size: 15.15\n",
      "GA Iteration 51, best fitness: 0.0508325, average size: 13.15\n",
      "GA Iteration 52, best fitness: 0.0508325, average size: 16.4\n",
      "GA Iteration 53, best fitness: 0.0508325, average size: 19.25\n",
      "GA Iteration 54, best fitness: 0.0508325, average size: 19.65\n",
      "GA Iteration 55, best fitness: 0.0508325, average size: 18.25\n",
      "GA Iteration 56, best fitness: 0.0508325, average size: 20.95\n",
      "GA Iteration 57, best fitness: 0.0508325, average size: 23.1\n",
      "GA solution after 58 iterations, best fitness: 1.232595164407831e-33\n"
     ]
    },
    {
     "data": {
      "image/svg+xml": [
       "<?xml version=\"1.0\" encoding=\"UTF-8\" standalone=\"no\"?>\n",
       "<!DOCTYPE svg PUBLIC \"-//W3C//DTD SVG 1.1//EN\"\n",
       " \"http://www.w3.org/Graphics/SVG/1.1/DTD/svg11.dtd\">\n",
       "<!-- Generated by graphviz version 7.0.6 (20230106.0513)\n",
       " -->\n",
       "<!-- Pages: 1 -->\n",
       "<svg width=\"494pt\" height=\"476pt\"\n",
       " viewBox=\"0.00 0.00 494.00 476.00\" xmlns=\"http://www.w3.org/2000/svg\" xmlns:xlink=\"http://www.w3.org/1999/xlink\">\n",
       "<g id=\"graph0\" class=\"graph\" transform=\"scale(1 1) rotate(0) translate(4 472)\">\n",
       "<polygon fill=\"white\" stroke=\"none\" points=\"-4,4 -4,-472 490,-472 490,4 -4,4\"/>\n",
       "<!-- 4887190528 -->\n",
       "<g id=\"node1\" class=\"node\">\n",
       "<title>4887190528</title>\n",
       "<ellipse fill=\"none\" stroke=\"black\" cx=\"135\" cy=\"-450\" rx=\"27\" ry=\"18\"/>\n",
       "<text text-anchor=\"middle\" x=\"135\" y=\"-446.3\" font-family=\"Times,serif\" font-size=\"14.00\">sub</text>\n",
       "</g>\n",
       "<!-- 4887211616 -->\n",
       "<g id=\"node2\" class=\"node\">\n",
       "<title>4887211616</title>\n",
       "<ellipse fill=\"none\" stroke=\"black\" cx=\"99\" cy=\"-378\" rx=\"27\" ry=\"18\"/>\n",
       "<text text-anchor=\"middle\" x=\"99\" y=\"-374.3\" font-family=\"Times,serif\" font-size=\"14.00\">add</text>\n",
       "</g>\n",
       "<!-- 4887190528&#45;&gt;4887211616 -->\n",
       "<g id=\"edge5\" class=\"edge\">\n",
       "<title>4887190528&#45;&gt;4887211616</title>\n",
       "<path fill=\"none\" stroke=\"black\" d=\"M126.65,-432.76C122.42,-424.55 117.19,-414.37 112.42,-405.09\"/>\n",
       "<polygon fill=\"black\" stroke=\"black\" points=\"115.68,-403.79 108,-396.49 109.46,-406.99 115.68,-403.79\"/>\n",
       "</g>\n",
       "<!-- 4887211184 -->\n",
       "<g id=\"node7\" class=\"node\">\n",
       "<title>4887211184</title>\n",
       "<ellipse fill=\"none\" stroke=\"black\" cx=\"207\" cy=\"-378\" rx=\"27\" ry=\"18\"/>\n",
       "<text text-anchor=\"middle\" x=\"207\" y=\"-374.3\" font-family=\"Times,serif\" font-size=\"14.00\">mul</text>\n",
       "</g>\n",
       "<!-- 4887190528&#45;&gt;4887211184 -->\n",
       "<g id=\"edge26\" class=\"edge\">\n",
       "<title>4887190528&#45;&gt;4887211184</title>\n",
       "<path fill=\"none\" stroke=\"black\" d=\"M149.92,-434.5C159.77,-424.92 172.86,-412.19 184.03,-401.34\"/>\n",
       "<polygon fill=\"black\" stroke=\"black\" points=\"186.29,-404.02 191.02,-394.54 181.41,-399 186.29,-404.02\"/>\n",
       "</g>\n",
       "<!-- 4887215984 -->\n",
       "<g id=\"node3\" class=\"node\">\n",
       "<title>4887215984</title>\n",
       "<ellipse fill=\"none\" stroke=\"black\" cx=\"27\" cy=\"-306\" rx=\"27\" ry=\"18\"/>\n",
       "<text text-anchor=\"middle\" x=\"27\" y=\"-302.3\" font-family=\"Times,serif\" font-size=\"14.00\">x</text>\n",
       "</g>\n",
       "<!-- 4887211616&#45;&gt;4887215984 -->\n",
       "<g id=\"edge1\" class=\"edge\">\n",
       "<title>4887211616&#45;&gt;4887215984</title>\n",
       "<path fill=\"none\" stroke=\"black\" d=\"M84.08,-362.5C74.23,-352.92 61.14,-340.19 49.97,-329.34\"/>\n",
       "<polygon fill=\"black\" stroke=\"black\" points=\"52.59,-327 42.98,-322.54 47.71,-332.02 52.59,-327\"/>\n",
       "</g>\n",
       "<!-- 4887210848 -->\n",
       "<g id=\"node4\" class=\"node\">\n",
       "<title>4887210848</title>\n",
       "<ellipse fill=\"none\" stroke=\"black\" cx=\"99\" cy=\"-306\" rx=\"27\" ry=\"18\"/>\n",
       "<text text-anchor=\"middle\" x=\"99\" y=\"-302.3\" font-family=\"Times,serif\" font-size=\"14.00\">div</text>\n",
       "</g>\n",
       "<!-- 4887211616&#45;&gt;4887210848 -->\n",
       "<g id=\"edge4\" class=\"edge\">\n",
       "<title>4887211616&#45;&gt;4887210848</title>\n",
       "<path fill=\"none\" stroke=\"black\" d=\"M99,-359.7C99,-352.41 99,-343.73 99,-335.54\"/>\n",
       "<polygon fill=\"black\" stroke=\"black\" points=\"102.5,-335.62 99,-325.62 95.5,-335.62 102.5,-335.62\"/>\n",
       "</g>\n",
       "<!-- 4887213200 -->\n",
       "<g id=\"node5\" class=\"node\">\n",
       "<title>4887213200</title>\n",
       "<ellipse fill=\"none\" stroke=\"black\" cx=\"27\" cy=\"-234\" rx=\"27\" ry=\"18\"/>\n",
       "<text text-anchor=\"middle\" x=\"27\" y=\"-230.3\" font-family=\"Times,serif\" font-size=\"14.00\">x</text>\n",
       "</g>\n",
       "<!-- 4887210848&#45;&gt;4887213200 -->\n",
       "<g id=\"edge2\" class=\"edge\">\n",
       "<title>4887210848&#45;&gt;4887213200</title>\n",
       "<path fill=\"none\" stroke=\"black\" d=\"M84.08,-290.5C74.23,-280.92 61.14,-268.19 49.97,-257.34\"/>\n",
       "<polygon fill=\"black\" stroke=\"black\" points=\"52.59,-255 42.98,-250.54 47.71,-260.02 52.59,-255\"/>\n",
       "</g>\n",
       "<!-- 4887206960 -->\n",
       "<g id=\"node6\" class=\"node\">\n",
       "<title>4887206960</title>\n",
       "<ellipse fill=\"none\" stroke=\"black\" cx=\"99\" cy=\"-234\" rx=\"27\" ry=\"18\"/>\n",
       "<text text-anchor=\"middle\" x=\"99\" y=\"-230.3\" font-family=\"Times,serif\" font-size=\"14.00\">x</text>\n",
       "</g>\n",
       "<!-- 4887210848&#45;&gt;4887206960 -->\n",
       "<g id=\"edge3\" class=\"edge\">\n",
       "<title>4887210848&#45;&gt;4887206960</title>\n",
       "<path fill=\"none\" stroke=\"black\" d=\"M99,-287.7C99,-280.41 99,-271.73 99,-263.54\"/>\n",
       "<polygon fill=\"black\" stroke=\"black\" points=\"102.5,-263.62 99,-253.62 95.5,-263.62 102.5,-263.62\"/>\n",
       "</g>\n",
       "<!-- 4887215888 -->\n",
       "<g id=\"node8\" class=\"node\">\n",
       "<title>4887215888</title>\n",
       "<ellipse fill=\"none\" stroke=\"black\" cx=\"207\" cy=\"-306\" rx=\"27\" ry=\"18\"/>\n",
       "<text text-anchor=\"middle\" x=\"207\" y=\"-302.3\" font-family=\"Times,serif\" font-size=\"14.00\">mul</text>\n",
       "</g>\n",
       "<!-- 4887211184&#45;&gt;4887215888 -->\n",
       "<g id=\"edge16\" class=\"edge\">\n",
       "<title>4887211184&#45;&gt;4887215888</title>\n",
       "<path fill=\"none\" stroke=\"black\" d=\"M207,-359.7C207,-352.41 207,-343.73 207,-335.54\"/>\n",
       "<polygon fill=\"black\" stroke=\"black\" points=\"210.5,-335.62 207,-325.62 203.5,-335.62 210.5,-335.62\"/>\n",
       "</g>\n",
       "<!-- 4887211040 -->\n",
       "<g id=\"node19\" class=\"node\">\n",
       "<title>4887211040</title>\n",
       "<ellipse fill=\"none\" stroke=\"black\" cx=\"315\" cy=\"-306\" rx=\"27\" ry=\"18\"/>\n",
       "<text text-anchor=\"middle\" x=\"315\" y=\"-302.3\" font-family=\"Times,serif\" font-size=\"14.00\">add</text>\n",
       "</g>\n",
       "<!-- 4887211184&#45;&gt;4887211040 -->\n",
       "<g id=\"edge25\" class=\"edge\">\n",
       "<title>4887211184&#45;&gt;4887211040</title>\n",
       "<path fill=\"none\" stroke=\"black\" d=\"M225.81,-364.81C242.59,-353.93 267.39,-337.86 286.59,-325.42\"/>\n",
       "<polygon fill=\"black\" stroke=\"black\" points=\"288.28,-328.49 294.77,-320.11 284.48,-322.61 288.28,-328.49\"/>\n",
       "</g>\n",
       "<!-- 4887212240 -->\n",
       "<g id=\"node9\" class=\"node\">\n",
       "<title>4887212240</title>\n",
       "<ellipse fill=\"none\" stroke=\"black\" cx=\"171\" cy=\"-234\" rx=\"27\" ry=\"18\"/>\n",
       "<text text-anchor=\"middle\" x=\"171\" y=\"-230.3\" font-family=\"Times,serif\" font-size=\"14.00\">&#45;1</text>\n",
       "</g>\n",
       "<!-- 4887215888&#45;&gt;4887212240 -->\n",
       "<g id=\"edge6\" class=\"edge\">\n",
       "<title>4887215888&#45;&gt;4887212240</title>\n",
       "<path fill=\"none\" stroke=\"black\" d=\"M198.65,-288.76C194.42,-280.55 189.19,-270.37 184.42,-261.09\"/>\n",
       "<polygon fill=\"black\" stroke=\"black\" points=\"187.68,-259.79 180,-252.49 181.46,-262.99 187.68,-259.79\"/>\n",
       "</g>\n",
       "<!-- 4887207776 -->\n",
       "<g id=\"node10\" class=\"node\">\n",
       "<title>4887207776</title>\n",
       "<ellipse fill=\"none\" stroke=\"black\" cx=\"243\" cy=\"-234\" rx=\"27\" ry=\"18\"/>\n",
       "<text text-anchor=\"middle\" x=\"243\" y=\"-230.3\" font-family=\"Times,serif\" font-size=\"14.00\">sub</text>\n",
       "</g>\n",
       "<!-- 4887215888&#45;&gt;4887207776 -->\n",
       "<g id=\"edge15\" class=\"edge\">\n",
       "<title>4887215888&#45;&gt;4887207776</title>\n",
       "<path fill=\"none\" stroke=\"black\" d=\"M215.35,-288.76C219.58,-280.55 224.81,-270.37 229.58,-261.09\"/>\n",
       "<polygon fill=\"black\" stroke=\"black\" points=\"232.54,-262.99 234,-252.49 226.32,-259.79 232.54,-262.99\"/>\n",
       "</g>\n",
       "<!-- 4887206384 -->\n",
       "<g id=\"node11\" class=\"node\">\n",
       "<title>4887206384</title>\n",
       "<ellipse fill=\"none\" stroke=\"black\" cx=\"171\" cy=\"-162\" rx=\"27\" ry=\"18\"/>\n",
       "<text text-anchor=\"middle\" x=\"171\" y=\"-158.3\" font-family=\"Times,serif\" font-size=\"14.00\">x</text>\n",
       "</g>\n",
       "<!-- 4887207776&#45;&gt;4887206384 -->\n",
       "<g id=\"edge7\" class=\"edge\">\n",
       "<title>4887207776&#45;&gt;4887206384</title>\n",
       "<path fill=\"none\" stroke=\"black\" d=\"M228.08,-218.5C218.23,-208.92 205.14,-196.19 193.97,-185.34\"/>\n",
       "<polygon fill=\"black\" stroke=\"black\" points=\"196.59,-183 186.98,-178.54 191.71,-188.02 196.59,-183\"/>\n",
       "</g>\n",
       "<!-- 4887214640 -->\n",
       "<g id=\"node12\" class=\"node\">\n",
       "<title>4887214640</title>\n",
       "<ellipse fill=\"none\" stroke=\"black\" cx=\"243\" cy=\"-162\" rx=\"27\" ry=\"18\"/>\n",
       "<text text-anchor=\"middle\" x=\"243\" y=\"-158.3\" font-family=\"Times,serif\" font-size=\"14.00\">add</text>\n",
       "</g>\n",
       "<!-- 4887207776&#45;&gt;4887214640 -->\n",
       "<g id=\"edge14\" class=\"edge\">\n",
       "<title>4887207776&#45;&gt;4887214640</title>\n",
       "<path fill=\"none\" stroke=\"black\" d=\"M243,-215.7C243,-208.41 243,-199.73 243,-191.54\"/>\n",
       "<polygon fill=\"black\" stroke=\"black\" points=\"246.5,-191.62 243,-181.62 239.5,-191.62 246.5,-191.62\"/>\n",
       "</g>\n",
       "<!-- 4887216080 -->\n",
       "<g id=\"node13\" class=\"node\">\n",
       "<title>4887216080</title>\n",
       "<ellipse fill=\"none\" stroke=\"black\" cx=\"171\" cy=\"-90\" rx=\"27\" ry=\"18\"/>\n",
       "<text text-anchor=\"middle\" x=\"171\" y=\"-86.3\" font-family=\"Times,serif\" font-size=\"14.00\">sub</text>\n",
       "</g>\n",
       "<!-- 4887214640&#45;&gt;4887216080 -->\n",
       "<g id=\"edge10\" class=\"edge\">\n",
       "<title>4887214640&#45;&gt;4887216080</title>\n",
       "<path fill=\"none\" stroke=\"black\" d=\"M228.08,-146.5C218.23,-136.92 205.14,-124.19 193.97,-113.34\"/>\n",
       "<polygon fill=\"black\" stroke=\"black\" points=\"196.59,-111 186.98,-106.54 191.71,-116.02 196.59,-111\"/>\n",
       "</g>\n",
       "<!-- 4887209408 -->\n",
       "<g id=\"node16\" class=\"node\">\n",
       "<title>4887209408</title>\n",
       "<ellipse fill=\"none\" stroke=\"black\" cx=\"243\" cy=\"-90\" rx=\"27\" ry=\"18\"/>\n",
       "<text text-anchor=\"middle\" x=\"243\" y=\"-86.3\" font-family=\"Times,serif\" font-size=\"14.00\">sub</text>\n",
       "</g>\n",
       "<!-- 4887214640&#45;&gt;4887209408 -->\n",
       "<g id=\"edge13\" class=\"edge\">\n",
       "<title>4887214640&#45;&gt;4887209408</title>\n",
       "<path fill=\"none\" stroke=\"black\" d=\"M243,-143.7C243,-136.41 243,-127.73 243,-119.54\"/>\n",
       "<polygon fill=\"black\" stroke=\"black\" points=\"246.5,-119.62 243,-109.62 239.5,-119.62 246.5,-119.62\"/>\n",
       "</g>\n",
       "<!-- 4887210800 -->\n",
       "<g id=\"node14\" class=\"node\">\n",
       "<title>4887210800</title>\n",
       "<ellipse fill=\"none\" stroke=\"black\" cx=\"99\" cy=\"-18\" rx=\"27\" ry=\"18\"/>\n",
       "<text text-anchor=\"middle\" x=\"99\" y=\"-14.3\" font-family=\"Times,serif\" font-size=\"14.00\">x</text>\n",
       "</g>\n",
       "<!-- 4887216080&#45;&gt;4887210800 -->\n",
       "<g id=\"edge8\" class=\"edge\">\n",
       "<title>4887216080&#45;&gt;4887210800</title>\n",
       "<path fill=\"none\" stroke=\"black\" d=\"M156.08,-74.5C146.23,-64.92 133.14,-52.19 121.97,-41.34\"/>\n",
       "<polygon fill=\"black\" stroke=\"black\" points=\"124.59,-39 114.98,-34.54 119.71,-44.02 124.59,-39\"/>\n",
       "</g>\n",
       "<!-- 4887209792 -->\n",
       "<g id=\"node15\" class=\"node\">\n",
       "<title>4887209792</title>\n",
       "<ellipse fill=\"none\" stroke=\"black\" cx=\"171\" cy=\"-18\" rx=\"27\" ry=\"18\"/>\n",
       "<text text-anchor=\"middle\" x=\"171\" y=\"-14.3\" font-family=\"Times,serif\" font-size=\"14.00\">x</text>\n",
       "</g>\n",
       "<!-- 4887216080&#45;&gt;4887209792 -->\n",
       "<g id=\"edge9\" class=\"edge\">\n",
       "<title>4887216080&#45;&gt;4887209792</title>\n",
       "<path fill=\"none\" stroke=\"black\" d=\"M171,-71.7C171,-64.41 171,-55.73 171,-47.54\"/>\n",
       "<polygon fill=\"black\" stroke=\"black\" points=\"174.5,-47.62 171,-37.62 167.5,-47.62 174.5,-47.62\"/>\n",
       "</g>\n",
       "<!-- 4887215024 -->\n",
       "<g id=\"node17\" class=\"node\">\n",
       "<title>4887215024</title>\n",
       "<ellipse fill=\"none\" stroke=\"black\" cx=\"243\" cy=\"-18\" rx=\"27\" ry=\"18\"/>\n",
       "<text text-anchor=\"middle\" x=\"243\" y=\"-14.3\" font-family=\"Times,serif\" font-size=\"14.00\">x</text>\n",
       "</g>\n",
       "<!-- 4887209408&#45;&gt;4887215024 -->\n",
       "<g id=\"edge11\" class=\"edge\">\n",
       "<title>4887209408&#45;&gt;4887215024</title>\n",
       "<path fill=\"none\" stroke=\"black\" d=\"M243,-71.7C243,-64.41 243,-55.73 243,-47.54\"/>\n",
       "<polygon fill=\"black\" stroke=\"black\" points=\"246.5,-47.62 243,-37.62 239.5,-47.62 246.5,-47.62\"/>\n",
       "</g>\n",
       "<!-- 4887209984 -->\n",
       "<g id=\"node18\" class=\"node\">\n",
       "<title>4887209984</title>\n",
       "<ellipse fill=\"none\" stroke=\"black\" cx=\"315\" cy=\"-18\" rx=\"27\" ry=\"18\"/>\n",
       "<text text-anchor=\"middle\" x=\"315\" y=\"-14.3\" font-family=\"Times,serif\" font-size=\"14.00\">x</text>\n",
       "</g>\n",
       "<!-- 4887209408&#45;&gt;4887209984 -->\n",
       "<g id=\"edge12\" class=\"edge\">\n",
       "<title>4887209408&#45;&gt;4887209984</title>\n",
       "<path fill=\"none\" stroke=\"black\" d=\"M257.92,-74.5C267.77,-64.92 280.86,-52.19 292.03,-41.34\"/>\n",
       "<polygon fill=\"black\" stroke=\"black\" points=\"294.29,-44.02 299.02,-34.54 289.41,-39 294.29,-44.02\"/>\n",
       "</g>\n",
       "<!-- 4887211136 -->\n",
       "<g id=\"node20\" class=\"node\">\n",
       "<title>4887211136</title>\n",
       "<ellipse fill=\"none\" stroke=\"black\" cx=\"315\" cy=\"-234\" rx=\"27\" ry=\"18\"/>\n",
       "<text text-anchor=\"middle\" x=\"315\" y=\"-230.3\" font-family=\"Times,serif\" font-size=\"14.00\">mul</text>\n",
       "</g>\n",
       "<!-- 4887211040&#45;&gt;4887211136 -->\n",
       "<g id=\"edge23\" class=\"edge\">\n",
       "<title>4887211040&#45;&gt;4887211136</title>\n",
       "<path fill=\"none\" stroke=\"black\" d=\"M315,-287.7C315,-280.41 315,-271.73 315,-263.54\"/>\n",
       "<polygon fill=\"black\" stroke=\"black\" points=\"318.5,-263.62 315,-253.62 311.5,-263.62 318.5,-263.62\"/>\n",
       "</g>\n",
       "<!-- 4887211376 -->\n",
       "<g id=\"node27\" class=\"node\">\n",
       "<title>4887211376</title>\n",
       "<ellipse fill=\"none\" stroke=\"black\" cx=\"387\" cy=\"-234\" rx=\"27\" ry=\"18\"/>\n",
       "<text text-anchor=\"middle\" x=\"387\" y=\"-230.3\" font-family=\"Times,serif\" font-size=\"14.00\">x</text>\n",
       "</g>\n",
       "<!-- 4887211040&#45;&gt;4887211376 -->\n",
       "<g id=\"edge24\" class=\"edge\">\n",
       "<title>4887211040&#45;&gt;4887211376</title>\n",
       "<path fill=\"none\" stroke=\"black\" d=\"M329.92,-290.5C339.77,-280.92 352.86,-268.19 364.03,-257.34\"/>\n",
       "<polygon fill=\"black\" stroke=\"black\" points=\"366.29,-260.02 371.02,-250.54 361.41,-255 366.29,-260.02\"/>\n",
       "</g>\n",
       "<!-- 4887213392 -->\n",
       "<g id=\"node21\" class=\"node\">\n",
       "<title>4887213392</title>\n",
       "<ellipse fill=\"none\" stroke=\"black\" cx=\"315\" cy=\"-162\" rx=\"27\" ry=\"18\"/>\n",
       "<text text-anchor=\"middle\" x=\"315\" y=\"-158.3\" font-family=\"Times,serif\" font-size=\"14.00\">x</text>\n",
       "</g>\n",
       "<!-- 4887211136&#45;&gt;4887213392 -->\n",
       "<g id=\"edge17\" class=\"edge\">\n",
       "<title>4887211136&#45;&gt;4887213392</title>\n",
       "<path fill=\"none\" stroke=\"black\" d=\"M315,-215.7C315,-208.41 315,-199.73 315,-191.54\"/>\n",
       "<polygon fill=\"black\" stroke=\"black\" points=\"318.5,-191.62 315,-181.62 311.5,-191.62 318.5,-191.62\"/>\n",
       "</g>\n",
       "<!-- 4887209840 -->\n",
       "<g id=\"node22\" class=\"node\">\n",
       "<title>4887209840</title>\n",
       "<ellipse fill=\"none\" stroke=\"black\" cx=\"387\" cy=\"-162\" rx=\"27\" ry=\"18\"/>\n",
       "<text text-anchor=\"middle\" x=\"387\" y=\"-158.3\" font-family=\"Times,serif\" font-size=\"14.00\">mul</text>\n",
       "</g>\n",
       "<!-- 4887211136&#45;&gt;4887209840 -->\n",
       "<g id=\"edge22\" class=\"edge\">\n",
       "<title>4887211136&#45;&gt;4887209840</title>\n",
       "<path fill=\"none\" stroke=\"black\" d=\"M329.92,-218.5C339.77,-208.92 352.86,-196.19 364.03,-185.34\"/>\n",
       "<polygon fill=\"black\" stroke=\"black\" points=\"366.29,-188.02 371.02,-178.54 361.41,-183 366.29,-188.02\"/>\n",
       "</g>\n",
       "<!-- 4887209744 -->\n",
       "<g id=\"node23\" class=\"node\">\n",
       "<title>4887209744</title>\n",
       "<ellipse fill=\"none\" stroke=\"black\" cx=\"387\" cy=\"-90\" rx=\"27\" ry=\"18\"/>\n",
       "<text text-anchor=\"middle\" x=\"387\" y=\"-86.3\" font-family=\"Times,serif\" font-size=\"14.00\">sub</text>\n",
       "</g>\n",
       "<!-- 4887209840&#45;&gt;4887209744 -->\n",
       "<g id=\"edge20\" class=\"edge\">\n",
       "<title>4887209840&#45;&gt;4887209744</title>\n",
       "<path fill=\"none\" stroke=\"black\" d=\"M387,-143.7C387,-136.41 387,-127.73 387,-119.54\"/>\n",
       "<polygon fill=\"black\" stroke=\"black\" points=\"390.5,-119.62 387,-109.62 383.5,-119.62 390.5,-119.62\"/>\n",
       "</g>\n",
       "<!-- 4887207248 -->\n",
       "<g id=\"node26\" class=\"node\">\n",
       "<title>4887207248</title>\n",
       "<ellipse fill=\"none\" stroke=\"black\" cx=\"459\" cy=\"-90\" rx=\"27\" ry=\"18\"/>\n",
       "<text text-anchor=\"middle\" x=\"459\" y=\"-86.3\" font-family=\"Times,serif\" font-size=\"14.00\">&#45;1</text>\n",
       "</g>\n",
       "<!-- 4887209840&#45;&gt;4887207248 -->\n",
       "<g id=\"edge21\" class=\"edge\">\n",
       "<title>4887209840&#45;&gt;4887207248</title>\n",
       "<path fill=\"none\" stroke=\"black\" d=\"M401.92,-146.5C411.77,-136.92 424.86,-124.19 436.03,-113.34\"/>\n",
       "<polygon fill=\"black\" stroke=\"black\" points=\"438.29,-116.02 443.02,-106.54 433.41,-111 438.29,-116.02\"/>\n",
       "</g>\n",
       "<!-- 4887214400 -->\n",
       "<g id=\"node24\" class=\"node\">\n",
       "<title>4887214400</title>\n",
       "<ellipse fill=\"none\" stroke=\"black\" cx=\"387\" cy=\"-18\" rx=\"27\" ry=\"18\"/>\n",
       "<text text-anchor=\"middle\" x=\"387\" y=\"-14.3\" font-family=\"Times,serif\" font-size=\"14.00\">x</text>\n",
       "</g>\n",
       "<!-- 4887209744&#45;&gt;4887214400 -->\n",
       "<g id=\"edge18\" class=\"edge\">\n",
       "<title>4887209744&#45;&gt;4887214400</title>\n",
       "<path fill=\"none\" stroke=\"black\" d=\"M387,-71.7C387,-64.41 387,-55.73 387,-47.54\"/>\n",
       "<polygon fill=\"black\" stroke=\"black\" points=\"390.5,-47.62 387,-37.62 383.5,-47.62 390.5,-47.62\"/>\n",
       "</g>\n",
       "<!-- 4887208352 -->\n",
       "<g id=\"node25\" class=\"node\">\n",
       "<title>4887208352</title>\n",
       "<ellipse fill=\"none\" stroke=\"black\" cx=\"459\" cy=\"-18\" rx=\"27\" ry=\"18\"/>\n",
       "<text text-anchor=\"middle\" x=\"459\" y=\"-14.3\" font-family=\"Times,serif\" font-size=\"14.00\">x</text>\n",
       "</g>\n",
       "<!-- 4887209744&#45;&gt;4887208352 -->\n",
       "<g id=\"edge19\" class=\"edge\">\n",
       "<title>4887209744&#45;&gt;4887208352</title>\n",
       "<path fill=\"none\" stroke=\"black\" d=\"M401.92,-74.5C411.77,-64.92 424.86,-52.19 436.03,-41.34\"/>\n",
       "<polygon fill=\"black\" stroke=\"black\" points=\"438.29,-44.02 443.02,-34.54 433.41,-39 438.29,-44.02\"/>\n",
       "</g>\n",
       "</g>\n",
       "</svg>\n"
      ],
      "text/plain": [
       "<graphviz.graphs.Digraph at 0x12311e8c0>"
      ]
     },
     "execution_count": 51,
     "metadata": {},
     "output_type": "execute_result"
    }
   ],
   "source": [
    "max_iterations = 200\n",
    "selection = tournament_selection\n",
    "crossover = subtree_crossover\n",
    "P_xover = 0.7\n",
    "fitness_values = []\n",
    "size_values = []\n",
    "result = ga()\n",
    "print_tree(result)"
   ]
  },
  {
   "cell_type": "markdown",
   "metadata": {
    "slideshow": {
     "slide_type": "skip"
    }
   },
   "source": [
    "Is the solution actually correct? We can plot the results of this function vs the results of the actual target function to compare:"
   ]
  },
  {
   "cell_type": "code",
   "execution_count": 52,
   "metadata": {
    "slideshow": {
     "slide_type": "slide"
    }
   },
   "outputs": [
    {
     "data": {
      "text/plain": [
       "<matplotlib.legend.Legend at 0x1232a5ff0>"
      ]
     },
     "execution_count": 52,
     "metadata": {},
     "output_type": "execute_result"
    },
    {
     "data": {
      "image/png": "[encoded data removed]",
      "text/plain": [
       "<Figure size 640x480 with 1 Axes>"
      ]
     },
     "metadata": {},
     "output_type": "display_data"
    }
   ],
   "source": [
    "points = [x/10 for x in range(-10, 11)]\n",
    "real_values = [(x*x + x + 1) for x in points]\n",
    "gp_values = []\n",
    "for x in points:\n",
    "    assignment = {}\n",
    "    assignment[\"x\"] = x\n",
    "    gp_values.append(evaluate(result, assignment))\n",
    "plt.plot(points, gp_values)\n",
    "\n",
    "plt.plot(points, real_values, linestyle='--', label = \"Target\")\n",
    "plt.plot(points, gp_values,  linestyle=':', label = \"GP\")\n",
    "plt.legend()"
   ]
  },
  {
   "cell_type": "markdown",
   "metadata": {
    "slideshow": {
     "slide_type": "skip"
    }
   },
   "source": [
    "The solution is usually correct; if it is not, try again, and maybe try to adjust the parameters of the GA."
   ]
  },
  {
   "cell_type": "markdown",
   "metadata": {
    "slideshow": {
     "slide_type": "slide"
    }
   },
   "source": [
    "### Handling Bloat"
   ]
  },
  {
   "cell_type": "markdown",
   "metadata": {
    "slideshow": {
     "slide_type": "skip"
    }
   },
   "source": [
    "The solution is probably a fairly large tree. Indeed the size is sometimes quite problematic as genetic programming tends to suffer from _bloat_. Let's look at the average population size throughout the evolution:"
   ]
  },
  {
   "cell_type": "code",
   "execution_count": 53,
   "metadata": {
    "scrolled": true,
    "slideshow": {
     "slide_type": "fragment"
    }
   },
   "outputs": [
    {
     "data": {
      "text/plain": [
       "[<matplotlib.lines.Line2D at 0x123570520>]"
      ]
     },
     "execution_count": 53,
     "metadata": {},
     "output_type": "execute_result"
    },
    {
     "data": {
      "image/png": "[encoded data removed]",
      "text/plain": [
       "<Figure size 640x480 with 1 Axes>"
      ]
     },
     "metadata": {},
     "output_type": "display_data"
    }
   ],
   "source": [
    "plt.plot(size_values)"
   ]
  },
  {
   "cell_type": "markdown",
   "metadata": {
    "slideshow": {
     "slide_type": "skip"
    }
   },
   "source": [
    "We have already adapted our selection operator to counter bloat somewhat, but mutation and crossover also cause an increase in size. We therefore define alternative mutation and crossover operators."
   ]
  },
  {
   "cell_type": "markdown",
   "metadata": {
    "slideshow": {
     "slide_type": "skip"
    }
   },
   "source": [
    "Shrink mutation replaces a random subtree with a terminal node:"
   ]
  },
  {
   "cell_type": "code",
   "execution_count": 54,
   "metadata": {
    "slideshow": {
     "slide_type": "slide"
    }
   },
   "outputs": [],
   "source": [
    "def shrink_mutation(individual):\n",
    "    num_nodes = size(individual)\n",
    "    if num_nodes < 2:\n",
    "        return\n",
    "    \n",
    "    mutation_point = random.randint(2, num_nodes - 1)\n",
    "    node = Node()\n",
    "    node.data = get_random_terminal()\n",
    "    insert_subtree_at(individual, node, Counter(mutation_point))\n",
    "    \n",
    "    return individual"
   ]
  },
  {
   "cell_type": "code",
   "execution_count": 55,
   "metadata": {
    "slideshow": {
     "slide_type": "subslide"
    }
   },
   "outputs": [
    {
     "data": {
      "image/svg+xml": [
       "<?xml version=\"1.0\" encoding=\"UTF-8\" standalone=\"no\"?>\n",
       "<!DOCTYPE svg PUBLIC \"-//W3C//DTD SVG 1.1//EN\"\n",
       " \"http://www.w3.org/Graphics/SVG/1.1/DTD/svg11.dtd\">\n",
       "<!-- Generated by graphviz version 7.0.6 (20230106.0513)\n",
       " -->\n",
       "<!-- Pages: 1 -->\n",
       "<svg width=\"422pt\" height=\"260pt\"\n",
       " viewBox=\"0.00 0.00 422.00 260.00\" xmlns=\"http://www.w3.org/2000/svg\" xmlns:xlink=\"http://www.w3.org/1999/xlink\">\n",
       "<g id=\"graph0\" class=\"graph\" transform=\"scale(1 1) rotate(0) translate(4 256)\">\n",
       "<polygon fill=\"white\" stroke=\"none\" points=\"-4,4 -4,-256 418,-256 418,4 -4,4\"/>\n",
       "<!-- 4883836752 -->\n",
       "<g id=\"node1\" class=\"node\">\n",
       "<title>4883836752</title>\n",
       "<ellipse fill=\"none\" stroke=\"black\" cx=\"207\" cy=\"-234\" rx=\"27\" ry=\"18\"/>\n",
       "<text text-anchor=\"middle\" x=\"207\" y=\"-230.3\" font-family=\"Times,serif\" font-size=\"14.00\">add</text>\n",
       "</g>\n",
       "<!-- 4883829744 -->\n",
       "<g id=\"node2\" class=\"node\">\n",
       "<title>4883829744</title>\n",
       "<ellipse fill=\"none\" stroke=\"black\" cx=\"171\" cy=\"-162\" rx=\"27\" ry=\"18\"/>\n",
       "<text text-anchor=\"middle\" x=\"171\" y=\"-158.3\" font-family=\"Times,serif\" font-size=\"14.00\">div</text>\n",
       "</g>\n",
       "<!-- 4883836752&#45;&gt;4883829744 -->\n",
       "<g id=\"edge7\" class=\"edge\">\n",
       "<title>4883836752&#45;&gt;4883829744</title>\n",
       "<path fill=\"none\" stroke=\"black\" d=\"M198.65,-216.76C194.42,-208.55 189.19,-198.37 184.42,-189.09\"/>\n",
       "<polygon fill=\"black\" stroke=\"black\" points=\"187.68,-187.79 180,-180.49 181.46,-190.99 187.68,-187.79\"/>\n",
       "</g>\n",
       "<!-- 4886847232 -->\n",
       "<g id=\"node9\" class=\"node\">\n",
       "<title>4886847232</title>\n",
       "<ellipse fill=\"none\" stroke=\"black\" cx=\"243\" cy=\"-162\" rx=\"27\" ry=\"18\"/>\n",
       "<text text-anchor=\"middle\" x=\"243\" y=\"-158.3\" font-family=\"Times,serif\" font-size=\"14.00\">mul</text>\n",
       "</g>\n",
       "<!-- 4883836752&#45;&gt;4886847232 -->\n",
       "<g id=\"edge12\" class=\"edge\">\n",
       "<title>4883836752&#45;&gt;4886847232</title>\n",
       "<path fill=\"none\" stroke=\"black\" d=\"M215.35,-216.76C219.58,-208.55 224.81,-198.37 229.58,-189.09\"/>\n",
       "<polygon fill=\"black\" stroke=\"black\" points=\"232.54,-190.99 234,-180.49 226.32,-187.79 232.54,-190.99\"/>\n",
       "</g>\n",
       "<!-- 4886846368 -->\n",
       "<g id=\"node3\" class=\"node\">\n",
       "<title>4886846368</title>\n",
       "<ellipse fill=\"none\" stroke=\"black\" cx=\"99\" cy=\"-90\" rx=\"27\" ry=\"18\"/>\n",
       "<text text-anchor=\"middle\" x=\"99\" y=\"-86.3\" font-family=\"Times,serif\" font-size=\"14.00\">div</text>\n",
       "</g>\n",
       "<!-- 4883829744&#45;&gt;4886846368 -->\n",
       "<g id=\"edge3\" class=\"edge\">\n",
       "<title>4883829744&#45;&gt;4886846368</title>\n",
       "<path fill=\"none\" stroke=\"black\" d=\"M156.08,-146.5C146.23,-136.92 133.14,-124.19 121.97,-113.34\"/>\n",
       "<polygon fill=\"black\" stroke=\"black\" points=\"124.59,-111 114.98,-106.54 119.71,-116.02 124.59,-111\"/>\n",
       "</g>\n",
       "<!-- 4886855152 -->\n",
       "<g id=\"node6\" class=\"node\">\n",
       "<title>4886855152</title>\n",
       "<ellipse fill=\"none\" stroke=\"black\" cx=\"171\" cy=\"-90\" rx=\"27\" ry=\"18\"/>\n",
       "<text text-anchor=\"middle\" x=\"171\" y=\"-86.3\" font-family=\"Times,serif\" font-size=\"14.00\">mul</text>\n",
       "</g>\n",
       "<!-- 4883829744&#45;&gt;4886855152 -->\n",
       "<g id=\"edge6\" class=\"edge\">\n",
       "<title>4883829744&#45;&gt;4886855152</title>\n",
       "<path fill=\"none\" stroke=\"black\" d=\"M171,-143.7C171,-136.41 171,-127.73 171,-119.54\"/>\n",
       "<polygon fill=\"black\" stroke=\"black\" points=\"174.5,-119.62 171,-109.62 167.5,-119.62 174.5,-119.62\"/>\n",
       "</g>\n",
       "<!-- 4886849584 -->\n",
       "<g id=\"node4\" class=\"node\">\n",
       "<title>4886849584</title>\n",
       "<ellipse fill=\"none\" stroke=\"black\" cx=\"27\" cy=\"-18\" rx=\"27\" ry=\"18\"/>\n",
       "<text text-anchor=\"middle\" x=\"27\" y=\"-14.3\" font-family=\"Times,serif\" font-size=\"14.00\">B</text>\n",
       "</g>\n",
       "<!-- 4886846368&#45;&gt;4886849584 -->\n",
       "<g id=\"edge1\" class=\"edge\">\n",
       "<title>4886846368&#45;&gt;4886849584</title>\n",
       "<path fill=\"none\" stroke=\"black\" d=\"M84.08,-74.5C74.23,-64.92 61.14,-52.19 49.97,-41.34\"/>\n",
       "<polygon fill=\"black\" stroke=\"black\" points=\"52.59,-39 42.98,-34.54 47.71,-44.02 52.59,-39\"/>\n",
       "</g>\n",
       "<!-- 4886852512 -->\n",
       "<g id=\"node5\" class=\"node\">\n",
       "<title>4886852512</title>\n",
       "<ellipse fill=\"none\" stroke=\"black\" cx=\"99\" cy=\"-18\" rx=\"27\" ry=\"18\"/>\n",
       "<text text-anchor=\"middle\" x=\"99\" y=\"-14.3\" font-family=\"Times,serif\" font-size=\"14.00\">4</text>\n",
       "</g>\n",
       "<!-- 4886846368&#45;&gt;4886852512 -->\n",
       "<g id=\"edge2\" class=\"edge\">\n",
       "<title>4886846368&#45;&gt;4886852512</title>\n",
       "<path fill=\"none\" stroke=\"black\" d=\"M99,-71.7C99,-64.41 99,-55.73 99,-47.54\"/>\n",
       "<polygon fill=\"black\" stroke=\"black\" points=\"102.5,-47.62 99,-37.62 95.5,-47.62 102.5,-47.62\"/>\n",
       "</g>\n",
       "<!-- 4886855392 -->\n",
       "<g id=\"node7\" class=\"node\">\n",
       "<title>4886855392</title>\n",
       "<ellipse fill=\"none\" stroke=\"black\" cx=\"171\" cy=\"-18\" rx=\"27\" ry=\"18\"/>\n",
       "<text text-anchor=\"middle\" x=\"171\" y=\"-14.3\" font-family=\"Times,serif\" font-size=\"14.00\">D</text>\n",
       "</g>\n",
       "<!-- 4886855152&#45;&gt;4886855392 -->\n",
       "<g id=\"edge4\" class=\"edge\">\n",
       "<title>4886855152&#45;&gt;4886855392</title>\n",
       "<path fill=\"none\" stroke=\"black\" d=\"M171,-71.7C171,-64.41 171,-55.73 171,-47.54\"/>\n",
       "<polygon fill=\"black\" stroke=\"black\" points=\"174.5,-47.62 171,-37.62 167.5,-47.62 174.5,-47.62\"/>\n",
       "</g>\n",
       "<!-- 4886854912 -->\n",
       "<g id=\"node8\" class=\"node\">\n",
       "<title>4886854912</title>\n",
       "<ellipse fill=\"none\" stroke=\"black\" cx=\"243\" cy=\"-18\" rx=\"27\" ry=\"18\"/>\n",
       "<text text-anchor=\"middle\" x=\"243\" y=\"-14.3\" font-family=\"Times,serif\" font-size=\"14.00\">B</text>\n",
       "</g>\n",
       "<!-- 4886855152&#45;&gt;4886854912 -->\n",
       "<g id=\"edge5\" class=\"edge\">\n",
       "<title>4886855152&#45;&gt;4886854912</title>\n",
       "<path fill=\"none\" stroke=\"black\" d=\"M185.92,-74.5C195.77,-64.92 208.86,-52.19 220.03,-41.34\"/>\n",
       "<polygon fill=\"black\" stroke=\"black\" points=\"222.29,-44.02 227.02,-34.54 217.41,-39 222.29,-44.02\"/>\n",
       "</g>\n",
       "<!-- 4886850592 -->\n",
       "<g id=\"node10\" class=\"node\">\n",
       "<title>4886850592</title>\n",
       "<ellipse fill=\"none\" stroke=\"black\" cx=\"243\" cy=\"-90\" rx=\"27\" ry=\"18\"/>\n",
       "<text text-anchor=\"middle\" x=\"243\" y=\"-86.3\" font-family=\"Times,serif\" font-size=\"14.00\">B</text>\n",
       "</g>\n",
       "<!-- 4886847232&#45;&gt;4886850592 -->\n",
       "<g id=\"edge8\" class=\"edge\">\n",
       "<title>4886847232&#45;&gt;4886850592</title>\n",
       "<path fill=\"none\" stroke=\"black\" d=\"M243,-143.7C243,-136.41 243,-127.73 243,-119.54\"/>\n",
       "<polygon fill=\"black\" stroke=\"black\" points=\"246.5,-119.62 243,-109.62 239.5,-119.62 246.5,-119.62\"/>\n",
       "</g>\n",
       "<!-- 4886851072 -->\n",
       "<g id=\"node11\" class=\"node\">\n",
       "<title>4886851072</title>\n",
       "<ellipse fill=\"none\" stroke=\"black\" cx=\"315\" cy=\"-90\" rx=\"27\" ry=\"18\"/>\n",
       "<text text-anchor=\"middle\" x=\"315\" y=\"-86.3\" font-family=\"Times,serif\" font-size=\"14.00\">div</text>\n",
       "</g>\n",
       "<!-- 4886847232&#45;&gt;4886851072 -->\n",
       "<g id=\"edge11\" class=\"edge\">\n",
       "<title>4886847232&#45;&gt;4886851072</title>\n",
       "<path fill=\"none\" stroke=\"black\" d=\"M257.92,-146.5C267.77,-136.92 280.86,-124.19 292.03,-113.34\"/>\n",
       "<polygon fill=\"black\" stroke=\"black\" points=\"294.29,-116.02 299.02,-106.54 289.41,-111 294.29,-116.02\"/>\n",
       "</g>\n",
       "<!-- 4886839360 -->\n",
       "<g id=\"node12\" class=\"node\">\n",
       "<title>4886839360</title>\n",
       "<ellipse fill=\"none\" stroke=\"black\" cx=\"315\" cy=\"-18\" rx=\"27\" ry=\"18\"/>\n",
       "<text text-anchor=\"middle\" x=\"315\" y=\"-14.3\" font-family=\"Times,serif\" font-size=\"14.00\">D</text>\n",
       "</g>\n",
       "<!-- 4886851072&#45;&gt;4886839360 -->\n",
       "<g id=\"edge9\" class=\"edge\">\n",
       "<title>4886851072&#45;&gt;4886839360</title>\n",
       "<path fill=\"none\" stroke=\"black\" d=\"M315,-71.7C315,-64.41 315,-55.73 315,-47.54\"/>\n",
       "<polygon fill=\"black\" stroke=\"black\" points=\"318.5,-47.62 315,-37.62 311.5,-47.62 318.5,-47.62\"/>\n",
       "</g>\n",
       "<!-- 4886849536 -->\n",
       "<g id=\"node13\" class=\"node\">\n",
       "<title>4886849536</title>\n",
       "<ellipse fill=\"none\" stroke=\"black\" cx=\"387\" cy=\"-18\" rx=\"27\" ry=\"18\"/>\n",
       "<text text-anchor=\"middle\" x=\"387\" y=\"-14.3\" font-family=\"Times,serif\" font-size=\"14.00\">C</text>\n",
       "</g>\n",
       "<!-- 4886851072&#45;&gt;4886849536 -->\n",
       "<g id=\"edge10\" class=\"edge\">\n",
       "<title>4886851072&#45;&gt;4886849536</title>\n",
       "<path fill=\"none\" stroke=\"black\" d=\"M329.92,-74.5C339.77,-64.92 352.86,-52.19 364.03,-41.34\"/>\n",
       "<polygon fill=\"black\" stroke=\"black\" points=\"366.29,-44.02 371.02,-34.54 361.41,-39 366.29,-44.02\"/>\n",
       "</g>\n",
       "</g>\n",
       "</svg>\n"
      ],
      "text/plain": [
       "<graphviz.graphs.Digraph at 0x123571f00>"
      ]
     },
     "execution_count": 55,
     "metadata": {},
     "output_type": "execute_result"
    }
   ],
   "source": [
    "print_tree(parent1)"
   ]
  },
  {
   "cell_type": "code",
   "execution_count": 57,
   "metadata": {
    "scrolled": true,
    "slideshow": {
     "slide_type": "fragment"
    }
   },
   "outputs": [
    {
     "data": {
      "image/svg+xml": [
       "<?xml version=\"1.0\" encoding=\"UTF-8\" standalone=\"no\"?>\n",
       "<!DOCTYPE svg PUBLIC \"-//W3C//DTD SVG 1.1//EN\"\n",
       " \"http://www.w3.org/Graphics/SVG/1.1/DTD/svg11.dtd\">\n",
       "<!-- Generated by graphviz version 7.0.6 (20230106.0513)\n",
       " -->\n",
       "<!-- Pages: 1 -->\n",
       "<svg width=\"206pt\" height=\"260pt\"\n",
       " viewBox=\"0.00 0.00 206.00 260.00\" xmlns=\"http://www.w3.org/2000/svg\" xmlns:xlink=\"http://www.w3.org/1999/xlink\">\n",
       "<g id=\"graph0\" class=\"graph\" transform=\"scale(1 1) rotate(0) translate(4 256)\">\n",
       "<polygon fill=\"white\" stroke=\"none\" points=\"-4,4 -4,-256 202,-256 202,4 -4,4\"/>\n",
       "<!-- 4887882736 -->\n",
       "<g id=\"node1\" class=\"node\">\n",
       "<title>4887882736</title>\n",
       "<ellipse fill=\"none\" stroke=\"black\" cx=\"63\" cy=\"-234\" rx=\"27\" ry=\"18\"/>\n",
       "<text text-anchor=\"middle\" x=\"63\" y=\"-230.3\" font-family=\"Times,serif\" font-size=\"14.00\">add</text>\n",
       "</g>\n",
       "<!-- 4887074976 -->\n",
       "<g id=\"node2\" class=\"node\">\n",
       "<title>4887074976</title>\n",
       "<ellipse fill=\"none\" stroke=\"black\" cx=\"27\" cy=\"-162\" rx=\"27\" ry=\"18\"/>\n",
       "<text text-anchor=\"middle\" x=\"27\" y=\"-158.3\" font-family=\"Times,serif\" font-size=\"14.00\">x</text>\n",
       "</g>\n",
       "<!-- 4887882736&#45;&gt;4887074976 -->\n",
       "<g id=\"edge1\" class=\"edge\">\n",
       "<title>4887882736&#45;&gt;4887074976</title>\n",
       "<path fill=\"none\" stroke=\"black\" d=\"M54.65,-216.76C50.42,-208.55 45.19,-198.37 40.42,-189.09\"/>\n",
       "<polygon fill=\"black\" stroke=\"black\" points=\"43.68,-187.79 36,-180.49 37.46,-190.99 43.68,-187.79\"/>\n",
       "</g>\n",
       "<!-- 4887072288 -->\n",
       "<g id=\"node3\" class=\"node\">\n",
       "<title>4887072288</title>\n",
       "<ellipse fill=\"none\" stroke=\"black\" cx=\"99\" cy=\"-162\" rx=\"27\" ry=\"18\"/>\n",
       "<text text-anchor=\"middle\" x=\"99\" y=\"-158.3\" font-family=\"Times,serif\" font-size=\"14.00\">mul</text>\n",
       "</g>\n",
       "<!-- 4887882736&#45;&gt;4887072288 -->\n",
       "<g id=\"edge6\" class=\"edge\">\n",
       "<title>4887882736&#45;&gt;4887072288</title>\n",
       "<path fill=\"none\" stroke=\"black\" d=\"M71.35,-216.76C75.58,-208.55 80.81,-198.37 85.58,-189.09\"/>\n",
       "<polygon fill=\"black\" stroke=\"black\" points=\"88.54,-190.99 90,-180.49 82.32,-187.79 88.54,-190.99\"/>\n",
       "</g>\n",
       "<!-- 4887072192 -->\n",
       "<g id=\"node4\" class=\"node\">\n",
       "<title>4887072192</title>\n",
       "<ellipse fill=\"none\" stroke=\"black\" cx=\"63\" cy=\"-90\" rx=\"27\" ry=\"18\"/>\n",
       "<text text-anchor=\"middle\" x=\"63\" y=\"-86.3\" font-family=\"Times,serif\" font-size=\"14.00\">B</text>\n",
       "</g>\n",
       "<!-- 4887072288&#45;&gt;4887072192 -->\n",
       "<g id=\"edge2\" class=\"edge\">\n",
       "<title>4887072288&#45;&gt;4887072192</title>\n",
       "<path fill=\"none\" stroke=\"black\" d=\"M90.65,-144.76C86.42,-136.55 81.19,-126.37 76.42,-117.09\"/>\n",
       "<polygon fill=\"black\" stroke=\"black\" points=\"79.68,-115.79 72,-108.49 73.46,-118.99 79.68,-115.79\"/>\n",
       "</g>\n",
       "<!-- 4887075936 -->\n",
       "<g id=\"node5\" class=\"node\">\n",
       "<title>4887075936</title>\n",
       "<ellipse fill=\"none\" stroke=\"black\" cx=\"135\" cy=\"-90\" rx=\"27\" ry=\"18\"/>\n",
       "<text text-anchor=\"middle\" x=\"135\" y=\"-86.3\" font-family=\"Times,serif\" font-size=\"14.00\">div</text>\n",
       "</g>\n",
       "<!-- 4887072288&#45;&gt;4887075936 -->\n",
       "<g id=\"edge5\" class=\"edge\">\n",
       "<title>4887072288&#45;&gt;4887075936</title>\n",
       "<path fill=\"none\" stroke=\"black\" d=\"M107.35,-144.76C111.58,-136.55 116.81,-126.37 121.58,-117.09\"/>\n",
       "<polygon fill=\"black\" stroke=\"black\" points=\"124.54,-118.99 126,-108.49 118.32,-115.79 124.54,-118.99\"/>\n",
       "</g>\n",
       "<!-- 4887070560 -->\n",
       "<g id=\"node6\" class=\"node\">\n",
       "<title>4887070560</title>\n",
       "<ellipse fill=\"none\" stroke=\"black\" cx=\"99\" cy=\"-18\" rx=\"27\" ry=\"18\"/>\n",
       "<text text-anchor=\"middle\" x=\"99\" y=\"-14.3\" font-family=\"Times,serif\" font-size=\"14.00\">D</text>\n",
       "</g>\n",
       "<!-- 4887075936&#45;&gt;4887070560 -->\n",
       "<g id=\"edge3\" class=\"edge\">\n",
       "<title>4887075936&#45;&gt;4887070560</title>\n",
       "<path fill=\"none\" stroke=\"black\" d=\"M126.65,-72.76C122.42,-64.55 117.19,-54.37 112.42,-45.09\"/>\n",
       "<polygon fill=\"black\" stroke=\"black\" points=\"115.68,-43.79 108,-36.49 109.46,-46.99 115.68,-43.79\"/>\n",
       "</g>\n",
       "<!-- 4887075408 -->\n",
       "<g id=\"node7\" class=\"node\">\n",
       "<title>4887075408</title>\n",
       "<ellipse fill=\"none\" stroke=\"black\" cx=\"171\" cy=\"-18\" rx=\"27\" ry=\"18\"/>\n",
       "<text text-anchor=\"middle\" x=\"171\" y=\"-14.3\" font-family=\"Times,serif\" font-size=\"14.00\">C</text>\n",
       "</g>\n",
       "<!-- 4887075936&#45;&gt;4887075408 -->\n",
       "<g id=\"edge4\" class=\"edge\">\n",
       "<title>4887075936&#45;&gt;4887075408</title>\n",
       "<path fill=\"none\" stroke=\"black\" d=\"M143.35,-72.76C147.58,-64.55 152.81,-54.37 157.58,-45.09\"/>\n",
       "<polygon fill=\"black\" stroke=\"black\" points=\"160.54,-46.99 162,-36.49 154.32,-43.79 160.54,-46.99\"/>\n",
       "</g>\n",
       "</g>\n",
       "</svg>\n"
      ],
      "text/plain": [
       "<graphviz.graphs.Digraph at 0x1234cd5a0>"
      ]
     },
     "execution_count": 57,
     "metadata": {},
     "output_type": "execute_result"
    }
   ],
   "source": [
    "offspring = copy(parent1)\n",
    "shrink_mutation(offspring)\n",
    "print_tree(offspring)"
   ]
  },
  {
   "cell_type": "markdown",
   "metadata": {
    "slideshow": {
     "slide_type": "skip"
    }
   },
   "source": [
    "Size-fair subtree mutation first picks a random subtree, and then replaces that with a new random subtree that is at most as big as the replaced subtree:"
   ]
  },
  {
   "cell_type": "code",
   "execution_count": 58,
   "metadata": {
    "slideshow": {
     "slide_type": "slide"
    }
   },
   "outputs": [],
   "source": [
    "def depth(node):\n",
    "    d = 0\n",
    "    if node.left:\n",
    "        d = max(d, depth(node.left))\n",
    "    if node.right:\n",
    "        d = max(d, depth(node.right))\n",
    "    return d + 1\n",
    "        "
   ]
  },
  {
   "cell_type": "code",
   "execution_count": 59,
   "metadata": {
    "slideshow": {
     "slide_type": "fragment"
    }
   },
   "outputs": [],
   "source": [
    "def sizefair_subtree_mutation(tree):\n",
    "    mutation_point = random.randint(1, size(tree))\n",
    "    replaced_tree = get_subtree_at(tree, Counter(mutation_point))\n",
    "    random_subtree = grow_random_tree(MAX_DEPTH - depth(replaced_tree) + 1)\n",
    "    insert_subtree_at(tree, random_subtree, Counter(mutation_point))"
   ]
  },
  {
   "cell_type": "code",
   "execution_count": 60,
   "metadata": {
    "slideshow": {
     "slide_type": "subslide"
    }
   },
   "outputs": [
    {
     "data": {
      "image/svg+xml": [
       "<?xml version=\"1.0\" encoding=\"UTF-8\" standalone=\"no\"?>\n",
       "<!DOCTYPE svg PUBLIC \"-//W3C//DTD SVG 1.1//EN\"\n",
       " \"http://www.w3.org/Graphics/SVG/1.1/DTD/svg11.dtd\">\n",
       "<!-- Generated by graphviz version 7.0.6 (20230106.0513)\n",
       " -->\n",
       "<!-- Pages: 1 -->\n",
       "<svg width=\"422pt\" height=\"260pt\"\n",
       " viewBox=\"0.00 0.00 422.00 260.00\" xmlns=\"http://www.w3.org/2000/svg\" xmlns:xlink=\"http://www.w3.org/1999/xlink\">\n",
       "<g id=\"graph0\" class=\"graph\" transform=\"scale(1 1) rotate(0) translate(4 256)\">\n",
       "<polygon fill=\"white\" stroke=\"none\" points=\"-4,4 -4,-256 418,-256 418,4 -4,4\"/>\n",
       "<!-- 4883836752 -->\n",
       "<g id=\"node1\" class=\"node\">\n",
       "<title>4883836752</title>\n",
       "<ellipse fill=\"none\" stroke=\"black\" cx=\"207\" cy=\"-234\" rx=\"27\" ry=\"18\"/>\n",
       "<text text-anchor=\"middle\" x=\"207\" y=\"-230.3\" font-family=\"Times,serif\" font-size=\"14.00\">add</text>\n",
       "</g>\n",
       "<!-- 4883829744 -->\n",
       "<g id=\"node2\" class=\"node\">\n",
       "<title>4883829744</title>\n",
       "<ellipse fill=\"none\" stroke=\"black\" cx=\"171\" cy=\"-162\" rx=\"27\" ry=\"18\"/>\n",
       "<text text-anchor=\"middle\" x=\"171\" y=\"-158.3\" font-family=\"Times,serif\" font-size=\"14.00\">div</text>\n",
       "</g>\n",
       "<!-- 4883836752&#45;&gt;4883829744 -->\n",
       "<g id=\"edge7\" class=\"edge\">\n",
       "<title>4883836752&#45;&gt;4883829744</title>\n",
       "<path fill=\"none\" stroke=\"black\" d=\"M198.65,-216.76C194.42,-208.55 189.19,-198.37 184.42,-189.09\"/>\n",
       "<polygon fill=\"black\" stroke=\"black\" points=\"187.68,-187.79 180,-180.49 181.46,-190.99 187.68,-187.79\"/>\n",
       "</g>\n",
       "<!-- 4886847232 -->\n",
       "<g id=\"node9\" class=\"node\">\n",
       "<title>4886847232</title>\n",
       "<ellipse fill=\"none\" stroke=\"black\" cx=\"243\" cy=\"-162\" rx=\"27\" ry=\"18\"/>\n",
       "<text text-anchor=\"middle\" x=\"243\" y=\"-158.3\" font-family=\"Times,serif\" font-size=\"14.00\">mul</text>\n",
       "</g>\n",
       "<!-- 4883836752&#45;&gt;4886847232 -->\n",
       "<g id=\"edge12\" class=\"edge\">\n",
       "<title>4883836752&#45;&gt;4886847232</title>\n",
       "<path fill=\"none\" stroke=\"black\" d=\"M215.35,-216.76C219.58,-208.55 224.81,-198.37 229.58,-189.09\"/>\n",
       "<polygon fill=\"black\" stroke=\"black\" points=\"232.54,-190.99 234,-180.49 226.32,-187.79 232.54,-190.99\"/>\n",
       "</g>\n",
       "<!-- 4886846368 -->\n",
       "<g id=\"node3\" class=\"node\">\n",
       "<title>4886846368</title>\n",
       "<ellipse fill=\"none\" stroke=\"black\" cx=\"99\" cy=\"-90\" rx=\"27\" ry=\"18\"/>\n",
       "<text text-anchor=\"middle\" x=\"99\" y=\"-86.3\" font-family=\"Times,serif\" font-size=\"14.00\">div</text>\n",
       "</g>\n",
       "<!-- 4883829744&#45;&gt;4886846368 -->\n",
       "<g id=\"edge3\" class=\"edge\">\n",
       "<title>4883829744&#45;&gt;4886846368</title>\n",
       "<path fill=\"none\" stroke=\"black\" d=\"M156.08,-146.5C146.23,-136.92 133.14,-124.19 121.97,-113.34\"/>\n",
       "<polygon fill=\"black\" stroke=\"black\" points=\"124.59,-111 114.98,-106.54 119.71,-116.02 124.59,-111\"/>\n",
       "</g>\n",
       "<!-- 4886855152 -->\n",
       "<g id=\"node6\" class=\"node\">\n",
       "<title>4886855152</title>\n",
       "<ellipse fill=\"none\" stroke=\"black\" cx=\"171\" cy=\"-90\" rx=\"27\" ry=\"18\"/>\n",
       "<text text-anchor=\"middle\" x=\"171\" y=\"-86.3\" font-family=\"Times,serif\" font-size=\"14.00\">mul</text>\n",
       "</g>\n",
       "<!-- 4883829744&#45;&gt;4886855152 -->\n",
       "<g id=\"edge6\" class=\"edge\">\n",
       "<title>4883829744&#45;&gt;4886855152</title>\n",
       "<path fill=\"none\" stroke=\"black\" d=\"M171,-143.7C171,-136.41 171,-127.73 171,-119.54\"/>\n",
       "<polygon fill=\"black\" stroke=\"black\" points=\"174.5,-119.62 171,-109.62 167.5,-119.62 174.5,-119.62\"/>\n",
       "</g>\n",
       "<!-- 4886849584 -->\n",
       "<g id=\"node4\" class=\"node\">\n",
       "<title>4886849584</title>\n",
       "<ellipse fill=\"none\" stroke=\"black\" cx=\"27\" cy=\"-18\" rx=\"27\" ry=\"18\"/>\n",
       "<text text-anchor=\"middle\" x=\"27\" y=\"-14.3\" font-family=\"Times,serif\" font-size=\"14.00\">B</text>\n",
       "</g>\n",
       "<!-- 4886846368&#45;&gt;4886849584 -->\n",
       "<g id=\"edge1\" class=\"edge\">\n",
       "<title>4886846368&#45;&gt;4886849584</title>\n",
       "<path fill=\"none\" stroke=\"black\" d=\"M84.08,-74.5C74.23,-64.92 61.14,-52.19 49.97,-41.34\"/>\n",
       "<polygon fill=\"black\" stroke=\"black\" points=\"52.59,-39 42.98,-34.54 47.71,-44.02 52.59,-39\"/>\n",
       "</g>\n",
       "<!-- 4886852512 -->\n",
       "<g id=\"node5\" class=\"node\">\n",
       "<title>4886852512</title>\n",
       "<ellipse fill=\"none\" stroke=\"black\" cx=\"99\" cy=\"-18\" rx=\"27\" ry=\"18\"/>\n",
       "<text text-anchor=\"middle\" x=\"99\" y=\"-14.3\" font-family=\"Times,serif\" font-size=\"14.00\">4</text>\n",
       "</g>\n",
       "<!-- 4886846368&#45;&gt;4886852512 -->\n",
       "<g id=\"edge2\" class=\"edge\">\n",
       "<title>4886846368&#45;&gt;4886852512</title>\n",
       "<path fill=\"none\" stroke=\"black\" d=\"M99,-71.7C99,-64.41 99,-55.73 99,-47.54\"/>\n",
       "<polygon fill=\"black\" stroke=\"black\" points=\"102.5,-47.62 99,-37.62 95.5,-47.62 102.5,-47.62\"/>\n",
       "</g>\n",
       "<!-- 4886855392 -->\n",
       "<g id=\"node7\" class=\"node\">\n",
       "<title>4886855392</title>\n",
       "<ellipse fill=\"none\" stroke=\"black\" cx=\"171\" cy=\"-18\" rx=\"27\" ry=\"18\"/>\n",
       "<text text-anchor=\"middle\" x=\"171\" y=\"-14.3\" font-family=\"Times,serif\" font-size=\"14.00\">D</text>\n",
       "</g>\n",
       "<!-- 4886855152&#45;&gt;4886855392 -->\n",
       "<g id=\"edge4\" class=\"edge\">\n",
       "<title>4886855152&#45;&gt;4886855392</title>\n",
       "<path fill=\"none\" stroke=\"black\" d=\"M171,-71.7C171,-64.41 171,-55.73 171,-47.54\"/>\n",
       "<polygon fill=\"black\" stroke=\"black\" points=\"174.5,-47.62 171,-37.62 167.5,-47.62 174.5,-47.62\"/>\n",
       "</g>\n",
       "<!-- 4886854912 -->\n",
       "<g id=\"node8\" class=\"node\">\n",
       "<title>4886854912</title>\n",
       "<ellipse fill=\"none\" stroke=\"black\" cx=\"243\" cy=\"-18\" rx=\"27\" ry=\"18\"/>\n",
       "<text text-anchor=\"middle\" x=\"243\" y=\"-14.3\" font-family=\"Times,serif\" font-size=\"14.00\">B</text>\n",
       "</g>\n",
       "<!-- 4886855152&#45;&gt;4886854912 -->\n",
       "<g id=\"edge5\" class=\"edge\">\n",
       "<title>4886855152&#45;&gt;4886854912</title>\n",
       "<path fill=\"none\" stroke=\"black\" d=\"M185.92,-74.5C195.77,-64.92 208.86,-52.19 220.03,-41.34\"/>\n",
       "<polygon fill=\"black\" stroke=\"black\" points=\"222.29,-44.02 227.02,-34.54 217.41,-39 222.29,-44.02\"/>\n",
       "</g>\n",
       "<!-- 4886850592 -->\n",
       "<g id=\"node10\" class=\"node\">\n",
       "<title>4886850592</title>\n",
       "<ellipse fill=\"none\" stroke=\"black\" cx=\"243\" cy=\"-90\" rx=\"27\" ry=\"18\"/>\n",
       "<text text-anchor=\"middle\" x=\"243\" y=\"-86.3\" font-family=\"Times,serif\" font-size=\"14.00\">B</text>\n",
       "</g>\n",
       "<!-- 4886847232&#45;&gt;4886850592 -->\n",
       "<g id=\"edge8\" class=\"edge\">\n",
       "<title>4886847232&#45;&gt;4886850592</title>\n",
       "<path fill=\"none\" stroke=\"black\" d=\"M243,-143.7C243,-136.41 243,-127.73 243,-119.54\"/>\n",
       "<polygon fill=\"black\" stroke=\"black\" points=\"246.5,-119.62 243,-109.62 239.5,-119.62 246.5,-119.62\"/>\n",
       "</g>\n",
       "<!-- 4886851072 -->\n",
       "<g id=\"node11\" class=\"node\">\n",
       "<title>4886851072</title>\n",
       "<ellipse fill=\"none\" stroke=\"black\" cx=\"315\" cy=\"-90\" rx=\"27\" ry=\"18\"/>\n",
       "<text text-anchor=\"middle\" x=\"315\" y=\"-86.3\" font-family=\"Times,serif\" font-size=\"14.00\">div</text>\n",
       "</g>\n",
       "<!-- 4886847232&#45;&gt;4886851072 -->\n",
       "<g id=\"edge11\" class=\"edge\">\n",
       "<title>4886847232&#45;&gt;4886851072</title>\n",
       "<path fill=\"none\" stroke=\"black\" d=\"M257.92,-146.5C267.77,-136.92 280.86,-124.19 292.03,-113.34\"/>\n",
       "<polygon fill=\"black\" stroke=\"black\" points=\"294.29,-116.02 299.02,-106.54 289.41,-111 294.29,-116.02\"/>\n",
       "</g>\n",
       "<!-- 4886839360 -->\n",
       "<g id=\"node12\" class=\"node\">\n",
       "<title>4886839360</title>\n",
       "<ellipse fill=\"none\" stroke=\"black\" cx=\"315\" cy=\"-18\" rx=\"27\" ry=\"18\"/>\n",
       "<text text-anchor=\"middle\" x=\"315\" y=\"-14.3\" font-family=\"Times,serif\" font-size=\"14.00\">D</text>\n",
       "</g>\n",
       "<!-- 4886851072&#45;&gt;4886839360 -->\n",
       "<g id=\"edge9\" class=\"edge\">\n",
       "<title>4886851072&#45;&gt;4886839360</title>\n",
       "<path fill=\"none\" stroke=\"black\" d=\"M315,-71.7C315,-64.41 315,-55.73 315,-47.54\"/>\n",
       "<polygon fill=\"black\" stroke=\"black\" points=\"318.5,-47.62 315,-37.62 311.5,-47.62 318.5,-47.62\"/>\n",
       "</g>\n",
       "<!-- 4886849536 -->\n",
       "<g id=\"node13\" class=\"node\">\n",
       "<title>4886849536</title>\n",
       "<ellipse fill=\"none\" stroke=\"black\" cx=\"387\" cy=\"-18\" rx=\"27\" ry=\"18\"/>\n",
       "<text text-anchor=\"middle\" x=\"387\" y=\"-14.3\" font-family=\"Times,serif\" font-size=\"14.00\">C</text>\n",
       "</g>\n",
       "<!-- 4886851072&#45;&gt;4886849536 -->\n",
       "<g id=\"edge10\" class=\"edge\">\n",
       "<title>4886851072&#45;&gt;4886849536</title>\n",
       "<path fill=\"none\" stroke=\"black\" d=\"M329.92,-74.5C339.77,-64.92 352.86,-52.19 364.03,-41.34\"/>\n",
       "<polygon fill=\"black\" stroke=\"black\" points=\"366.29,-44.02 371.02,-34.54 361.41,-39 366.29,-44.02\"/>\n",
       "</g>\n",
       "</g>\n",
       "</svg>\n"
      ],
      "text/plain": [
       "<graphviz.graphs.Digraph at 0x1234ac370>"
      ]
     },
     "execution_count": 60,
     "metadata": {},
     "output_type": "execute_result"
    }
   ],
   "source": [
    "print_tree(parent1)"
   ]
  },
  {
   "cell_type": "code",
   "execution_count": 62,
   "metadata": {
    "scrolled": true,
    "slideshow": {
     "slide_type": "fragment"
    }
   },
   "outputs": [
    {
     "data": {
      "image/svg+xml": [
       "<?xml version=\"1.0\" encoding=\"UTF-8\" standalone=\"no\"?>\n",
       "<!DOCTYPE svg PUBLIC \"-//W3C//DTD SVG 1.1//EN\"\n",
       " \"http://www.w3.org/Graphics/SVG/1.1/DTD/svg11.dtd\">\n",
       "<!-- Generated by graphviz version 7.0.6 (20230106.0513)\n",
       " -->\n",
       "<!-- Pages: 1 -->\n",
       "<svg width=\"332pt\" height=\"260pt\"\n",
       " viewBox=\"0.00 0.00 332.00 260.00\" xmlns=\"http://www.w3.org/2000/svg\" xmlns:xlink=\"http://www.w3.org/1999/xlink\">\n",
       "<g id=\"graph0\" class=\"graph\" transform=\"scale(1 1) rotate(0) translate(4 256)\">\n",
       "<polygon fill=\"white\" stroke=\"none\" points=\"-4,4 -4,-256 328,-256 328,4 -4,4\"/>\n",
       "<!-- 4887072288 -->\n",
       "<g id=\"node1\" class=\"node\">\n",
       "<title>4887072288</title>\n",
       "<ellipse fill=\"none\" stroke=\"black\" cx=\"135\" cy=\"-234\" rx=\"27\" ry=\"18\"/>\n",
       "<text text-anchor=\"middle\" x=\"135\" y=\"-230.3\" font-family=\"Times,serif\" font-size=\"14.00\">div</text>\n",
       "</g>\n",
       "<!-- 4888046432 -->\n",
       "<g id=\"node2\" class=\"node\">\n",
       "<title>4888046432</title>\n",
       "<ellipse fill=\"none\" stroke=\"black\" cx=\"99\" cy=\"-162\" rx=\"27\" ry=\"18\"/>\n",
       "<text text-anchor=\"middle\" x=\"99\" y=\"-158.3\" font-family=\"Times,serif\" font-size=\"14.00\">div</text>\n",
       "</g>\n",
       "<!-- 4887072288&#45;&gt;4888046432 -->\n",
       "<g id=\"edge5\" class=\"edge\">\n",
       "<title>4887072288&#45;&gt;4888046432</title>\n",
       "<path fill=\"none\" stroke=\"black\" d=\"M126.65,-216.76C122.42,-208.55 117.19,-198.37 112.42,-189.09\"/>\n",
       "<polygon fill=\"black\" stroke=\"black\" points=\"115.68,-187.79 108,-180.49 109.46,-190.99 115.68,-187.79\"/>\n",
       "</g>\n",
       "<!-- 4888046672 -->\n",
       "<g id=\"node7\" class=\"node\">\n",
       "<title>4888046672</title>\n",
       "<ellipse fill=\"none\" stroke=\"black\" cx=\"171\" cy=\"-162\" rx=\"27\" ry=\"18\"/>\n",
       "<text text-anchor=\"middle\" x=\"171\" y=\"-158.3\" font-family=\"Times,serif\" font-size=\"14.00\">div</text>\n",
       "</g>\n",
       "<!-- 4887072288&#45;&gt;4888046672 -->\n",
       "<g id=\"edge10\" class=\"edge\">\n",
       "<title>4887072288&#45;&gt;4888046672</title>\n",
       "<path fill=\"none\" stroke=\"black\" d=\"M143.35,-216.76C147.58,-208.55 152.81,-198.37 157.58,-189.09\"/>\n",
       "<polygon fill=\"black\" stroke=\"black\" points=\"160.54,-190.99 162,-180.49 154.32,-187.79 160.54,-190.99\"/>\n",
       "</g>\n",
       "<!-- 4888039328 -->\n",
       "<g id=\"node3\" class=\"node\">\n",
       "<title>4888039328</title>\n",
       "<ellipse fill=\"none\" stroke=\"black\" cx=\"27\" cy=\"-90\" rx=\"27\" ry=\"18\"/>\n",
       "<text text-anchor=\"middle\" x=\"27\" y=\"-86.3\" font-family=\"Times,serif\" font-size=\"14.00\">1</text>\n",
       "</g>\n",
       "<!-- 4888046432&#45;&gt;4888039328 -->\n",
       "<g id=\"edge1\" class=\"edge\">\n",
       "<title>4888046432&#45;&gt;4888039328</title>\n",
       "<path fill=\"none\" stroke=\"black\" d=\"M84.08,-146.5C74.23,-136.92 61.14,-124.19 49.97,-113.34\"/>\n",
       "<polygon fill=\"black\" stroke=\"black\" points=\"52.59,-111 42.98,-106.54 47.71,-116.02 52.59,-111\"/>\n",
       "</g>\n",
       "<!-- 4888039856 -->\n",
       "<g id=\"node4\" class=\"node\">\n",
       "<title>4888039856</title>\n",
       "<ellipse fill=\"none\" stroke=\"black\" cx=\"99\" cy=\"-90\" rx=\"27\" ry=\"18\"/>\n",
       "<text text-anchor=\"middle\" x=\"99\" y=\"-86.3\" font-family=\"Times,serif\" font-size=\"14.00\">sub</text>\n",
       "</g>\n",
       "<!-- 4888046432&#45;&gt;4888039856 -->\n",
       "<g id=\"edge4\" class=\"edge\">\n",
       "<title>4888046432&#45;&gt;4888039856</title>\n",
       "<path fill=\"none\" stroke=\"black\" d=\"M99,-143.7C99,-136.41 99,-127.73 99,-119.54\"/>\n",
       "<polygon fill=\"black\" stroke=\"black\" points=\"102.5,-119.62 99,-109.62 95.5,-119.62 102.5,-119.62\"/>\n",
       "</g>\n",
       "<!-- 4888040192 -->\n",
       "<g id=\"node5\" class=\"node\">\n",
       "<title>4888040192</title>\n",
       "<ellipse fill=\"none\" stroke=\"black\" cx=\"63\" cy=\"-18\" rx=\"27\" ry=\"18\"/>\n",
       "<text text-anchor=\"middle\" x=\"63\" y=\"-14.3\" font-family=\"Times,serif\" font-size=\"14.00\">0</text>\n",
       "</g>\n",
       "<!-- 4888039856&#45;&gt;4888040192 -->\n",
       "<g id=\"edge2\" class=\"edge\">\n",
       "<title>4888039856&#45;&gt;4888040192</title>\n",
       "<path fill=\"none\" stroke=\"black\" d=\"M90.65,-72.76C86.42,-64.55 81.19,-54.37 76.42,-45.09\"/>\n",
       "<polygon fill=\"black\" stroke=\"black\" points=\"79.68,-43.79 72,-36.49 73.46,-46.99 79.68,-43.79\"/>\n",
       "</g>\n",
       "<!-- 4888046576 -->\n",
       "<g id=\"node6\" class=\"node\">\n",
       "<title>4888046576</title>\n",
       "<ellipse fill=\"none\" stroke=\"black\" cx=\"135\" cy=\"-18\" rx=\"27\" ry=\"18\"/>\n",
       "<text text-anchor=\"middle\" x=\"135\" y=\"-14.3\" font-family=\"Times,serif\" font-size=\"14.00\">4</text>\n",
       "</g>\n",
       "<!-- 4888039856&#45;&gt;4888046576 -->\n",
       "<g id=\"edge3\" class=\"edge\">\n",
       "<title>4888039856&#45;&gt;4888046576</title>\n",
       "<path fill=\"none\" stroke=\"black\" d=\"M107.35,-72.76C111.58,-64.55 116.81,-54.37 121.58,-45.09\"/>\n",
       "<polygon fill=\"black\" stroke=\"black\" points=\"124.54,-46.99 126,-36.49 118.32,-43.79 124.54,-46.99\"/>\n",
       "</g>\n",
       "<!-- 4888047104 -->\n",
       "<g id=\"node8\" class=\"node\">\n",
       "<title>4888047104</title>\n",
       "<ellipse fill=\"none\" stroke=\"black\" cx=\"171\" cy=\"-90\" rx=\"27\" ry=\"18\"/>\n",
       "<text text-anchor=\"middle\" x=\"171\" y=\"-86.3\" font-family=\"Times,serif\" font-size=\"14.00\">&#45;4</text>\n",
       "</g>\n",
       "<!-- 4888046672&#45;&gt;4888047104 -->\n",
       "<g id=\"edge6\" class=\"edge\">\n",
       "<title>4888046672&#45;&gt;4888047104</title>\n",
       "<path fill=\"none\" stroke=\"black\" d=\"M171,-143.7C171,-136.41 171,-127.73 171,-119.54\"/>\n",
       "<polygon fill=\"black\" stroke=\"black\" points=\"174.5,-119.62 171,-109.62 167.5,-119.62 174.5,-119.62\"/>\n",
       "</g>\n",
       "<!-- 4888046816 -->\n",
       "<g id=\"node9\" class=\"node\">\n",
       "<title>4888046816</title>\n",
       "<ellipse fill=\"none\" stroke=\"black\" cx=\"243\" cy=\"-90\" rx=\"27\" ry=\"18\"/>\n",
       "<text text-anchor=\"middle\" x=\"243\" y=\"-86.3\" font-family=\"Times,serif\" font-size=\"14.00\">mul</text>\n",
       "</g>\n",
       "<!-- 4888046672&#45;&gt;4888046816 -->\n",
       "<g id=\"edge9\" class=\"edge\">\n",
       "<title>4888046672&#45;&gt;4888046816</title>\n",
       "<path fill=\"none\" stroke=\"black\" d=\"M185.92,-146.5C195.77,-136.92 208.86,-124.19 220.03,-113.34\"/>\n",
       "<polygon fill=\"black\" stroke=\"black\" points=\"222.29,-116.02 227.02,-106.54 217.41,-111 222.29,-116.02\"/>\n",
       "</g>\n",
       "<!-- 4888039712 -->\n",
       "<g id=\"node10\" class=\"node\">\n",
       "<title>4888039712</title>\n",
       "<ellipse fill=\"none\" stroke=\"black\" cx=\"225\" cy=\"-18\" rx=\"27\" ry=\"18\"/>\n",
       "<text text-anchor=\"middle\" x=\"225\" y=\"-14.3\" font-family=\"Times,serif\" font-size=\"14.00\">&#45;5</text>\n",
       "</g>\n",
       "<!-- 4888046816&#45;&gt;4888039712 -->\n",
       "<g id=\"edge7\" class=\"edge\">\n",
       "<title>4888046816&#45;&gt;4888039712</title>\n",
       "<path fill=\"none\" stroke=\"black\" d=\"M238.64,-72.05C236.7,-64.49 234.35,-55.37 232.16,-46.85\"/>\n",
       "<polygon fill=\"black\" stroke=\"black\" points=\"235.57,-46.07 229.69,-37.25 228.79,-47.81 235.57,-46.07\"/>\n",
       "</g>\n",
       "<!-- 4888047200 -->\n",
       "<g id=\"node11\" class=\"node\">\n",
       "<title>4888047200</title>\n",
       "<ellipse fill=\"none\" stroke=\"black\" cx=\"297\" cy=\"-18\" rx=\"27\" ry=\"18\"/>\n",
       "<text text-anchor=\"middle\" x=\"297\" y=\"-14.3\" font-family=\"Times,serif\" font-size=\"14.00\">x</text>\n",
       "</g>\n",
       "<!-- 4888046816&#45;&gt;4888047200 -->\n",
       "<g id=\"edge8\" class=\"edge\">\n",
       "<title>4888046816&#45;&gt;4888047200</title>\n",
       "<path fill=\"none\" stroke=\"black\" d=\"M254.98,-73.46C261.77,-64.67 270.4,-53.48 278.08,-43.53\"/>\n",
       "<polygon fill=\"black\" stroke=\"black\" points=\"280.79,-45.75 284.12,-35.69 275.25,-41.47 280.79,-45.75\"/>\n",
       "</g>\n",
       "</g>\n",
       "</svg>\n"
      ],
      "text/plain": [
       "<graphviz.graphs.Digraph at 0x1234cf8e0>"
      ]
     },
     "execution_count": 62,
     "metadata": {},
     "output_type": "execute_result"
    }
   ],
   "source": [
    "offspring = copy(parent1)\n",
    "sizefair_subtree_mutation(offspring)\n",
    "print_tree(offspring)"
   ]
  },
  {
   "cell_type": "markdown",
   "metadata": {
    "slideshow": {
     "slide_type": "skip"
    }
   },
   "source": [
    "Permutation mutation shuffles the order of arguments for functions with arity > 1:"
   ]
  },
  {
   "cell_type": "code",
   "execution_count": 63,
   "metadata": {
    "slideshow": {
     "slide_type": "slide"
    }
   },
   "outputs": [],
   "source": [
    "def permutation_mutation(tree):\n",
    "    if random.random() < P_mutate:\n",
    "        if tree.data in FUNCTIONS: \n",
    "            tree.left, tree.right = tree.right, tree.left\n",
    "    \n",
    "    if tree.left:\n",
    "        permutation_mutation(tree.left)\n",
    "    if tree.right:\n",
    "        permutation_mutation(tree.right)"
   ]
  },
  {
   "cell_type": "code",
   "execution_count": 64,
   "metadata": {
    "slideshow": {
     "slide_type": "subslide"
    }
   },
   "outputs": [
    {
     "data": {
      "image/svg+xml": [
       "<?xml version=\"1.0\" encoding=\"UTF-8\" standalone=\"no\"?>\n",
       "<!DOCTYPE svg PUBLIC \"-//W3C//DTD SVG 1.1//EN\"\n",
       " \"http://www.w3.org/Graphics/SVG/1.1/DTD/svg11.dtd\">\n",
       "<!-- Generated by graphviz version 7.0.6 (20230106.0513)\n",
       " -->\n",
       "<!-- Pages: 1 -->\n",
       "<svg width=\"422pt\" height=\"260pt\"\n",
       " viewBox=\"0.00 0.00 422.00 260.00\" xmlns=\"http://www.w3.org/2000/svg\" xmlns:xlink=\"http://www.w3.org/1999/xlink\">\n",
       "<g id=\"graph0\" class=\"graph\" transform=\"scale(1 1) rotate(0) translate(4 256)\">\n",
       "<polygon fill=\"white\" stroke=\"none\" points=\"-4,4 -4,-256 418,-256 418,4 -4,4\"/>\n",
       "<!-- 4883836752 -->\n",
       "<g id=\"node1\" class=\"node\">\n",
       "<title>4883836752</title>\n",
       "<ellipse fill=\"none\" stroke=\"black\" cx=\"207\" cy=\"-234\" rx=\"27\" ry=\"18\"/>\n",
       "<text text-anchor=\"middle\" x=\"207\" y=\"-230.3\" font-family=\"Times,serif\" font-size=\"14.00\">add</text>\n",
       "</g>\n",
       "<!-- 4883829744 -->\n",
       "<g id=\"node2\" class=\"node\">\n",
       "<title>4883829744</title>\n",
       "<ellipse fill=\"none\" stroke=\"black\" cx=\"171\" cy=\"-162\" rx=\"27\" ry=\"18\"/>\n",
       "<text text-anchor=\"middle\" x=\"171\" y=\"-158.3\" font-family=\"Times,serif\" font-size=\"14.00\">div</text>\n",
       "</g>\n",
       "<!-- 4883836752&#45;&gt;4883829744 -->\n",
       "<g id=\"edge7\" class=\"edge\">\n",
       "<title>4883836752&#45;&gt;4883829744</title>\n",
       "<path fill=\"none\" stroke=\"black\" d=\"M198.65,-216.76C194.42,-208.55 189.19,-198.37 184.42,-189.09\"/>\n",
       "<polygon fill=\"black\" stroke=\"black\" points=\"187.68,-187.79 180,-180.49 181.46,-190.99 187.68,-187.79\"/>\n",
       "</g>\n",
       "<!-- 4886847232 -->\n",
       "<g id=\"node9\" class=\"node\">\n",
       "<title>4886847232</title>\n",
       "<ellipse fill=\"none\" stroke=\"black\" cx=\"243\" cy=\"-162\" rx=\"27\" ry=\"18\"/>\n",
       "<text text-anchor=\"middle\" x=\"243\" y=\"-158.3\" font-family=\"Times,serif\" font-size=\"14.00\">mul</text>\n",
       "</g>\n",
       "<!-- 4883836752&#45;&gt;4886847232 -->\n",
       "<g id=\"edge12\" class=\"edge\">\n",
       "<title>4883836752&#45;&gt;4886847232</title>\n",
       "<path fill=\"none\" stroke=\"black\" d=\"M215.35,-216.76C219.58,-208.55 224.81,-198.37 229.58,-189.09\"/>\n",
       "<polygon fill=\"black\" stroke=\"black\" points=\"232.54,-190.99 234,-180.49 226.32,-187.79 232.54,-190.99\"/>\n",
       "</g>\n",
       "<!-- 4886846368 -->\n",
       "<g id=\"node3\" class=\"node\">\n",
       "<title>4886846368</title>\n",
       "<ellipse fill=\"none\" stroke=\"black\" cx=\"99\" cy=\"-90\" rx=\"27\" ry=\"18\"/>\n",
       "<text text-anchor=\"middle\" x=\"99\" y=\"-86.3\" font-family=\"Times,serif\" font-size=\"14.00\">div</text>\n",
       "</g>\n",
       "<!-- 4883829744&#45;&gt;4886846368 -->\n",
       "<g id=\"edge3\" class=\"edge\">\n",
       "<title>4883829744&#45;&gt;4886846368</title>\n",
       "<path fill=\"none\" stroke=\"black\" d=\"M156.08,-146.5C146.23,-136.92 133.14,-124.19 121.97,-113.34\"/>\n",
       "<polygon fill=\"black\" stroke=\"black\" points=\"124.59,-111 114.98,-106.54 119.71,-116.02 124.59,-111\"/>\n",
       "</g>\n",
       "<!-- 4886855152 -->\n",
       "<g id=\"node6\" class=\"node\">\n",
       "<title>4886855152</title>\n",
       "<ellipse fill=\"none\" stroke=\"black\" cx=\"171\" cy=\"-90\" rx=\"27\" ry=\"18\"/>\n",
       "<text text-anchor=\"middle\" x=\"171\" y=\"-86.3\" font-family=\"Times,serif\" font-size=\"14.00\">mul</text>\n",
       "</g>\n",
       "<!-- 4883829744&#45;&gt;4886855152 -->\n",
       "<g id=\"edge6\" class=\"edge\">\n",
       "<title>4883829744&#45;&gt;4886855152</title>\n",
       "<path fill=\"none\" stroke=\"black\" d=\"M171,-143.7C171,-136.41 171,-127.73 171,-119.54\"/>\n",
       "<polygon fill=\"black\" stroke=\"black\" points=\"174.5,-119.62 171,-109.62 167.5,-119.62 174.5,-119.62\"/>\n",
       "</g>\n",
       "<!-- 4886849584 -->\n",
       "<g id=\"node4\" class=\"node\">\n",
       "<title>4886849584</title>\n",
       "<ellipse fill=\"none\" stroke=\"black\" cx=\"27\" cy=\"-18\" rx=\"27\" ry=\"18\"/>\n",
       "<text text-anchor=\"middle\" x=\"27\" y=\"-14.3\" font-family=\"Times,serif\" font-size=\"14.00\">B</text>\n",
       "</g>\n",
       "<!-- 4886846368&#45;&gt;4886849584 -->\n",
       "<g id=\"edge1\" class=\"edge\">\n",
       "<title>4886846368&#45;&gt;4886849584</title>\n",
       "<path fill=\"none\" stroke=\"black\" d=\"M84.08,-74.5C74.23,-64.92 61.14,-52.19 49.97,-41.34\"/>\n",
       "<polygon fill=\"black\" stroke=\"black\" points=\"52.59,-39 42.98,-34.54 47.71,-44.02 52.59,-39\"/>\n",
       "</g>\n",
       "<!-- 4886852512 -->\n",
       "<g id=\"node5\" class=\"node\">\n",
       "<title>4886852512</title>\n",
       "<ellipse fill=\"none\" stroke=\"black\" cx=\"99\" cy=\"-18\" rx=\"27\" ry=\"18\"/>\n",
       "<text text-anchor=\"middle\" x=\"99\" y=\"-14.3\" font-family=\"Times,serif\" font-size=\"14.00\">4</text>\n",
       "</g>\n",
       "<!-- 4886846368&#45;&gt;4886852512 -->\n",
       "<g id=\"edge2\" class=\"edge\">\n",
       "<title>4886846368&#45;&gt;4886852512</title>\n",
       "<path fill=\"none\" stroke=\"black\" d=\"M99,-71.7C99,-64.41 99,-55.73 99,-47.54\"/>\n",
       "<polygon fill=\"black\" stroke=\"black\" points=\"102.5,-47.62 99,-37.62 95.5,-47.62 102.5,-47.62\"/>\n",
       "</g>\n",
       "<!-- 4886855392 -->\n",
       "<g id=\"node7\" class=\"node\">\n",
       "<title>4886855392</title>\n",
       "<ellipse fill=\"none\" stroke=\"black\" cx=\"171\" cy=\"-18\" rx=\"27\" ry=\"18\"/>\n",
       "<text text-anchor=\"middle\" x=\"171\" y=\"-14.3\" font-family=\"Times,serif\" font-size=\"14.00\">D</text>\n",
       "</g>\n",
       "<!-- 4886855152&#45;&gt;4886855392 -->\n",
       "<g id=\"edge4\" class=\"edge\">\n",
       "<title>4886855152&#45;&gt;4886855392</title>\n",
       "<path fill=\"none\" stroke=\"black\" d=\"M171,-71.7C171,-64.41 171,-55.73 171,-47.54\"/>\n",
       "<polygon fill=\"black\" stroke=\"black\" points=\"174.5,-47.62 171,-37.62 167.5,-47.62 174.5,-47.62\"/>\n",
       "</g>\n",
       "<!-- 4886854912 -->\n",
       "<g id=\"node8\" class=\"node\">\n",
       "<title>4886854912</title>\n",
       "<ellipse fill=\"none\" stroke=\"black\" cx=\"243\" cy=\"-18\" rx=\"27\" ry=\"18\"/>\n",
       "<text text-anchor=\"middle\" x=\"243\" y=\"-14.3\" font-family=\"Times,serif\" font-size=\"14.00\">B</text>\n",
       "</g>\n",
       "<!-- 4886855152&#45;&gt;4886854912 -->\n",
       "<g id=\"edge5\" class=\"edge\">\n",
       "<title>4886855152&#45;&gt;4886854912</title>\n",
       "<path fill=\"none\" stroke=\"black\" d=\"M185.92,-74.5C195.77,-64.92 208.86,-52.19 220.03,-41.34\"/>\n",
       "<polygon fill=\"black\" stroke=\"black\" points=\"222.29,-44.02 227.02,-34.54 217.41,-39 222.29,-44.02\"/>\n",
       "</g>\n",
       "<!-- 4886850592 -->\n",
       "<g id=\"node10\" class=\"node\">\n",
       "<title>4886850592</title>\n",
       "<ellipse fill=\"none\" stroke=\"black\" cx=\"243\" cy=\"-90\" rx=\"27\" ry=\"18\"/>\n",
       "<text text-anchor=\"middle\" x=\"243\" y=\"-86.3\" font-family=\"Times,serif\" font-size=\"14.00\">B</text>\n",
       "</g>\n",
       "<!-- 4886847232&#45;&gt;4886850592 -->\n",
       "<g id=\"edge8\" class=\"edge\">\n",
       "<title>4886847232&#45;&gt;4886850592</title>\n",
       "<path fill=\"none\" stroke=\"black\" d=\"M243,-143.7C243,-136.41 243,-127.73 243,-119.54\"/>\n",
       "<polygon fill=\"black\" stroke=\"black\" points=\"246.5,-119.62 243,-109.62 239.5,-119.62 246.5,-119.62\"/>\n",
       "</g>\n",
       "<!-- 4886851072 -->\n",
       "<g id=\"node11\" class=\"node\">\n",
       "<title>4886851072</title>\n",
       "<ellipse fill=\"none\" stroke=\"black\" cx=\"315\" cy=\"-90\" rx=\"27\" ry=\"18\"/>\n",
       "<text text-anchor=\"middle\" x=\"315\" y=\"-86.3\" font-family=\"Times,serif\" font-size=\"14.00\">div</text>\n",
       "</g>\n",
       "<!-- 4886847232&#45;&gt;4886851072 -->\n",
       "<g id=\"edge11\" class=\"edge\">\n",
       "<title>4886847232&#45;&gt;4886851072</title>\n",
       "<path fill=\"none\" stroke=\"black\" d=\"M257.92,-146.5C267.77,-136.92 280.86,-124.19 292.03,-113.34\"/>\n",
       "<polygon fill=\"black\" stroke=\"black\" points=\"294.29,-116.02 299.02,-106.54 289.41,-111 294.29,-116.02\"/>\n",
       "</g>\n",
       "<!-- 4886839360 -->\n",
       "<g id=\"node12\" class=\"node\">\n",
       "<title>4886839360</title>\n",
       "<ellipse fill=\"none\" stroke=\"black\" cx=\"315\" cy=\"-18\" rx=\"27\" ry=\"18\"/>\n",
       "<text text-anchor=\"middle\" x=\"315\" y=\"-14.3\" font-family=\"Times,serif\" font-size=\"14.00\">D</text>\n",
       "</g>\n",
       "<!-- 4886851072&#45;&gt;4886839360 -->\n",
       "<g id=\"edge9\" class=\"edge\">\n",
       "<title>4886851072&#45;&gt;4886839360</title>\n",
       "<path fill=\"none\" stroke=\"black\" d=\"M315,-71.7C315,-64.41 315,-55.73 315,-47.54\"/>\n",
       "<polygon fill=\"black\" stroke=\"black\" points=\"318.5,-47.62 315,-37.62 311.5,-47.62 318.5,-47.62\"/>\n",
       "</g>\n",
       "<!-- 4886849536 -->\n",
       "<g id=\"node13\" class=\"node\">\n",
       "<title>4886849536</title>\n",
       "<ellipse fill=\"none\" stroke=\"black\" cx=\"387\" cy=\"-18\" rx=\"27\" ry=\"18\"/>\n",
       "<text text-anchor=\"middle\" x=\"387\" y=\"-14.3\" font-family=\"Times,serif\" font-size=\"14.00\">C</text>\n",
       "</g>\n",
       "<!-- 4886851072&#45;&gt;4886849536 -->\n",
       "<g id=\"edge10\" class=\"edge\">\n",
       "<title>4886851072&#45;&gt;4886849536</title>\n",
       "<path fill=\"none\" stroke=\"black\" d=\"M329.92,-74.5C339.77,-64.92 352.86,-52.19 364.03,-41.34\"/>\n",
       "<polygon fill=\"black\" stroke=\"black\" points=\"366.29,-44.02 371.02,-34.54 361.41,-39 366.29,-44.02\"/>\n",
       "</g>\n",
       "</g>\n",
       "</svg>\n"
      ],
      "text/plain": [
       "<graphviz.graphs.Digraph at 0x1234adba0>"
      ]
     },
     "execution_count": 64,
     "metadata": {},
     "output_type": "execute_result"
    }
   ],
   "source": [
    "print_tree(parent1)"
   ]
  },
  {
   "cell_type": "code",
   "execution_count": 65,
   "metadata": {
    "scrolled": true,
    "slideshow": {
     "slide_type": "fragment"
    }
   },
   "outputs": [
    {
     "data": {
      "image/svg+xml": [
       "<?xml version=\"1.0\" encoding=\"UTF-8\" standalone=\"no\"?>\n",
       "<!DOCTYPE svg PUBLIC \"-//W3C//DTD SVG 1.1//EN\"\n",
       " \"http://www.w3.org/Graphics/SVG/1.1/DTD/svg11.dtd\">\n",
       "<!-- Generated by graphviz version 7.0.6 (20230106.0513)\n",
       " -->\n",
       "<!-- Pages: 1 -->\n",
       "<svg width=\"422pt\" height=\"260pt\"\n",
       " viewBox=\"0.00 0.00 422.00 260.00\" xmlns=\"http://www.w3.org/2000/svg\" xmlns:xlink=\"http://www.w3.org/1999/xlink\">\n",
       "<g id=\"graph0\" class=\"graph\" transform=\"scale(1 1) rotate(0) translate(4 256)\">\n",
       "<polygon fill=\"white\" stroke=\"none\" points=\"-4,4 -4,-256 418,-256 418,4 -4,4\"/>\n",
       "<!-- 4887075504 -->\n",
       "<g id=\"node1\" class=\"node\">\n",
       "<title>4887075504</title>\n",
       "<ellipse fill=\"none\" stroke=\"black\" cx=\"279\" cy=\"-234\" rx=\"27\" ry=\"18\"/>\n",
       "<text text-anchor=\"middle\" x=\"279\" y=\"-230.3\" font-family=\"Times,serif\" font-size=\"14.00\">add</text>\n",
       "</g>\n",
       "<!-- 4887075936 -->\n",
       "<g id=\"node2\" class=\"node\">\n",
       "<title>4887075936</title>\n",
       "<ellipse fill=\"none\" stroke=\"black\" cx=\"207\" cy=\"-162\" rx=\"27\" ry=\"18\"/>\n",
       "<text text-anchor=\"middle\" x=\"207\" y=\"-158.3\" font-family=\"Times,serif\" font-size=\"14.00\">div</text>\n",
       "</g>\n",
       "<!-- 4887075504&#45;&gt;4887075936 -->\n",
       "<g id=\"edge7\" class=\"edge\">\n",
       "<title>4887075504&#45;&gt;4887075936</title>\n",
       "<path fill=\"none\" stroke=\"black\" d=\"M264.08,-218.5C254.23,-208.92 241.14,-196.19 229.97,-185.34\"/>\n",
       "<polygon fill=\"black\" stroke=\"black\" points=\"232.59,-183 222.98,-178.54 227.71,-188.02 232.59,-183\"/>\n",
       "</g>\n",
       "<!-- 4887881872 -->\n",
       "<g id=\"node9\" class=\"node\">\n",
       "<title>4887881872</title>\n",
       "<ellipse fill=\"none\" stroke=\"black\" cx=\"315\" cy=\"-162\" rx=\"27\" ry=\"18\"/>\n",
       "<text text-anchor=\"middle\" x=\"315\" y=\"-158.3\" font-family=\"Times,serif\" font-size=\"14.00\">mul</text>\n",
       "</g>\n",
       "<!-- 4887075504&#45;&gt;4887881872 -->\n",
       "<g id=\"edge12\" class=\"edge\">\n",
       "<title>4887075504&#45;&gt;4887881872</title>\n",
       "<path fill=\"none\" stroke=\"black\" d=\"M287.35,-216.76C291.58,-208.55 296.81,-198.37 301.58,-189.09\"/>\n",
       "<polygon fill=\"black\" stroke=\"black\" points=\"304.54,-190.99 306,-180.49 298.32,-187.79 304.54,-190.99\"/>\n",
       "</g>\n",
       "<!-- 4887075408 -->\n",
       "<g id=\"node3\" class=\"node\">\n",
       "<title>4887075408</title>\n",
       "<ellipse fill=\"none\" stroke=\"black\" cx=\"99\" cy=\"-90\" rx=\"27\" ry=\"18\"/>\n",
       "<text text-anchor=\"middle\" x=\"99\" y=\"-86.3\" font-family=\"Times,serif\" font-size=\"14.00\">div</text>\n",
       "</g>\n",
       "<!-- 4887075936&#45;&gt;4887075408 -->\n",
       "<g id=\"edge3\" class=\"edge\">\n",
       "<title>4887075936&#45;&gt;4887075408</title>\n",
       "<path fill=\"none\" stroke=\"black\" d=\"M188.19,-148.81C171.41,-137.93 146.61,-121.86 127.41,-109.42\"/>\n",
       "<polygon fill=\"black\" stroke=\"black\" points=\"129.52,-106.61 119.23,-104.11 125.72,-112.49 129.52,-106.61\"/>\n",
       "</g>\n",
       "<!-- 4887069792 -->\n",
       "<g id=\"node6\" class=\"node\">\n",
       "<title>4887069792</title>\n",
       "<ellipse fill=\"none\" stroke=\"black\" cx=\"207\" cy=\"-90\" rx=\"27\" ry=\"18\"/>\n",
       "<text text-anchor=\"middle\" x=\"207\" y=\"-86.3\" font-family=\"Times,serif\" font-size=\"14.00\">mul</text>\n",
       "</g>\n",
       "<!-- 4887075936&#45;&gt;4887069792 -->\n",
       "<g id=\"edge6\" class=\"edge\">\n",
       "<title>4887075936&#45;&gt;4887069792</title>\n",
       "<path fill=\"none\" stroke=\"black\" d=\"M207,-143.7C207,-136.41 207,-127.73 207,-119.54\"/>\n",
       "<polygon fill=\"black\" stroke=\"black\" points=\"210.5,-119.62 207,-109.62 203.5,-119.62 210.5,-119.62\"/>\n",
       "</g>\n",
       "<!-- 4887077856 -->\n",
       "<g id=\"node4\" class=\"node\">\n",
       "<title>4887077856</title>\n",
       "<ellipse fill=\"none\" stroke=\"black\" cx=\"27\" cy=\"-18\" rx=\"27\" ry=\"18\"/>\n",
       "<text text-anchor=\"middle\" x=\"27\" y=\"-14.3\" font-family=\"Times,serif\" font-size=\"14.00\">B</text>\n",
       "</g>\n",
       "<!-- 4887075408&#45;&gt;4887077856 -->\n",
       "<g id=\"edge1\" class=\"edge\">\n",
       "<title>4887075408&#45;&gt;4887077856</title>\n",
       "<path fill=\"none\" stroke=\"black\" d=\"M84.08,-74.5C74.23,-64.92 61.14,-52.19 49.97,-41.34\"/>\n",
       "<polygon fill=\"black\" stroke=\"black\" points=\"52.59,-39 42.98,-34.54 47.71,-44.02 52.59,-39\"/>\n",
       "</g>\n",
       "<!-- 4887078096 -->\n",
       "<g id=\"node5\" class=\"node\">\n",
       "<title>4887078096</title>\n",
       "<ellipse fill=\"none\" stroke=\"black\" cx=\"99\" cy=\"-18\" rx=\"27\" ry=\"18\"/>\n",
       "<text text-anchor=\"middle\" x=\"99\" y=\"-14.3\" font-family=\"Times,serif\" font-size=\"14.00\">4</text>\n",
       "</g>\n",
       "<!-- 4887075408&#45;&gt;4887078096 -->\n",
       "<g id=\"edge2\" class=\"edge\">\n",
       "<title>4887075408&#45;&gt;4887078096</title>\n",
       "<path fill=\"none\" stroke=\"black\" d=\"M99,-71.7C99,-64.41 99,-55.73 99,-47.54\"/>\n",
       "<polygon fill=\"black\" stroke=\"black\" points=\"102.5,-47.62 99,-37.62 95.5,-47.62 102.5,-47.62\"/>\n",
       "</g>\n",
       "<!-- 4887876832 -->\n",
       "<g id=\"node7\" class=\"node\">\n",
       "<title>4887876832</title>\n",
       "<ellipse fill=\"none\" stroke=\"black\" cx=\"171\" cy=\"-18\" rx=\"27\" ry=\"18\"/>\n",
       "<text text-anchor=\"middle\" x=\"171\" y=\"-14.3\" font-family=\"Times,serif\" font-size=\"14.00\">D</text>\n",
       "</g>\n",
       "<!-- 4887069792&#45;&gt;4887876832 -->\n",
       "<g id=\"edge4\" class=\"edge\">\n",
       "<title>4887069792&#45;&gt;4887876832</title>\n",
       "<path fill=\"none\" stroke=\"black\" d=\"M198.65,-72.76C194.42,-64.55 189.19,-54.37 184.42,-45.09\"/>\n",
       "<polygon fill=\"black\" stroke=\"black\" points=\"187.68,-43.79 180,-36.49 181.46,-46.99 187.68,-43.79\"/>\n",
       "</g>\n",
       "<!-- 4887881920 -->\n",
       "<g id=\"node8\" class=\"node\">\n",
       "<title>4887881920</title>\n",
       "<ellipse fill=\"none\" stroke=\"black\" cx=\"243\" cy=\"-18\" rx=\"27\" ry=\"18\"/>\n",
       "<text text-anchor=\"middle\" x=\"243\" y=\"-14.3\" font-family=\"Times,serif\" font-size=\"14.00\">B</text>\n",
       "</g>\n",
       "<!-- 4887069792&#45;&gt;4887881920 -->\n",
       "<g id=\"edge5\" class=\"edge\">\n",
       "<title>4887069792&#45;&gt;4887881920</title>\n",
       "<path fill=\"none\" stroke=\"black\" d=\"M215.35,-72.76C219.58,-64.55 224.81,-54.37 229.58,-45.09\"/>\n",
       "<polygon fill=\"black\" stroke=\"black\" points=\"232.54,-46.99 234,-36.49 226.32,-43.79 232.54,-46.99\"/>\n",
       "</g>\n",
       "<!-- 4887885040 -->\n",
       "<g id=\"node10\" class=\"node\">\n",
       "<title>4887885040</title>\n",
       "<ellipse fill=\"none\" stroke=\"black\" cx=\"315\" cy=\"-90\" rx=\"27\" ry=\"18\"/>\n",
       "<text text-anchor=\"middle\" x=\"315\" y=\"-86.3\" font-family=\"Times,serif\" font-size=\"14.00\">div</text>\n",
       "</g>\n",
       "<!-- 4887881872&#45;&gt;4887885040 -->\n",
       "<g id=\"edge10\" class=\"edge\">\n",
       "<title>4887881872&#45;&gt;4887885040</title>\n",
       "<path fill=\"none\" stroke=\"black\" d=\"M315,-143.7C315,-136.41 315,-127.73 315,-119.54\"/>\n",
       "<polygon fill=\"black\" stroke=\"black\" points=\"318.5,-119.62 315,-109.62 311.5,-119.62 318.5,-119.62\"/>\n",
       "</g>\n",
       "<!-- 4887873808 -->\n",
       "<g id=\"node13\" class=\"node\">\n",
       "<title>4887873808</title>\n",
       "<ellipse fill=\"none\" stroke=\"black\" cx=\"387\" cy=\"-90\" rx=\"27\" ry=\"18\"/>\n",
       "<text text-anchor=\"middle\" x=\"387\" y=\"-86.3\" font-family=\"Times,serif\" font-size=\"14.00\">B</text>\n",
       "</g>\n",
       "<!-- 4887881872&#45;&gt;4887873808 -->\n",
       "<g id=\"edge11\" class=\"edge\">\n",
       "<title>4887881872&#45;&gt;4887873808</title>\n",
       "<path fill=\"none\" stroke=\"black\" d=\"M329.92,-146.5C339.77,-136.92 352.86,-124.19 364.03,-113.34\"/>\n",
       "<polygon fill=\"black\" stroke=\"black\" points=\"366.29,-116.02 371.02,-106.54 361.41,-111 366.29,-116.02\"/>\n",
       "</g>\n",
       "<!-- 4887882592 -->\n",
       "<g id=\"node11\" class=\"node\">\n",
       "<title>4887882592</title>\n",
       "<ellipse fill=\"none\" stroke=\"black\" cx=\"315\" cy=\"-18\" rx=\"27\" ry=\"18\"/>\n",
       "<text text-anchor=\"middle\" x=\"315\" y=\"-14.3\" font-family=\"Times,serif\" font-size=\"14.00\">D</text>\n",
       "</g>\n",
       "<!-- 4887885040&#45;&gt;4887882592 -->\n",
       "<g id=\"edge8\" class=\"edge\">\n",
       "<title>4887885040&#45;&gt;4887882592</title>\n",
       "<path fill=\"none\" stroke=\"black\" d=\"M315,-71.7C315,-64.41 315,-55.73 315,-47.54\"/>\n",
       "<polygon fill=\"black\" stroke=\"black\" points=\"318.5,-47.62 315,-37.62 311.5,-47.62 318.5,-47.62\"/>\n",
       "</g>\n",
       "<!-- 4887879376 -->\n",
       "<g id=\"node12\" class=\"node\">\n",
       "<title>4887879376</title>\n",
       "<ellipse fill=\"none\" stroke=\"black\" cx=\"387\" cy=\"-18\" rx=\"27\" ry=\"18\"/>\n",
       "<text text-anchor=\"middle\" x=\"387\" y=\"-14.3\" font-family=\"Times,serif\" font-size=\"14.00\">C</text>\n",
       "</g>\n",
       "<!-- 4887885040&#45;&gt;4887879376 -->\n",
       "<g id=\"edge9\" class=\"edge\">\n",
       "<title>4887885040&#45;&gt;4887879376</title>\n",
       "<path fill=\"none\" stroke=\"black\" d=\"M329.92,-74.5C339.77,-64.92 352.86,-52.19 364.03,-41.34\"/>\n",
       "<polygon fill=\"black\" stroke=\"black\" points=\"366.29,-44.02 371.02,-34.54 361.41,-39 366.29,-44.02\"/>\n",
       "</g>\n",
       "</g>\n",
       "</svg>\n"
      ],
      "text/plain": [
       "<graphviz.graphs.Digraph at 0x1234ace20>"
      ]
     },
     "execution_count": 65,
     "metadata": {},
     "output_type": "execute_result"
    }
   ],
   "source": [
    "offspring = copy(parent1)\n",
    "permutation_mutation(offspring)\n",
    "print_tree(offspring)"
   ]
  },
  {
   "cell_type": "markdown",
   "metadata": {
    "slideshow": {
     "slide_type": "skip"
    }
   },
   "source": [
    "There is also a size-fair variant of the crossover operator we defined earlier: We first pick a random crossover point in the first parent. Then, we pick a subtree in the other parent that is not larger than the subtree in the first parent, and perform the crossover with this. We thus define a helper function that gives us all valid positions with subtrees of a maximum size:"
   ]
  },
  {
   "cell_type": "code",
   "execution_count": 66,
   "metadata": {
    "slideshow": {
     "slide_type": "slide"
    }
   },
   "outputs": [],
   "source": [
    "def get_smaller_subtree_positions(tree, max_size, positions, counter):\n",
    "    if size(tree) <= max_size:\n",
    "        positions.append(counter.get_value())\n",
    "    counter.increase()\n",
    "    \n",
    "    if tree.left:\n",
    "        get_smaller_subtree_positions(tree.left, max_size, positions, counter)\n",
    "    if tree.right:\n",
    "        get_smaller_subtree_positions(tree.right, max_size, positions, counter)"
   ]
  },
  {
   "cell_type": "markdown",
   "metadata": {
    "slideshow": {
     "slide_type": "skip"
    }
   },
   "source": [
    "We apply this helper function by simply randomly picking one of the valid positions during crossover:"
   ]
  },
  {
   "cell_type": "code",
   "execution_count": 67,
   "metadata": {
    "slideshow": {
     "slide_type": "slide"
    }
   },
   "outputs": [],
   "source": [
    "def sizefair_crossover(parent1, parent2):\n",
    "    \n",
    "    # First pick a crossover point in parent1\n",
    "    pos1 = 1\n",
    "    if size(parent1) > 1:\n",
    "        pos1 = random.randint(1, size(parent1) - 1)\n",
    "\n",
    "    # Then select a subtree that isn't larger than what is being replaced from parent2\n",
    "    subtree = get_subtree_at(parent1, Counter(pos1))\n",
    "    subtree_size = size(subtree)    \n",
    "    positions = []\n",
    "    get_smaller_subtree_positions(parent2, subtree_size, positions, Counter(1))\n",
    "    pos2 = random.choice(positions)\n",
    "    subtree = get_subtree_at(parent2, Counter(pos2))\n",
    "    \n",
    "    # Then insert that into parent1\n",
    "    offspring = copy(parent1)\n",
    "    insert_subtree_at(offspring, subtree, Counter(pos1))\n",
    "    \n",
    "    assert size(offspring) <= size(parent1)\n",
    "    \n",
    "    return offspring"
   ]
  },
  {
   "cell_type": "code",
   "execution_count": 68,
   "metadata": {
    "slideshow": {
     "slide_type": "subslide"
    }
   },
   "outputs": [
    {
     "data": {
      "image/svg+xml": [
       "<?xml version=\"1.0\" encoding=\"UTF-8\" standalone=\"no\"?>\n",
       "<!DOCTYPE svg PUBLIC \"-//W3C//DTD SVG 1.1//EN\"\n",
       " \"http://www.w3.org/Graphics/SVG/1.1/DTD/svg11.dtd\">\n",
       "<!-- Generated by graphviz version 7.0.6 (20230106.0513)\n",
       " -->\n",
       "<!-- Pages: 1 -->\n",
       "<svg width=\"422pt\" height=\"260pt\"\n",
       " viewBox=\"0.00 0.00 422.00 260.00\" xmlns=\"http://www.w3.org/2000/svg\" xmlns:xlink=\"http://www.w3.org/1999/xlink\">\n",
       "<g id=\"graph0\" class=\"graph\" transform=\"scale(1 1) rotate(0) translate(4 256)\">\n",
       "<polygon fill=\"white\" stroke=\"none\" points=\"-4,4 -4,-256 418,-256 418,4 -4,4\"/>\n",
       "<!-- 4883836752 -->\n",
       "<g id=\"node1\" class=\"node\">\n",
       "<title>4883836752</title>\n",
       "<ellipse fill=\"none\" stroke=\"black\" cx=\"207\" cy=\"-234\" rx=\"27\" ry=\"18\"/>\n",
       "<text text-anchor=\"middle\" x=\"207\" y=\"-230.3\" font-family=\"Times,serif\" font-size=\"14.00\">add</text>\n",
       "</g>\n",
       "<!-- 4883829744 -->\n",
       "<g id=\"node2\" class=\"node\">\n",
       "<title>4883829744</title>\n",
       "<ellipse fill=\"none\" stroke=\"black\" cx=\"171\" cy=\"-162\" rx=\"27\" ry=\"18\"/>\n",
       "<text text-anchor=\"middle\" x=\"171\" y=\"-158.3\" font-family=\"Times,serif\" font-size=\"14.00\">div</text>\n",
       "</g>\n",
       "<!-- 4883836752&#45;&gt;4883829744 -->\n",
       "<g id=\"edge7\" class=\"edge\">\n",
       "<title>4883836752&#45;&gt;4883829744</title>\n",
       "<path fill=\"none\" stroke=\"black\" d=\"M198.65,-216.76C194.42,-208.55 189.19,-198.37 184.42,-189.09\"/>\n",
       "<polygon fill=\"black\" stroke=\"black\" points=\"187.68,-187.79 180,-180.49 181.46,-190.99 187.68,-187.79\"/>\n",
       "</g>\n",
       "<!-- 4886847232 -->\n",
       "<g id=\"node9\" class=\"node\">\n",
       "<title>4886847232</title>\n",
       "<ellipse fill=\"none\" stroke=\"black\" cx=\"243\" cy=\"-162\" rx=\"27\" ry=\"18\"/>\n",
       "<text text-anchor=\"middle\" x=\"243\" y=\"-158.3\" font-family=\"Times,serif\" font-size=\"14.00\">mul</text>\n",
       "</g>\n",
       "<!-- 4883836752&#45;&gt;4886847232 -->\n",
       "<g id=\"edge12\" class=\"edge\">\n",
       "<title>4883836752&#45;&gt;4886847232</title>\n",
       "<path fill=\"none\" stroke=\"black\" d=\"M215.35,-216.76C219.58,-208.55 224.81,-198.37 229.58,-189.09\"/>\n",
       "<polygon fill=\"black\" stroke=\"black\" points=\"232.54,-190.99 234,-180.49 226.32,-187.79 232.54,-190.99\"/>\n",
       "</g>\n",
       "<!-- 4886846368 -->\n",
       "<g id=\"node3\" class=\"node\">\n",
       "<title>4886846368</title>\n",
       "<ellipse fill=\"none\" stroke=\"black\" cx=\"99\" cy=\"-90\" rx=\"27\" ry=\"18\"/>\n",
       "<text text-anchor=\"middle\" x=\"99\" y=\"-86.3\" font-family=\"Times,serif\" font-size=\"14.00\">div</text>\n",
       "</g>\n",
       "<!-- 4883829744&#45;&gt;4886846368 -->\n",
       "<g id=\"edge3\" class=\"edge\">\n",
       "<title>4883829744&#45;&gt;4886846368</title>\n",
       "<path fill=\"none\" stroke=\"black\" d=\"M156.08,-146.5C146.23,-136.92 133.14,-124.19 121.97,-113.34\"/>\n",
       "<polygon fill=\"black\" stroke=\"black\" points=\"124.59,-111 114.98,-106.54 119.71,-116.02 124.59,-111\"/>\n",
       "</g>\n",
       "<!-- 4886855152 -->\n",
       "<g id=\"node6\" class=\"node\">\n",
       "<title>4886855152</title>\n",
       "<ellipse fill=\"none\" stroke=\"black\" cx=\"171\" cy=\"-90\" rx=\"27\" ry=\"18\"/>\n",
       "<text text-anchor=\"middle\" x=\"171\" y=\"-86.3\" font-family=\"Times,serif\" font-size=\"14.00\">mul</text>\n",
       "</g>\n",
       "<!-- 4883829744&#45;&gt;4886855152 -->\n",
       "<g id=\"edge6\" class=\"edge\">\n",
       "<title>4883829744&#45;&gt;4886855152</title>\n",
       "<path fill=\"none\" stroke=\"black\" d=\"M171,-143.7C171,-136.41 171,-127.73 171,-119.54\"/>\n",
       "<polygon fill=\"black\" stroke=\"black\" points=\"174.5,-119.62 171,-109.62 167.5,-119.62 174.5,-119.62\"/>\n",
       "</g>\n",
       "<!-- 4886849584 -->\n",
       "<g id=\"node4\" class=\"node\">\n",
       "<title>4886849584</title>\n",
       "<ellipse fill=\"none\" stroke=\"black\" cx=\"27\" cy=\"-18\" rx=\"27\" ry=\"18\"/>\n",
       "<text text-anchor=\"middle\" x=\"27\" y=\"-14.3\" font-family=\"Times,serif\" font-size=\"14.00\">B</text>\n",
       "</g>\n",
       "<!-- 4886846368&#45;&gt;4886849584 -->\n",
       "<g id=\"edge1\" class=\"edge\">\n",
       "<title>4886846368&#45;&gt;4886849584</title>\n",
       "<path fill=\"none\" stroke=\"black\" d=\"M84.08,-74.5C74.23,-64.92 61.14,-52.19 49.97,-41.34\"/>\n",
       "<polygon fill=\"black\" stroke=\"black\" points=\"52.59,-39 42.98,-34.54 47.71,-44.02 52.59,-39\"/>\n",
       "</g>\n",
       "<!-- 4886852512 -->\n",
       "<g id=\"node5\" class=\"node\">\n",
       "<title>4886852512</title>\n",
       "<ellipse fill=\"none\" stroke=\"black\" cx=\"99\" cy=\"-18\" rx=\"27\" ry=\"18\"/>\n",
       "<text text-anchor=\"middle\" x=\"99\" y=\"-14.3\" font-family=\"Times,serif\" font-size=\"14.00\">4</text>\n",
       "</g>\n",
       "<!-- 4886846368&#45;&gt;4886852512 -->\n",
       "<g id=\"edge2\" class=\"edge\">\n",
       "<title>4886846368&#45;&gt;4886852512</title>\n",
       "<path fill=\"none\" stroke=\"black\" d=\"M99,-71.7C99,-64.41 99,-55.73 99,-47.54\"/>\n",
       "<polygon fill=\"black\" stroke=\"black\" points=\"102.5,-47.62 99,-37.62 95.5,-47.62 102.5,-47.62\"/>\n",
       "</g>\n",
       "<!-- 4886855392 -->\n",
       "<g id=\"node7\" class=\"node\">\n",
       "<title>4886855392</title>\n",
       "<ellipse fill=\"none\" stroke=\"black\" cx=\"171\" cy=\"-18\" rx=\"27\" ry=\"18\"/>\n",
       "<text text-anchor=\"middle\" x=\"171\" y=\"-14.3\" font-family=\"Times,serif\" font-size=\"14.00\">D</text>\n",
       "</g>\n",
       "<!-- 4886855152&#45;&gt;4886855392 -->\n",
       "<g id=\"edge4\" class=\"edge\">\n",
       "<title>4886855152&#45;&gt;4886855392</title>\n",
       "<path fill=\"none\" stroke=\"black\" d=\"M171,-71.7C171,-64.41 171,-55.73 171,-47.54\"/>\n",
       "<polygon fill=\"black\" stroke=\"black\" points=\"174.5,-47.62 171,-37.62 167.5,-47.62 174.5,-47.62\"/>\n",
       "</g>\n",
       "<!-- 4886854912 -->\n",
       "<g id=\"node8\" class=\"node\">\n",
       "<title>4886854912</title>\n",
       "<ellipse fill=\"none\" stroke=\"black\" cx=\"243\" cy=\"-18\" rx=\"27\" ry=\"18\"/>\n",
       "<text text-anchor=\"middle\" x=\"243\" y=\"-14.3\" font-family=\"Times,serif\" font-size=\"14.00\">B</text>\n",
       "</g>\n",
       "<!-- 4886855152&#45;&gt;4886854912 -->\n",
       "<g id=\"edge5\" class=\"edge\">\n",
       "<title>4886855152&#45;&gt;4886854912</title>\n",
       "<path fill=\"none\" stroke=\"black\" d=\"M185.92,-74.5C195.77,-64.92 208.86,-52.19 220.03,-41.34\"/>\n",
       "<polygon fill=\"black\" stroke=\"black\" points=\"222.29,-44.02 227.02,-34.54 217.41,-39 222.29,-44.02\"/>\n",
       "</g>\n",
       "<!-- 4886850592 -->\n",
       "<g id=\"node10\" class=\"node\">\n",
       "<title>4886850592</title>\n",
       "<ellipse fill=\"none\" stroke=\"black\" cx=\"243\" cy=\"-90\" rx=\"27\" ry=\"18\"/>\n",
       "<text text-anchor=\"middle\" x=\"243\" y=\"-86.3\" font-family=\"Times,serif\" font-size=\"14.00\">B</text>\n",
       "</g>\n",
       "<!-- 4886847232&#45;&gt;4886850592 -->\n",
       "<g id=\"edge8\" class=\"edge\">\n",
       "<title>4886847232&#45;&gt;4886850592</title>\n",
       "<path fill=\"none\" stroke=\"black\" d=\"M243,-143.7C243,-136.41 243,-127.73 243,-119.54\"/>\n",
       "<polygon fill=\"black\" stroke=\"black\" points=\"246.5,-119.62 243,-109.62 239.5,-119.62 246.5,-119.62\"/>\n",
       "</g>\n",
       "<!-- 4886851072 -->\n",
       "<g id=\"node11\" class=\"node\">\n",
       "<title>4886851072</title>\n",
       "<ellipse fill=\"none\" stroke=\"black\" cx=\"315\" cy=\"-90\" rx=\"27\" ry=\"18\"/>\n",
       "<text text-anchor=\"middle\" x=\"315\" y=\"-86.3\" font-family=\"Times,serif\" font-size=\"14.00\">div</text>\n",
       "</g>\n",
       "<!-- 4886847232&#45;&gt;4886851072 -->\n",
       "<g id=\"edge11\" class=\"edge\">\n",
       "<title>4886847232&#45;&gt;4886851072</title>\n",
       "<path fill=\"none\" stroke=\"black\" d=\"M257.92,-146.5C267.77,-136.92 280.86,-124.19 292.03,-113.34\"/>\n",
       "<polygon fill=\"black\" stroke=\"black\" points=\"294.29,-116.02 299.02,-106.54 289.41,-111 294.29,-116.02\"/>\n",
       "</g>\n",
       "<!-- 4886839360 -->\n",
       "<g id=\"node12\" class=\"node\">\n",
       "<title>4886839360</title>\n",
       "<ellipse fill=\"none\" stroke=\"black\" cx=\"315\" cy=\"-18\" rx=\"27\" ry=\"18\"/>\n",
       "<text text-anchor=\"middle\" x=\"315\" y=\"-14.3\" font-family=\"Times,serif\" font-size=\"14.00\">D</text>\n",
       "</g>\n",
       "<!-- 4886851072&#45;&gt;4886839360 -->\n",
       "<g id=\"edge9\" class=\"edge\">\n",
       "<title>4886851072&#45;&gt;4886839360</title>\n",
       "<path fill=\"none\" stroke=\"black\" d=\"M315,-71.7C315,-64.41 315,-55.73 315,-47.54\"/>\n",
       "<polygon fill=\"black\" stroke=\"black\" points=\"318.5,-47.62 315,-37.62 311.5,-47.62 318.5,-47.62\"/>\n",
       "</g>\n",
       "<!-- 4886849536 -->\n",
       "<g id=\"node13\" class=\"node\">\n",
       "<title>4886849536</title>\n",
       "<ellipse fill=\"none\" stroke=\"black\" cx=\"387\" cy=\"-18\" rx=\"27\" ry=\"18\"/>\n",
       "<text text-anchor=\"middle\" x=\"387\" y=\"-14.3\" font-family=\"Times,serif\" font-size=\"14.00\">C</text>\n",
       "</g>\n",
       "<!-- 4886851072&#45;&gt;4886849536 -->\n",
       "<g id=\"edge10\" class=\"edge\">\n",
       "<title>4886851072&#45;&gt;4886849536</title>\n",
       "<path fill=\"none\" stroke=\"black\" d=\"M329.92,-74.5C339.77,-64.92 352.86,-52.19 364.03,-41.34\"/>\n",
       "<polygon fill=\"black\" stroke=\"black\" points=\"366.29,-44.02 371.02,-34.54 361.41,-39 366.29,-44.02\"/>\n",
       "</g>\n",
       "</g>\n",
       "</svg>\n"
      ],
      "text/plain": [
       "<graphviz.graphs.Digraph at 0x12359ae00>"
      ]
     },
     "execution_count": 68,
     "metadata": {},
     "output_type": "execute_result"
    }
   ],
   "source": [
    "print_tree(parent1)"
   ]
  },
  {
   "cell_type": "code",
   "execution_count": 69,
   "metadata": {
    "slideshow": {
     "slide_type": "fragment"
    }
   },
   "outputs": [
    {
     "data": {
      "image/svg+xml": [
       "<?xml version=\"1.0\" encoding=\"UTF-8\" standalone=\"no\"?>\n",
       "<!DOCTYPE svg PUBLIC \"-//W3C//DTD SVG 1.1//EN\"\n",
       " \"http://www.w3.org/Graphics/SVG/1.1/DTD/svg11.dtd\">\n",
       "<!-- Generated by graphviz version 7.0.6 (20230106.0513)\n",
       " -->\n",
       "<!-- Pages: 1 -->\n",
       "<svg width=\"422pt\" height=\"260pt\"\n",
       " viewBox=\"0.00 0.00 422.00 260.00\" xmlns=\"http://www.w3.org/2000/svg\" xmlns:xlink=\"http://www.w3.org/1999/xlink\">\n",
       "<g id=\"graph0\" class=\"graph\" transform=\"scale(1 1) rotate(0) translate(4 256)\">\n",
       "<polygon fill=\"white\" stroke=\"none\" points=\"-4,4 -4,-256 418,-256 418,4 -4,4\"/>\n",
       "<!-- 4886855632 -->\n",
       "<g id=\"node1\" class=\"node\">\n",
       "<title>4886855632</title>\n",
       "<ellipse fill=\"none\" stroke=\"black\" cx=\"207\" cy=\"-234\" rx=\"27\" ry=\"18\"/>\n",
       "<text text-anchor=\"middle\" x=\"207\" y=\"-230.3\" font-family=\"Times,serif\" font-size=\"14.00\">add</text>\n",
       "</g>\n",
       "<!-- 4886855488 -->\n",
       "<g id=\"node2\" class=\"node\">\n",
       "<title>4886855488</title>\n",
       "<ellipse fill=\"none\" stroke=\"black\" cx=\"171\" cy=\"-162\" rx=\"27\" ry=\"18\"/>\n",
       "<text text-anchor=\"middle\" x=\"171\" y=\"-158.3\" font-family=\"Times,serif\" font-size=\"14.00\">add</text>\n",
       "</g>\n",
       "<!-- 4886855632&#45;&gt;4886855488 -->\n",
       "<g id=\"edge5\" class=\"edge\">\n",
       "<title>4886855632&#45;&gt;4886855488</title>\n",
       "<path fill=\"none\" stroke=\"black\" d=\"M198.65,-216.76C194.42,-208.55 189.19,-198.37 184.42,-189.09\"/>\n",
       "<polygon fill=\"black\" stroke=\"black\" points=\"187.68,-187.79 180,-180.49 181.46,-190.99 187.68,-187.79\"/>\n",
       "</g>\n",
       "<!-- 4886853952 -->\n",
       "<g id=\"node7\" class=\"node\">\n",
       "<title>4886853952</title>\n",
       "<ellipse fill=\"none\" stroke=\"black\" cx=\"243\" cy=\"-162\" rx=\"27\" ry=\"18\"/>\n",
       "<text text-anchor=\"middle\" x=\"243\" y=\"-158.3\" font-family=\"Times,serif\" font-size=\"14.00\">div</text>\n",
       "</g>\n",
       "<!-- 4886855632&#45;&gt;4886853952 -->\n",
       "<g id=\"edge12\" class=\"edge\">\n",
       "<title>4886855632&#45;&gt;4886853952</title>\n",
       "<path fill=\"none\" stroke=\"black\" d=\"M215.35,-216.76C219.58,-208.55 224.81,-198.37 229.58,-189.09\"/>\n",
       "<polygon fill=\"black\" stroke=\"black\" points=\"232.54,-190.99 234,-180.49 226.32,-187.79 232.54,-190.99\"/>\n",
       "</g>\n",
       "<!-- 4886846416 -->\n",
       "<g id=\"node3\" class=\"node\">\n",
       "<title>4886846416</title>\n",
       "<ellipse fill=\"none\" stroke=\"black\" cx=\"99\" cy=\"-90\" rx=\"27\" ry=\"18\"/>\n",
       "<text text-anchor=\"middle\" x=\"99\" y=\"-86.3\" font-family=\"Times,serif\" font-size=\"14.00\">div</text>\n",
       "</g>\n",
       "<!-- 4886855488&#45;&gt;4886846416 -->\n",
       "<g id=\"edge3\" class=\"edge\">\n",
       "<title>4886855488&#45;&gt;4886846416</title>\n",
       "<path fill=\"none\" stroke=\"black\" d=\"M156.08,-146.5C146.23,-136.92 133.14,-124.19 121.97,-113.34\"/>\n",
       "<polygon fill=\"black\" stroke=\"black\" points=\"124.59,-111 114.98,-106.54 119.71,-116.02 124.59,-111\"/>\n",
       "</g>\n",
       "<!-- 4886849824 -->\n",
       "<g id=\"node6\" class=\"node\">\n",
       "<title>4886849824</title>\n",
       "<ellipse fill=\"none\" stroke=\"black\" cx=\"171\" cy=\"-90\" rx=\"27\" ry=\"18\"/>\n",
       "<text text-anchor=\"middle\" x=\"171\" y=\"-86.3\" font-family=\"Times,serif\" font-size=\"14.00\">D</text>\n",
       "</g>\n",
       "<!-- 4886855488&#45;&gt;4886849824 -->\n",
       "<g id=\"edge4\" class=\"edge\">\n",
       "<title>4886855488&#45;&gt;4886849824</title>\n",
       "<path fill=\"none\" stroke=\"black\" d=\"M171,-143.7C171,-136.41 171,-127.73 171,-119.54\"/>\n",
       "<polygon fill=\"black\" stroke=\"black\" points=\"174.5,-119.62 171,-109.62 167.5,-119.62 174.5,-119.62\"/>\n",
       "</g>\n",
       "<!-- 4886855536 -->\n",
       "<g id=\"node4\" class=\"node\">\n",
       "<title>4886855536</title>\n",
       "<ellipse fill=\"none\" stroke=\"black\" cx=\"27\" cy=\"-18\" rx=\"27\" ry=\"18\"/>\n",
       "<text text-anchor=\"middle\" x=\"27\" y=\"-14.3\" font-family=\"Times,serif\" font-size=\"14.00\">A</text>\n",
       "</g>\n",
       "<!-- 4886846416&#45;&gt;4886855536 -->\n",
       "<g id=\"edge1\" class=\"edge\">\n",
       "<title>4886846416&#45;&gt;4886855536</title>\n",
       "<path fill=\"none\" stroke=\"black\" d=\"M84.08,-74.5C74.23,-64.92 61.14,-52.19 49.97,-41.34\"/>\n",
       "<polygon fill=\"black\" stroke=\"black\" points=\"52.59,-39 42.98,-34.54 47.71,-44.02 52.59,-39\"/>\n",
       "</g>\n",
       "<!-- 4886844496 -->\n",
       "<g id=\"node5\" class=\"node\">\n",
       "<title>4886844496</title>\n",
       "<ellipse fill=\"none\" stroke=\"black\" cx=\"99\" cy=\"-18\" rx=\"27\" ry=\"18\"/>\n",
       "<text text-anchor=\"middle\" x=\"99\" y=\"-14.3\" font-family=\"Times,serif\" font-size=\"14.00\">B</text>\n",
       "</g>\n",
       "<!-- 4886846416&#45;&gt;4886844496 -->\n",
       "<g id=\"edge2\" class=\"edge\">\n",
       "<title>4886846416&#45;&gt;4886844496</title>\n",
       "<path fill=\"none\" stroke=\"black\" d=\"M99,-71.7C99,-64.41 99,-55.73 99,-47.54\"/>\n",
       "<polygon fill=\"black\" stroke=\"black\" points=\"102.5,-47.62 99,-37.62 95.5,-47.62 102.5,-47.62\"/>\n",
       "</g>\n",
       "<!-- 4886854000 -->\n",
       "<g id=\"node8\" class=\"node\">\n",
       "<title>4886854000</title>\n",
       "<ellipse fill=\"none\" stroke=\"black\" cx=\"243\" cy=\"-90\" rx=\"27\" ry=\"18\"/>\n",
       "<text text-anchor=\"middle\" x=\"243\" y=\"-86.3\" font-family=\"Times,serif\" font-size=\"14.00\">sub</text>\n",
       "</g>\n",
       "<!-- 4886853952&#45;&gt;4886854000 -->\n",
       "<g id=\"edge8\" class=\"edge\">\n",
       "<title>4886853952&#45;&gt;4886854000</title>\n",
       "<path fill=\"none\" stroke=\"black\" d=\"M243,-143.7C243,-136.41 243,-127.73 243,-119.54\"/>\n",
       "<polygon fill=\"black\" stroke=\"black\" points=\"246.5,-119.62 243,-109.62 239.5,-119.62 246.5,-119.62\"/>\n",
       "</g>\n",
       "<!-- 4886850160 -->\n",
       "<g id=\"node11\" class=\"node\">\n",
       "<title>4886850160</title>\n",
       "<ellipse fill=\"none\" stroke=\"black\" cx=\"315\" cy=\"-90\" rx=\"27\" ry=\"18\"/>\n",
       "<text text-anchor=\"middle\" x=\"315\" y=\"-86.3\" font-family=\"Times,serif\" font-size=\"14.00\">add</text>\n",
       "</g>\n",
       "<!-- 4886853952&#45;&gt;4886850160 -->\n",
       "<g id=\"edge11\" class=\"edge\">\n",
       "<title>4886853952&#45;&gt;4886850160</title>\n",
       "<path fill=\"none\" stroke=\"black\" d=\"M257.92,-146.5C267.77,-136.92 280.86,-124.19 292.03,-113.34\"/>\n",
       "<polygon fill=\"black\" stroke=\"black\" points=\"294.29,-116.02 299.02,-106.54 289.41,-111 294.29,-116.02\"/>\n",
       "</g>\n",
       "<!-- 4886841040 -->\n",
       "<g id=\"node9\" class=\"node\">\n",
       "<title>4886841040</title>\n",
       "<ellipse fill=\"none\" stroke=\"black\" cx=\"171\" cy=\"-18\" rx=\"27\" ry=\"18\"/>\n",
       "<text text-anchor=\"middle\" x=\"171\" y=\"-14.3\" font-family=\"Times,serif\" font-size=\"14.00\">D</text>\n",
       "</g>\n",
       "<!-- 4886854000&#45;&gt;4886841040 -->\n",
       "<g id=\"edge6\" class=\"edge\">\n",
       "<title>4886854000&#45;&gt;4886841040</title>\n",
       "<path fill=\"none\" stroke=\"black\" d=\"M228.08,-74.5C218.23,-64.92 205.14,-52.19 193.97,-41.34\"/>\n",
       "<polygon fill=\"black\" stroke=\"black\" points=\"196.59,-39 186.98,-34.54 191.71,-44.02 196.59,-39\"/>\n",
       "</g>\n",
       "<!-- 4886848000 -->\n",
       "<g id=\"node10\" class=\"node\">\n",
       "<title>4886848000</title>\n",
       "<ellipse fill=\"none\" stroke=\"black\" cx=\"243\" cy=\"-18\" rx=\"27\" ry=\"18\"/>\n",
       "<text text-anchor=\"middle\" x=\"243\" y=\"-14.3\" font-family=\"Times,serif\" font-size=\"14.00\">A</text>\n",
       "</g>\n",
       "<!-- 4886854000&#45;&gt;4886848000 -->\n",
       "<g id=\"edge7\" class=\"edge\">\n",
       "<title>4886854000&#45;&gt;4886848000</title>\n",
       "<path fill=\"none\" stroke=\"black\" d=\"M243,-71.7C243,-64.41 243,-55.73 243,-47.54\"/>\n",
       "<polygon fill=\"black\" stroke=\"black\" points=\"246.5,-47.62 243,-37.62 239.5,-47.62 246.5,-47.62\"/>\n",
       "</g>\n",
       "<!-- 4886853568 -->\n",
       "<g id=\"node12\" class=\"node\">\n",
       "<title>4886853568</title>\n",
       "<ellipse fill=\"none\" stroke=\"black\" cx=\"315\" cy=\"-18\" rx=\"27\" ry=\"18\"/>\n",
       "<text text-anchor=\"middle\" x=\"315\" y=\"-14.3\" font-family=\"Times,serif\" font-size=\"14.00\">B</text>\n",
       "</g>\n",
       "<!-- 4886850160&#45;&gt;4886853568 -->\n",
       "<g id=\"edge9\" class=\"edge\">\n",
       "<title>4886850160&#45;&gt;4886853568</title>\n",
       "<path fill=\"none\" stroke=\"black\" d=\"M315,-71.7C315,-64.41 315,-55.73 315,-47.54\"/>\n",
       "<polygon fill=\"black\" stroke=\"black\" points=\"318.5,-47.62 315,-37.62 311.5,-47.62 318.5,-47.62\"/>\n",
       "</g>\n",
       "<!-- 4886849872 -->\n",
       "<g id=\"node13\" class=\"node\">\n",
       "<title>4886849872</title>\n",
       "<ellipse fill=\"none\" stroke=\"black\" cx=\"387\" cy=\"-18\" rx=\"27\" ry=\"18\"/>\n",
       "<text text-anchor=\"middle\" x=\"387\" y=\"-14.3\" font-family=\"Times,serif\" font-size=\"14.00\">B</text>\n",
       "</g>\n",
       "<!-- 4886850160&#45;&gt;4886849872 -->\n",
       "<g id=\"edge10\" class=\"edge\">\n",
       "<title>4886850160&#45;&gt;4886849872</title>\n",
       "<path fill=\"none\" stroke=\"black\" d=\"M329.92,-74.5C339.77,-64.92 352.86,-52.19 364.03,-41.34\"/>\n",
       "<polygon fill=\"black\" stroke=\"black\" points=\"366.29,-44.02 371.02,-34.54 361.41,-39 366.29,-44.02\"/>\n",
       "</g>\n",
       "</g>\n",
       "</svg>\n"
      ],
      "text/plain": [
       "<graphviz.graphs.Digraph at 0x12359b220>"
      ]
     },
     "execution_count": 69,
     "metadata": {},
     "output_type": "execute_result"
    }
   ],
   "source": [
    "print_tree(parent2)"
   ]
  },
  {
   "cell_type": "code",
   "execution_count": 71,
   "metadata": {
    "scrolled": true,
    "slideshow": {
     "slide_type": "subslide"
    }
   },
   "outputs": [
    {
     "data": {
      "image/svg+xml": [
       "<?xml version=\"1.0\" encoding=\"UTF-8\" standalone=\"no\"?>\n",
       "<!DOCTYPE svg PUBLIC \"-//W3C//DTD SVG 1.1//EN\"\n",
       " \"http://www.w3.org/Graphics/SVG/1.1/DTD/svg11.dtd\">\n",
       "<!-- Generated by graphviz version 7.0.6 (20230106.0513)\n",
       " -->\n",
       "<!-- Pages: 1 -->\n",
       "<svg width=\"332pt\" height=\"260pt\"\n",
       " viewBox=\"0.00 0.00 332.00 260.00\" xmlns=\"http://www.w3.org/2000/svg\" xmlns:xlink=\"http://www.w3.org/1999/xlink\">\n",
       "<g id=\"graph0\" class=\"graph\" transform=\"scale(1 1) rotate(0) translate(4 256)\">\n",
       "<polygon fill=\"white\" stroke=\"none\" points=\"-4,4 -4,-256 328,-256 328,4 -4,4\"/>\n",
       "<!-- 4888043504 -->\n",
       "<g id=\"node1\" class=\"node\">\n",
       "<title>4888043504</title>\n",
       "<ellipse fill=\"none\" stroke=\"black\" cx=\"135\" cy=\"-234\" rx=\"27\" ry=\"18\"/>\n",
       "<text text-anchor=\"middle\" x=\"135\" y=\"-230.3\" font-family=\"Times,serif\" font-size=\"14.00\">add</text>\n",
       "</g>\n",
       "<!-- 4888048352 -->\n",
       "<g id=\"node2\" class=\"node\">\n",
       "<title>4888048352</title>\n",
       "<ellipse fill=\"none\" stroke=\"black\" cx=\"99\" cy=\"-162\" rx=\"27\" ry=\"18\"/>\n",
       "<text text-anchor=\"middle\" x=\"99\" y=\"-158.3\" font-family=\"Times,serif\" font-size=\"14.00\">div</text>\n",
       "</g>\n",
       "<!-- 4888043504&#45;&gt;4888048352 -->\n",
       "<g id=\"edge5\" class=\"edge\">\n",
       "<title>4888043504&#45;&gt;4888048352</title>\n",
       "<path fill=\"none\" stroke=\"black\" d=\"M126.65,-216.76C122.42,-208.55 117.19,-198.37 112.42,-189.09\"/>\n",
       "<polygon fill=\"black\" stroke=\"black\" points=\"115.68,-187.79 108,-180.49 109.46,-190.99 115.68,-187.79\"/>\n",
       "</g>\n",
       "<!-- 4888043120 -->\n",
       "<g id=\"node7\" class=\"node\">\n",
       "<title>4888043120</title>\n",
       "<ellipse fill=\"none\" stroke=\"black\" cx=\"171\" cy=\"-162\" rx=\"27\" ry=\"18\"/>\n",
       "<text text-anchor=\"middle\" x=\"171\" y=\"-158.3\" font-family=\"Times,serif\" font-size=\"14.00\">mul</text>\n",
       "</g>\n",
       "<!-- 4888043504&#45;&gt;4888043120 -->\n",
       "<g id=\"edge10\" class=\"edge\">\n",
       "<title>4888043504&#45;&gt;4888043120</title>\n",
       "<path fill=\"none\" stroke=\"black\" d=\"M143.35,-216.76C147.58,-208.55 152.81,-198.37 157.58,-189.09\"/>\n",
       "<polygon fill=\"black\" stroke=\"black\" points=\"160.54,-190.99 162,-180.49 154.32,-187.79 160.54,-190.99\"/>\n",
       "</g>\n",
       "<!-- 4888043984 -->\n",
       "<g id=\"node3\" class=\"node\">\n",
       "<title>4888043984</title>\n",
       "<ellipse fill=\"none\" stroke=\"black\" cx=\"27\" cy=\"-90\" rx=\"27\" ry=\"18\"/>\n",
       "<text text-anchor=\"middle\" x=\"27\" y=\"-86.3\" font-family=\"Times,serif\" font-size=\"14.00\">D</text>\n",
       "</g>\n",
       "<!-- 4888048352&#45;&gt;4888043984 -->\n",
       "<g id=\"edge1\" class=\"edge\">\n",
       "<title>4888048352&#45;&gt;4888043984</title>\n",
       "<path fill=\"none\" stroke=\"black\" d=\"M84.08,-146.5C74.23,-136.92 61.14,-124.19 49.97,-113.34\"/>\n",
       "<polygon fill=\"black\" stroke=\"black\" points=\"52.59,-111 42.98,-106.54 47.71,-116.02 52.59,-111\"/>\n",
       "</g>\n",
       "<!-- 4888036352 -->\n",
       "<g id=\"node4\" class=\"node\">\n",
       "<title>4888036352</title>\n",
       "<ellipse fill=\"none\" stroke=\"black\" cx=\"99\" cy=\"-90\" rx=\"27\" ry=\"18\"/>\n",
       "<text text-anchor=\"middle\" x=\"99\" y=\"-86.3\" font-family=\"Times,serif\" font-size=\"14.00\">mul</text>\n",
       "</g>\n",
       "<!-- 4888048352&#45;&gt;4888036352 -->\n",
       "<g id=\"edge4\" class=\"edge\">\n",
       "<title>4888048352&#45;&gt;4888036352</title>\n",
       "<path fill=\"none\" stroke=\"black\" d=\"M99,-143.7C99,-136.41 99,-127.73 99,-119.54\"/>\n",
       "<polygon fill=\"black\" stroke=\"black\" points=\"102.5,-119.62 99,-109.62 95.5,-119.62 102.5,-119.62\"/>\n",
       "</g>\n",
       "<!-- 4888044080 -->\n",
       "<g id=\"node5\" class=\"node\">\n",
       "<title>4888044080</title>\n",
       "<ellipse fill=\"none\" stroke=\"black\" cx=\"63\" cy=\"-18\" rx=\"27\" ry=\"18\"/>\n",
       "<text text-anchor=\"middle\" x=\"63\" y=\"-14.3\" font-family=\"Times,serif\" font-size=\"14.00\">D</text>\n",
       "</g>\n",
       "<!-- 4888036352&#45;&gt;4888044080 -->\n",
       "<g id=\"edge2\" class=\"edge\">\n",
       "<title>4888036352&#45;&gt;4888044080</title>\n",
       "<path fill=\"none\" stroke=\"black\" d=\"M90.65,-72.76C86.42,-64.55 81.19,-54.37 76.42,-45.09\"/>\n",
       "<polygon fill=\"black\" stroke=\"black\" points=\"79.68,-43.79 72,-36.49 73.46,-46.99 79.68,-43.79\"/>\n",
       "</g>\n",
       "<!-- 4888039424 -->\n",
       "<g id=\"node6\" class=\"node\">\n",
       "<title>4888039424</title>\n",
       "<ellipse fill=\"none\" stroke=\"black\" cx=\"135\" cy=\"-18\" rx=\"27\" ry=\"18\"/>\n",
       "<text text-anchor=\"middle\" x=\"135\" y=\"-14.3\" font-family=\"Times,serif\" font-size=\"14.00\">B</text>\n",
       "</g>\n",
       "<!-- 4888036352&#45;&gt;4888039424 -->\n",
       "<g id=\"edge3\" class=\"edge\">\n",
       "<title>4888036352&#45;&gt;4888039424</title>\n",
       "<path fill=\"none\" stroke=\"black\" d=\"M107.35,-72.76C111.58,-64.55 116.81,-54.37 121.58,-45.09\"/>\n",
       "<polygon fill=\"black\" stroke=\"black\" points=\"124.54,-46.99 126,-36.49 118.32,-43.79 124.54,-46.99\"/>\n",
       "</g>\n",
       "<!-- 4888035680 -->\n",
       "<g id=\"node8\" class=\"node\">\n",
       "<title>4888035680</title>\n",
       "<ellipse fill=\"none\" stroke=\"black\" cx=\"171\" cy=\"-90\" rx=\"27\" ry=\"18\"/>\n",
       "<text text-anchor=\"middle\" x=\"171\" y=\"-86.3\" font-family=\"Times,serif\" font-size=\"14.00\">B</text>\n",
       "</g>\n",
       "<!-- 4888043120&#45;&gt;4888035680 -->\n",
       "<g id=\"edge6\" class=\"edge\">\n",
       "<title>4888043120&#45;&gt;4888035680</title>\n",
       "<path fill=\"none\" stroke=\"black\" d=\"M171,-143.7C171,-136.41 171,-127.73 171,-119.54\"/>\n",
       "<polygon fill=\"black\" stroke=\"black\" points=\"174.5,-119.62 171,-109.62 167.5,-119.62 174.5,-119.62\"/>\n",
       "</g>\n",
       "<!-- 4888044272 -->\n",
       "<g id=\"node9\" class=\"node\">\n",
       "<title>4888044272</title>\n",
       "<ellipse fill=\"none\" stroke=\"black\" cx=\"243\" cy=\"-90\" rx=\"27\" ry=\"18\"/>\n",
       "<text text-anchor=\"middle\" x=\"243\" y=\"-86.3\" font-family=\"Times,serif\" font-size=\"14.00\">div</text>\n",
       "</g>\n",
       "<!-- 4888043120&#45;&gt;4888044272 -->\n",
       "<g id=\"edge9\" class=\"edge\">\n",
       "<title>4888043120&#45;&gt;4888044272</title>\n",
       "<path fill=\"none\" stroke=\"black\" d=\"M185.92,-146.5C195.77,-136.92 208.86,-124.19 220.03,-113.34\"/>\n",
       "<polygon fill=\"black\" stroke=\"black\" points=\"222.29,-116.02 227.02,-106.54 217.41,-111 222.29,-116.02\"/>\n",
       "</g>\n",
       "<!-- 4888044320 -->\n",
       "<g id=\"node10\" class=\"node\">\n",
       "<title>4888044320</title>\n",
       "<ellipse fill=\"none\" stroke=\"black\" cx=\"225\" cy=\"-18\" rx=\"27\" ry=\"18\"/>\n",
       "<text text-anchor=\"middle\" x=\"225\" y=\"-14.3\" font-family=\"Times,serif\" font-size=\"14.00\">D</text>\n",
       "</g>\n",
       "<!-- 4888044272&#45;&gt;4888044320 -->\n",
       "<g id=\"edge7\" class=\"edge\">\n",
       "<title>4888044272&#45;&gt;4888044320</title>\n",
       "<path fill=\"none\" stroke=\"black\" d=\"M238.64,-72.05C236.7,-64.49 234.35,-55.37 232.16,-46.85\"/>\n",
       "<polygon fill=\"black\" stroke=\"black\" points=\"235.57,-46.07 229.69,-37.25 228.79,-47.81 235.57,-46.07\"/>\n",
       "</g>\n",
       "<!-- 4888045472 -->\n",
       "<g id=\"node11\" class=\"node\">\n",
       "<title>4888045472</title>\n",
       "<ellipse fill=\"none\" stroke=\"black\" cx=\"297\" cy=\"-18\" rx=\"27\" ry=\"18\"/>\n",
       "<text text-anchor=\"middle\" x=\"297\" y=\"-14.3\" font-family=\"Times,serif\" font-size=\"14.00\">C</text>\n",
       "</g>\n",
       "<!-- 4888044272&#45;&gt;4888045472 -->\n",
       "<g id=\"edge8\" class=\"edge\">\n",
       "<title>4888044272&#45;&gt;4888045472</title>\n",
       "<path fill=\"none\" stroke=\"black\" d=\"M254.98,-73.46C261.77,-64.67 270.4,-53.48 278.08,-43.53\"/>\n",
       "<polygon fill=\"black\" stroke=\"black\" points=\"280.79,-45.75 284.12,-35.69 275.25,-41.47 280.79,-45.75\"/>\n",
       "</g>\n",
       "</g>\n",
       "</svg>\n"
      ],
      "text/plain": [
       "<graphviz.graphs.Digraph at 0x12359be80>"
      ]
     },
     "execution_count": 71,
     "metadata": {},
     "output_type": "execute_result"
    }
   ],
   "source": [
    "offspring = sizefair_crossover(parent1, parent2)\n",
    "print_tree(offspring)"
   ]
  },
  {
   "cell_type": "markdown",
   "metadata": {
    "slideshow": {
     "slide_type": "skip"
    }
   },
   "source": [
    "Now we just need to do some minor adaptations to make sure that these new operators are actually applied during the evolution:"
   ]
  },
  {
   "cell_type": "code",
   "execution_count": 72,
   "metadata": {
    "slideshow": {
     "slide_type": "slide"
    }
   },
   "outputs": [],
   "source": [
    "mutation_operators = [subtree_mutation, permutation_mutation, shrink_mutation, point_mutation, sizefair_subtree_mutation]\n",
    "crossover = sizefair_crossover"
   ]
  },
  {
   "cell_type": "markdown",
   "metadata": {
    "slideshow": {
     "slide_type": "skip"
    }
   },
   "source": [
    "Besides the adapted operators, another common approach is to apply an upper bound on the size, and reject offspring that exceeds that size. This can have negative implications if it is the only means to control bloat, as larger individuals will then become less likely to produce surviving offspring. However, we can use it in conjunction with out optimised operators:"
   ]
  },
  {
   "cell_type": "code",
   "execution_count": 73,
   "metadata": {
    "slideshow": {
     "slide_type": "fragment"
    }
   },
   "outputs": [],
   "source": [
    "REJECT_SIZE = 50"
   ]
  },
  {
   "cell_type": "code",
   "execution_count": 74,
   "metadata": {
    "slideshow": {
     "slide_type": "fragment"
    }
   },
   "outputs": [],
   "source": [
    "def evolution_step(population):\n",
    "    new_population = []\n",
    "    while len(new_population) < len(population):\n",
    "        parent1 = copy(selection(population))\n",
    "        parent2 = copy(selection(population))\n",
    "\n",
    "        if random.random() < P_xover:\n",
    "            offspring = crossover(parent1, parent2)\n",
    "        else:\n",
    "            offspring = random.choice([parent1, parent2])\n",
    "\n",
    "        if random.random() < 0.2:\n",
    "            mutation_operator = random.choice(mutation_operators)\n",
    "            mutation_operator(offspring)\n",
    "\n",
    "        if size(offspring) < REJECT_SIZE:\n",
    "            new_population.append(offspring)\n",
    "\n",
    "    population.clear()\n",
    "    population.extend(new_population)\n",
    "\n",
    "    best_fitness = min([get_fitness(k) for k in population])\n",
    "    return best_fitness"
   ]
  },
  {
   "cell_type": "markdown",
   "metadata": {
    "slideshow": {
     "slide_type": "skip"
    }
   },
   "source": [
    "Thus, finally, let's run the search again for the same target function."
   ]
  },
  {
   "cell_type": "code",
   "execution_count": 75,
   "metadata": {
    "scrolled": true,
    "slideshow": {
     "slide_type": "slide"
    }
   },
   "outputs": [
    {
     "name": "stdout",
     "output_type": "stream",
     "text": [
      "GA Iteration 0, best fitness: 0.20333000000000007, average size: 9.4\n",
      "GA Iteration 1, best fitness: 0.20333000000000007, average size: 8.44\n",
      "GA Iteration 2, best fitness: 0.20333000000000007, average size: 7.94\n",
      "GA Iteration 3, best fitness: 0.20333000000000007, average size: 6.3\n",
      "GA Iteration 4, best fitness: 0.20333000000000007, average size: 5.06\n",
      "GA Iteration 5, best fitness: 0.20333000000000007, average size: 4.4\n",
      "GA solution after 6 iterations, best fitness: 1.232595164407831e-33\n"
     ]
    },
    {
     "data": {
      "image/svg+xml": [
       "<?xml version=\"1.0\" encoding=\"UTF-8\" standalone=\"no\"?>\n",
       "<!DOCTYPE svg PUBLIC \"-//W3C//DTD SVG 1.1//EN\"\n",
       " \"http://www.w3.org/Graphics/SVG/1.1/DTD/svg11.dtd\">\n",
       "<!-- Generated by graphviz version 7.0.6 (20230106.0513)\n",
       " -->\n",
       "<!-- Pages: 1 -->\n",
       "<svg width=\"278pt\" height=\"188pt\"\n",
       " viewBox=\"0.00 0.00 278.00 188.00\" xmlns=\"http://www.w3.org/2000/svg\" xmlns:xlink=\"http://www.w3.org/1999/xlink\">\n",
       "<g id=\"graph0\" class=\"graph\" transform=\"scale(1 1) rotate(0) translate(4 184)\">\n",
       "<polygon fill=\"white\" stroke=\"none\" points=\"-4,4 -4,-184 274,-184 274,4 -4,4\"/>\n",
       "<!-- 4887238960 -->\n",
       "<g id=\"node1\" class=\"node\">\n",
       "<title>4887238960</title>\n",
       "<ellipse fill=\"none\" stroke=\"black\" cx=\"135\" cy=\"-162\" rx=\"27\" ry=\"18\"/>\n",
       "<text text-anchor=\"middle\" x=\"135\" y=\"-158.3\" font-family=\"Times,serif\" font-size=\"14.00\">add</text>\n",
       "</g>\n",
       "<!-- 4888277728 -->\n",
       "<g id=\"node2\" class=\"node\">\n",
       "<title>4888277728</title>\n",
       "<ellipse fill=\"none\" stroke=\"black\" cx=\"99\" cy=\"-90\" rx=\"27\" ry=\"18\"/>\n",
       "<text text-anchor=\"middle\" x=\"99\" y=\"-86.3\" font-family=\"Times,serif\" font-size=\"14.00\">mul</text>\n",
       "</g>\n",
       "<!-- 4887238960&#45;&gt;4888277728 -->\n",
       "<g id=\"edge3\" class=\"edge\">\n",
       "<title>4887238960&#45;&gt;4888277728</title>\n",
       "<path fill=\"none\" stroke=\"black\" d=\"M126.65,-144.76C122.42,-136.55 117.19,-126.37 112.42,-117.09\"/>\n",
       "<polygon fill=\"black\" stroke=\"black\" points=\"115.68,-115.79 108,-108.49 109.46,-118.99 115.68,-115.79\"/>\n",
       "</g>\n",
       "<!-- 4887082224 -->\n",
       "<g id=\"node5\" class=\"node\">\n",
       "<title>4887082224</title>\n",
       "<ellipse fill=\"none\" stroke=\"black\" cx=\"171\" cy=\"-90\" rx=\"27\" ry=\"18\"/>\n",
       "<text text-anchor=\"middle\" x=\"171\" y=\"-86.3\" font-family=\"Times,serif\" font-size=\"14.00\">sub</text>\n",
       "</g>\n",
       "<!-- 4887238960&#45;&gt;4887082224 -->\n",
       "<g id=\"edge6\" class=\"edge\">\n",
       "<title>4887238960&#45;&gt;4887082224</title>\n",
       "<path fill=\"none\" stroke=\"black\" d=\"M143.35,-144.76C147.58,-136.55 152.81,-126.37 157.58,-117.09\"/>\n",
       "<polygon fill=\"black\" stroke=\"black\" points=\"160.54,-118.99 162,-108.49 154.32,-115.79 160.54,-118.99\"/>\n",
       "</g>\n",
       "<!-- 4886854384 -->\n",
       "<g id=\"node3\" class=\"node\">\n",
       "<title>4886854384</title>\n",
       "<ellipse fill=\"none\" stroke=\"black\" cx=\"27\" cy=\"-18\" rx=\"27\" ry=\"18\"/>\n",
       "<text text-anchor=\"middle\" x=\"27\" y=\"-14.3\" font-family=\"Times,serif\" font-size=\"14.00\">x</text>\n",
       "</g>\n",
       "<!-- 4888277728&#45;&gt;4886854384 -->\n",
       "<g id=\"edge1\" class=\"edge\">\n",
       "<title>4888277728&#45;&gt;4886854384</title>\n",
       "<path fill=\"none\" stroke=\"black\" d=\"M84.08,-74.5C74.23,-64.92 61.14,-52.19 49.97,-41.34\"/>\n",
       "<polygon fill=\"black\" stroke=\"black\" points=\"52.59,-39 42.98,-34.54 47.71,-44.02 52.59,-39\"/>\n",
       "</g>\n",
       "<!-- 4887725152 -->\n",
       "<g id=\"node4\" class=\"node\">\n",
       "<title>4887725152</title>\n",
       "<ellipse fill=\"none\" stroke=\"black\" cx=\"99\" cy=\"-18\" rx=\"27\" ry=\"18\"/>\n",
       "<text text-anchor=\"middle\" x=\"99\" y=\"-14.3\" font-family=\"Times,serif\" font-size=\"14.00\">x</text>\n",
       "</g>\n",
       "<!-- 4888277728&#45;&gt;4887725152 -->\n",
       "<g id=\"edge2\" class=\"edge\">\n",
       "<title>4888277728&#45;&gt;4887725152</title>\n",
       "<path fill=\"none\" stroke=\"black\" d=\"M99,-71.7C99,-64.41 99,-55.73 99,-47.54\"/>\n",
       "<polygon fill=\"black\" stroke=\"black\" points=\"102.5,-47.62 99,-37.62 95.5,-47.62 102.5,-47.62\"/>\n",
       "</g>\n",
       "<!-- 4887077808 -->\n",
       "<g id=\"node6\" class=\"node\">\n",
       "<title>4887077808</title>\n",
       "<ellipse fill=\"none\" stroke=\"black\" cx=\"171\" cy=\"-18\" rx=\"27\" ry=\"18\"/>\n",
       "<text text-anchor=\"middle\" x=\"171\" y=\"-14.3\" font-family=\"Times,serif\" font-size=\"14.00\">x</text>\n",
       "</g>\n",
       "<!-- 4887082224&#45;&gt;4887077808 -->\n",
       "<g id=\"edge4\" class=\"edge\">\n",
       "<title>4887082224&#45;&gt;4887077808</title>\n",
       "<path fill=\"none\" stroke=\"black\" d=\"M171,-71.7C171,-64.41 171,-55.73 171,-47.54\"/>\n",
       "<polygon fill=\"black\" stroke=\"black\" points=\"174.5,-47.62 171,-37.62 167.5,-47.62 174.5,-47.62\"/>\n",
       "</g>\n",
       "<!-- 4887075072 -->\n",
       "<g id=\"node7\" class=\"node\">\n",
       "<title>4887075072</title>\n",
       "<ellipse fill=\"none\" stroke=\"black\" cx=\"243\" cy=\"-18\" rx=\"27\" ry=\"18\"/>\n",
       "<text text-anchor=\"middle\" x=\"243\" y=\"-14.3\" font-family=\"Times,serif\" font-size=\"14.00\">&#45;1</text>\n",
       "</g>\n",
       "<!-- 4887082224&#45;&gt;4887075072 -->\n",
       "<g id=\"edge5\" class=\"edge\">\n",
       "<title>4887082224&#45;&gt;4887075072</title>\n",
       "<path fill=\"none\" stroke=\"black\" d=\"M185.92,-74.5C195.77,-64.92 208.86,-52.19 220.03,-41.34\"/>\n",
       "<polygon fill=\"black\" stroke=\"black\" points=\"222.29,-44.02 227.02,-34.54 217.41,-39 222.29,-44.02\"/>\n",
       "</g>\n",
       "</g>\n",
       "</svg>\n"
      ],
      "text/plain": [
       "<graphviz.graphs.Digraph at 0x123573760>"
      ]
     },
     "execution_count": 75,
     "metadata": {},
     "output_type": "execute_result"
    }
   ],
   "source": [
    "max_iterations = 200\n",
    "population_size = 100\n",
    "selection = tournament_selection\n",
    "crossover = sizefair_crossover\n",
    "P_xover = 0.7\n",
    "fitness_values = []\n",
    "size_values = []\n",
    "result = ga()\n",
    "print_tree(result)"
   ]
  },
  {
   "cell_type": "markdown",
   "metadata": {
    "slideshow": {
     "slide_type": "skip"
    }
   },
   "source": [
    "To validate whether we are still affected by bloat we can plot the evolution of size again:"
   ]
  },
  {
   "cell_type": "code",
   "execution_count": 76,
   "metadata": {
    "scrolled": true,
    "slideshow": {
     "slide_type": "slide"
    }
   },
   "outputs": [
    {
     "data": {
      "text/plain": [
       "[<matplotlib.lines.Line2D at 0x1234ad870>]"
      ]
     },
     "execution_count": 76,
     "metadata": {},
     "output_type": "execute_result"
    },
    {
     "data": {
      "image/png": "[encoded data removed]",
      "text/plain": [
       "<Figure size 640x480 with 1 Axes>"
      ]
     },
     "metadata": {},
     "output_type": "display_data"
    }
   ],
   "source": [
    "plt.plot(size_values)"
   ]
  },
  {
   "cell_type": "markdown",
   "metadata": {
    "slideshow": {
     "slide_type": "skip"
    }
   },
   "source": [
    "We can also compare the resulting function with the desired target function:"
   ]
  },
  {
   "cell_type": "code",
   "execution_count": 77,
   "metadata": {
    "slideshow": {
     "slide_type": "slide"
    }
   },
   "outputs": [
    {
     "data": {
      "text/plain": [
       "<matplotlib.legend.Legend at 0x123570910>"
      ]
     },
     "execution_count": 77,
     "metadata": {},
     "output_type": "execute_result"
    },
    {
     "data": {
      "image/png": "[encoded data removed]",
      "text/plain": [
       "<Figure size 640x480 with 1 Axes>"
      ]
     },
     "metadata": {},
     "output_type": "display_data"
    }
   ],
   "source": [
    "points = [x/10 for x in range(-10, 11)]\n",
    "real_values = [(x*x + x + 1) for x in points]\n",
    "gp_values = []\n",
    "for x in points:\n",
    "    assignment = {}\n",
    "    assignment[\"x\"] = x\n",
    "    gp_values.append(evaluate(result, assignment))\n",
    "plt.plot(points, gp_values)\n",
    "\n",
    "plt.plot(points, real_values,  linestyle='--', label = \"Target\")\n",
    "plt.plot(points, gp_values,  linestyle=':', label = \"GP\")\n",
    "plt.legend()"
   ]
  },
  {
   "cell_type": "markdown",
   "metadata": {
    "slideshow": {
     "slide_type": "slide"
    }
   },
   "source": [
    "## Example Application: Fault Localisation"
   ]
  },
  {
   "cell_type": "markdown",
   "metadata": {
    "slideshow": {
     "slide_type": "skip"
    }
   },
   "source": [
    "Given a test suite with at least one failing and at least one passing test case, the aim of fault localisation is to identify those statements in a program that are likely faulty. Intuitively, statements that are primarily executed by failed test cases are more likely to be faulty than those that are primarily executed by passed test cases. In spectrum-based fault localisation this is done by evaluating the similarity of each statement with the the error vector (i.e. the vector of pass/fail verdicts for each statement). There are many different competing similarity metrics (which we will consider in more details the Software Analysis course). \n"
   ]
  },
  {
   "cell_type": "markdown",
   "metadata": {
    "slideshow": {
     "slide_type": "skip"
    }
   },
   "source": [
    "The basis for fault localisation is a coverage matrix in which we have coverage information for each statement and each test case. These matrices serve to calculate several factors for each statement:\n",
    "\n",
    "- $e_f$: Number of times the statement has been executed by failing tests.\n",
    "- $e_p$: Number of times the statement has been executed by passing tests.\n",
    "- $n_f$: Number of times the statement has _not_ been executed by failing tests.\n",
    "- $n_p$: Number of times the statement has _not_ been executed by passing tests.\n",
    "\n",
    "Based on these factors, different metrics to calculate the suspiciousness of a program statement have been defined, e.g.:\n",
    "\n",
    "- Tarantula: $\\frac{\\frac{e_f}{e_f+n_f}}{\\frac{e_p}{e_p+n_p} + \\frac{e_f}{e_f+n_f}}$\n",
    "- Barinel: $1 - \\frac{e_p}{e_f + e_p}$\n",
    "- Ochiai: $\\frac{e_f}{\\sqrt{(e_f + n_f) \\cdot (e_f + e_p)}}$"
   ]
  },
  {
   "cell_type": "markdown",
   "metadata": {
    "slideshow": {
     "slide_type": "skip"
    }
   },
   "source": [
    "The `middle` example function takes three parameters and should return the parameter that is the middle one when ranked by size."
   ]
  },
  {
   "cell_type": "code",
   "execution_count": 78,
   "metadata": {
    "slideshow": {
     "slide_type": "slide"
    }
   },
   "outputs": [],
   "source": [
    "def middle(x, y, z):\n",
    "    if y < z:\n",
    "        if x < y:\n",
    "            return y\n",
    "        elif x < z:\n",
    "            return y\n",
    "    else:\n",
    "        if x > y:\n",
    "            return y\n",
    "        elif x > z:\n",
    "            return x\n",
    "    return z"
   ]
  },
  {
   "cell_type": "code",
   "execution_count": 79,
   "metadata": {
    "slideshow": {
     "slide_type": "fragment"
    }
   },
   "outputs": [
    {
     "data": {
      "text/plain": [
       "2"
      ]
     },
     "execution_count": 79,
     "metadata": {},
     "output_type": "execute_result"
    }
   ],
   "source": [
    "middle(2, 3, 1)"
   ]
  },
  {
   "cell_type": "markdown",
   "metadata": {
    "slideshow": {
     "slide_type": "skip"
    }
   },
   "source": [
    "Our implementation of `middle` is unfortunately buggy, which we can demonstrate by generating some tests and checking the expected values."
   ]
  },
  {
   "cell_type": "code",
   "execution_count": 84,
   "metadata": {
    "slideshow": {
     "slide_type": "subslide"
    }
   },
   "outputs": [],
   "source": [
    "tests = []\n",
    "\n",
    "for i in range(10):\n",
    "    x = random.randrange(10)\n",
    "    y = random.randrange(10)\n",
    "    z = random.randrange(10)\n",
    "    m = sorted([x,y,z])[1]\n",
    "    tests.append((x,y,z,m))"
   ]
  },
  {
   "cell_type": "markdown",
   "metadata": {
    "slideshow": {
     "slide_type": "skip"
    }
   },
   "source": [
    "Let's check if our tests can trigger a fault, otherwise we will need to generate some more:"
   ]
  },
  {
   "cell_type": "code",
   "execution_count": 85,
   "metadata": {
    "slideshow": {
     "slide_type": "fragment"
    }
   },
   "outputs": [
    {
     "name": "stdout",
     "output_type": "stream",
     "text": [
      "Failed test: 8,7,9 == 7 but should be 8\n",
      "Failed test: 4,1,9 == 1 but should be 4\n"
     ]
    }
   ],
   "source": [
    "for (x,y,z,m) in tests:\n",
    "    result = middle(x,y,z)\n",
    "    if result != m:\n",
    "        print(f\"Failed test: {x},{y},{z} == {result} but should be {m}\")"
   ]
  },
  {
   "cell_type": "markdown",
   "metadata": {
    "slideshow": {
     "slide_type": "skip"
    }
   },
   "source": [
    "We will consider the program at the level of its lines:"
   ]
  },
  {
   "cell_type": "code",
   "execution_count": 86,
   "metadata": {
    "slideshow": {
     "slide_type": "slide"
    }
   },
   "outputs": [
    {
     "name": "stdout",
     "output_type": "stream",
     "text": [
      "0: def middle(x, y, z):\n",
      "1:     if y < z:\n",
      "2:         if x < y:\n",
      "3:             return y\n",
      "4:         elif x < z:\n",
      "5:             return y\n",
      "6:     else:\n",
      "7:         if x > y:\n",
      "8:             return y\n",
      "9:         elif x > z:\n",
      "10:             return x\n",
      "11:     return z\n"
     ]
    }
   ],
   "source": [
    "import inspect\n",
    "\n",
    "lines = inspect.getsource(middle).splitlines()\n",
    "for i, line in enumerate(lines):\n",
    "    print(f\"{i}: {line}\")"
   ]
  },
  {
   "cell_type": "markdown",
   "metadata": {
    "slideshow": {
     "slide_type": "skip"
    }
   },
   "source": [
    "In order to apply fault localisation we need to trace test executions and keep track of which lines were executed."
   ]
  },
  {
   "cell_type": "code",
   "execution_count": 87,
   "metadata": {
    "slideshow": {
     "slide_type": "slide"
    }
   },
   "outputs": [],
   "source": [
    "trace = []"
   ]
  },
  {
   "cell_type": "code",
   "execution_count": 88,
   "metadata": {
    "slideshow": {
     "slide_type": "fragment"
    }
   },
   "outputs": [],
   "source": [
    "def trace_line(frame, event, arg):\n",
    "    if event == \"line\":\n",
    "        trace.append(frame.f_lineno)\n",
    "    return trace_line"
   ]
  },
  {
   "cell_type": "code",
   "execution_count": 89,
   "metadata": {
    "slideshow": {
     "slide_type": "fragment"
    }
   },
   "outputs": [],
   "source": [
    "def middle_instrumented(x,y,z):\n",
    "    global trace\n",
    "    sys.settrace(trace_line)\n",
    "    trace = []\n",
    "    ret = middle(x,y,z)\n",
    "    sys.settrace(None)\n",
    "    return ret"
   ]
  },
  {
   "cell_type": "code",
   "execution_count": 90,
   "metadata": {
    "slideshow": {
     "slide_type": "fragment"
    }
   },
   "outputs": [
    {
     "data": {
      "text/plain": [
       "[2, 3, 4]"
      ]
     },
     "execution_count": 90,
     "metadata": {},
     "output_type": "execute_result"
    }
   ],
   "source": [
    "middle_instrumented(1,2,3)\n",
    "trace"
   ]
  },
  {
   "cell_type": "code",
   "execution_count": 91,
   "metadata": {
    "slideshow": {
     "slide_type": "fragment"
    }
   },
   "outputs": [
    {
     "data": {
      "text/plain": [
       "[2, 8, 10, 11]"
      ]
     },
     "execution_count": 91,
     "metadata": {},
     "output_type": "execute_result"
    }
   ],
   "source": [
    "middle_instrumented(3,4,1)\n",
    "trace"
   ]
  },
  {
   "cell_type": "markdown",
   "metadata": {
    "slideshow": {
     "slide_type": "skip"
    }
   },
   "source": [
    "Now we can derive an execution spectrum for the `middle` function using our tests."
   ]
  },
  {
   "cell_type": "code",
   "execution_count": 92,
   "metadata": {
    "slideshow": {
     "slide_type": "slide"
    }
   },
   "outputs": [],
   "source": [
    "import pandas as pd"
   ]
  },
  {
   "cell_type": "code",
   "execution_count": 93,
   "metadata": {
    "slideshow": {
     "slide_type": "fragment"
    }
   },
   "outputs": [],
   "source": [
    "def get_spectrum(tests, statements):\n",
    "    matrix = []\n",
    "    for (x,y,z,m) in tests:\n",
    "        row = []\n",
    "        result = middle_instrumented(x,y,z)\n",
    "        for lineno in statements:\n",
    "            if lineno in trace:\n",
    "                row.append(1)\n",
    "            else:\n",
    "                row.append(0)\n",
    "        if result == m:\n",
    "            row.append(1)\n",
    "        else:\n",
    "            row.append(0)\n",
    "        matrix.append(row)\n",
    "    \n",
    "    spectrum = pd.DataFrame(matrix, columns=statements + [\"Passed\"])\n",
    "    return spectrum"
   ]
  },
  {
   "cell_type": "code",
   "execution_count": 94,
   "metadata": {
    "slideshow": {
     "slide_type": "slide"
    }
   },
   "outputs": [],
   "source": [
    "statements = [i for i in range(len(lines))]"
   ]
  },
  {
   "cell_type": "code",
   "execution_count": 95,
   "metadata": {
    "slideshow": {
     "slide_type": "fragment"
    }
   },
   "outputs": [
    {
     "data": {
      "text/html": [
       "<div>\n",
       "<style scoped>\n",
       "    .dataframe tbody tr th:only-of-type {\n",
       "        vertical-align: middle;\n",
       "    }\n",
       "\n",
       "    .dataframe tbody tr th {\n",
       "        vertical-align: top;\n",
       "    }\n",
       "\n",
       "    .dataframe thead th {\n",
       "        text-align: right;\n",
       "    }\n",
       "</style>\n",
       "<table border=\"1\" class=\"dataframe\">\n",
       "  <thead>\n",
       "    <tr style=\"text-align: right;\">\n",
       "      <th></th>\n",
       "      <th>0</th>\n",
       "      <th>1</th>\n",
       "      <th>2</th>\n",
       "      <th>3</th>\n",
       "      <th>4</th>\n",
       "      <th>5</th>\n",
       "      <th>6</th>\n",
       "      <th>7</th>\n",
       "      <th>8</th>\n",
       "      <th>9</th>\n",
       "      <th>10</th>\n",
       "      <th>11</th>\n",
       "      <th>Passed</th>\n",
       "    </tr>\n",
       "  </thead>\n",
       "  <tbody>\n",
       "    <tr>\n",
       "      <th>0</th>\n",
       "      <td>0</td>\n",
       "      <td>0</td>\n",
       "      <td>1</td>\n",
       "      <td>0</td>\n",
       "      <td>0</td>\n",
       "      <td>0</td>\n",
       "      <td>0</td>\n",
       "      <td>0</td>\n",
       "      <td>1</td>\n",
       "      <td>0</td>\n",
       "      <td>1</td>\n",
       "      <td>0</td>\n",
       "      <td>1</td>\n",
       "    </tr>\n",
       "    <tr>\n",
       "      <th>1</th>\n",
       "      <td>0</td>\n",
       "      <td>0</td>\n",
       "      <td>1</td>\n",
       "      <td>0</td>\n",
       "      <td>0</td>\n",
       "      <td>0</td>\n",
       "      <td>0</td>\n",
       "      <td>0</td>\n",
       "      <td>1</td>\n",
       "      <td>0</td>\n",
       "      <td>1</td>\n",
       "      <td>1</td>\n",
       "      <td>1</td>\n",
       "    </tr>\n",
       "    <tr>\n",
       "      <th>2</th>\n",
       "      <td>0</td>\n",
       "      <td>0</td>\n",
       "      <td>1</td>\n",
       "      <td>0</td>\n",
       "      <td>0</td>\n",
       "      <td>0</td>\n",
       "      <td>0</td>\n",
       "      <td>0</td>\n",
       "      <td>1</td>\n",
       "      <td>1</td>\n",
       "      <td>0</td>\n",
       "      <td>0</td>\n",
       "      <td>1</td>\n",
       "    </tr>\n",
       "    <tr>\n",
       "      <th>3</th>\n",
       "      <td>0</td>\n",
       "      <td>0</td>\n",
       "      <td>1</td>\n",
       "      <td>0</td>\n",
       "      <td>0</td>\n",
       "      <td>0</td>\n",
       "      <td>0</td>\n",
       "      <td>0</td>\n",
       "      <td>1</td>\n",
       "      <td>0</td>\n",
       "      <td>1</td>\n",
       "      <td>1</td>\n",
       "      <td>1</td>\n",
       "    </tr>\n",
       "    <tr>\n",
       "      <th>4</th>\n",
       "      <td>0</td>\n",
       "      <td>0</td>\n",
       "      <td>1</td>\n",
       "      <td>1</td>\n",
       "      <td>0</td>\n",
       "      <td>1</td>\n",
       "      <td>1</td>\n",
       "      <td>0</td>\n",
       "      <td>0</td>\n",
       "      <td>0</td>\n",
       "      <td>0</td>\n",
       "      <td>0</td>\n",
       "      <td>0</td>\n",
       "    </tr>\n",
       "    <tr>\n",
       "      <th>5</th>\n",
       "      <td>0</td>\n",
       "      <td>0</td>\n",
       "      <td>1</td>\n",
       "      <td>1</td>\n",
       "      <td>1</td>\n",
       "      <td>0</td>\n",
       "      <td>0</td>\n",
       "      <td>0</td>\n",
       "      <td>0</td>\n",
       "      <td>0</td>\n",
       "      <td>0</td>\n",
       "      <td>0</td>\n",
       "      <td>1</td>\n",
       "    </tr>\n",
       "    <tr>\n",
       "      <th>6</th>\n",
       "      <td>0</td>\n",
       "      <td>0</td>\n",
       "      <td>1</td>\n",
       "      <td>1</td>\n",
       "      <td>0</td>\n",
       "      <td>1</td>\n",
       "      <td>0</td>\n",
       "      <td>0</td>\n",
       "      <td>0</td>\n",
       "      <td>0</td>\n",
       "      <td>0</td>\n",
       "      <td>0</td>\n",
       "      <td>1</td>\n",
       "    </tr>\n",
       "    <tr>\n",
       "      <th>7</th>\n",
       "      <td>0</td>\n",
       "      <td>0</td>\n",
       "      <td>1</td>\n",
       "      <td>0</td>\n",
       "      <td>0</td>\n",
       "      <td>0</td>\n",
       "      <td>0</td>\n",
       "      <td>0</td>\n",
       "      <td>1</td>\n",
       "      <td>0</td>\n",
       "      <td>1</td>\n",
       "      <td>0</td>\n",
       "      <td>1</td>\n",
       "    </tr>\n",
       "    <tr>\n",
       "      <th>8</th>\n",
       "      <td>0</td>\n",
       "      <td>0</td>\n",
       "      <td>1</td>\n",
       "      <td>0</td>\n",
       "      <td>0</td>\n",
       "      <td>0</td>\n",
       "      <td>0</td>\n",
       "      <td>0</td>\n",
       "      <td>1</td>\n",
       "      <td>0</td>\n",
       "      <td>1</td>\n",
       "      <td>1</td>\n",
       "      <td>1</td>\n",
       "    </tr>\n",
       "    <tr>\n",
       "      <th>9</th>\n",
       "      <td>0</td>\n",
       "      <td>0</td>\n",
       "      <td>1</td>\n",
       "      <td>1</td>\n",
       "      <td>0</td>\n",
       "      <td>1</td>\n",
       "      <td>1</td>\n",
       "      <td>0</td>\n",
       "      <td>0</td>\n",
       "      <td>0</td>\n",
       "      <td>0</td>\n",
       "      <td>0</td>\n",
       "      <td>0</td>\n",
       "    </tr>\n",
       "  </tbody>\n",
       "</table>\n",
       "</div>"
      ],
      "text/plain": [
       "   0  1  2  3  4  5  6  7  8  9  10  11  Passed\n",
       "0  0  0  1  0  0  0  0  0  1  0   1   0       1\n",
       "1  0  0  1  0  0  0  0  0  1  0   1   1       1\n",
       "2  0  0  1  0  0  0  0  0  1  1   0   0       1\n",
       "3  0  0  1  0  0  0  0  0  1  0   1   1       1\n",
       "4  0  0  1  1  0  1  1  0  0  0   0   0       0\n",
       "5  0  0  1  1  1  0  0  0  0  0   0   0       1\n",
       "6  0  0  1  1  0  1  0  0  0  0   0   0       1\n",
       "7  0  0  1  0  0  0  0  0  1  0   1   0       1\n",
       "8  0  0  1  0  0  0  0  0  1  0   1   1       1\n",
       "9  0  0  1  1  0  1  1  0  0  0   0   0       0"
      ]
     },
     "execution_count": 95,
     "metadata": {},
     "output_type": "execute_result"
    }
   ],
   "source": [
    "spectrum = get_spectrum(tests, statements)\n",
    "spectrum"
   ]
  },
  {
   "cell_type": "markdown",
   "metadata": {
    "slideshow": {
     "slide_type": "skip"
    }
   },
   "source": [
    "Let's calculate Barinel using this spectrum (since it's the simplest formula)."
   ]
  },
  {
   "cell_type": "code",
   "execution_count": 96,
   "metadata": {
    "slideshow": {
     "slide_type": "slide"
    }
   },
   "outputs": [],
   "source": [
    "def get_suspiciousness(line, spectrum):\n",
    "    \n",
    "    if line not in spectrum.columns:\n",
    "        return 0\n",
    "    \n",
    "    # Number of times the statement has been executed by failing tests.\n",
    "    e_f = spectrum[(spectrum[\"Passed\"] == 0) & (spectrum[line] == 1)].size\n",
    "    \n",
    "    # Number of times the statement has been executed by passing tests.\n",
    "    e_p = spectrum[(spectrum[\"Passed\"] == 1) & (spectrum[line] == 1)].size\n",
    "\n",
    "    if e_p + e_f == 0:\n",
    "        return 0\n",
    "    \n",
    "    suspiciousness = 1 - e_p / (e_p + e_f)\n",
    "        \n",
    "    return suspiciousness"
   ]
  },
  {
   "cell_type": "code",
   "execution_count": 97,
   "metadata": {
    "slideshow": {
     "slide_type": "subslide"
    }
   },
   "outputs": [
    {
     "name": "stdout",
     "output_type": "stream",
     "text": [
      " 0 0.00: def middle(x, y, z):\n",
      " 1 0.20:     if y < z:\n",
      " 2 0.50:         if x < y:\n",
      " 3 0.00:             return y\n",
      " 4 0.67:         elif x < z:\n",
      " 5 1.00:             return y\n",
      " 6 0.00:     else:\n",
      " 7 0.00:         if x > y:\n",
      " 8 0.00:             return y\n",
      " 9 0.00:         elif x > z:\n",
      "10 0.00:             return x\n",
      "11 0.00:     return z\n"
     ]
    }
   ],
   "source": [
    "lines = inspect.getsource(middle).splitlines()\n",
    "for i in range(len(lines)):\n",
    "    line = lines[i]\n",
    "    suspiciousness = get_suspiciousness(i+1, spectrum)\n",
    "    print(\"%2d %.2f: %s\" % (i, suspiciousness, line))\n",
    "    "
   ]
  },
  {
   "cell_type": "markdown",
   "metadata": {
    "slideshow": {
     "slide_type": "skip"
    }
   },
   "source": [
    "Indeed the `return y` in line 5 is incorrect."
   ]
  },
  {
   "cell_type": "markdown",
   "metadata": {
    "slideshow": {
     "slide_type": "skip"
    }
   },
   "source": [
    "To make things more challenging we will parse some example spectra based on some more complex Java classes in the format produced by the GZoltar tool."
   ]
  },
  {
   "cell_type": "code",
   "execution_count": 98,
   "metadata": {
    "slideshow": {
     "slide_type": "subslide"
    }
   },
   "outputs": [],
   "source": [
    "def read_matrix(matrix_file, spectra_file, faulty_line):\n",
    "    line_details = []\n",
    "    fh = open(spectra_file)\n",
    "    num_line = 0\n",
    "    for line in fh:\n",
    "        num_line += 1\n",
    "        if num_line == 1:\n",
    "            continue\n",
    "        result = line.rstrip()\n",
    "        line_details.append(result)\n",
    "    fh.close()\n",
    "\n",
    "    num_statements = len(line_details)\n",
    "\n",
    "    ep = {}\n",
    "    ef = {}\n",
    "    np = {}\n",
    "    nf = {}\n",
    "\n",
    "    for i in range(num_statements):\n",
    "        ep[i] = 0\n",
    "        ef[i] = 0\n",
    "        np[i] = 0\n",
    "        nf[i] = 0\n",
    "\n",
    "    fh = open(matrix_file)\n",
    "    num_test = 0\n",
    "    for line in fh:\n",
    "        result = line.split(\" \")\n",
    "\n",
    "        test_result = result[-1].rstrip()\n",
    "        for i in range(num_statements):\n",
    "            if result[i] == '1' and test_result == '+':\n",
    "                ep[i] += 1\n",
    "            elif result[i] == '1' and test_result == '-':\n",
    "                ef[i] += 1\n",
    "            elif result[i] == '0' and test_result == '+':\n",
    "                np[i] += 1\n",
    "            elif result[i] == '0' and test_result == '-':\n",
    "                nf[i] += 1\n",
    "\n",
    "        num_test += 1\n",
    "    fh.close()\n",
    "\n",
    "    return (ep, ef, np, nf, line_details, num_statements, faulty_line)"
   ]
  },
  {
   "cell_type": "markdown",
   "metadata": {
    "slideshow": {
     "slide_type": "skip"
    }
   },
   "source": [
    "Our aim is to use GP in order to evolve a similarity function that performs better than the standard metrics. We need some datapoints for our fitness evaluation again; for this we can use some example matrices:"
   ]
  },
  {
   "cell_type": "code",
   "execution_count": 99,
   "metadata": {
    "slideshow": {
     "slide_type": "slide"
    }
   },
   "outputs": [],
   "source": [
    "data_files = [('data/fl/matrix.txt', 'data/fl/spectra.csv', 7),\n",
    "              ('data/fl/matrix-lift.txt', 'data/fl/spectra-lift.csv', 13),\n",
    "              ('data/fl/matrix-complex.txt', 'data/fl/spectra-complex.csv', 39),\n",
    "              ('data/fl/matrix-rational.txt', 'data/fl/spectra-rational.csv', 10)\n",
    "              ]\n",
    "eval_cases = []\n",
    "\n",
    "for (matrix, spectrum, faulty_line) in data_files:\n",
    "    eval_cases.append(read_matrix(matrix, spectrum, faulty_line))"
   ]
  },
  {
   "cell_type": "markdown",
   "metadata": {
    "slideshow": {
     "slide_type": "skip"
    }
   },
   "source": [
    "In the following, we will try to use GP in order to derive a formula that produces better results on our dataset than any of these well-established coefficients. This idea is described in more detail in the following paper:\n",
    "\n",
    "Yoo, S. (2012, September). Evolving human competitive spectra-based fault localisation techniques. In International Symposium on Search Based Software Engineering (pp. 244-258). Springer, Berlin, Heidelberg."
   ]
  },
  {
   "cell_type": "markdown",
   "metadata": {
    "slideshow": {
     "slide_type": "skip"
    }
   },
   "source": [
    "Similar to the existing coefficients, the components of our formula shall be simple arithmetic operations:"
   ]
  },
  {
   "cell_type": "code",
   "execution_count": 100,
   "metadata": {
    "slideshow": {
     "slide_type": "subslide"
    }
   },
   "outputs": [],
   "source": [
    "def add(x, y): return x + y\n",
    "def sub(x, y): return x - y\n",
    "def mul(x, y): return x * y\n",
    "def div(x, y): return 1 if not y else x/y"
   ]
  },
  {
   "cell_type": "code",
   "execution_count": 101,
   "metadata": {
    "slideshow": {
     "slide_type": "fragment"
    }
   },
   "outputs": [],
   "source": [
    "FUNCTIONS = [add, sub, mul, div]"
   ]
  },
  {
   "cell_type": "markdown",
   "metadata": {
    "slideshow": {
     "slide_type": "skip"
    }
   },
   "source": [
    "The terminals will be the factors listed above, as well as the constant 1:"
   ]
  },
  {
   "cell_type": "code",
   "execution_count": 102,
   "metadata": {
    "slideshow": {
     "slide_type": "fragment"
    }
   },
   "outputs": [],
   "source": [
    "TERMINALS = ['ep', 'ef', 'np', 'nf', 1]"
   ]
  },
  {
   "cell_type": "markdown",
   "metadata": {
    "slideshow": {
     "slide_type": "skip"
    }
   },
   "source": [
    "In order to evaluate the fitness of a particular formula, we apply it to our four (faulty) example programs, rank the statements by their suspiciousness, and then report the position at which the faulty statement is ranked. A perfect fault localisation means that the faulty statement is listed first. In case of ties, where multiple statements have the same suspiciousness score, we calculate the average position of the statements with the same suspiciousness:"
   ]
  },
  {
   "cell_type": "code",
   "execution_count": 103,
   "metadata": {
    "slideshow": {
     "slide_type": "slide"
    }
   },
   "outputs": [],
   "source": [
    "def get_fitness(tree):\n",
    "    positions = []\n",
    "    for (ep, ef, np, nf, line_details, num_statements, faulty_line) in eval_cases:\n",
    "        lines = [line for line in range(num_statements)]\n",
    "        weights = []\n",
    "        for line in lines:\n",
    "            assignment = {\"np\": np[line], \n",
    "                          \"nf\": nf[line], \n",
    "                          \"ep\": ep[line],\n",
    "                          \"ef\": ef[line]}\n",
    "            result = evaluate(tree, assignment)\n",
    "            weights.append(result)\n",
    "        lines, weights = zip(*sorted(zip(lines, weights), key=lambda t: t[1], reverse=True))\n",
    "\n",
    "        start = lines.index(faulty_line)\n",
    "        end = start\n",
    "        faulty_weight = weights[start]\n",
    "        while end < len(weights) and faulty_weight == weights[end]:\n",
    "            end += 1\n",
    "\n",
    "        positions.append((start + end)/2)\n",
    "        \n",
    "    return sum(positions)/len(positions)"
   ]
  },
  {
   "cell_type": "markdown",
   "metadata": {
    "slideshow": {
     "slide_type": "skip"
    }
   },
   "source": [
    "In order to compare different ranking formulas, we will also look at the top 5 statements for each example:"
   ]
  },
  {
   "cell_type": "code",
   "execution_count": 104,
   "metadata": {
    "slideshow": {
     "slide_type": "subslide"
    }
   },
   "outputs": [],
   "source": [
    "def print_ranking(tree):\n",
    "    for (ep, ef, np, nf, line_details, num_statements, faulty_line) in eval_cases:\n",
    "        lines = [line for line in range(num_statements)]\n",
    "        weights = []\n",
    "        for line in lines:\n",
    "            assignment = {\"np\": np[line], \n",
    "                          \"nf\": nf[line], \n",
    "                          \"ep\": ep[line],\n",
    "                          \"ef\": ef[line]}\n",
    "            result = evaluate(tree, assignment)\n",
    "            weights.append(result)\n",
    "\n",
    "        lines, weights = zip(*sorted(zip(lines, weights), key=lambda t: t[1], reverse=True))\n",
    "\n",
    "        print(f\"Faulty line: {faulty_line}: {lines[:5]}\")"
   ]
  },
  {
   "cell_type": "markdown",
   "metadata": {
    "slideshow": {
     "slide_type": "skip"
    }
   },
   "source": [
    "Before evolving our own suspiciousness formula, let's express some standard formulas using our tree datastructure:"
   ]
  },
  {
   "cell_type": "markdown",
   "metadata": {
    "slideshow": {
     "slide_type": "slide"
    }
   },
   "source": [
    "Tarantula: $\\frac{\\frac{e_f}{e_f+n_f}}{\\frac{e_p}{e_p+n_p} + \\frac{e_f}{e_f+n_f}}$"
   ]
  },
  {
   "cell_type": "code",
   "execution_count": 105,
   "metadata": {
    "slideshow": {
     "slide_type": "fragment"
    }
   },
   "outputs": [
    {
     "data": {
      "image/svg+xml": [
       "<?xml version=\"1.0\" encoding=\"UTF-8\" standalone=\"no\"?>\n",
       "<!DOCTYPE svg PUBLIC \"-//W3C//DTD SVG 1.1//EN\"\n",
       " \"http://www.w3.org/Graphics/SVG/1.1/DTD/svg11.dtd\">\n",
       "<!-- Generated by graphviz version 7.0.6 (20230106.0513)\n",
       " -->\n",
       "<!-- Pages: 1 -->\n",
       "<svg width=\"476pt\" height=\"332pt\"\n",
       " viewBox=\"0.00 0.00 476.00 332.00\" xmlns=\"http://www.w3.org/2000/svg\" xmlns:xlink=\"http://www.w3.org/1999/xlink\">\n",
       "<g id=\"graph0\" class=\"graph\" transform=\"scale(1 1) rotate(0) translate(4 328)\">\n",
       "<polygon fill=\"white\" stroke=\"none\" points=\"-4,4 -4,-328 472,-328 472,4 -4,4\"/>\n",
       "<!-- 5417095552 -->\n",
       "<g id=\"node1\" class=\"node\">\n",
       "<title>5417095552</title>\n",
       "<ellipse fill=\"none\" stroke=\"black\" cx=\"135\" cy=\"-306\" rx=\"27\" ry=\"18\"/>\n",
       "<text text-anchor=\"middle\" x=\"135\" y=\"-302.3\" font-family=\"Times,serif\" font-size=\"14.00\">div</text>\n",
       "</g>\n",
       "<!-- 5417099872 -->\n",
       "<g id=\"node2\" class=\"node\">\n",
       "<title>5417099872</title>\n",
       "<ellipse fill=\"none\" stroke=\"black\" cx=\"99\" cy=\"-234\" rx=\"27\" ry=\"18\"/>\n",
       "<text text-anchor=\"middle\" x=\"99\" y=\"-230.3\" font-family=\"Times,serif\" font-size=\"14.00\">div</text>\n",
       "</g>\n",
       "<!-- 5417095552&#45;&gt;5417099872 -->\n",
       "<g id=\"edge5\" class=\"edge\">\n",
       "<title>5417095552&#45;&gt;5417099872</title>\n",
       "<path fill=\"none\" stroke=\"black\" d=\"M126.65,-288.76C122.42,-280.55 117.19,-270.37 112.42,-261.09\"/>\n",
       "<polygon fill=\"black\" stroke=\"black\" points=\"115.68,-259.79 108,-252.49 109.46,-262.99 115.68,-259.79\"/>\n",
       "</g>\n",
       "<!-- 5417095456 -->\n",
       "<g id=\"node7\" class=\"node\">\n",
       "<title>5417095456</title>\n",
       "<ellipse fill=\"none\" stroke=\"black\" cx=\"207\" cy=\"-234\" rx=\"27\" ry=\"18\"/>\n",
       "<text text-anchor=\"middle\" x=\"207\" y=\"-230.3\" font-family=\"Times,serif\" font-size=\"14.00\">add</text>\n",
       "</g>\n",
       "<!-- 5417095552&#45;&gt;5417095456 -->\n",
       "<g id=\"edge16\" class=\"edge\">\n",
       "<title>5417095552&#45;&gt;5417095456</title>\n",
       "<path fill=\"none\" stroke=\"black\" d=\"M149.92,-290.5C159.77,-280.92 172.86,-268.19 184.03,-257.34\"/>\n",
       "<polygon fill=\"black\" stroke=\"black\" points=\"186.29,-260.02 191.02,-250.54 181.41,-255 186.29,-260.02\"/>\n",
       "</g>\n",
       "<!-- 5416648464 -->\n",
       "<g id=\"node3\" class=\"node\">\n",
       "<title>5416648464</title>\n",
       "<ellipse fill=\"none\" stroke=\"black\" cx=\"27\" cy=\"-162\" rx=\"27\" ry=\"18\"/>\n",
       "<text text-anchor=\"middle\" x=\"27\" y=\"-158.3\" font-family=\"Times,serif\" font-size=\"14.00\">ef</text>\n",
       "</g>\n",
       "<!-- 5417099872&#45;&gt;5416648464 -->\n",
       "<g id=\"edge1\" class=\"edge\">\n",
       "<title>5417099872&#45;&gt;5416648464</title>\n",
       "<path fill=\"none\" stroke=\"black\" d=\"M84.08,-218.5C74.23,-208.92 61.14,-196.19 49.97,-185.34\"/>\n",
       "<polygon fill=\"black\" stroke=\"black\" points=\"52.59,-183 42.98,-178.54 47.71,-188.02 52.59,-183\"/>\n",
       "</g>\n",
       "<!-- 5416647648 -->\n",
       "<g id=\"node4\" class=\"node\">\n",
       "<title>5416647648</title>\n",
       "<ellipse fill=\"none\" stroke=\"black\" cx=\"99\" cy=\"-162\" rx=\"27\" ry=\"18\"/>\n",
       "<text text-anchor=\"middle\" x=\"99\" y=\"-158.3\" font-family=\"Times,serif\" font-size=\"14.00\">add</text>\n",
       "</g>\n",
       "<!-- 5417099872&#45;&gt;5416647648 -->\n",
       "<g id=\"edge4\" class=\"edge\">\n",
       "<title>5417099872&#45;&gt;5416647648</title>\n",
       "<path fill=\"none\" stroke=\"black\" d=\"M99,-215.7C99,-208.41 99,-199.73 99,-191.54\"/>\n",
       "<polygon fill=\"black\" stroke=\"black\" points=\"102.5,-191.62 99,-181.62 95.5,-191.62 102.5,-191.62\"/>\n",
       "</g>\n",
       "<!-- 5416641552 -->\n",
       "<g id=\"node5\" class=\"node\">\n",
       "<title>5416641552</title>\n",
       "<ellipse fill=\"none\" stroke=\"black\" cx=\"27\" cy=\"-90\" rx=\"27\" ry=\"18\"/>\n",
       "<text text-anchor=\"middle\" x=\"27\" y=\"-86.3\" font-family=\"Times,serif\" font-size=\"14.00\">ef</text>\n",
       "</g>\n",
       "<!-- 5416647648&#45;&gt;5416641552 -->\n",
       "<g id=\"edge2\" class=\"edge\">\n",
       "<title>5416647648&#45;&gt;5416641552</title>\n",
       "<path fill=\"none\" stroke=\"black\" d=\"M84.08,-146.5C74.23,-136.92 61.14,-124.19 49.97,-113.34\"/>\n",
       "<polygon fill=\"black\" stroke=\"black\" points=\"52.59,-111 42.98,-106.54 47.71,-116.02 52.59,-111\"/>\n",
       "</g>\n",
       "<!-- 5416642608 -->\n",
       "<g id=\"node6\" class=\"node\">\n",
       "<title>5416642608</title>\n",
       "<ellipse fill=\"none\" stroke=\"black\" cx=\"99\" cy=\"-90\" rx=\"27\" ry=\"18\"/>\n",
       "<text text-anchor=\"middle\" x=\"99\" y=\"-86.3\" font-family=\"Times,serif\" font-size=\"14.00\">nf</text>\n",
       "</g>\n",
       "<!-- 5416647648&#45;&gt;5416642608 -->\n",
       "<g id=\"edge3\" class=\"edge\">\n",
       "<title>5416647648&#45;&gt;5416642608</title>\n",
       "<path fill=\"none\" stroke=\"black\" d=\"M99,-143.7C99,-136.41 99,-127.73 99,-119.54\"/>\n",
       "<polygon fill=\"black\" stroke=\"black\" points=\"102.5,-119.62 99,-109.62 95.5,-119.62 102.5,-119.62\"/>\n",
       "</g>\n",
       "<!-- 5417093296 -->\n",
       "<g id=\"node8\" class=\"node\">\n",
       "<title>5417093296</title>\n",
       "<ellipse fill=\"none\" stroke=\"black\" cx=\"207\" cy=\"-162\" rx=\"27\" ry=\"18\"/>\n",
       "<text text-anchor=\"middle\" x=\"207\" y=\"-158.3\" font-family=\"Times,serif\" font-size=\"14.00\">div</text>\n",
       "</g>\n",
       "<!-- 5417095456&#45;&gt;5417093296 -->\n",
       "<g id=\"edge10\" class=\"edge\">\n",
       "<title>5417095456&#45;&gt;5417093296</title>\n",
       "<path fill=\"none\" stroke=\"black\" d=\"M207,-215.7C207,-208.41 207,-199.73 207,-191.54\"/>\n",
       "<polygon fill=\"black\" stroke=\"black\" points=\"210.5,-191.62 207,-181.62 203.5,-191.62 210.5,-191.62\"/>\n",
       "</g>\n",
       "<!-- 5417092384 -->\n",
       "<g id=\"node13\" class=\"node\">\n",
       "<title>5417092384</title>\n",
       "<ellipse fill=\"none\" stroke=\"black\" cx=\"315\" cy=\"-162\" rx=\"27\" ry=\"18\"/>\n",
       "<text text-anchor=\"middle\" x=\"315\" y=\"-158.3\" font-family=\"Times,serif\" font-size=\"14.00\">div</text>\n",
       "</g>\n",
       "<!-- 5417095456&#45;&gt;5417092384 -->\n",
       "<g id=\"edge15\" class=\"edge\">\n",
       "<title>5417095456&#45;&gt;5417092384</title>\n",
       "<path fill=\"none\" stroke=\"black\" d=\"M225.81,-220.81C242.59,-209.93 267.39,-193.86 286.59,-181.42\"/>\n",
       "<polygon fill=\"black\" stroke=\"black\" points=\"288.28,-184.49 294.77,-176.11 284.48,-178.61 288.28,-184.49\"/>\n",
       "</g>\n",
       "<!-- 5417091184 -->\n",
       "<g id=\"node9\" class=\"node\">\n",
       "<title>5417091184</title>\n",
       "<ellipse fill=\"none\" stroke=\"black\" cx=\"171\" cy=\"-90\" rx=\"27\" ry=\"18\"/>\n",
       "<text text-anchor=\"middle\" x=\"171\" y=\"-86.3\" font-family=\"Times,serif\" font-size=\"14.00\">ep</text>\n",
       "</g>\n",
       "<!-- 5417093296&#45;&gt;5417091184 -->\n",
       "<g id=\"edge6\" class=\"edge\">\n",
       "<title>5417093296&#45;&gt;5417091184</title>\n",
       "<path fill=\"none\" stroke=\"black\" d=\"M198.65,-144.76C194.42,-136.55 189.19,-126.37 184.42,-117.09\"/>\n",
       "<polygon fill=\"black\" stroke=\"black\" points=\"187.68,-115.79 180,-108.49 181.46,-118.99 187.68,-115.79\"/>\n",
       "</g>\n",
       "<!-- 5417092096 -->\n",
       "<g id=\"node10\" class=\"node\">\n",
       "<title>5417092096</title>\n",
       "<ellipse fill=\"none\" stroke=\"black\" cx=\"243\" cy=\"-90\" rx=\"27\" ry=\"18\"/>\n",
       "<text text-anchor=\"middle\" x=\"243\" y=\"-86.3\" font-family=\"Times,serif\" font-size=\"14.00\">add</text>\n",
       "</g>\n",
       "<!-- 5417093296&#45;&gt;5417092096 -->\n",
       "<g id=\"edge9\" class=\"edge\">\n",
       "<title>5417093296&#45;&gt;5417092096</title>\n",
       "<path fill=\"none\" stroke=\"black\" d=\"M215.35,-144.76C219.58,-136.55 224.81,-126.37 229.58,-117.09\"/>\n",
       "<polygon fill=\"black\" stroke=\"black\" points=\"232.54,-118.99 234,-108.49 226.32,-115.79 232.54,-118.99\"/>\n",
       "</g>\n",
       "<!-- 5417092144 -->\n",
       "<g id=\"node11\" class=\"node\">\n",
       "<title>5417092144</title>\n",
       "<ellipse fill=\"none\" stroke=\"black\" cx=\"189\" cy=\"-18\" rx=\"27\" ry=\"18\"/>\n",
       "<text text-anchor=\"middle\" x=\"189\" y=\"-14.3\" font-family=\"Times,serif\" font-size=\"14.00\">ep</text>\n",
       "</g>\n",
       "<!-- 5417092096&#45;&gt;5417092144 -->\n",
       "<g id=\"edge7\" class=\"edge\">\n",
       "<title>5417092096&#45;&gt;5417092144</title>\n",
       "<path fill=\"none\" stroke=\"black\" d=\"M231.02,-73.46C224.23,-64.67 215.6,-53.48 207.92,-43.53\"/>\n",
       "<polygon fill=\"black\" stroke=\"black\" points=\"210.75,-41.47 201.88,-35.69 205.21,-45.75 210.75,-41.47\"/>\n",
       "</g>\n",
       "<!-- 5417092288 -->\n",
       "<g id=\"node12\" class=\"node\">\n",
       "<title>5417092288</title>\n",
       "<ellipse fill=\"none\" stroke=\"black\" cx=\"261\" cy=\"-18\" rx=\"27\" ry=\"18\"/>\n",
       "<text text-anchor=\"middle\" x=\"261\" y=\"-14.3\" font-family=\"Times,serif\" font-size=\"14.00\">np</text>\n",
       "</g>\n",
       "<!-- 5417092096&#45;&gt;5417092288 -->\n",
       "<g id=\"edge8\" class=\"edge\">\n",
       "<title>5417092096&#45;&gt;5417092288</title>\n",
       "<path fill=\"none\" stroke=\"black\" d=\"M247.36,-72.05C249.3,-64.49 251.65,-55.37 253.84,-46.85\"/>\n",
       "<polygon fill=\"black\" stroke=\"black\" points=\"257.21,-47.81 256.31,-37.25 250.43,-46.07 257.21,-47.81\"/>\n",
       "</g>\n",
       "<!-- 5417094112 -->\n",
       "<g id=\"node14\" class=\"node\">\n",
       "<title>5417094112</title>\n",
       "<ellipse fill=\"none\" stroke=\"black\" cx=\"315\" cy=\"-90\" rx=\"27\" ry=\"18\"/>\n",
       "<text text-anchor=\"middle\" x=\"315\" y=\"-86.3\" font-family=\"Times,serif\" font-size=\"14.00\">ef</text>\n",
       "</g>\n",
       "<!-- 5417092384&#45;&gt;5417094112 -->\n",
       "<g id=\"edge11\" class=\"edge\">\n",
       "<title>5417092384&#45;&gt;5417094112</title>\n",
       "<path fill=\"none\" stroke=\"black\" d=\"M315,-143.7C315,-136.41 315,-127.73 315,-119.54\"/>\n",
       "<polygon fill=\"black\" stroke=\"black\" points=\"318.5,-119.62 315,-109.62 311.5,-119.62 318.5,-119.62\"/>\n",
       "</g>\n",
       "<!-- 5417092432 -->\n",
       "<g id=\"node15\" class=\"node\">\n",
       "<title>5417092432</title>\n",
       "<ellipse fill=\"none\" stroke=\"black\" cx=\"387\" cy=\"-90\" rx=\"27\" ry=\"18\"/>\n",
       "<text text-anchor=\"middle\" x=\"387\" y=\"-86.3\" font-family=\"Times,serif\" font-size=\"14.00\">add</text>\n",
       "</g>\n",
       "<!-- 5417092384&#45;&gt;5417092432 -->\n",
       "<g id=\"edge14\" class=\"edge\">\n",
       "<title>5417092384&#45;&gt;5417092432</title>\n",
       "<path fill=\"none\" stroke=\"black\" d=\"M329.92,-146.5C339.77,-136.92 352.86,-124.19 364.03,-113.34\"/>\n",
       "<polygon fill=\"black\" stroke=\"black\" points=\"366.29,-116.02 371.02,-106.54 361.41,-111 366.29,-116.02\"/>\n",
       "</g>\n",
       "<!-- 5417094352 -->\n",
       "<g id=\"node16\" class=\"node\">\n",
       "<title>5417094352</title>\n",
       "<ellipse fill=\"none\" stroke=\"black\" cx=\"369\" cy=\"-18\" rx=\"27\" ry=\"18\"/>\n",
       "<text text-anchor=\"middle\" x=\"369\" y=\"-14.3\" font-family=\"Times,serif\" font-size=\"14.00\">ef</text>\n",
       "</g>\n",
       "<!-- 5417092432&#45;&gt;5417094352 -->\n",
       "<g id=\"edge12\" class=\"edge\">\n",
       "<title>5417092432&#45;&gt;5417094352</title>\n",
       "<path fill=\"none\" stroke=\"black\" d=\"M382.64,-72.05C380.7,-64.49 378.35,-55.37 376.16,-46.85\"/>\n",
       "<polygon fill=\"black\" stroke=\"black\" points=\"379.57,-46.07 373.69,-37.25 372.79,-47.81 379.57,-46.07\"/>\n",
       "</g>\n",
       "<!-- 5417093344 -->\n",
       "<g id=\"node17\" class=\"node\">\n",
       "<title>5417093344</title>\n",
       "<ellipse fill=\"none\" stroke=\"black\" cx=\"441\" cy=\"-18\" rx=\"27\" ry=\"18\"/>\n",
       "<text text-anchor=\"middle\" x=\"441\" y=\"-14.3\" font-family=\"Times,serif\" font-size=\"14.00\">nf</text>\n",
       "</g>\n",
       "<!-- 5417092432&#45;&gt;5417093344 -->\n",
       "<g id=\"edge13\" class=\"edge\">\n",
       "<title>5417092432&#45;&gt;5417093344</title>\n",
       "<path fill=\"none\" stroke=\"black\" d=\"M398.98,-73.46C405.77,-64.67 414.4,-53.48 422.08,-43.53\"/>\n",
       "<polygon fill=\"black\" stroke=\"black\" points=\"424.79,-45.75 428.12,-35.69 419.25,-41.47 424.79,-45.75\"/>\n",
       "</g>\n",
       "</g>\n",
       "</svg>\n"
      ],
      "text/plain": [
       "<graphviz.graphs.Digraph at 0x142db5c90>"
      ]
     },
     "execution_count": 105,
     "metadata": {},
     "output_type": "execute_result"
    }
   ],
   "source": [
    "tarantula = Node(div,\n",
    "                 Node(div, Node('ef'), Node(add, Node('ef'), Node('nf'))),\n",
    "                 Node(add, Node(div, Node('ep'), Node(add, Node('ep'), Node('np'))),\n",
    "                           Node(div, Node('ef'), Node(add, Node('ef'), Node('nf'))))\n",
    "                )\n",
    "print_tree(tarantula)"
   ]
  },
  {
   "cell_type": "markdown",
   "metadata": {
    "slideshow": {
     "slide_type": "slide"
    }
   },
   "source": [
    "Barinel: $1 - \\frac{e_p}{e_f + e_p}$"
   ]
  },
  {
   "cell_type": "code",
   "execution_count": 106,
   "metadata": {
    "slideshow": {
     "slide_type": "fragment"
    }
   },
   "outputs": [
    {
     "data": {
      "image/svg+xml": [
       "<?xml version=\"1.0\" encoding=\"UTF-8\" standalone=\"no\"?>\n",
       "<!DOCTYPE svg PUBLIC \"-//W3C//DTD SVG 1.1//EN\"\n",
       " \"http://www.w3.org/Graphics/SVG/1.1/DTD/svg11.dtd\">\n",
       "<!-- Generated by graphviz version 7.0.6 (20230106.0513)\n",
       " -->\n",
       "<!-- Pages: 1 -->\n",
       "<svg width=\"206pt\" height=\"260pt\"\n",
       " viewBox=\"0.00 0.00 206.00 260.00\" xmlns=\"http://www.w3.org/2000/svg\" xmlns:xlink=\"http://www.w3.org/1999/xlink\">\n",
       "<g id=\"graph0\" class=\"graph\" transform=\"scale(1 1) rotate(0) translate(4 256)\">\n",
       "<polygon fill=\"white\" stroke=\"none\" points=\"-4,4 -4,-256 202,-256 202,4 -4,4\"/>\n",
       "<!-- 5417097232 -->\n",
       "<g id=\"node1\" class=\"node\">\n",
       "<title>5417097232</title>\n",
       "<ellipse fill=\"none\" stroke=\"black\" cx=\"63\" cy=\"-234\" rx=\"27\" ry=\"18\"/>\n",
       "<text text-anchor=\"middle\" x=\"63\" y=\"-230.3\" font-family=\"Times,serif\" font-size=\"14.00\">sub</text>\n",
       "</g>\n",
       "<!-- 5416640448 -->\n",
       "<g id=\"node2\" class=\"node\">\n",
       "<title>5416640448</title>\n",
       "<ellipse fill=\"none\" stroke=\"black\" cx=\"27\" cy=\"-162\" rx=\"27\" ry=\"18\"/>\n",
       "<text text-anchor=\"middle\" x=\"27\" y=\"-158.3\" font-family=\"Times,serif\" font-size=\"14.00\">1</text>\n",
       "</g>\n",
       "<!-- 5417097232&#45;&gt;5416640448 -->\n",
       "<g id=\"edge1\" class=\"edge\">\n",
       "<title>5417097232&#45;&gt;5416640448</title>\n",
       "<path fill=\"none\" stroke=\"black\" d=\"M54.65,-216.76C50.42,-208.55 45.19,-198.37 40.42,-189.09\"/>\n",
       "<polygon fill=\"black\" stroke=\"black\" points=\"43.68,-187.79 36,-180.49 37.46,-190.99 43.68,-187.79\"/>\n",
       "</g>\n",
       "<!-- 5417094688 -->\n",
       "<g id=\"node3\" class=\"node\">\n",
       "<title>5417094688</title>\n",
       "<ellipse fill=\"none\" stroke=\"black\" cx=\"99\" cy=\"-162\" rx=\"27\" ry=\"18\"/>\n",
       "<text text-anchor=\"middle\" x=\"99\" y=\"-158.3\" font-family=\"Times,serif\" font-size=\"14.00\">div</text>\n",
       "</g>\n",
       "<!-- 5417097232&#45;&gt;5417094688 -->\n",
       "<g id=\"edge6\" class=\"edge\">\n",
       "<title>5417097232&#45;&gt;5417094688</title>\n",
       "<path fill=\"none\" stroke=\"black\" d=\"M71.35,-216.76C75.58,-208.55 80.81,-198.37 85.58,-189.09\"/>\n",
       "<polygon fill=\"black\" stroke=\"black\" points=\"88.54,-190.99 90,-180.49 82.32,-187.79 88.54,-190.99\"/>\n",
       "</g>\n",
       "<!-- 4887076704 -->\n",
       "<g id=\"node4\" class=\"node\">\n",
       "<title>4887076704</title>\n",
       "<ellipse fill=\"none\" stroke=\"black\" cx=\"63\" cy=\"-90\" rx=\"27\" ry=\"18\"/>\n",
       "<text text-anchor=\"middle\" x=\"63\" y=\"-86.3\" font-family=\"Times,serif\" font-size=\"14.00\">ep</text>\n",
       "</g>\n",
       "<!-- 5417094688&#45;&gt;4887076704 -->\n",
       "<g id=\"edge2\" class=\"edge\">\n",
       "<title>5417094688&#45;&gt;4887076704</title>\n",
       "<path fill=\"none\" stroke=\"black\" d=\"M90.65,-144.76C86.42,-136.55 81.19,-126.37 76.42,-117.09\"/>\n",
       "<polygon fill=\"black\" stroke=\"black\" points=\"79.68,-115.79 72,-108.49 73.46,-118.99 79.68,-115.79\"/>\n",
       "</g>\n",
       "<!-- 5417097424 -->\n",
       "<g id=\"node5\" class=\"node\">\n",
       "<title>5417097424</title>\n",
       "<ellipse fill=\"none\" stroke=\"black\" cx=\"135\" cy=\"-90\" rx=\"27\" ry=\"18\"/>\n",
       "<text text-anchor=\"middle\" x=\"135\" y=\"-86.3\" font-family=\"Times,serif\" font-size=\"14.00\">add</text>\n",
       "</g>\n",
       "<!-- 5417094688&#45;&gt;5417097424 -->\n",
       "<g id=\"edge5\" class=\"edge\">\n",
       "<title>5417094688&#45;&gt;5417097424</title>\n",
       "<path fill=\"none\" stroke=\"black\" d=\"M107.35,-144.76C111.58,-136.55 116.81,-126.37 121.58,-117.09\"/>\n",
       "<polygon fill=\"black\" stroke=\"black\" points=\"124.54,-118.99 126,-108.49 118.32,-115.79 124.54,-118.99\"/>\n",
       "</g>\n",
       "<!-- 5417094496 -->\n",
       "<g id=\"node6\" class=\"node\">\n",
       "<title>5417094496</title>\n",
       "<ellipse fill=\"none\" stroke=\"black\" cx=\"99\" cy=\"-18\" rx=\"27\" ry=\"18\"/>\n",
       "<text text-anchor=\"middle\" x=\"99\" y=\"-14.3\" font-family=\"Times,serif\" font-size=\"14.00\">ef</text>\n",
       "</g>\n",
       "<!-- 5417097424&#45;&gt;5417094496 -->\n",
       "<g id=\"edge3\" class=\"edge\">\n",
       "<title>5417097424&#45;&gt;5417094496</title>\n",
       "<path fill=\"none\" stroke=\"black\" d=\"M126.65,-72.76C122.42,-64.55 117.19,-54.37 112.42,-45.09\"/>\n",
       "<polygon fill=\"black\" stroke=\"black\" points=\"115.68,-43.79 108,-36.49 109.46,-46.99 115.68,-43.79\"/>\n",
       "</g>\n",
       "<!-- 5417097328 -->\n",
       "<g id=\"node7\" class=\"node\">\n",
       "<title>5417097328</title>\n",
       "<ellipse fill=\"none\" stroke=\"black\" cx=\"171\" cy=\"-18\" rx=\"27\" ry=\"18\"/>\n",
       "<text text-anchor=\"middle\" x=\"171\" y=\"-14.3\" font-family=\"Times,serif\" font-size=\"14.00\">ep</text>\n",
       "</g>\n",
       "<!-- 5417097424&#45;&gt;5417097328 -->\n",
       "<g id=\"edge4\" class=\"edge\">\n",
       "<title>5417097424&#45;&gt;5417097328</title>\n",
       "<path fill=\"none\" stroke=\"black\" d=\"M143.35,-72.76C147.58,-64.55 152.81,-54.37 157.58,-45.09\"/>\n",
       "<polygon fill=\"black\" stroke=\"black\" points=\"160.54,-46.99 162,-36.49 154.32,-43.79 160.54,-46.99\"/>\n",
       "</g>\n",
       "</g>\n",
       "</svg>\n"
      ],
      "text/plain": [
       "<graphviz.graphs.Digraph at 0x142db7850>"
      ]
     },
     "execution_count": 106,
     "metadata": {},
     "output_type": "execute_result"
    }
   ],
   "source": [
    "barinel = Node(sub, Node(1), Node(div, Node('ep'), Node(add, Node('ef'), Node('ep'))))\n",
    "print_tree(barinel)"
   ]
  },
  {
   "cell_type": "markdown",
   "metadata": {
    "slideshow": {
     "slide_type": "skip"
    }
   },
   "source": [
    "Barinel should perform better than Tarantula:"
   ]
  },
  {
   "cell_type": "code",
   "execution_count": 107,
   "metadata": {
    "slideshow": {
     "slide_type": "slide"
    }
   },
   "outputs": [
    {
     "data": {
      "text/plain": [
       "13.625"
      ]
     },
     "execution_count": 107,
     "metadata": {},
     "output_type": "execute_result"
    }
   ],
   "source": [
    "get_fitness(tarantula)"
   ]
  },
  {
   "cell_type": "code",
   "execution_count": 108,
   "metadata": {
    "slideshow": {
     "slide_type": "fragment"
    }
   },
   "outputs": [
    {
     "data": {
      "text/plain": [
       "6.625"
      ]
     },
     "execution_count": 108,
     "metadata": {},
     "output_type": "execute_result"
    }
   ],
   "source": [
    "get_fitness(barinel)"
   ]
  },
  {
   "cell_type": "markdown",
   "metadata": {
    "slideshow": {
     "slide_type": "skip"
    }
   },
   "source": [
    "But can we do better?"
   ]
  },
  {
   "cell_type": "code",
   "execution_count": 109,
   "metadata": {
    "scrolled": true,
    "slideshow": {
     "slide_type": "slide"
    }
   },
   "outputs": [
    {
     "name": "stdout",
     "output_type": "stream",
     "text": [
      "GA Iteration 0, best fitness: 3.5, average size: 9.583333333333334\n",
      "GA Iteration 1, best fitness: 3.5, average size: 9\n",
      "GA Iteration 2, best fitness: 3.5, average size: 8.708333333333334\n",
      "GA Iteration 3, best fitness: 3.5, average size: 7.583333333333333\n",
      "GA Iteration 4, best fitness: 3.5, average size: 8.291666666666666\n",
      "GA Iteration 5, best fitness: 3.5, average size: 7.125\n",
      "GA Iteration 6, best fitness: 3.5, average size: 6.25\n",
      "GA Iteration 7, best fitness: 3.5, average size: 6.291666666666667\n",
      "GA Iteration 8, best fitness: 3.5, average size: 7.458333333333333\n",
      "GA Iteration 9, best fitness: 3.5, average size: 8.25\n",
      "GA Iteration 10, best fitness: 3.125, average size: 9.208333333333334\n",
      "GA Iteration 11, best fitness: 3.0, average size: 11.083333333333334\n",
      "GA Iteration 12, best fitness: 3.0, average size: 11.875\n",
      "GA Iteration 13, best fitness: 3.0, average size: 12.041666666666666\n",
      "GA Iteration 14, best fitness: 3.0, average size: 11.458333333333334\n",
      "GA Iteration 15, best fitness: 3.0, average size: 10.375\n",
      "GA Iteration 16, best fitness: 3.0, average size: 10.666666666666666\n",
      "GA Iteration 17, best fitness: 3.0, average size: 10.875\n",
      "GA Iteration 18, best fitness: 2.625, average size: 11.041666666666666\n",
      "GA Iteration 19, best fitness: 2.625, average size: 11.041666666666666\n",
      "GA Iteration 20, best fitness: 2.625, average size: 10.958333333333334\n",
      "GA Iteration 21, best fitness: 2.625, average size: 11.833333333333334\n",
      "GA Iteration 22, best fitness: 2.625, average size: 11.708333333333334\n",
      "GA Iteration 23, best fitness: 2.625, average size: 13.208333333333334\n",
      "GA Iteration 24, best fitness: 2.625, average size: 14.666666666666666\n",
      "GA Iteration 25, best fitness: 2.625, average size: 14.958333333333334\n",
      "GA Iteration 26, best fitness: 2.625, average size: 14.458333333333334\n",
      "GA Iteration 27, best fitness: 2.625, average size: 14.708333333333334\n",
      "GA Iteration 28, best fitness: 2.625, average size: 14.166666666666666\n",
      "GA Iteration 29, best fitness: 2.625, average size: 13.833333333333334\n",
      "GA Iteration 30, best fitness: 2.625, average size: 15\n",
      "GA Iteration 31, best fitness: 2.625, average size: 14.291666666666666\n",
      "GA Iteration 32, best fitness: 2.625, average size: 13.458333333333334\n",
      "GA Iteration 33, best fitness: 2.625, average size: 14.083333333333334\n",
      "GA Iteration 34, best fitness: 2.625, average size: 14.541666666666666\n",
      "GA Iteration 35, best fitness: 2.625, average size: 13.125\n",
      "GA Iteration 36, best fitness: 2.625, average size: 13.958333333333334\n",
      "GA Iteration 37, best fitness: 2.625, average size: 14.291666666666666\n",
      "GA Iteration 38, best fitness: 2.625, average size: 14.041666666666666\n",
      "GA Iteration 39, best fitness: 2.625, average size: 13.875\n",
      "GA Iteration 40, best fitness: 2.625, average size: 14.25\n",
      "GA Iteration 41, best fitness: 2.625, average size: 13\n",
      "GA Iteration 42, best fitness: 2.625, average size: 12.708333333333334\n",
      "GA Iteration 43, best fitness: 2.625, average size: 12\n",
      "GA Iteration 44, best fitness: 2.625, average size: 12.416666666666666\n",
      "GA Iteration 45, best fitness: 2.625, average size: 11.291666666666666\n",
      "GA Iteration 46, best fitness: 2.625, average size: 11.166666666666666\n",
      "GA Iteration 47, best fitness: 2.625, average size: 11.625\n",
      "GA Iteration 48, best fitness: 2.625, average size: 11.25\n",
      "GA Iteration 49, best fitness: 2.625, average size: 10.958333333333334\n",
      "GA solution after 50 iterations, best fitness: 2.625\n"
     ]
    }
   ],
   "source": [
    "max_iterations = 50\n",
    "population_size = 50\n",
    "selection = tournament_selection\n",
    "crossover = sizefair_crossover\n",
    "P_xover = 0.7\n",
    "fitness_values = []\n",
    "size_values = []\n",
    "result = ga()"
   ]
  },
  {
   "cell_type": "code",
   "execution_count": 110,
   "metadata": {
    "slideshow": {
     "slide_type": "subslide"
    }
   },
   "outputs": [
    {
     "data": {
      "image/svg+xml": [
       "<?xml version=\"1.0\" encoding=\"UTF-8\" standalone=\"no\"?>\n",
       "<!DOCTYPE svg PUBLIC \"-//W3C//DTD SVG 1.1//EN\"\n",
       " \"http://www.w3.org/Graphics/SVG/1.1/DTD/svg11.dtd\">\n",
       "<!-- Generated by graphviz version 7.0.6 (20230106.0513)\n",
       " -->\n",
       "<!-- Pages: 1 -->\n",
       "<svg width=\"314pt\" height=\"332pt\"\n",
       " viewBox=\"0.00 0.00 314.00 332.00\" xmlns=\"http://www.w3.org/2000/svg\" xmlns:xlink=\"http://www.w3.org/1999/xlink\">\n",
       "<g id=\"graph0\" class=\"graph\" transform=\"scale(1 1) rotate(0) translate(4 328)\">\n",
       "<polygon fill=\"white\" stroke=\"none\" points=\"-4,4 -4,-328 310,-328 310,4 -4,4\"/>\n",
       "<!-- 4886851120 -->\n",
       "<g id=\"node1\" class=\"node\">\n",
       "<title>4886851120</title>\n",
       "<ellipse fill=\"none\" stroke=\"black\" cx=\"171\" cy=\"-306\" rx=\"27\" ry=\"18\"/>\n",
       "<text text-anchor=\"middle\" x=\"171\" y=\"-302.3\" font-family=\"Times,serif\" font-size=\"14.00\">div</text>\n",
       "</g>\n",
       "<!-- 5416639584 -->\n",
       "<g id=\"node2\" class=\"node\">\n",
       "<title>5416639584</title>\n",
       "<ellipse fill=\"none\" stroke=\"black\" cx=\"135\" cy=\"-234\" rx=\"27\" ry=\"18\"/>\n",
       "<text text-anchor=\"middle\" x=\"135\" y=\"-230.3\" font-family=\"Times,serif\" font-size=\"14.00\">add</text>\n",
       "</g>\n",
       "<!-- 4886851120&#45;&gt;5416639584 -->\n",
       "<g id=\"edge7\" class=\"edge\">\n",
       "<title>4886851120&#45;&gt;5416639584</title>\n",
       "<path fill=\"none\" stroke=\"black\" d=\"M162.65,-288.76C158.42,-280.55 153.19,-270.37 148.42,-261.09\"/>\n",
       "<polygon fill=\"black\" stroke=\"black\" points=\"151.68,-259.79 144,-252.49 145.46,-262.99 151.68,-259.79\"/>\n",
       "</g>\n",
       "<!-- 5417201776 -->\n",
       "<g id=\"node9\" class=\"node\">\n",
       "<title>5417201776</title>\n",
       "<ellipse fill=\"none\" stroke=\"black\" cx=\"207\" cy=\"-234\" rx=\"27\" ry=\"18\"/>\n",
       "<text text-anchor=\"middle\" x=\"207\" y=\"-230.3\" font-family=\"Times,serif\" font-size=\"14.00\">div</text>\n",
       "</g>\n",
       "<!-- 4886851120&#45;&gt;5417201776 -->\n",
       "<g id=\"edge14\" class=\"edge\">\n",
       "<title>4886851120&#45;&gt;5417201776</title>\n",
       "<path fill=\"none\" stroke=\"black\" d=\"M179.35,-288.76C183.58,-280.55 188.81,-270.37 193.58,-261.09\"/>\n",
       "<polygon fill=\"black\" stroke=\"black\" points=\"196.54,-262.99 198,-252.49 190.32,-259.79 196.54,-262.99\"/>\n",
       "</g>\n",
       "<!-- 4888301568 -->\n",
       "<g id=\"node3\" class=\"node\">\n",
       "<title>4888301568</title>\n",
       "<ellipse fill=\"none\" stroke=\"black\" cx=\"63\" cy=\"-162\" rx=\"27\" ry=\"18\"/>\n",
       "<text text-anchor=\"middle\" x=\"63\" y=\"-158.3\" font-family=\"Times,serif\" font-size=\"14.00\">add</text>\n",
       "</g>\n",
       "<!-- 5416639584&#45;&gt;4888301568 -->\n",
       "<g id=\"edge5\" class=\"edge\">\n",
       "<title>5416639584&#45;&gt;4888301568</title>\n",
       "<path fill=\"none\" stroke=\"black\" d=\"M120.08,-218.5C110.23,-208.92 97.14,-196.19 85.97,-185.34\"/>\n",
       "<polygon fill=\"black\" stroke=\"black\" points=\"88.59,-183 78.98,-178.54 83.71,-188.02 88.59,-183\"/>\n",
       "</g>\n",
       "<!-- 5417196832 -->\n",
       "<g id=\"node8\" class=\"node\">\n",
       "<title>5417196832</title>\n",
       "<ellipse fill=\"none\" stroke=\"black\" cx=\"135\" cy=\"-162\" rx=\"27\" ry=\"18\"/>\n",
       "<text text-anchor=\"middle\" x=\"135\" y=\"-158.3\" font-family=\"Times,serif\" font-size=\"14.00\">nf</text>\n",
       "</g>\n",
       "<!-- 5416639584&#45;&gt;5417196832 -->\n",
       "<g id=\"edge6\" class=\"edge\">\n",
       "<title>5416639584&#45;&gt;5417196832</title>\n",
       "<path fill=\"none\" stroke=\"black\" d=\"M135,-215.7C135,-208.41 135,-199.73 135,-191.54\"/>\n",
       "<polygon fill=\"black\" stroke=\"black\" points=\"138.5,-191.62 135,-181.62 131.5,-191.62 138.5,-191.62\"/>\n",
       "</g>\n",
       "<!-- 4888051184 -->\n",
       "<g id=\"node4\" class=\"node\">\n",
       "<title>4888051184</title>\n",
       "<ellipse fill=\"none\" stroke=\"black\" cx=\"27\" cy=\"-90\" rx=\"27\" ry=\"18\"/>\n",
       "<text text-anchor=\"middle\" x=\"27\" y=\"-86.3\" font-family=\"Times,serif\" font-size=\"14.00\">div</text>\n",
       "</g>\n",
       "<!-- 4888301568&#45;&gt;4888051184 -->\n",
       "<g id=\"edge3\" class=\"edge\">\n",
       "<title>4888301568&#45;&gt;4888051184</title>\n",
       "<path fill=\"none\" stroke=\"black\" d=\"M54.65,-144.76C50.42,-136.55 45.19,-126.37 40.42,-117.09\"/>\n",
       "<polygon fill=\"black\" stroke=\"black\" points=\"43.68,-115.79 36,-108.49 37.46,-118.99 43.68,-115.79\"/>\n",
       "</g>\n",
       "<!-- 5417193424 -->\n",
       "<g id=\"node7\" class=\"node\">\n",
       "<title>5417193424</title>\n",
       "<ellipse fill=\"none\" stroke=\"black\" cx=\"99\" cy=\"-90\" rx=\"27\" ry=\"18\"/>\n",
       "<text text-anchor=\"middle\" x=\"99\" y=\"-86.3\" font-family=\"Times,serif\" font-size=\"14.00\">np</text>\n",
       "</g>\n",
       "<!-- 4888301568&#45;&gt;5417193424 -->\n",
       "<g id=\"edge4\" class=\"edge\">\n",
       "<title>4888301568&#45;&gt;5417193424</title>\n",
       "<path fill=\"none\" stroke=\"black\" d=\"M71.35,-144.76C75.58,-136.55 80.81,-126.37 85.58,-117.09\"/>\n",
       "<polygon fill=\"black\" stroke=\"black\" points=\"88.54,-118.99 90,-108.49 82.32,-115.79 88.54,-118.99\"/>\n",
       "</g>\n",
       "<!-- 4888043840 -->\n",
       "<g id=\"node5\" class=\"node\">\n",
       "<title>4888043840</title>\n",
       "<ellipse fill=\"none\" stroke=\"black\" cx=\"27\" cy=\"-18\" rx=\"27\" ry=\"18\"/>\n",
       "<text text-anchor=\"middle\" x=\"27\" y=\"-14.3\" font-family=\"Times,serif\" font-size=\"14.00\">nf</text>\n",
       "</g>\n",
       "<!-- 4888051184&#45;&gt;4888043840 -->\n",
       "<g id=\"edge1\" class=\"edge\">\n",
       "<title>4888051184&#45;&gt;4888043840</title>\n",
       "<path fill=\"none\" stroke=\"black\" d=\"M27,-71.7C27,-64.41 27,-55.73 27,-47.54\"/>\n",
       "<polygon fill=\"black\" stroke=\"black\" points=\"30.5,-47.62 27,-37.62 23.5,-47.62 30.5,-47.62\"/>\n",
       "</g>\n",
       "<!-- 5417191744 -->\n",
       "<g id=\"node6\" class=\"node\">\n",
       "<title>5417191744</title>\n",
       "<ellipse fill=\"none\" stroke=\"black\" cx=\"99\" cy=\"-18\" rx=\"27\" ry=\"18\"/>\n",
       "<text text-anchor=\"middle\" x=\"99\" y=\"-14.3\" font-family=\"Times,serif\" font-size=\"14.00\">np</text>\n",
       "</g>\n",
       "<!-- 4888051184&#45;&gt;5417191744 -->\n",
       "<g id=\"edge2\" class=\"edge\">\n",
       "<title>4888051184&#45;&gt;5417191744</title>\n",
       "<path fill=\"none\" stroke=\"black\" d=\"M41.92,-74.5C51.77,-64.92 64.86,-52.19 76.03,-41.34\"/>\n",
       "<polygon fill=\"black\" stroke=\"black\" points=\"78.29,-44.02 83.02,-34.54 73.41,-39 78.29,-44.02\"/>\n",
       "</g>\n",
       "<!-- 5417189584 -->\n",
       "<g id=\"node10\" class=\"node\">\n",
       "<title>5417189584</title>\n",
       "<ellipse fill=\"none\" stroke=\"black\" cx=\"207\" cy=\"-162\" rx=\"27\" ry=\"18\"/>\n",
       "<text text-anchor=\"middle\" x=\"207\" y=\"-158.3\" font-family=\"Times,serif\" font-size=\"14.00\">sub</text>\n",
       "</g>\n",
       "<!-- 5417201776&#45;&gt;5417189584 -->\n",
       "<g id=\"edge12\" class=\"edge\">\n",
       "<title>5417201776&#45;&gt;5417189584</title>\n",
       "<path fill=\"none\" stroke=\"black\" d=\"M207,-215.7C207,-208.41 207,-199.73 207,-191.54\"/>\n",
       "<polygon fill=\"black\" stroke=\"black\" points=\"210.5,-191.62 207,-181.62 203.5,-191.62 210.5,-191.62\"/>\n",
       "</g>\n",
       "<!-- 5417195008 -->\n",
       "<g id=\"node15\" class=\"node\">\n",
       "<title>5417195008</title>\n",
       "<ellipse fill=\"none\" stroke=\"black\" cx=\"279\" cy=\"-162\" rx=\"27\" ry=\"18\"/>\n",
       "<text text-anchor=\"middle\" x=\"279\" y=\"-158.3\" font-family=\"Times,serif\" font-size=\"14.00\">nf</text>\n",
       "</g>\n",
       "<!-- 5417201776&#45;&gt;5417195008 -->\n",
       "<g id=\"edge13\" class=\"edge\">\n",
       "<title>5417201776&#45;&gt;5417195008</title>\n",
       "<path fill=\"none\" stroke=\"black\" d=\"M221.92,-218.5C231.77,-208.92 244.86,-196.19 256.03,-185.34\"/>\n",
       "<polygon fill=\"black\" stroke=\"black\" points=\"258.29,-188.02 263.02,-178.54 253.41,-183 258.29,-188.02\"/>\n",
       "</g>\n",
       "<!-- 5417189824 -->\n",
       "<g id=\"node11\" class=\"node\">\n",
       "<title>5417189824</title>\n",
       "<ellipse fill=\"none\" stroke=\"black\" cx=\"171\" cy=\"-90\" rx=\"27\" ry=\"18\"/>\n",
       "<text text-anchor=\"middle\" x=\"171\" y=\"-86.3\" font-family=\"Times,serif\" font-size=\"14.00\">nf</text>\n",
       "</g>\n",
       "<!-- 5417189584&#45;&gt;5417189824 -->\n",
       "<g id=\"edge8\" class=\"edge\">\n",
       "<title>5417189584&#45;&gt;5417189824</title>\n",
       "<path fill=\"none\" stroke=\"black\" d=\"M198.65,-144.76C194.42,-136.55 189.19,-126.37 184.42,-117.09\"/>\n",
       "<polygon fill=\"black\" stroke=\"black\" points=\"187.68,-115.79 180,-108.49 181.46,-118.99 187.68,-115.79\"/>\n",
       "</g>\n",
       "<!-- 5417191648 -->\n",
       "<g id=\"node12\" class=\"node\">\n",
       "<title>5417191648</title>\n",
       "<ellipse fill=\"none\" stroke=\"black\" cx=\"243\" cy=\"-90\" rx=\"27\" ry=\"18\"/>\n",
       "<text text-anchor=\"middle\" x=\"243\" y=\"-86.3\" font-family=\"Times,serif\" font-size=\"14.00\">add</text>\n",
       "</g>\n",
       "<!-- 5417189584&#45;&gt;5417191648 -->\n",
       "<g id=\"edge11\" class=\"edge\">\n",
       "<title>5417189584&#45;&gt;5417191648</title>\n",
       "<path fill=\"none\" stroke=\"black\" d=\"M215.35,-144.76C219.58,-136.55 224.81,-126.37 229.58,-117.09\"/>\n",
       "<polygon fill=\"black\" stroke=\"black\" points=\"232.54,-118.99 234,-108.49 226.32,-115.79 232.54,-118.99\"/>\n",
       "</g>\n",
       "<!-- 5417198944 -->\n",
       "<g id=\"node13\" class=\"node\">\n",
       "<title>5417198944</title>\n",
       "<ellipse fill=\"none\" stroke=\"black\" cx=\"207\" cy=\"-18\" rx=\"27\" ry=\"18\"/>\n",
       "<text text-anchor=\"middle\" x=\"207\" y=\"-14.3\" font-family=\"Times,serif\" font-size=\"14.00\">np</text>\n",
       "</g>\n",
       "<!-- 5417191648&#45;&gt;5417198944 -->\n",
       "<g id=\"edge9\" class=\"edge\">\n",
       "<title>5417191648&#45;&gt;5417198944</title>\n",
       "<path fill=\"none\" stroke=\"black\" d=\"M234.65,-72.76C230.42,-64.55 225.19,-54.37 220.42,-45.09\"/>\n",
       "<polygon fill=\"black\" stroke=\"black\" points=\"223.68,-43.79 216,-36.49 217.46,-46.99 223.68,-43.79\"/>\n",
       "</g>\n",
       "<!-- 5417191984 -->\n",
       "<g id=\"node14\" class=\"node\">\n",
       "<title>5417191984</title>\n",
       "<ellipse fill=\"none\" stroke=\"black\" cx=\"279\" cy=\"-18\" rx=\"27\" ry=\"18\"/>\n",
       "<text text-anchor=\"middle\" x=\"279\" y=\"-14.3\" font-family=\"Times,serif\" font-size=\"14.00\">nf</text>\n",
       "</g>\n",
       "<!-- 5417191648&#45;&gt;5417191984 -->\n",
       "<g id=\"edge10\" class=\"edge\">\n",
       "<title>5417191648&#45;&gt;5417191984</title>\n",
       "<path fill=\"none\" stroke=\"black\" d=\"M251.35,-72.76C255.58,-64.55 260.81,-54.37 265.58,-45.09\"/>\n",
       "<polygon fill=\"black\" stroke=\"black\" points=\"268.54,-46.99 270,-36.49 262.32,-43.79 268.54,-46.99\"/>\n",
       "</g>\n",
       "</g>\n",
       "</svg>\n"
      ],
      "text/plain": [
       "<graphviz.graphs.Digraph at 0x12359a440>"
      ]
     },
     "execution_count": 110,
     "metadata": {},
     "output_type": "execute_result"
    }
   ],
   "source": [
    "print_tree(result)"
   ]
  },
  {
   "cell_type": "code",
   "execution_count": 111,
   "metadata": {
    "slideshow": {
     "slide_type": "fragment"
    }
   },
   "outputs": [
    {
     "data": {
      "text/plain": [
       "2.625"
      ]
     },
     "execution_count": 111,
     "metadata": {},
     "output_type": "execute_result"
    }
   ],
   "source": [
    "get_fitness(result)"
   ]
  },
  {
   "cell_type": "markdown",
   "metadata": {
    "slideshow": {
     "slide_type": "skip"
    }
   },
   "source": [
    "Let's now compare the results of the standard metrics and our new one by looking at the top 5 most suspicious statements for each of the coefficients:"
   ]
  },
  {
   "cell_type": "code",
   "execution_count": 112,
   "metadata": {
    "slideshow": {
     "slide_type": "slide"
    }
   },
   "outputs": [
    {
     "name": "stdout",
     "output_type": "stream",
     "text": [
      "Faulty line: 7: (7, 17, 11, 6, 8)\n",
      "Faulty line: 13: (6, 7, 8, 13, 18)\n",
      "Faulty line: 39: (38, 39, 40, 42, 23)\n",
      "Faulty line: 10: (9, 11, 12, 46, 48)\n"
     ]
    }
   ],
   "source": [
    "print_ranking(tarantula)"
   ]
  },
  {
   "cell_type": "code",
   "execution_count": 113,
   "metadata": {
    "slideshow": {
     "slide_type": "fragment"
    }
   },
   "outputs": [
    {
     "name": "stdout",
     "output_type": "stream",
     "text": [
      "Faulty line: 7: (7, 11, 6, 8, 9)\n",
      "Faulty line: 13: (13, 0, 1, 2, 3)\n",
      "Faulty line: 39: (38, 39, 40, 42, 23)\n",
      "Faulty line: 10: (9, 72, 70, 71, 63)\n"
     ]
    }
   ],
   "source": [
    "print_ranking(barinel)"
   ]
  },
  {
   "cell_type": "code",
   "execution_count": 114,
   "metadata": {
    "slideshow": {
     "slide_type": "fragment"
    }
   },
   "outputs": [
    {
     "name": "stdout",
     "output_type": "stream",
     "text": [
      "Faulty line: 7: (7, 6, 8, 0, 1)\n",
      "Faulty line: 13: (13, 0, 1, 2, 3)\n",
      "Faulty line: 39: (38, 39, 40, 23, 24)\n",
      "Faulty line: 10: (9, 6, 7, 8, 10)\n"
     ]
    }
   ],
   "source": [
    "print_ranking(result)"
   ]
  },
  {
   "cell_type": "markdown",
   "metadata": {
    "slideshow": {
     "slide_type": "skip"
    }
   },
   "source": [
    "The ranking is clearly better overall given these four example spectra. Obviously this isn't a really fair comparison, however, since we are measuring the performance on the training data. For more details of how this generalises, please refer to the original paper."
   ]
  },
  {
   "cell_type": "markdown",
   "metadata": {
    "slideshow": {
     "slide_type": "slide"
    }
   },
   "source": [
    "## Strongly-Typed Genetic Programming and Grammatical Evolution"
   ]
  },
  {
   "cell_type": "markdown",
   "metadata": {
    "slideshow": {
     "slide_type": "skip"
    }
   },
   "source": [
    "Our implementation of GP is untyped, and thus requires type closure. Sometimes, depending on the problem to be solved, this can be an issue. In _strongly-typed genetic programming_ all nodes have types, and operators need to follow the type rules."
   ]
  },
  {
   "cell_type": "markdown",
   "metadata": {
    "slideshow": {
     "slide_type": "skip"
    }
   },
   "source": [
    "A common way to implement strongly-typed genetic programming is using _Grammar-Guided Genetic Programming (G3P)_: G3P is based on a grammar that describes the syntax of the target language.  Each individual of the population is a derivation tree of that grammer. (Derivation step = The process of replacing a nonterminal symbol with the symbols on the right-hand side of a production rule). G3P, in principle, works similar to our GP above, with the additional caveat that initialisation, crossover, and mutation need to be adapted in order to use the grammar and to ensure that only grammatically valid derivation trees are used."
   ]
  },
  {
   "cell_type": "markdown",
   "metadata": {
    "slideshow": {
     "slide_type": "skip"
    }
   },
   "source": [
    "An alternative way to use a grammar for evolution is using _Grammatical Evolution_ (GE): Whereas a classic GP uses syntax trees as representation, the representation in grammatical evolution is a simple linear genome. Each individual is a linear structure of codons (numbers) that select production rules to be chosen during derivation from a given grammar. \n",
    "Grammatical evolution clearly separates the search and solution spaces; syntactic correctness is guaranteed by the translation process; the problem of closure is removed, and any search algorithm can be used."
   ]
  },
  {
   "cell_type": "markdown",
   "metadata": {
    "slideshow": {
     "slide_type": "skip"
    }
   },
   "source": [
    "Since we are using a list representation, we can use our list helper class that can cache fitness values again:"
   ]
  },
  {
   "cell_type": "code",
   "execution_count": 115,
   "metadata": {
    "slideshow": {
     "slide_type": "slide"
    }
   },
   "outputs": [],
   "source": [
    "class L(list):\n",
    "    \"\"\"\n",
    "    A subclass of list that can accept additional attributes.\n",
    "    Should be able to be used just like a regular list.\n",
    "    \"\"\"\n",
    "    def __new__(self, *args, **kwargs):\n",
    "        return super(L, self).__new__(self, args, kwargs)\n",
    "\n",
    "    def __init__(self, *args, **kwargs):\n",
    "        if len(args) == 1 and hasattr(args[0], '__iter__'):\n",
    "            list.__init__(self, args[0])\n",
    "        else:\n",
    "            list.__init__(self, args)\n",
    "        self.__dict__.update(kwargs)\n",
    "\n",
    "    def __call__(self, **kwargs):\n",
    "        self.__dict__.update(kwargs)\n",
    "        return self"
   ]
  },
  {
   "cell_type": "markdown",
   "metadata": {
    "slideshow": {
     "slide_type": "skip"
    }
   },
   "source": [
    "In GE the chromosome size is fixed. For example, let's start by setting the number of codons to 50. Each codon is a number in a given range, which we will encode using `MAX`:"
   ]
  },
  {
   "cell_type": "code",
   "execution_count": 116,
   "metadata": {
    "slideshow": {
     "slide_type": "slide"
    }
   },
   "outputs": [],
   "source": [
    "num_codons = 50\n",
    "MAX = 50"
   ]
  },
  {
   "cell_type": "markdown",
   "metadata": {
    "slideshow": {
     "slide_type": "skip"
    }
   },
   "source": [
    "Individuals are simply lists of (randomly generated) codons:"
   ]
  },
  {
   "cell_type": "code",
   "execution_count": 117,
   "metadata": {
    "slideshow": {
     "slide_type": "slide"
    }
   },
   "outputs": [],
   "source": [
    "def get_random_individual():\n",
    "    individual = L([random.randint(0, MAX) for _ in range(num_codons)])\n",
    "    evaluate(individual)\n",
    "    return individual"
   ]
  },
  {
   "cell_type": "markdown",
   "metadata": {
    "slideshow": {
     "slide_type": "skip"
    }
   },
   "source": [
    "This, in turn, means we can use our usual approach for mutating each gene in a chromosome with a probability dependent on the overall number of genes:"
   ]
  },
  {
   "cell_type": "code",
   "execution_count": 118,
   "metadata": {
    "slideshow": {
     "slide_type": "fragment"
    }
   },
   "outputs": [],
   "source": [
    "def mutate(individual):\n",
    "    P_mutate = 1/len(individual)\n",
    "    mutated = L(individual[:])\n",
    "    for pos in range(len(individual)):\n",
    "        if random.random() < P_mutate:\n",
    "            mutated[pos] = random.randint(0, MAX)\n",
    "    evaluate(mutated)\n",
    "    return mutated"
   ]
  },
  {
   "cell_type": "markdown",
   "metadata": {
    "slideshow": {
     "slide_type": "skip"
    }
   },
   "source": [
    "We can use standard crossover operators:"
   ]
  },
  {
   "cell_type": "code",
   "execution_count": 119,
   "metadata": {
    "slideshow": {
     "slide_type": "fragment"
    }
   },
   "outputs": [],
   "source": [
    "def singlepoint_crossover(parent1, parent2):\n",
    "    pos = random.randint(0, len(parent1))\n",
    "    offspring1 = L(parent1[:pos] + parent2[pos:])\n",
    "    offspring2 = L(parent2[:pos] + parent1[pos:])\n",
    "    return (offspring1, offspring2)"
   ]
  },
  {
   "cell_type": "markdown",
   "metadata": {
    "slideshow": {
     "slide_type": "skip"
    }
   },
   "source": [
    "...and we can also use standard parent and survivor selection operators:"
   ]
  },
  {
   "cell_type": "code",
   "execution_count": 120,
   "metadata": {
    "slideshow": {
     "slide_type": "subslide"
    }
   },
   "outputs": [],
   "source": [
    "elite_size = 2\n",
    "def elitism(population):\n",
    "    population.sort(key=lambda k: get_fitness(k))\n",
    "    return population[:elite_size]"
   ]
  },
  {
   "cell_type": "code",
   "execution_count": 121,
   "metadata": {
    "slideshow": {
     "slide_type": "fragment"
    }
   },
   "outputs": [],
   "source": [
    "tournament_size = 3\n",
    "def tournament_selection(population):\n",
    "    candidates = random.sample(population, tournament_size)        \n",
    "    winner = min(candidates, key=lambda x: get_fitness(x))\n",
    "    return winner"
   ]
  },
  {
   "cell_type": "markdown",
   "metadata": {
    "slideshow": {
     "slide_type": "skip"
    }
   },
   "source": [
    "In order to explain the process of decoding codons to production rules, we need to define a grammar for an example problem. Let's assume we want to generate Python code for a function with two parameters, which returns the larger of the two parameters. Our grammar thus covers linear sequences of code with if-statements, where we restrict each if-statement to a single operation. Operations can be updates of a local variable `__return__` which, at the end of the function, will define the return value:"
   ]
  },
  {
   "cell_type": "code",
   "execution_count": 122,
   "metadata": {
    "slideshow": {
     "slide_type": "slide"
    }
   },
   "outputs": [],
   "source": [
    "EXAMPLE_GRAMMAR = {\n",
    "    \"<start>\":\n",
    "        [\"<code>\"],\n",
    "\n",
    "    \"<code>\":\n",
    "        [\"<line>\", \"<code>\\n<line>\"],\n",
    "\n",
    "    \"<line>\":\n",
    "        [\"    <expr>\"],\n",
    "\n",
    "    \"<expr>\":\n",
    "        [\"<if-statement>\",\n",
    "         \"<op>\"],\n",
    "\n",
    "    \"<if-statement>\":\n",
    "        [\"if <condition>:\\n        <op>\"],\n",
    "\n",
    "    \"<condition>\":\n",
    "        [\"<param> <operator> <param>\"],\n",
    "    \"<param>\":\n",
    "        [\"x\", \"y\"],\n",
    "    \"<operator>\":\n",
    "        [\"<\", \">\", \"==\"],\n",
    "    \"<op>\":\n",
    "        [\"__return__ = x\", \"__return__ = y\"]\n",
    "}"
   ]
  },
  {
   "cell_type": "markdown",
   "metadata": {
    "slideshow": {
     "slide_type": "skip"
    }
   },
   "source": [
    "One of the production rules must be explicitly chosen as the start label\""
   ]
  },
  {
   "cell_type": "code",
   "execution_count": 123,
   "metadata": {
    "slideshow": {
     "slide_type": "subslide"
    }
   },
   "outputs": [],
   "source": [
    "START_SYMBOL = \"<start>\""
   ]
  },
  {
   "cell_type": "markdown",
   "metadata": {
    "slideshow": {
     "slide_type": "skip"
    }
   },
   "source": [
    "In order to determine whether a production rule contains further non-terminals we use a simple regular expression. Anything within `<` and `>` counts as a non-terminal:"
   ]
  },
  {
   "cell_type": "code",
   "execution_count": 124,
   "metadata": {
    "slideshow": {
     "slide_type": "fragment"
    }
   },
   "outputs": [],
   "source": [
    "RE_NONTERMINAL = re.compile(r'(<[^<> ]*>)')"
   ]
  },
  {
   "cell_type": "code",
   "execution_count": 125,
   "metadata": {
    "slideshow": {
     "slide_type": "fragment"
    }
   },
   "outputs": [],
   "source": [
    "def nonterminals(expansion):\n",
    "    return re.findall(RE_NONTERMINAL, expansion)"
   ]
  },
  {
   "cell_type": "markdown",
   "metadata": {
    "slideshow": {
     "slide_type": "skip"
    }
   },
   "source": [
    "Depending on the grammar used, a derivation can be of any size; we need to put some limit on the size of the derivations:"
   ]
  },
  {
   "cell_type": "code",
   "execution_count": 126,
   "metadata": {
    "slideshow": {
     "slide_type": "fragment"
    }
   },
   "outputs": [],
   "source": [
    "max_expansions = 50"
   ]
  },
  {
   "cell_type": "markdown",
   "metadata": {
    "slideshow": {
     "slide_type": "skip"
    }
   },
   "source": [
    "In order to decode an individual we start with the start rule, and apply derivation. Whenever there is a choice of multiple production rules during the derivation, the number of the rule is determined by the next codon; i.e., we always pick the rule with the number _codon_ $%$ _number of rules_. Non-terminals are resolved from left to right (we need to make sure that the derivation is deterministic). Whenever we use a codon, we move to the next number in the chromosome. If we hit the last codon in a chromosome then we wrap and start over from the first one."
   ]
  },
  {
   "cell_type": "code",
   "execution_count": 127,
   "metadata": {
    "slideshow": {
     "slide_type": "slide"
    }
   },
   "outputs": [],
   "source": [
    "def decode(individual, grammar):\n",
    "    pos = 0\n",
    "    term = START_SYMBOL\n",
    "    num_expansions = 0\n",
    "    count = 0\n",
    "    \n",
    "    while len(nonterminals(term)) > 0 and num_expansions < max_expansions:\n",
    "        \n",
    "        symbol_to_expand = nonterminals(term)[0]\n",
    "        expansions = grammar[symbol_to_expand]\n",
    "        if len(expansions) == 1:\n",
    "            expansion = expansions[0]\n",
    "        else:\n",
    "            codon = individual[pos]\n",
    "            pos = (pos + 1) % len(individual)\n",
    "            expansion = expansions[codon % len(expansions)]\n",
    "            \n",
    "        new_term = term.replace(symbol_to_expand, expansion, 1)\n",
    "    \n",
    "        term = new_term\n",
    "        num_expansions += 1\n",
    "\n",
    "    return term"
   ]
  },
  {
   "cell_type": "code",
   "execution_count": 128,
   "metadata": {
    "slideshow": {
     "slide_type": "subslide"
    }
   },
   "outputs": [
    {
     "name": "stdout",
     "output_type": "stream",
     "text": [
      "    __return__ = y\n",
      "    if y > x:\n",
      "        __return__ = y\n"
     ]
    }
   ],
   "source": [
    "print(decode([1,2,3], EXAMPLE_GRAMMAR))"
   ]
  },
  {
   "cell_type": "markdown",
   "metadata": {
    "slideshow": {
     "slide_type": "skip"
    }
   },
   "source": [
    "Given the string representation of a program we need to create an executable version in order to measure the fitness. We already compiled code at runtime in the previous chapter, so we essentially do the same again here. For any given string representation of a function, e.g.:"
   ]
  },
  {
   "cell_type": "code",
   "execution_count": 129,
   "metadata": {
    "slideshow": {
     "slide_type": "subslide"
    }
   },
   "outputs": [],
   "source": [
    "text = \"\"\"\n",
    "def foo():\n",
    "  print(\"Foo\")\n",
    "\"\"\""
   ]
  },
  {
   "cell_type": "markdown",
   "metadata": {
    "slideshow": {
     "slide_type": "skip"
    }
   },
   "source": [
    "We call the `compile` function which produces a code object. This code object we insert into the dictionary of modules such that we can call the function using its name, e.g.:"
   ]
  },
  {
   "cell_type": "code",
   "execution_count": 130,
   "metadata": {
    "slideshow": {
     "slide_type": "fragment"
    }
   },
   "outputs": [],
   "source": [
    "code = compile(text, filename=\"<GE>\", mode=\"exec\")\n",
    "current_module = sys.modules[__name__]\n",
    "exec(code, current_module.__dict__)"
   ]
  },
  {
   "cell_type": "code",
   "execution_count": 131,
   "metadata": {
    "slideshow": {
     "slide_type": "fragment"
    }
   },
   "outputs": [
    {
     "name": "stdout",
     "output_type": "stream",
     "text": [
      "Foo\n"
     ]
    }
   ],
   "source": [
    "foo()"
   ]
  },
  {
   "cell_type": "markdown",
   "metadata": {
    "slideshow": {
     "slide_type": "skip"
    }
   },
   "source": [
    "We use a function that puts the decoded chromosome into a function, and we'll include the function signature and return value for now:"
   ]
  },
  {
   "cell_type": "code",
   "execution_count": 132,
   "metadata": {
    "slideshow": {
     "slide_type": "slide"
    }
   },
   "outputs": [],
   "source": [
    "def create_function(individual):\n",
    "    program_text = decode(individual, EXAMPLE_GRAMMAR)\n",
    "    source = \"\"\"def generated_function(x, y):\n",
    "    __return__ = 0\n",
    "%s\n",
    "    return __return__\n",
    "\"\"\" % program_text\n",
    "    code = compile(source, filename=\"<GE>\", mode=\"exec\")\n",
    "    current_module = sys.modules[__name__]\n",
    "    exec(code, current_module.__dict__)\n",
    "    return generated_function"
   ]
  },
  {
   "cell_type": "markdown",
   "metadata": {
    "slideshow": {
     "slide_type": "skip"
    }
   },
   "source": [
    "In order to calculate the fitness value we just need to run the function a number of times with some test data that represents the function we want to learn. Let's produce some test data again; let our example function return the maximum of the two input parameters:"
   ]
  },
  {
   "cell_type": "code",
   "execution_count": 133,
   "metadata": {
    "slideshow": {
     "slide_type": "subslide"
    }
   },
   "outputs": [],
   "source": [
    "training_data = []"
   ]
  },
  {
   "cell_type": "code",
   "execution_count": 134,
   "metadata": {
    "slideshow": {
     "slide_type": "fragment"
    }
   },
   "outputs": [
    {
     "data": {
      "text/plain": [
       "[([26, 45], 45),\n",
       " ([31, 29], 31),\n",
       " ([6, 20], 20),\n",
       " ([4, 6], 6),\n",
       " ([3, 36], 36),\n",
       " ([44, 18], 44),\n",
       " ([11, 20], 20),\n",
       " ([41, 50], 50),\n",
       " ([30, 30], 30),\n",
       " ([29, 2], 29),\n",
       " ([38, 45], 45),\n",
       " ([49, 12], 49),\n",
       " ([31, 48], 48),\n",
       " ([20, 24], 24),\n",
       " ([36, 16], 36),\n",
       " ([22, 48], 48),\n",
       " ([24, 15], 24),\n",
       " ([22, 31], 31),\n",
       " ([44, 40], 44),\n",
       " ([4, 19], 19)]"
      ]
     },
     "execution_count": 134,
     "metadata": {},
     "output_type": "execute_result"
    }
   ],
   "source": [
    "for i in range(20):\n",
    "    num1 = random.randint(0, MAX)\n",
    "    num2 = random.randint(0, MAX)\n",
    "    training_data.append(([num1, num2], max([num1, num2])))\n",
    "\n",
    "training_data"
   ]
  },
  {
   "cell_type": "markdown",
   "metadata": {
    "slideshow": {
     "slide_type": "skip"
    }
   },
   "source": [
    "There may be errors during the execution; for example, if we hit the maximum number of expansions (`max_expansions`) then the code may not compile. There may be an exception if there is a division by zero or some other error. In these cases we assign the function the maximum (worst) fitness value and let selective pressure handle this for us:"
   ]
  },
  {
   "cell_type": "code",
   "execution_count": 135,
   "metadata": {
    "slideshow": {
     "slide_type": "slide"
    }
   },
   "outputs": [],
   "source": [
    "def evaluate(individual):\n",
    "    fitness = len(training_data)\n",
    "    individual.fitness = fitness\n",
    "    try:\n",
    "        p = create_function(individual)\n",
    "\n",
    "        for (test_data, test_output) in training_data:\n",
    "            result = p(*test_data)\n",
    "            if result == test_output:\n",
    "                fitness -= 1\n",
    "    except:\n",
    "        return len(training_data)\n",
    "\n",
    "    individual.fitness = fitness\n",
    "    return fitness"
   ]
  },
  {
   "cell_type": "code",
   "execution_count": 136,
   "metadata": {
    "slideshow": {
     "slide_type": "fragment"
    }
   },
   "outputs": [
    {
     "data": {
      "text/plain": [
       "8"
      ]
     },
     "execution_count": 136,
     "metadata": {},
     "output_type": "execute_result"
    }
   ],
   "source": [
    "x = get_random_individual()\n",
    "x.fitness"
   ]
  },
  {
   "cell_type": "markdown",
   "metadata": {
    "slideshow": {
     "slide_type": "skip"
    }
   },
   "source": [
    "Since we call the `evaluate` function directly after generating or mutating individuals, retrieving the fitness function just consists of retrieving the cached fitness value:"
   ]
  },
  {
   "cell_type": "code",
   "execution_count": 137,
   "metadata": {
    "slideshow": {
     "slide_type": "fragment"
    }
   },
   "outputs": [],
   "source": [
    "def get_fitness(individual):\n",
    "    return individual.fitness"
   ]
  },
  {
   "cell_type": "markdown",
   "metadata": {
    "slideshow": {
     "slide_type": "skip"
    }
   },
   "source": [
    "In order to use our new individuals we need to modify our GA such that it uses this new representation rather than the tree structure we defined earlier; that is, we need to replace the ramped half and half initialisation with a simple random sampling:"
   ]
  },
  {
   "cell_type": "code",
   "execution_count": 138,
   "metadata": {
    "slideshow": {
     "slide_type": "subslide"
    }
   },
   "outputs": [],
   "source": [
    "def get_initial_population():\n",
    "    return [get_random_individual() for _ in range(population_size)]"
   ]
  },
  {
   "cell_type": "markdown",
   "metadata": {
    "slideshow": {
     "slide_type": "skip"
    }
   },
   "source": [
    "Furthermore, since we now have a fixed size representation we can omit the handling of size as a secondary criterion during selection:"
   ]
  },
  {
   "cell_type": "code",
   "execution_count": 139,
   "metadata": {
    "slideshow": {
     "slide_type": "fragment"
    }
   },
   "outputs": [],
   "source": [
    "def evolution_step(population):\n",
    "    new_population = []\n",
    "    while len(new_population) < len(population):\n",
    "        parent1 = selection(population)\n",
    "        parent2 = selection(population)\n",
    "\n",
    "        if random.random() < P_xover:\n",
    "            offspring1, offspring2 = crossover(parent1, parent2)\n",
    "        else:\n",
    "            offspring1, offspring2 = parent1, parent2\n",
    "\n",
    "        offspring1 = mutate(offspring1)\n",
    "        offspring2 = mutate(offspring2)\n",
    "        \n",
    "        new_population.append(offspring1)\n",
    "        new_population.append(offspring2)\n",
    "\n",
    "    population.clear()\n",
    "    population.extend(new_population)"
   ]
  },
  {
   "cell_type": "code",
   "execution_count": 140,
   "metadata": {
    "slideshow": {
     "slide_type": "slide"
    }
   },
   "outputs": [],
   "source": [
    "def ga():\n",
    "    population = get_initial_population()\n",
    "    best_fitness = sys.maxsize\n",
    "    for p in population:\n",
    "        fitness = get_fitness(p)\n",
    "        if fitness < best_fitness:\n",
    "            best_fitness = fitness\n",
    "            best_solution = L(p[:])\n",
    "\n",
    "    iteration = 0\n",
    "    print(f\"GA Iteration {iteration}, best fitness: {best_fitness}\")\n",
    "    while iteration < max_iterations and best_fitness > 0:\n",
    "        fitness_values.append(best_fitness)\n",
    "        iteration += 1\n",
    "        evolution_step(population)\n",
    "\n",
    "        for p in population:\n",
    "            fitness = get_fitness(p)\n",
    "            if fitness < best_fitness:\n",
    "                best_fitness = fitness\n",
    "                best_solution = L(p[:])\n",
    "                print(f\"GA Iteration {iteration}, best fitness: {best_fitness}\")\n",
    "\n",
    "    print(f\"GA solution after {iteration} iterations, best fitness: {best_fitness}\")\n",
    "    return best_solution\n"
   ]
  },
  {
   "cell_type": "markdown",
   "metadata": {
    "slideshow": {
     "slide_type": "skip"
    }
   },
   "source": [
    "With this, we can apply the grammatical evolution to produce our own max function:"
   ]
  },
  {
   "cell_type": "code",
   "execution_count": 142,
   "metadata": {
    "slideshow": {
     "slide_type": "slide"
    }
   },
   "outputs": [
    {
     "name": "stdout",
     "output_type": "stream",
     "text": [
      "GA Iteration 0, best fitness: 7\n",
      "GA Iteration 27, best fitness: 0\n",
      "GA solution after 27 iterations, best fitness: 0\n"
     ]
    }
   ],
   "source": [
    "population_size = 20\n",
    "P_xover = 0.7\n",
    "max_iterations = 100\n",
    "num_codons = 20\n",
    "selection = tournament_selection\n",
    "crossover = singlepoint_crossover\n",
    "fitness_values = []\n",
    "result = ga()"
   ]
  },
  {
   "cell_type": "code",
   "execution_count": 143,
   "metadata": {
    "slideshow": {
     "slide_type": "fragment"
    }
   },
   "outputs": [
    {
     "name": "stdout",
     "output_type": "stream",
     "text": [
      "    __return__ = y\n",
      "    if y < y:\n",
      "        __return__ = x\n",
      "    if y < x:\n",
      "        __return__ = x\n",
      "    if y < y:\n",
      "        __return__ = y\n"
     ]
    }
   ],
   "source": [
    "print(decode(result, EXAMPLE_GRAMMAR))"
   ]
  },
  {
   "cell_type": "markdown",
   "metadata": {
    "slideshow": {
     "slide_type": "skip"
    }
   },
   "source": [
    "This problem is probably slightly too easy, so let's increase difficulty by expanding to three parameters. We therefore require a corresponding function template:"
   ]
  },
  {
   "cell_type": "code",
   "execution_count": 144,
   "metadata": {
    "slideshow": {
     "slide_type": "slide"
    }
   },
   "outputs": [],
   "source": [
    "def create_function(individual):\n",
    "    program_text = decode(individual, EXAMPLE_GRAMMAR)\n",
    "    source = \"\"\"def generated_function(x, y, z):\n",
    "    __return__ = 0\n",
    "%s\n",
    "    return __return__\n",
    "\"\"\" % program_text\n",
    "    code = compile(source, filename=\"<GE>\", mode=\"exec\")\n",
    "    current_module = sys.modules[__name__]\n",
    "    exec(code, current_module.__dict__)\n",
    "    return generated_function"
   ]
  },
  {
   "cell_type": "markdown",
   "metadata": {
    "slideshow": {
     "slide_type": "skip"
    }
   },
   "source": [
    "As well as some test data:"
   ]
  },
  {
   "cell_type": "code",
   "execution_count": 145,
   "metadata": {
    "slideshow": {
     "slide_type": "fragment"
    }
   },
   "outputs": [],
   "source": [
    "training_data = []\n",
    "for i in range(1000):\n",
    "    num1 = random.randint(0, MAX)\n",
    "    num2 = random.randint(0, MAX)\n",
    "    num3 = random.randint(0, MAX)\n",
    "    \n",
    "    training_data.append(([num1, num2, num3], max([num1, num2, num3])))"
   ]
  },
  {
   "cell_type": "markdown",
   "metadata": {
    "slideshow": {
     "slide_type": "skip"
    }
   },
   "source": [
    "We'll slightly expand our grammar to also include conjunctions and disjunctions and more relational operators:"
   ]
  },
  {
   "cell_type": "code",
   "execution_count": 146,
   "metadata": {
    "slideshow": {
     "slide_type": "slide"
    }
   },
   "outputs": [],
   "source": [
    "EXAMPLE_GRAMMAR = {\n",
    "    \"<start>\":\n",
    "        [\"<code>\"],\n",
    "\n",
    "    \"<code>\":\n",
    "        [\"<line>\", \"<code>\\n<line>\"],\n",
    "\n",
    "    \"<line>\":\n",
    "        [\"    <expr>\"],\n",
    "\n",
    "    \"<expr>\":\n",
    "        [\"<if-statement>\",\n",
    "         \"<op>\"],\n",
    "\n",
    "    \"<if-statement>\":\n",
    "        [\"if <condition>:\\n        <op>\"],\n",
    "\n",
    "    \"<condition>\":\n",
    "        [\"<param> <operator> <param>\", \"<param> <operator> <param> and <param> <operator> <param>\", \"<param> <operator> <param> or <param> <operator> <param>\"],\n",
    "\n",
    "    \"<param>\":\n",
    "        [\"x\", \"y\", \"z\", \"__return__\"],\n",
    "\n",
    "    \"<operator>\":\n",
    "        [\"<\", \">\", \"<=\", \">=\", \"==\", \"!=\"],\n",
    "\n",
    "    \"<op>\":\n",
    "        [\"__return__ = <param>\"]\n",
    "}"
   ]
  },
  {
   "cell_type": "code",
   "execution_count": 148,
   "metadata": {
    "slideshow": {
     "slide_type": "slide"
    }
   },
   "outputs": [
    {
     "name": "stdout",
     "output_type": "stream",
     "text": [
      "GA Iteration 0, best fitness: 642\n",
      "GA Iteration 1, best fitness: 302\n",
      "GA Iteration 30, best fitness: 295\n",
      "GA Iteration 33, best fitness: 146\n",
      "GA Iteration 36, best fitness: 0\n",
      "GA solution after 36 iterations, best fitness: 0\n"
     ]
    }
   ],
   "source": [
    "population_size = 100\n",
    "P_xover = 0.7\n",
    "max_iterations = 500\n",
    "max_expansions = 80\n",
    "num_codons = 80\n",
    "selection = tournament_selection\n",
    "tournament_size = 4\n",
    "crossover = singlepoint_crossover\n",
    "fitness_values = []\n",
    "result = ga()"
   ]
  },
  {
   "cell_type": "code",
   "execution_count": 149,
   "metadata": {
    "slideshow": {
     "slide_type": "subslide"
    }
   },
   "outputs": [
    {
     "name": "stdout",
     "output_type": "stream",
     "text": [
      "    __return__ = x\n",
      "    if x <= x and x <= z:\n",
      "        __return__ = z\n",
      "    if __return__ < x or __return__ < y:\n",
      "        __return__ = y\n"
     ]
    }
   ],
   "source": [
    "print(decode(result, EXAMPLE_GRAMMAR))"
   ]
  },
  {
   "cell_type": "markdown",
   "metadata": {
    "slideshow": {
     "slide_type": "skip"
    }
   },
   "source": [
    "Finding the maximum of three numbers appears to be relatively easy, and the search often finds a solution. Let's try and see if we can also reproduce our `middle` program. For this, we need new tests."
   ]
  },
  {
   "cell_type": "code",
   "execution_count": 150,
   "metadata": {
    "slideshow": {
     "slide_type": "slide"
    }
   },
   "outputs": [],
   "source": [
    "training_data = []\n",
    "for i in range(1000):\n",
    "    num1 = random.randint(0, MAX)\n",
    "    num2 = random.randint(0, MAX)\n",
    "    num3 = random.randint(0, MAX)\n",
    "    \n",
    "    training_data.append(([num1, num2, num3], sorted([num1, num2, num3])[1]))"
   ]
  },
  {
   "cell_type": "code",
   "execution_count": 151,
   "metadata": {
    "slideshow": {
     "slide_type": "fragment"
    }
   },
   "outputs": [
    {
     "name": "stdout",
     "output_type": "stream",
     "text": [
      "GA Iteration 0, best fitness: 473\n",
      "GA Iteration 13, best fitness: 468\n",
      "GA Iteration 17, best fitness: 457\n",
      "GA Iteration 34, best fitness: 320\n",
      "GA Iteration 212, best fitness: 316\n",
      "GA Iteration 219, best fitness: 305\n",
      "GA Iteration 239, best fitness: 298\n",
      "GA Iteration 385, best fitness: 146\n",
      "GA solution after 500 iterations, best fitness: 146\n"
     ]
    }
   ],
   "source": [
    "population_size = 100\n",
    "P_xover = 0.7\n",
    "max_iterations = 500\n",
    "max_expansions = 80\n",
    "num_codons = 80\n",
    "selection = tournament_selection\n",
    "tournament_size = 10\n",
    "crossover = singlepoint_crossover\n",
    "fitness_values = []\n",
    "result = ga()"
   ]
  },
  {
   "cell_type": "code",
   "execution_count": 152,
   "metadata": {
    "slideshow": {
     "slide_type": "fragment"
    }
   },
   "outputs": [
    {
     "name": "stdout",
     "output_type": "stream",
     "text": [
      "    if z >= z or z < y:\n",
      "        __return__ = y\n",
      "    if __return__ <= z or __return__ < z:\n",
      "        __return__ = z\n",
      "    if __return__ >= x:\n",
      "        __return__ = x\n",
      "    if z != x and x > x:\n",
      "        __return__ = __return__\n",
      "    if y > x and x < z:\n",
      "        __return__ = y\n"
     ]
    }
   ],
   "source": [
    "print(decode(result, EXAMPLE_GRAMMAR))"
   ]
  },
  {
   "cell_type": "markdown",
   "metadata": {
    "slideshow": {
     "slide_type": "skip"
    }
   },
   "source": [
    "This appears to be a somewhat more challenging problem, and the search tends to take much longer to find an acceptable solution (probably longer than is reasonable to wait in this Jupyter notebook)."
   ]
  },
  {
   "cell_type": "markdown",
   "metadata": {
    "slideshow": {
     "slide_type": "skip"
    }
   },
   "source": [
    "More practical information about Genetic Programming can be found in the free ebook [A Field Guide to Genetic Programming](http://www0.cs.ucl.ac.uk/staff/W.Langdon/ftp/papers/poli08_fieldguide.pdf)"
   ]
  },
  {
   "cell_type": "markdown",
   "metadata": {
    "slideshow": {
     "slide_type": "slide"
    }
   },
   "source": [
    "# Genetic Improvement"
   ]
  },
  {
   "cell_type": "markdown",
   "metadata": {
    "slideshow": {
     "slide_type": "skip"
    }
   },
   "source": [
    "The programs we tried to evolve in this chapter have all been comparatively tiny. Indeed GPs are not generally used to evolve large programs, as they cannot easily come up with complex system designs and architectures. While evolving large programs from scratch may currently not be possible, it is possible to improve existing programs. This is the aim of program repair and _Genetic Improvement_ (GI). There are two central hypotheses that motivate Genetic Improvement:"
   ]
  },
  {
   "cell_type": "markdown",
   "metadata": {
    "slideshow": {
     "slide_type": "skip"
    }
   },
   "source": [
    "The _Competent Programmer Hypothesis_ assumes that programmers write programs that are close to being correct, and program faults are syntactically small."
   ]
  },
  {
   "cell_type": "markdown",
   "metadata": {
    "slideshow": {
     "slide_type": "skip"
    }
   },
   "source": [
    "The _Plastic Surgery Hypothesis_ states that the content of new code can often be assembled out of fragments of code that already exist. Changes to a codebase contain snippets that already exist in the codebase at the time of the change, and these snippets can be efficiently found and exploited."
   ]
  },
  {
   "cell_type": "markdown",
   "metadata": {
    "slideshow": {
     "slide_type": "skip"
    }
   },
   "source": [
    "Given these two hypotheses, the idea of Genetic Improvement is to use GP to slightly modify a large, existing, code base, rather than to evolve something from scratch. "
   ]
  },
  {
   "cell_type": "markdown",
   "metadata": {
    "slideshow": {
     "slide_type": "skip"
    }
   },
   "source": [
    "The representation is typically based either in patches or modifications of the abstract syntax tree (AST) of the program. Thus, in contrast to the past examples where we implicitly defined our encoding through the `get_random_individual` function, in this case the representation is already defined by the AST of the programs we are trying to evolve.  For example, let's consider the AST of the `middle` function we considered earlier."
   ]
  },
  {
   "cell_type": "code",
   "execution_count": 153,
   "metadata": {
    "slideshow": {
     "slide_type": "fragment"
    }
   },
   "outputs": [],
   "source": [
    "import ast"
   ]
  },
  {
   "cell_type": "code",
   "execution_count": 154,
   "metadata": {
    "slideshow": {
     "slide_type": "fragment"
    }
   },
   "outputs": [],
   "source": [
    "middle_ast = ast.parse(inspect.getsource(middle))"
   ]
  },
  {
   "cell_type": "code",
   "execution_count": 155,
   "metadata": {
    "slideshow": {
     "slide_type": "fragment"
    }
   },
   "outputs": [
    {
     "data": {
      "text/plain": [
       "\"Module(body=[FunctionDef(name='middle', args=arguments(posonlyargs=[], args=[arg(arg='x'), arg(arg='y'), arg(arg='z')], kwonlyargs=[], kw_defaults=[], defaults=[]), body=[If(test=Compare(left=Name(id='y', ctx=Load()), ops=[Lt()], comparators=[Name(id='z', ctx=Load())]), body=[If(test=Compare(left=Name(id='x', ctx=Load()), ops=[Lt()], comparators=[Name(id='y', ctx=Load())]), body=[Return(value=Name(id='y', ctx=Load()))], orelse=[If(test=Compare(left=Name(id='x', ctx=Load()), ops=[Lt()], comparators=[Name(id='z', ctx=Load())]), body=[Return(value=Name(id='y', ctx=Load()))], orelse=[])])], orelse=[If(test=Compare(left=Name(id='x', ctx=Load()), ops=[Gt()], comparators=[Name(id='y', ctx=Load())]), body=[Return(value=Name(id='y', ctx=Load()))], orelse=[If(test=Compare(left=Name(id='x', ctx=Load()), ops=[Gt()], comparators=[Name(id='z', ctx=Load())]), body=[Return(value=Name(id='x', ctx=Load()))], orelse=[])])]), Return(value=Name(id='z', ctx=Load()))], decorator_list=[])], type_ignores=[])\""
      ]
     },
     "execution_count": 155,
     "metadata": {},
     "output_type": "execute_result"
    }
   ],
   "source": [
    "ast.dump(middle_ast)"
   ]
  },
  {
   "cell_type": "markdown",
   "metadata": {
    "slideshow": {
     "slide_type": "skip"
    }
   },
   "source": [
    "We know from earlier that the `middle` function contains a fault. The classic application of Genetic Improvement is _Automated Program Repair_: Given a program and a test suite in which there is at least one failing test, try to evolve the program such that it passes all test cases. This idea was initially described in the following seminal paper:\n",
    "\n",
    "Le Goues, C., Nguyen, T., Forrest, S., & Weimer, W. (2011). Genprog: A generic method for automatic software repair. IEEE Transactions on Software Engineering, 38(1), 54-72."
   ]
  },
  {
   "cell_type": "markdown",
   "metadata": {
    "slideshow": {
     "slide_type": "skip"
    }
   },
   "source": [
    "Unlike the GP approaches we defined earlier, the starting point for GI is not a population of random individuals, but the given program we want to improve. Therefore, we will not start by defining a `get_random_individual` function this time, but first introduce mutations on an AST, and then the random individuals will be a result of mutating the existing program. As the mutation will be dependent on executions, we first consider the fitness function. The search in automated program repair is guided by tests: Given a set of tests, we want to maximise the number of passing tests. Let's define some passing and failing tests for our defective `middle` function:"
   ]
  },
  {
   "cell_type": "code",
   "execution_count": 156,
   "metadata": {
    "slideshow": {
     "slide_type": "slide"
    }
   },
   "outputs": [],
   "source": [
    "PASSING_TESTS = []\n",
    "FAILING_TESTS = []\n",
    "\n",
    "num_tests = 20\n",
    "\n",
    "while len(PASSING_TESTS) + len(FAILING_TESTS) < 2*num_tests:\n",
    "    x = random.randrange(10)\n",
    "    y = random.randrange(10)\n",
    "    z = random.randrange(10)\n",
    "    m = middle(x, y, z) # Actual value\n",
    "    expected = sorted([x, y, z])[1] # Expected value\n",
    "    if m == expected:\n",
    "        if len(PASSING_TESTS) < num_tests:\n",
    "            PASSING_TESTS.append((x, y, z, m))\n",
    "    else:\n",
    "        if len(FAILING_TESTS) < num_tests:\n",
    "            FAILING_TESTS.append((x, y, z, expected))"
   ]
  },
  {
   "cell_type": "code",
   "execution_count": 157,
   "metadata": {
    "slideshow": {
     "slide_type": "fragment"
    }
   },
   "outputs": [
    {
     "data": {
      "text/plain": [
       "[(6, 7, 1, 6),\n",
       " (9, 5, 3, 5),\n",
       " (1, 2, 1, 1),\n",
       " (0, 7, 6, 6),\n",
       " (4, 7, 2, 4),\n",
       " (6, 7, 8, 7),\n",
       " (0, 3, 4, 3),\n",
       " (7, 3, 6, 6),\n",
       " (7, 0, 3, 3),\n",
       " (6, 0, 4, 4),\n",
       " (6, 8, 7, 7),\n",
       " (2, 3, 1, 2),\n",
       " (3, 3, 8, 3),\n",
       " (9, 9, 4, 9),\n",
       " (5, 2, 0, 2),\n",
       " (3, 0, 2, 2),\n",
       " (6, 0, 6, 6),\n",
       " (0, 6, 7, 6),\n",
       " (6, 9, 4, 6),\n",
       " (4, 1, 4, 4)]"
      ]
     },
     "execution_count": 157,
     "metadata": {},
     "output_type": "execute_result"
    }
   ],
   "source": [
    "PASSING_TESTS"
   ]
  },
  {
   "cell_type": "code",
   "execution_count": 158,
   "metadata": {
    "slideshow": {
     "slide_type": "fragment"
    }
   },
   "outputs": [
    {
     "data": {
      "text/plain": [
       "[(4, 1, 6, 4),\n",
       " (1, 0, 7, 1),\n",
       " (5, 0, 6, 5),\n",
       " (1, 0, 3, 1),\n",
       " (4, 3, 9, 4),\n",
       " (3, 2, 7, 3),\n",
       " (6, 2, 8, 6),\n",
       " (6, 5, 8, 6),\n",
       " (3, 1, 4, 3),\n",
       " (3, 0, 9, 3),\n",
       " (1, 0, 5, 1),\n",
       " (2, 1, 6, 2),\n",
       " (7, 4, 8, 7),\n",
       " (5, 1, 7, 5),\n",
       " (1, 0, 6, 1),\n",
       " (5, 4, 7, 5),\n",
       " (3, 0, 5, 3),\n",
       " (3, 2, 8, 3),\n",
       " (7, 5, 9, 7),\n",
       " (8, 0, 9, 8)]"
      ]
     },
     "execution_count": 158,
     "metadata": {},
     "output_type": "execute_result"
    }
   ],
   "source": [
    "FAILING_TESTS"
   ]
  },
  {
   "cell_type": "markdown",
   "metadata": {
    "slideshow": {
     "slide_type": "skip"
    }
   },
   "source": [
    "The fitness function is a weighted combination of the passed tests -- intuitively, it is more progress to fix a failing test than to break a passing test, so we assign a higher weight to making failing tests pass."
   ]
  },
  {
   "cell_type": "code",
   "execution_count": 159,
   "metadata": {
    "slideshow": {
     "slide_type": "slide"
    }
   },
   "outputs": [],
   "source": [
    "WEIGHT_PASSING = 1\n",
    "WEIGHT_FAILING = 10"
   ]
  },
  {
   "cell_type": "markdown",
   "metadata": {
    "slideshow": {
     "slide_type": "skip"
    }
   },
   "source": [
    "To calculate the fitness value, we need to compile the AST for a given individual, execute all our tests, and count how many passing tests there are."
   ]
  },
  {
   "cell_type": "code",
   "execution_count": 160,
   "metadata": {
    "slideshow": {
     "slide_type": "fragment"
    }
   },
   "outputs": [],
   "source": [
    "def get_fitness(individual):\n",
    "    global PASSING_TESTS, FAILING_TESTS\n",
    "    original_middle = middle\n",
    "\n",
    "    code = compile(individual, '<fitness>', 'exec')\n",
    "    exec(code, globals())\n",
    "\n",
    "    passing_passed = 0\n",
    "    failing_passed = 0\n",
    "\n",
    "    for x, y, z, m in PASSING_TESTS:\n",
    "        if middle(x, y, z) == m:\n",
    "            passing_passed += 1\n",
    "\n",
    "    for x, y, z, m in FAILING_TESTS:\n",
    "        if middle(x, y, z) == m:\n",
    "            failing_passed += 1\n",
    "\n",
    "    fitness = WEIGHT_PASSING * passing_passed + WEIGHT_FAILING * failing_passed\n",
    "        \n",
    "    globals()['middle'] = original_middle\n",
    "    return fitness"
   ]
  },
  {
   "cell_type": "code",
   "execution_count": 161,
   "metadata": {
    "slideshow": {
     "slide_type": "fragment"
    }
   },
   "outputs": [
    {
     "data": {
      "text/plain": [
       "20"
      ]
     },
     "execution_count": 161,
     "metadata": {},
     "output_type": "execute_result"
    }
   ],
   "source": [
    "get_fitness(middle_ast)"
   ]
  },
  {
   "cell_type": "markdown",
   "metadata": {
    "slideshow": {
     "slide_type": "skip"
    }
   },
   "source": [
    "When mutating individuals we consider the level of statements. We therefore need to extract all statements from a program in order to decide where to mutate, and how to mutate."
   ]
  },
  {
   "cell_type": "code",
   "execution_count": 162,
   "metadata": {
    "slideshow": {
     "slide_type": "slide"
    }
   },
   "outputs": [],
   "source": [
    "class StatementVisitor(ast.NodeVisitor):\n",
    "\n",
    "    def __init__(self):\n",
    "        self.statements = []\n",
    "        self.statements_seen = set()\n",
    "        super().__init__()\n",
    "\n",
    "    def add_statements(self, node, attr):\n",
    "        elems = getattr(node, attr, [])\n",
    "        if not isinstance(elems, list):\n",
    "            elems = [elems]\n",
    "\n",
    "        for stmt in elems:\n",
    "            if stmt in self.statements_seen:\n",
    "                continue\n",
    "\n",
    "            self.statements.append(stmt)\n",
    "            self.statements_seen.add(stmt)\n",
    "\n",
    "    def visit_node(self, node):\n",
    "        # Any node other than the ones listed below\n",
    "        self.add_statements(node, 'body')\n",
    "        self.add_statements(node, 'orelse')\n",
    "\n",
    "    def visit_Module(self, node: ast.Module):\n",
    "        # Module children are defs, classes and globals - don't add\n",
    "        super().generic_visit(node)\n",
    "        \n",
    "    def generic_visit(self, node):\n",
    "        self.visit_node(node)\n",
    "        super().generic_visit(node)"
   ]
  },
  {
   "cell_type": "code",
   "execution_count": 163,
   "metadata": {
    "slideshow": {
     "slide_type": "slide"
    }
   },
   "outputs": [],
   "source": [
    "def all_statements(tree, tp = None):\n",
    "    visitor = StatementVisitor()\n",
    "    visitor.visit(tree)\n",
    "    statements = visitor.statements\n",
    "    if tp is not None:\n",
    "        statements = [s for s in statements if isinstance(s, tp)]\n",
    "\n",
    "    return statements"
   ]
  },
  {
   "cell_type": "markdown",
   "metadata": {
    "slideshow": {
     "slide_type": "skip"
    }
   },
   "source": [
    "This allows us to choose random nodes in our AST."
   ]
  },
  {
   "cell_type": "code",
   "execution_count": 164,
   "metadata": {
    "slideshow": {
     "slide_type": "fragment"
    }
   },
   "outputs": [],
   "source": [
    "import astor"
   ]
  },
  {
   "cell_type": "code",
   "execution_count": 165,
   "metadata": {
    "slideshow": {
     "slide_type": "fragment"
    }
   },
   "outputs": [
    {
     "name": "stdout",
     "output_type": "stream",
     "text": [
      "if x > y:\n",
      "    return y\n",
      "elif x > z:\n",
      "    return x\n",
      "\n"
     ]
    }
   ],
   "source": [
    "random_node = random.choice(all_statements(middle_ast))\n",
    "print(astor.to_source(random_node))"
   ]
  },
  {
   "cell_type": "markdown",
   "metadata": {
    "slideshow": {
     "slide_type": "skip"
    }
   },
   "source": [
    "GenProg defines three types of mutations: AST-Nodes can be _swapped_, _inserted_, or _deleted_. There are two important aspects to this mutation:\n",
    "\n",
    "- First, the location at which an insertion, swap, or deletion happens depends on the suspiciousness of the nodes as determined using fault localisation. This way, the search should focus on code that is likely faulty.\n",
    "\n",
    "- Second, for the chosen location the mutations do not use random code, but try to re-use the existing code, as the assumption is that the relevant code is likely already contained in the program.\n",
    "\n",
    "In order to implement these mutations, we define a helper function that replaces AST nodes."
   ]
  },
  {
   "cell_type": "code",
   "execution_count": 166,
   "metadata": {
    "slideshow": {
     "slide_type": "slide"
    }
   },
   "outputs": [],
   "source": [
    "import copy"
   ]
  },
  {
   "cell_type": "code",
   "execution_count": 167,
   "metadata": {
    "slideshow": {
     "slide_type": "fragment"
    }
   },
   "outputs": [],
   "source": [
    "class NodeReplacer(ast.NodeTransformer):\n",
    "\n",
    "    def __init__(self, target_node, mutant_node):\n",
    "        self.target_node = target_node\n",
    "        self.mutant_node = mutant_node\n",
    "\n",
    "    def visit(self, node):\n",
    "        if node == self.target_node:\n",
    "            return self.mutant_node\n",
    "        else:\n",
    "            super().visit(node)\n",
    "            return node"
   ]
  },
  {
   "cell_type": "markdown",
   "metadata": {
    "slideshow": {
     "slide_type": "skip"
    }
   },
   "source": [
    "For the insertion mutation we need a helper function that inserts a new node after a chosen target `node`."
   ]
  },
  {
   "cell_type": "code",
   "execution_count": 168,
   "metadata": {
    "slideshow": {
     "slide_type": "slide"
    }
   },
   "outputs": [],
   "source": [
    "def mutate_insert(node, statements):\n",
    "    new_node = copy.deepcopy(random.choice(statements))\n",
    "\n",
    "    if isinstance(node, ast.Return):\n",
    "        if isinstance(new_node, ast.Return):\n",
    "            return new_node\n",
    "        else:\n",
    "            return [new_node, node]\n",
    "\n",
    "    return [node, new_node]"
   ]
  },
  {
   "cell_type": "markdown",
   "metadata": {
    "slideshow": {
     "slide_type": "skip"
    }
   },
   "source": [
    "Swapping is very similar, except that we drop the original node."
   ]
  },
  {
   "cell_type": "code",
   "execution_count": 169,
   "metadata": {
    "slideshow": {
     "slide_type": "slide"
    }
   },
   "outputs": [],
   "source": [
    "def mutate_swap(node, statements):     \n",
    "    replacement_node = copy.deepcopy(random.choice(statements))\n",
    "    return replacement_node"
   ]
  },
  {
   "cell_type": "markdown",
   "metadata": {
    "slideshow": {
     "slide_type": "skip"
    }
   },
   "source": [
    "Finally, for deletion we remove a node by setting it to `None`, unless that would make the program syntactically invalid, in which case in Python we need a `pass` statement."
   ]
  },
  {
   "cell_type": "code",
   "execution_count": 170,
   "metadata": {
    "slideshow": {
     "slide_type": "slide"
    }
   },
   "outputs": [],
   "source": [
    "def mutate_delete(node, statements):\n",
    "    branches = [attr for attr in ['body', 'orelse', 'finalbody'] if hasattr(node, attr) and getattr(node, attr)]\n",
    "    if branches:\n",
    "        # Replace `if P: S` by `S`\n",
    "        branch = random.choice(branches)\n",
    "        new_node = getattr(node, branch)\n",
    "        return new_node\n",
    "\n",
    "    if isinstance(node, ast.stmt):\n",
    "        # Avoid empty bodies; make this a `pass` statement\n",
    "        new_node = ast.Pass()\n",
    "        ast.copy_location(new_node, node)\n",
    "        return new_node\n",
    "\n",
    "    return None  # Just delete"
   ]
  },
  {
   "cell_type": "markdown",
   "metadata": {
    "slideshow": {
     "slide_type": "skip"
    }
   },
   "source": [
    "The final ingredient is the selection of nodes, which we make dependent on the weights as defined by the fault localisation. Note that our implementation redundantly executes all tests, this could of course be optimised."
   ]
  },
  {
   "cell_type": "code",
   "execution_count": 171,
   "metadata": {
    "slideshow": {
     "slide_type": "slide"
    }
   },
   "outputs": [],
   "source": [
    "def select_node(individual):\n",
    "    tests = PASSING_TESTS + FAILING_TESTS\n",
    "    statements = all_statements(individual)\n",
    "    spectrum = get_spectrum(tests, statements)\n",
    "\n",
    "    if len(statements) < 3:\n",
    "        return random.choice(statements)\n",
    "    \n",
    "    # Crude hack for probabilistic choice\n",
    "    candidates = random.sample(statements, 3)\n",
    "    return max(candidates, key=lambda x: get_suspiciousness(x.lineno-1, spectrum))"
   ]
  },
  {
   "cell_type": "markdown",
   "metadata": {
    "slideshow": {
     "slide_type": "skip"
    }
   },
   "source": [
    "Now we have all ingredients in place, and can implement the overall mutation operator."
   ]
  },
  {
   "cell_type": "code",
   "execution_count": 172,
   "metadata": {
    "slideshow": {
     "slide_type": "fragment"
    }
   },
   "outputs": [],
   "source": [
    "def mutate(individual):\n",
    "    mutant = copy.deepcopy(individual)\n",
    "    statements = all_statements(mutant)\n",
    "\n",
    "    node = select_node(mutant)\n",
    "\n",
    "    mutation = random.choice([mutate_insert, mutate_swap, mutate_delete])\n",
    "    mutated_node = mutation(node, statements)\n",
    "    \n",
    "    mutator = NodeReplacer(node, mutated_node)\n",
    "    mutant = mutator.visit(mutant)\n",
    "\n",
    "    ast.fix_missing_locations(mutant)\n",
    "    return mutant "
   ]
  },
  {
   "cell_type": "markdown",
   "metadata": {
    "slideshow": {
     "slide_type": "skip"
    }
   },
   "source": [
    "Our mutation operator only picks a single node and applies a mutation. In the original GenProg implementation, nodes are probabilistically mutated."
   ]
  },
  {
   "cell_type": "code",
   "execution_count": 173,
   "metadata": {
    "slideshow": {
     "slide_type": "slide"
    }
   },
   "outputs": [
    {
     "name": "stdout",
     "output_type": "stream",
     "text": [
      "def middle(x, y, z):\n",
      "    if x < y:\n",
      "        return y\n",
      "    elif x < z:\n",
      "        return y\n",
      "    return z\n",
      "\n"
     ]
    }
   ],
   "source": [
    "print(astor.to_source(mutate(middle_ast)))"
   ]
  },
  {
   "cell_type": "markdown",
   "metadata": {
    "slideshow": {
     "slide_type": "skip"
    }
   },
   "source": [
    "This is also exactly how the random individuals are created: Not by creating random ASTs, but by applying a mutation to the original program."
   ]
  },
  {
   "cell_type": "code",
   "execution_count": 174,
   "metadata": {
    "slideshow": {
     "slide_type": "fragment"
    }
   },
   "outputs": [],
   "source": [
    "def get_random_individual():\n",
    "    node = mutate(middle_ast)\n",
    "    return node"
   ]
  },
  {
   "cell_type": "code",
   "execution_count": 175,
   "metadata": {
    "slideshow": {
     "slide_type": "fragment"
    }
   },
   "outputs": [
    {
     "name": "stdout",
     "output_type": "stream",
     "text": [
      "def middle(x, y, z):\n",
      "    if y < z:\n",
      "        if x < y:\n",
      "            return y\n",
      "        else:\n",
      "            return z\n",
      "    elif x > y:\n",
      "        return y\n",
      "    elif x > z:\n",
      "        return x\n",
      "    return z\n",
      "\n"
     ]
    }
   ],
   "source": [
    "print(astor.to_source(get_random_individual()))"
   ]
  },
  {
   "cell_type": "markdown",
   "metadata": {
    "slideshow": {
     "slide_type": "skip"
    }
   },
   "source": [
    "We need to make sure that our initial population uses this function, rather than the ramped half and half we previously defined."
   ]
  },
  {
   "cell_type": "code",
   "execution_count": 176,
   "metadata": {
    "slideshow": {
     "slide_type": "subslide"
    }
   },
   "outputs": [],
   "source": [
    "def get_initial_population():\n",
    "    return [copy.deepcopy(middle_ast)] + [get_random_individual() for _ in range(population_size - 1)]"
   ]
  },
  {
   "cell_type": "markdown",
   "metadata": {
    "slideshow": {
     "slide_type": "skip"
    }
   },
   "source": [
    "Given our past implementations and the mutation operators we just defined, the crossover is quite simple: We select nodes to split, and then re-attach the programs. Note that this is once again a simplification compared to GenProg; for example, GenProg only considers 'suspicious' statements as possible crossover locations."
   ]
  },
  {
   "cell_type": "code",
   "execution_count": 177,
   "metadata": {
    "slideshow": {
     "slide_type": "slide"
    }
   },
   "outputs": [],
   "source": [
    "def crossover(parent1, parent2):\n",
    "    statements1 = all_statements(parent1)\n",
    "    xover_point_1 = random.choice(statements1)\n",
    "\n",
    "    statements2 = all_statements(parent2)\n",
    "    xover_point_2 = random.choice(statements2)\n",
    "    \n",
    "    mutator = NodeReplacer(xover_point_1, copy.deepcopy(xover_point_2))\n",
    "    offspring1 = mutator.visit(parent1)\n",
    "\n",
    "    mutator = NodeReplacer(xover_point_2, copy.deepcopy(xover_point_1))\n",
    "    offspring2 = mutator.visit(parent2)\n",
    "\n",
    "    return offspring1, offspring2"
   ]
  },
  {
   "cell_type": "code",
   "execution_count": 178,
   "metadata": {
    "slideshow": {
     "slide_type": "subslide"
    }
   },
   "outputs": [
    {
     "name": "stdout",
     "output_type": "stream",
     "text": [
      "def middle(x, y, z):\n",
      "    if y < z:\n",
      "        if x < y:\n",
      "            return y\n",
      "        elif x < z:\n",
      "            return y\n",
      "    elif x > y:\n",
      "        return y\n",
      "    else:\n",
      "        if x > z:\n",
      "            return x\n",
      "        if x > y:\n",
      "            return y\n",
      "        elif x > z:\n",
      "            return x\n",
      "    return z\n",
      "\n",
      "def middle(x, y, z):\n",
      "    return x\n",
      "    return z\n",
      "\n"
     ]
    }
   ],
   "source": [
    "parent1 = get_random_individual()\n",
    "parent2 = get_random_individual()\n",
    "print(astor.to_source(parent1))\n",
    "print(astor.to_source(parent2))"
   ]
  },
  {
   "cell_type": "code",
   "execution_count": 179,
   "metadata": {
    "slideshow": {
     "slide_type": "subslide"
    }
   },
   "outputs": [
    {
     "name": "stdout",
     "output_type": "stream",
     "text": [
      "def middle(x, y, z):\n",
      "    if y < z:\n",
      "        if x < y:\n",
      "            return x\n",
      "        elif x < z:\n",
      "            return y\n",
      "    elif x > y:\n",
      "        return y\n",
      "    else:\n",
      "        if x > z:\n",
      "            return x\n",
      "        if x > y:\n",
      "            return y\n",
      "        elif x > z:\n",
      "            return x\n",
      "    return z\n",
      "\n",
      "def middle(x, y, z):\n",
      "    return y\n",
      "    return z\n",
      "\n"
     ]
    }
   ],
   "source": [
    "offspring1, offspring2 = crossover(parent1, parent2)\n",
    "print(astor.to_source(offspring1))\n",
    "print(astor.to_source(offspring2))"
   ]
  },
  {
   "cell_type": "markdown",
   "metadata": {
    "slideshow": {
     "slide_type": "skip"
    }
   },
   "source": [
    "While the selection is independent of the representation, we do need to take into account that we now have a maximisation problem."
   ]
  },
  {
   "cell_type": "code",
   "execution_count": 180,
   "metadata": {
    "slideshow": {
     "slide_type": "skip"
    }
   },
   "outputs": [],
   "source": [
    "def get_size(individual):\n",
    "    return sum([1 for _ in ast.walk(individual)])"
   ]
  },
  {
   "cell_type": "code",
   "execution_count": 181,
   "metadata": {
    "slideshow": {
     "slide_type": "slide"
    }
   },
   "outputs": [],
   "source": [
    "tournament_size = 3\n",
    "def tournament_selection(population):\n",
    "    candidates = random.sample(population, tournament_size)\n",
    "    winner = max(candidates, key=lambda x: get_fitness(x))\n",
    "    return winner"
   ]
  },
  {
   "cell_type": "markdown",
   "metadata": {
    "slideshow": {
     "slide_type": "skip"
    }
   },
   "source": [
    "GenProg makes several adaptations to the overall genetic algorithm; we'll just adapt our existing standard implementation to make use of the new operators."
   ]
  },
  {
   "cell_type": "code",
   "execution_count": 182,
   "metadata": {
    "slideshow": {
     "slide_type": "slide"
    }
   },
   "outputs": [],
   "source": [
    "def ga():\n",
    "    population = get_initial_population()\n",
    "    best_fitness = 0\n",
    "    for p in population:\n",
    "        fitness = get_fitness(p)\n",
    "        if fitness > best_fitness:\n",
    "            best_fitness = fitness\n",
    "            best_solution = copy.deepcopy(p)\n",
    "\n",
    "    iteration = 0\n",
    "    while iteration < max_iterations and \\\n",
    "            best_fitness < WEIGHT_PASSING * len(PASSING_TESTS) + WEIGHT_FAILING * len(FAILING_TESTS):\n",
    "        fitness_values.append(best_fitness)\n",
    "        print(f\"GA Iteration {iteration}, best fitness: {best_fitness}\")\n",
    "        iteration += 1\n",
    "        evolution_step(population, best_solution)\n",
    "\n",
    "        for p in population:\n",
    "            fitness = get_fitness(p)\n",
    "            if fitness > best_fitness:\n",
    "                best_fitness = fitness\n",
    "                best_solution = copy.deepcopy(p)\n",
    "\n",
    "    print(f\"GA solution after {iteration} iterations, best fitness: {best_fitness}\")\n",
    "    return best_solution"
   ]
  },
  {
   "cell_type": "markdown",
   "metadata": {
    "slideshow": {
     "slide_type": "skip"
    }
   },
   "source": [
    "Since our mutation operator will always change exactly one node, we need to add a probability for mutation."
   ]
  },
  {
   "cell_type": "code",
   "execution_count": 183,
   "metadata": {
    "slideshow": {
     "slide_type": "slide"
    }
   },
   "outputs": [],
   "source": [
    "P_mutation = 0.4"
   ]
  },
  {
   "cell_type": "code",
   "execution_count": 184,
   "metadata": {
    "slideshow": {
     "slide_type": "fragment"
    }
   },
   "outputs": [],
   "source": [
    "def evolution_step(population, elite):\n",
    "    new_population = [elite, get_random_individual()]\n",
    "    viable_population = [p for p in population if get_fitness(p) > 0]\n",
    "    while len(new_population) < len(population):\n",
    "        parent1 = copy.deepcopy(selection(viable_population))\n",
    "        parent2 = copy.deepcopy(selection(viable_population))\n",
    "\n",
    "        offspring1, offspring2 = crossover(copy.deepcopy(parent1), copy.deepcopy(parent2))\n",
    "\n",
    "        if random.random() < P_mutation:\n",
    "            offspring1 = mutate(offspring1)\n",
    "            offspring2 = mutate(offspring2)\n",
    "\n",
    "        new_population.append(offspring1)\n",
    "        new_population.append(offspring2)\n",
    "        new_population.append(parent1)\n",
    "        new_population.append(parent2)\n",
    "\n",
    "    population.clear()\n",
    "    population.extend(new_population)\n",
    "\n",
    "    best_fitness = max([get_fitness(k) for k in population])\n",
    "    return best_fitness"
   ]
  },
  {
   "cell_type": "markdown",
   "metadata": {
    "slideshow": {
     "slide_type": "skip"
    }
   },
   "source": [
    "Can we fix the `middle` program?"
   ]
  },
  {
   "cell_type": "code",
   "execution_count": 190,
   "metadata": {
    "scrolled": true,
    "slideshow": {
     "slide_type": "slide"
    }
   },
   "outputs": [
    {
     "name": "stdout",
     "output_type": "stream",
     "text": [
      "GA Iteration 0, best fitness: 20\n",
      "GA Iteration 1, best fitness: 213\n",
      "GA Iteration 2, best fitness: 213\n",
      "GA Iteration 3, best fitness: 213\n",
      "GA Iteration 4, best fitness: 213\n",
      "GA Iteration 5, best fitness: 213\n",
      "GA Iteration 6, best fitness: 213\n",
      "GA Iteration 7, best fitness: 213\n",
      "GA Iteration 8, best fitness: 213\n",
      "GA Iteration 9, best fitness: 213\n",
      "GA Iteration 10, best fitness: 213\n",
      "GA Iteration 11, best fitness: 213\n",
      "GA Iteration 12, best fitness: 213\n",
      "GA Iteration 13, best fitness: 213\n",
      "GA Iteration 14, best fitness: 213\n",
      "GA Iteration 15, best fitness: 213\n",
      "GA Iteration 16, best fitness: 213\n",
      "GA Iteration 17, best fitness: 213\n",
      "GA Iteration 18, best fitness: 213\n",
      "GA Iteration 19, best fitness: 213\n",
      "GA Iteration 20, best fitness: 213\n",
      "GA Iteration 21, best fitness: 213\n",
      "GA Iteration 22, best fitness: 213\n",
      "GA Iteration 23, best fitness: 213\n",
      "GA Iteration 24, best fitness: 213\n",
      "GA Iteration 25, best fitness: 213\n",
      "GA Iteration 26, best fitness: 213\n",
      "GA Iteration 27, best fitness: 213\n",
      "GA solution after 28 iterations, best fitness: 220\n",
      "def middle(x, y, z):\n",
      "    if y < z:\n",
      "        if x < y:\n",
      "            return y\n",
      "        elif x < z:\n",
      "            return x\n",
      "    elif x > y:\n",
      "        return y\n",
      "    elif x > z:\n",
      "        return x\n",
      "    return z\n",
      "\n"
     ]
    }
   ],
   "source": [
    "P_xover = 0.0\n",
    "P_mutation = 0.4\n",
    "max_iterations = 50\n",
    "population_size = 40\n",
    "tournament_size = 5\n",
    "fitness_values = []\n",
    "result = ga()\n",
    "\n",
    "print(astor.to_source(result))"
   ]
  },
  {
   "cell_type": "markdown",
   "metadata": {
    "slideshow": {
     "slide_type": "skip"
    }
   },
   "source": [
    "We've taken several shortcuts in this implementation; the original GenProg implementation has some differences in terms of the genetic operators and the search algorithm, and we've also omitted \n",
    "\n",
    "A more elaborate discussion and implementation of the can be found in Andreas Zeller's Debugging Book: https://www.debuggingbook.org/"
   ]
  }
 ],
 "metadata": {
  "celltoolbar": "Slideshow",
  "kernelspec": {
   "display_name": "Python 3 (ipykernel)",
   "language": "python",
   "name": "python3"
  },
  "language_info": {
   "codemirror_mode": {
    "name": "ipython",
    "version": 3
   },
   "file_extension": ".py",
   "mimetype": "text/x-python",
   "name": "python",
   "nbconvert_exporter": "python",
   "pygments_lexer": "ipython3",
   "version": "3.10.5"
  },
  "rise": {
   "enable_chalkboard": true,
   "scroll": true
  }
 },
 "nbformat": 4,
 "nbformat_minor": 4
}
